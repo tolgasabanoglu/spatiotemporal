{
 "cells": [
  {
   "cell_type": "code",
   "execution_count": 42,
   "metadata": {},
   "outputs": [
    {
     "name": "stdout",
     "output_type": "stream",
     "text": [
      "🔐 Logging into Garmin Connect...\n",
      "\n",
      "📆 Fetching Garmin data from 2025-03-31 to 2025-06-29\n",
      "\n",
      "\n",
      "📅 Date: 2025-03-31\n",
      "📦 Fetching steps...\n",
      "✅ Saved steps to ../data/raw/steps_2025-03-31.json\n",
      "📦 Fetching sleep...\n",
      "✅ Saved sleep to ../data/raw/sleep_2025-03-31.json\n",
      "📦 Fetching stress...\n",
      "✅ Saved stress to ../data/raw/stress_2025-03-31.json\n",
      "📦 Fetching body_battery...\n",
      "✅ Saved body_battery to ../data/raw/body_battery_2025-03-31.json\n",
      "📦 Fetching heart_rate...\n",
      "✅ Saved heart_rate to ../data/raw/heart_rate_2025-03-31.json\n",
      "\n",
      "📅 Date: 2025-04-01\n",
      "📦 Fetching steps...\n",
      "✅ Saved steps to ../data/raw/steps_2025-04-01.json\n",
      "📦 Fetching sleep...\n",
      "✅ Saved sleep to ../data/raw/sleep_2025-04-01.json\n",
      "📦 Fetching stress...\n",
      "✅ Saved stress to ../data/raw/stress_2025-04-01.json\n",
      "📦 Fetching body_battery...\n",
      "✅ Saved body_battery to ../data/raw/body_battery_2025-04-01.json\n",
      "📦 Fetching heart_rate...\n",
      "✅ Saved heart_rate to ../data/raw/heart_rate_2025-04-01.json\n",
      "\n",
      "📅 Date: 2025-04-02\n",
      "📦 Fetching steps...\n",
      "✅ Saved steps to ../data/raw/steps_2025-04-02.json\n",
      "📦 Fetching sleep...\n",
      "✅ Saved sleep to ../data/raw/sleep_2025-04-02.json\n",
      "📦 Fetching stress...\n",
      "✅ Saved stress to ../data/raw/stress_2025-04-02.json\n",
      "📦 Fetching body_battery...\n",
      "✅ Saved body_battery to ../data/raw/body_battery_2025-04-02.json\n",
      "📦 Fetching heart_rate...\n",
      "✅ Saved heart_rate to ../data/raw/heart_rate_2025-04-02.json\n",
      "\n",
      "📅 Date: 2025-04-03\n",
      "📦 Fetching steps...\n",
      "✅ Saved steps to ../data/raw/steps_2025-04-03.json\n",
      "📦 Fetching sleep...\n",
      "✅ Saved sleep to ../data/raw/sleep_2025-04-03.json\n",
      "📦 Fetching stress...\n",
      "✅ Saved stress to ../data/raw/stress_2025-04-03.json\n",
      "📦 Fetching body_battery...\n",
      "✅ Saved body_battery to ../data/raw/body_battery_2025-04-03.json\n",
      "📦 Fetching heart_rate...\n",
      "✅ Saved heart_rate to ../data/raw/heart_rate_2025-04-03.json\n",
      "\n",
      "📅 Date: 2025-04-04\n",
      "📦 Fetching steps...\n",
      "✅ Saved steps to ../data/raw/steps_2025-04-04.json\n",
      "📦 Fetching sleep...\n",
      "✅ Saved sleep to ../data/raw/sleep_2025-04-04.json\n",
      "📦 Fetching stress...\n",
      "✅ Saved stress to ../data/raw/stress_2025-04-04.json\n",
      "📦 Fetching body_battery...\n",
      "✅ Saved body_battery to ../data/raw/body_battery_2025-04-04.json\n",
      "📦 Fetching heart_rate...\n",
      "✅ Saved heart_rate to ../data/raw/heart_rate_2025-04-04.json\n",
      "\n",
      "📅 Date: 2025-04-05\n",
      "📦 Fetching steps...\n",
      "✅ Saved steps to ../data/raw/steps_2025-04-05.json\n",
      "📦 Fetching sleep...\n",
      "✅ Saved sleep to ../data/raw/sleep_2025-04-05.json\n",
      "📦 Fetching stress...\n",
      "✅ Saved stress to ../data/raw/stress_2025-04-05.json\n",
      "📦 Fetching body_battery...\n",
      "✅ Saved body_battery to ../data/raw/body_battery_2025-04-05.json\n",
      "📦 Fetching heart_rate...\n",
      "✅ Saved heart_rate to ../data/raw/heart_rate_2025-04-05.json\n",
      "\n",
      "📅 Date: 2025-04-06\n",
      "📦 Fetching steps...\n",
      "✅ Saved steps to ../data/raw/steps_2025-04-06.json\n",
      "📦 Fetching sleep...\n",
      "✅ Saved sleep to ../data/raw/sleep_2025-04-06.json\n",
      "📦 Fetching stress...\n",
      "✅ Saved stress to ../data/raw/stress_2025-04-06.json\n",
      "📦 Fetching body_battery...\n",
      "✅ Saved body_battery to ../data/raw/body_battery_2025-04-06.json\n",
      "📦 Fetching heart_rate...\n",
      "✅ Saved heart_rate to ../data/raw/heart_rate_2025-04-06.json\n",
      "\n",
      "📅 Date: 2025-04-07\n",
      "📦 Fetching steps...\n",
      "✅ Saved steps to ../data/raw/steps_2025-04-07.json\n",
      "📦 Fetching sleep...\n",
      "✅ Saved sleep to ../data/raw/sleep_2025-04-07.json\n",
      "📦 Fetching stress...\n",
      "✅ Saved stress to ../data/raw/stress_2025-04-07.json\n",
      "📦 Fetching body_battery...\n",
      "✅ Saved body_battery to ../data/raw/body_battery_2025-04-07.json\n",
      "📦 Fetching heart_rate...\n",
      "✅ Saved heart_rate to ../data/raw/heart_rate_2025-04-07.json\n",
      "\n",
      "📅 Date: 2025-04-08\n",
      "📦 Fetching steps...\n",
      "✅ Saved steps to ../data/raw/steps_2025-04-08.json\n",
      "📦 Fetching sleep...\n",
      "✅ Saved sleep to ../data/raw/sleep_2025-04-08.json\n",
      "📦 Fetching stress...\n",
      "✅ Saved stress to ../data/raw/stress_2025-04-08.json\n",
      "📦 Fetching body_battery...\n",
      "✅ Saved body_battery to ../data/raw/body_battery_2025-04-08.json\n",
      "📦 Fetching heart_rate...\n",
      "✅ Saved heart_rate to ../data/raw/heart_rate_2025-04-08.json\n",
      "\n",
      "📅 Date: 2025-04-09\n",
      "📦 Fetching steps...\n",
      "✅ Saved steps to ../data/raw/steps_2025-04-09.json\n",
      "📦 Fetching sleep...\n",
      "✅ Saved sleep to ../data/raw/sleep_2025-04-09.json\n",
      "📦 Fetching stress...\n",
      "✅ Saved stress to ../data/raw/stress_2025-04-09.json\n",
      "📦 Fetching body_battery...\n",
      "✅ Saved body_battery to ../data/raw/body_battery_2025-04-09.json\n",
      "📦 Fetching heart_rate...\n",
      "✅ Saved heart_rate to ../data/raw/heart_rate_2025-04-09.json\n",
      "\n",
      "📅 Date: 2025-04-10\n",
      "📦 Fetching steps...\n",
      "✅ Saved steps to ../data/raw/steps_2025-04-10.json\n",
      "📦 Fetching sleep...\n",
      "✅ Saved sleep to ../data/raw/sleep_2025-04-10.json\n",
      "📦 Fetching stress...\n",
      "✅ Saved stress to ../data/raw/stress_2025-04-10.json\n",
      "📦 Fetching body_battery...\n",
      "✅ Saved body_battery to ../data/raw/body_battery_2025-04-10.json\n",
      "📦 Fetching heart_rate...\n",
      "✅ Saved heart_rate to ../data/raw/heart_rate_2025-04-10.json\n",
      "\n",
      "📅 Date: 2025-04-11\n",
      "📦 Fetching steps...\n",
      "✅ Saved steps to ../data/raw/steps_2025-04-11.json\n",
      "📦 Fetching sleep...\n",
      "✅ Saved sleep to ../data/raw/sleep_2025-04-11.json\n",
      "📦 Fetching stress...\n",
      "✅ Saved stress to ../data/raw/stress_2025-04-11.json\n",
      "📦 Fetching body_battery...\n",
      "✅ Saved body_battery to ../data/raw/body_battery_2025-04-11.json\n",
      "📦 Fetching heart_rate...\n",
      "✅ Saved heart_rate to ../data/raw/heart_rate_2025-04-11.json\n",
      "\n",
      "📅 Date: 2025-04-12\n",
      "📦 Fetching steps...\n",
      "✅ Saved steps to ../data/raw/steps_2025-04-12.json\n",
      "📦 Fetching sleep...\n",
      "✅ Saved sleep to ../data/raw/sleep_2025-04-12.json\n",
      "📦 Fetching stress...\n",
      "✅ Saved stress to ../data/raw/stress_2025-04-12.json\n",
      "📦 Fetching body_battery...\n",
      "✅ Saved body_battery to ../data/raw/body_battery_2025-04-12.json\n",
      "📦 Fetching heart_rate...\n",
      "✅ Saved heart_rate to ../data/raw/heart_rate_2025-04-12.json\n",
      "\n",
      "📅 Date: 2025-04-13\n",
      "📦 Fetching steps...\n",
      "✅ Saved steps to ../data/raw/steps_2025-04-13.json\n",
      "📦 Fetching sleep...\n",
      "✅ Saved sleep to ../data/raw/sleep_2025-04-13.json\n",
      "📦 Fetching stress...\n",
      "✅ Saved stress to ../data/raw/stress_2025-04-13.json\n",
      "📦 Fetching body_battery...\n",
      "✅ Saved body_battery to ../data/raw/body_battery_2025-04-13.json\n",
      "📦 Fetching heart_rate...\n",
      "✅ Saved heart_rate to ../data/raw/heart_rate_2025-04-13.json\n",
      "\n",
      "📅 Date: 2025-04-14\n",
      "📦 Fetching steps...\n",
      "✅ Saved steps to ../data/raw/steps_2025-04-14.json\n",
      "📦 Fetching sleep...\n",
      "✅ Saved sleep to ../data/raw/sleep_2025-04-14.json\n",
      "📦 Fetching stress...\n",
      "✅ Saved stress to ../data/raw/stress_2025-04-14.json\n",
      "📦 Fetching body_battery...\n",
      "✅ Saved body_battery to ../data/raw/body_battery_2025-04-14.json\n",
      "📦 Fetching heart_rate...\n",
      "✅ Saved heart_rate to ../data/raw/heart_rate_2025-04-14.json\n",
      "\n",
      "📅 Date: 2025-04-15\n",
      "📦 Fetching steps...\n",
      "✅ Saved steps to ../data/raw/steps_2025-04-15.json\n",
      "📦 Fetching sleep...\n",
      "✅ Saved sleep to ../data/raw/sleep_2025-04-15.json\n",
      "📦 Fetching stress...\n",
      "✅ Saved stress to ../data/raw/stress_2025-04-15.json\n",
      "📦 Fetching body_battery...\n",
      "✅ Saved body_battery to ../data/raw/body_battery_2025-04-15.json\n",
      "📦 Fetching heart_rate...\n",
      "✅ Saved heart_rate to ../data/raw/heart_rate_2025-04-15.json\n",
      "\n",
      "📅 Date: 2025-04-16\n",
      "📦 Fetching steps...\n",
      "✅ Saved steps to ../data/raw/steps_2025-04-16.json\n",
      "📦 Fetching sleep...\n",
      "✅ Saved sleep to ../data/raw/sleep_2025-04-16.json\n",
      "📦 Fetching stress...\n",
      "✅ Saved stress to ../data/raw/stress_2025-04-16.json\n",
      "📦 Fetching body_battery...\n",
      "✅ Saved body_battery to ../data/raw/body_battery_2025-04-16.json\n",
      "📦 Fetching heart_rate...\n",
      "✅ Saved heart_rate to ../data/raw/heart_rate_2025-04-16.json\n",
      "\n",
      "📅 Date: 2025-04-17\n",
      "📦 Fetching steps...\n",
      "✅ Saved steps to ../data/raw/steps_2025-04-17.json\n",
      "📦 Fetching sleep...\n",
      "✅ Saved sleep to ../data/raw/sleep_2025-04-17.json\n",
      "📦 Fetching stress...\n",
      "✅ Saved stress to ../data/raw/stress_2025-04-17.json\n",
      "📦 Fetching body_battery...\n",
      "✅ Saved body_battery to ../data/raw/body_battery_2025-04-17.json\n",
      "📦 Fetching heart_rate...\n",
      "✅ Saved heart_rate to ../data/raw/heart_rate_2025-04-17.json\n",
      "\n",
      "📅 Date: 2025-04-18\n",
      "📦 Fetching steps...\n",
      "✅ Saved steps to ../data/raw/steps_2025-04-18.json\n",
      "📦 Fetching sleep...\n",
      "✅ Saved sleep to ../data/raw/sleep_2025-04-18.json\n",
      "📦 Fetching stress...\n",
      "✅ Saved stress to ../data/raw/stress_2025-04-18.json\n",
      "📦 Fetching body_battery...\n",
      "✅ Saved body_battery to ../data/raw/body_battery_2025-04-18.json\n",
      "📦 Fetching heart_rate...\n",
      "✅ Saved heart_rate to ../data/raw/heart_rate_2025-04-18.json\n",
      "\n",
      "📅 Date: 2025-04-19\n",
      "📦 Fetching steps...\n",
      "✅ Saved steps to ../data/raw/steps_2025-04-19.json\n",
      "📦 Fetching sleep...\n",
      "✅ Saved sleep to ../data/raw/sleep_2025-04-19.json\n",
      "📦 Fetching stress...\n",
      "✅ Saved stress to ../data/raw/stress_2025-04-19.json\n",
      "📦 Fetching body_battery...\n",
      "✅ Saved body_battery to ../data/raw/body_battery_2025-04-19.json\n",
      "📦 Fetching heart_rate...\n",
      "✅ Saved heart_rate to ../data/raw/heart_rate_2025-04-19.json\n",
      "\n",
      "📅 Date: 2025-04-20\n",
      "📦 Fetching steps...\n",
      "✅ Saved steps to ../data/raw/steps_2025-04-20.json\n",
      "📦 Fetching sleep...\n",
      "✅ Saved sleep to ../data/raw/sleep_2025-04-20.json\n",
      "📦 Fetching stress...\n",
      "✅ Saved stress to ../data/raw/stress_2025-04-20.json\n",
      "📦 Fetching body_battery...\n",
      "✅ Saved body_battery to ../data/raw/body_battery_2025-04-20.json\n",
      "📦 Fetching heart_rate...\n",
      "✅ Saved heart_rate to ../data/raw/heart_rate_2025-04-20.json\n",
      "\n",
      "📅 Date: 2025-04-21\n",
      "📦 Fetching steps...\n",
      "✅ Saved steps to ../data/raw/steps_2025-04-21.json\n",
      "📦 Fetching sleep...\n",
      "✅ Saved sleep to ../data/raw/sleep_2025-04-21.json\n",
      "📦 Fetching stress...\n",
      "✅ Saved stress to ../data/raw/stress_2025-04-21.json\n",
      "📦 Fetching body_battery...\n",
      "✅ Saved body_battery to ../data/raw/body_battery_2025-04-21.json\n",
      "📦 Fetching heart_rate...\n",
      "✅ Saved heart_rate to ../data/raw/heart_rate_2025-04-21.json\n",
      "\n",
      "📅 Date: 2025-04-22\n",
      "📦 Fetching steps...\n",
      "✅ Saved steps to ../data/raw/steps_2025-04-22.json\n",
      "📦 Fetching sleep...\n",
      "✅ Saved sleep to ../data/raw/sleep_2025-04-22.json\n",
      "📦 Fetching stress...\n",
      "✅ Saved stress to ../data/raw/stress_2025-04-22.json\n",
      "📦 Fetching body_battery...\n",
      "✅ Saved body_battery to ../data/raw/body_battery_2025-04-22.json\n",
      "📦 Fetching heart_rate...\n",
      "✅ Saved heart_rate to ../data/raw/heart_rate_2025-04-22.json\n",
      "\n",
      "📅 Date: 2025-04-23\n",
      "📦 Fetching steps...\n",
      "✅ Saved steps to ../data/raw/steps_2025-04-23.json\n",
      "📦 Fetching sleep...\n",
      "✅ Saved sleep to ../data/raw/sleep_2025-04-23.json\n",
      "📦 Fetching stress...\n",
      "✅ Saved stress to ../data/raw/stress_2025-04-23.json\n",
      "📦 Fetching body_battery...\n",
      "✅ Saved body_battery to ../data/raw/body_battery_2025-04-23.json\n",
      "📦 Fetching heart_rate...\n",
      "✅ Saved heart_rate to ../data/raw/heart_rate_2025-04-23.json\n",
      "\n",
      "📅 Date: 2025-04-24\n",
      "📦 Fetching steps...\n",
      "✅ Saved steps to ../data/raw/steps_2025-04-24.json\n",
      "📦 Fetching sleep...\n",
      "✅ Saved sleep to ../data/raw/sleep_2025-04-24.json\n",
      "📦 Fetching stress...\n",
      "✅ Saved stress to ../data/raw/stress_2025-04-24.json\n",
      "📦 Fetching body_battery...\n",
      "✅ Saved body_battery to ../data/raw/body_battery_2025-04-24.json\n",
      "📦 Fetching heart_rate...\n",
      "✅ Saved heart_rate to ../data/raw/heart_rate_2025-04-24.json\n",
      "\n",
      "📅 Date: 2025-04-25\n",
      "📦 Fetching steps...\n",
      "✅ Saved steps to ../data/raw/steps_2025-04-25.json\n",
      "📦 Fetching sleep...\n",
      "✅ Saved sleep to ../data/raw/sleep_2025-04-25.json\n",
      "📦 Fetching stress...\n",
      "✅ Saved stress to ../data/raw/stress_2025-04-25.json\n",
      "📦 Fetching body_battery...\n",
      "✅ Saved body_battery to ../data/raw/body_battery_2025-04-25.json\n",
      "📦 Fetching heart_rate...\n",
      "✅ Saved heart_rate to ../data/raw/heart_rate_2025-04-25.json\n",
      "\n",
      "📅 Date: 2025-04-26\n",
      "📦 Fetching steps...\n",
      "✅ Saved steps to ../data/raw/steps_2025-04-26.json\n",
      "📦 Fetching sleep...\n",
      "✅ Saved sleep to ../data/raw/sleep_2025-04-26.json\n",
      "📦 Fetching stress...\n",
      "✅ Saved stress to ../data/raw/stress_2025-04-26.json\n",
      "📦 Fetching body_battery...\n",
      "✅ Saved body_battery to ../data/raw/body_battery_2025-04-26.json\n",
      "📦 Fetching heart_rate...\n",
      "✅ Saved heart_rate to ../data/raw/heart_rate_2025-04-26.json\n",
      "\n",
      "📅 Date: 2025-04-27\n",
      "📦 Fetching steps...\n",
      "✅ Saved steps to ../data/raw/steps_2025-04-27.json\n",
      "📦 Fetching sleep...\n",
      "✅ Saved sleep to ../data/raw/sleep_2025-04-27.json\n",
      "📦 Fetching stress...\n",
      "✅ Saved stress to ../data/raw/stress_2025-04-27.json\n",
      "📦 Fetching body_battery...\n",
      "✅ Saved body_battery to ../data/raw/body_battery_2025-04-27.json\n",
      "📦 Fetching heart_rate...\n",
      "✅ Saved heart_rate to ../data/raw/heart_rate_2025-04-27.json\n",
      "\n",
      "📅 Date: 2025-04-28\n",
      "📦 Fetching steps...\n",
      "✅ Saved steps to ../data/raw/steps_2025-04-28.json\n",
      "📦 Fetching sleep...\n",
      "✅ Saved sleep to ../data/raw/sleep_2025-04-28.json\n",
      "📦 Fetching stress...\n",
      "✅ Saved stress to ../data/raw/stress_2025-04-28.json\n",
      "📦 Fetching body_battery...\n",
      "✅ Saved body_battery to ../data/raw/body_battery_2025-04-28.json\n",
      "📦 Fetching heart_rate...\n",
      "✅ Saved heart_rate to ../data/raw/heart_rate_2025-04-28.json\n",
      "\n",
      "📅 Date: 2025-04-29\n",
      "📦 Fetching steps...\n",
      "✅ Saved steps to ../data/raw/steps_2025-04-29.json\n",
      "📦 Fetching sleep...\n",
      "✅ Saved sleep to ../data/raw/sleep_2025-04-29.json\n",
      "📦 Fetching stress...\n",
      "✅ Saved stress to ../data/raw/stress_2025-04-29.json\n",
      "📦 Fetching body_battery...\n",
      "✅ Saved body_battery to ../data/raw/body_battery_2025-04-29.json\n",
      "📦 Fetching heart_rate...\n",
      "✅ Saved heart_rate to ../data/raw/heart_rate_2025-04-29.json\n",
      "\n",
      "📅 Date: 2025-04-30\n",
      "📦 Fetching steps...\n",
      "✅ Saved steps to ../data/raw/steps_2025-04-30.json\n",
      "📦 Fetching sleep...\n",
      "✅ Saved sleep to ../data/raw/sleep_2025-04-30.json\n",
      "📦 Fetching stress...\n",
      "✅ Saved stress to ../data/raw/stress_2025-04-30.json\n",
      "📦 Fetching body_battery...\n",
      "✅ Saved body_battery to ../data/raw/body_battery_2025-04-30.json\n",
      "📦 Fetching heart_rate...\n",
      "✅ Saved heart_rate to ../data/raw/heart_rate_2025-04-30.json\n"
     ]
    },
    {
     "data": {
      "text/plain": [
       "CompletedProcess(args=['python3', '/Users/tolgasabanoglu/Desktop/github/spatiotemporal/scripts/parse_garmin.py'], returncode=0)"
      ]
     },
     "execution_count": 42,
     "metadata": {},
     "output_type": "execute_result"
    }
   ],
   "source": [
    "import subprocess\n",
    "\n",
    "subprocess.run([\"python3\", \"/Users/tolgasabanoglu/Desktop/github/spatiotemporal/scripts/parse_garmin.py\"])"
   ]
  },
  {
   "cell_type": "code",
   "execution_count": 43,
   "metadata": {},
   "outputs": [
    {
     "name": "stdout",
     "output_type": "stream",
     "text": [
      "\n",
      "📊 Garmin JSON File Audit:\n",
      "\n",
      "        type  file_count format  has_date sample_date                                                                                                                                                                                                                                                                                                                                          top_keys\n",
      "       steps          62   list      True  2025-03-30                                                                                                                                                                                                                                                                    [startGMT, endGMT, steps, pushes, primaryActivityLevel, activityLevelConstant]\n",
      "      stress          62   dict      True  2025-03-31                                           [userProfilePK, calendarDate, startTimestampGMT, endTimestampGMT, startTimestampLocal, endTimestampLocal, maxStressLevel, avgStressLevel, stressChartValueOffset, stressChartYAxisOrigin, stressValueDescriptorsDTOList, stressValuesArray, bodyBatteryValueDescriptorsDTOList, bodyBatteryValuesArray]\n",
      "       sleep          62   dict     False           — [dailySleepDTO, sleepMovement, remSleepData, sleepLevels, sleepRestlessMoments, restlessMomentsCount, wellnessEpochRespirationDataDTOList, wellnessEpochRespirationAveragesList, respirationVersion, sleepHeartRate, sleepStress, sleepBodyBattery, skinTempDataExists, hrvData, avgOvernightHrv, hrvStatus, bodyBatteryChange, restingHeartRate]\n",
      "body_battery          62   list      True  2025-03-30                                                                               [date, charged, drained, startTimestampGMT, endTimestampGMT, startTimestampLocal, endTimestampLocal, bodyBatteryValuesArray, bodyBatteryValueDescriptorDTOList, bodyBatteryDynamicFeedbackEvent, bodyBatteryActivityEvent, endOfDayBodyBatteryDynamicFeedbackEvent]\n",
      "  heart_rate          62   dict      True  2025-03-31                                                                                                             [userProfilePK, calendarDate, startTimestampGMT, endTimestampGMT, startTimestampLocal, endTimestampLocal, maxHeartRate, minHeartRate, restingHeartRate, lastSevenDaysAvgRestingHeartRate, heartRateValueDescriptors, heartRateValues]\n"
     ]
    }
   ],
   "source": [
    "import os\n",
    "import json\n",
    "from glob import glob\n",
    "import pandas as pd\n",
    "\n",
    "# Directory with your raw Garmin data\n",
    "raw_dir = \"/Users/tolgasabanoglu/Desktop/github/spatiotemporal/data/raw/\"\n",
    "json_files = sorted(glob(os.path.join(raw_dir, \"*.json\")))\n",
    "\n",
    "# Known Garmin data prefixes\n",
    "file_types = [\"steps\", \"stress\", \"sleep\", \"body_battery\", \"heart_rate\"]\n",
    "\n",
    "audit_rows = []\n",
    "\n",
    "for ftype in file_types:\n",
    "    matching = [f for f in json_files if os.path.basename(f).startswith(ftype)]\n",
    "    entry = {\n",
    "        \"type\": ftype,\n",
    "        \"file_count\": len(matching),\n",
    "        \"format\": \"❓\",\n",
    "        \"has_date\": False,\n",
    "        \"sample_date\": \"—\",\n",
    "        \"top_keys\": []\n",
    "    }\n",
    "    \n",
    "    for file in matching:\n",
    "        try:\n",
    "            with open(file) as f:\n",
    "                data = json.load(f)\n",
    "\n",
    "                if isinstance(data, list) and data:\n",
    "                    entry[\"format\"] = \"list\"\n",
    "                    entry[\"top_keys\"] = list(data[0].keys())\n",
    "                    date = (\n",
    "                        data[0].get(\"calendarDate\") or\n",
    "                        data[0].get(\"startGMT\") or\n",
    "                        data[0].get(\"startTimestampGMT\")\n",
    "                    )\n",
    "                    if date:\n",
    "                        entry[\"has_date\"] = True\n",
    "                        entry[\"sample_date\"] = str(date)[:10]\n",
    "                    break\n",
    "\n",
    "                elif isinstance(data, dict):\n",
    "                    entry[\"format\"] = \"dict\"\n",
    "                    entry[\"top_keys\"] = list(data.keys())\n",
    "                    date = (\n",
    "                        data.get(\"calendarDate\") or\n",
    "                        data.get(\"date\") or\n",
    "                        data.get(\"startTimestampGMT\")\n",
    "                    )\n",
    "                    if date:\n",
    "                        entry[\"has_date\"] = True\n",
    "                        entry[\"sample_date\"] = str(date)[:10]\n",
    "                    break\n",
    "        except Exception as e:\n",
    "            entry[\"top_keys\"] = [f\"⚠️ Error: {e}\"]\n",
    "\n",
    "    audit_rows.append(entry)\n",
    "\n",
    "# Show audit results as table\n",
    "df_audit = pd.DataFrame(audit_rows)\n",
    "df_audit = df_audit[[\"type\", \"file_count\", \"format\", \"has_date\", \"sample_date\", \"top_keys\"]]\n",
    "\n",
    "# Print as plain table\n",
    "print(\"\\n📊 Garmin JSON File Audit:\\n\")\n",
    "print(df_audit.to_string(index=False))\n"
   ]
  },
  {
   "cell_type": "code",
   "execution_count": 44,
   "metadata": {},
   "outputs": [
    {
     "name": "stdout",
     "output_type": "stream",
     "text": [
      "         date  body_charged  body_drained  resting_hr  sleep_score  \\\n",
      "62 2025-03-30           NaN           NaN         NaN          NaN   \n",
      "0  2025-03-31          75.0          62.0        56.0          NaN   \n",
      "1  2025-04-01          31.0          63.0        63.0          NaN   \n",
      "2  2025-04-02          27.0          30.0        65.0          NaN   \n",
      "3  2025-04-03          27.0          27.0        64.0          NaN   \n",
      "4  2025-04-04          64.0          61.0        62.0          NaN   \n",
      "5  2025-04-05          60.0          38.0        63.0          NaN   \n",
      "6  2025-04-06          77.0          52.0        57.0          NaN   \n",
      "7  2025-04-07          39.0          56.0        60.0          NaN   \n",
      "8  2025-04-08          55.0          74.0        56.0          NaN   \n",
      "\n",
      "    total_sleep_s  deep_sleep_s  light_sleep_s  rem_sleep_s  awake_s  \\\n",
      "62            NaN           NaN            NaN          NaN      NaN   \n",
      "0         29015.0        3840.0        19860.0       5340.0    180.0   \n",
      "1         29520.0        5460.0        21000.0       3060.0   8280.0   \n",
      "2         27327.0        4620.0        22020.0        720.0   2460.0   \n",
      "3         34260.0        4200.0        22200.0       7860.0     60.0   \n",
      "4         29820.0        4080.0        20640.0       5100.0     60.0   \n",
      "5         31500.0        4440.0        21420.0       5640.0    420.0   \n",
      "6         35907.0        5220.0        23700.0       7020.0     60.0   \n",
      "7         29340.0        2880.0        21120.0       5340.0     60.0   \n",
      "8         26400.0        4860.0        15720.0       5820.0      0.0   \n",
      "\n",
      "    restless_moments    steps  avg_stress  max_stress  total_hleep_h  \\\n",
      "62               NaN   2258.0         NaN         NaN            NaN   \n",
      "0                NaN   8971.0        30.0        94.0       8.059722   \n",
      "1                NaN   3074.0        54.0        99.0       8.200000   \n",
      "2                NaN   4237.0        51.0        99.0       7.590833   \n",
      "3                NaN   3887.0        53.0        99.0       9.516667   \n",
      "4                NaN  12430.0        42.0        99.0       8.283333   \n",
      "5                NaN   4169.0        31.0        98.0       8.750000   \n",
      "6                NaN  10287.0        24.0        92.0       9.974167   \n",
      "7                NaN  12903.0        35.0       100.0       8.150000   \n",
      "8                NaN  14822.0        45.0        98.0       7.333333   \n",
      "\n",
      "    deep_hleep_h  light_hleep_h  rem_hleep_h   awake_h  \n",
      "62           NaN            NaN          NaN       NaN  \n",
      "0       1.066667       5.516667     1.483333  0.050000  \n",
      "1       1.516667       5.833333     0.850000  2.300000  \n",
      "2       1.283333       6.116667     0.200000  0.683333  \n",
      "3       1.166667       6.166667     2.183333  0.016667  \n",
      "4       1.133333       5.733333     1.416667  0.016667  \n",
      "5       1.233333       5.950000     1.566667  0.116667  \n",
      "6       1.450000       6.583333     1.950000  0.016667  \n",
      "7       0.800000       5.866667     1.483333  0.016667  \n",
      "8       1.350000       4.366667     1.616667  0.000000  \n"
     ]
    }
   ],
   "source": [
    "import os\n",
    "import json\n",
    "import pandas as pd\n",
    "from glob import glob\n",
    "from collections import defaultdict\n",
    "\n",
    "# ---- Setup ----\n",
    "raw_dir = \"/Users/tolgasabanoglu/Desktop/github/spatiotemporal/data/raw/\"\n",
    "json_files = sorted(glob(os.path.join(raw_dir, \"*.json\")))\n",
    "summary = defaultdict(dict)\n",
    "\n",
    "# ---- Parse Files ----\n",
    "for file in json_files:\n",
    "    fname = os.path.basename(file)\n",
    "\n",
    "    try:\n",
    "        with open(file) as f:\n",
    "            data = json.load(f)\n",
    "    except Exception as e:\n",
    "        print(f\"⚠️ Could not load {fname}: {e}\")\n",
    "        continue\n",
    "\n",
    "    # ---- STEPS ----\n",
    "    if fname.startswith(\"steps\") and isinstance(data, list) and data:\n",
    "        date = data[0].get(\"startGMT\", \"\")[:10]\n",
    "        steps = sum(item.get(\"steps\", 0) for item in data if isinstance(item, dict))\n",
    "        summary[date][\"steps\"] = steps\n",
    "\n",
    "    # ---- STRESS ----\n",
    "    elif fname.startswith(\"stress\") and isinstance(data, dict):\n",
    "        date = data.get(\"calendarDate\")\n",
    "        if date:\n",
    "            summary[date][\"avg_stress\"] = data.get(\"avgStressLevel\")\n",
    "            summary[date][\"max_stress\"] = data.get(\"maxStressLevel\")\n",
    "\n",
    "    # ---- BODY BATTERY ----\n",
    "    elif fname.startswith(\"body_battery\"):\n",
    "        if isinstance(data, list):\n",
    "            for entry in data:\n",
    "                if isinstance(entry, dict):\n",
    "                    date = entry.get(\"date\")\n",
    "                    if date:\n",
    "                        summary[date][\"body_charged\"] = entry.get(\"charged\")\n",
    "                        summary[date][\"body_drained\"] = entry.get(\"drained\")\n",
    "        elif isinstance(data, dict):\n",
    "            date = data.get(\"date\")\n",
    "            if date:\n",
    "                summary[date][\"body_charged\"] = data.get(\"charged\")\n",
    "                summary[date][\"body_drained\"] = data.get(\"drained\")\n",
    "\n",
    "    # ---- HEART RATE ----\n",
    "    elif fname.startswith(\"heart_rate\") and isinstance(data, dict):\n",
    "        date = data.get(\"calendarDate\")\n",
    "        if date:\n",
    "            summary[date][\"resting_hr\"] = data.get(\"restingHeartRate\")\n",
    "\n",
    "    # ---- SLEEP ----\n",
    "    elif fname.startswith(\"sleep\") and isinstance(data, dict):\n",
    "        record = {}\n",
    "        date = None\n",
    "\n",
    "        daily = data.get(\"dailySleepDTO\")\n",
    "        if isinstance(daily, dict):\n",
    "            date = daily.get(\"calendarDate\") or daily.get(\"sleepEndTimestampGMT\", \"\")[:10]\n",
    "            record.update({\n",
    "                \"sleep_score\": daily.get(\"overallSleepScore\"),\n",
    "                \"total_sleep_s\": daily.get(\"sleepTimeSeconds\"),\n",
    "                \"deep_sleep_s\": daily.get(\"deepSleepSeconds\"),\n",
    "                \"light_sleep_s\": daily.get(\"lightSleepSeconds\"),\n",
    "                \"rem_sleep_s\": daily.get(\"remSleepSeconds\"),\n",
    "                \"awake_s\": daily.get(\"awakeSleepSeconds\"),\n",
    "                \"restless_moments\": daily.get(\"restlessMomentsCount\")\n",
    "            })\n",
    "\n",
    "        rem = data.get(\"remSleepData\")\n",
    "        if isinstance(rem, dict):\n",
    "            record.update({\n",
    "                \"rem_count\": rem.get(\"remSleepCount\"),\n",
    "                \"avg_rem_duration_s\": rem.get(\"avgRemSleepSeconds\")\n",
    "            })\n",
    "\n",
    "        if date:\n",
    "            summary[date].update(record)\n",
    "\n",
    "# ---- Create DataFrame ----\n",
    "df = pd.DataFrame.from_dict(summary, orient=\"index\").reset_index()\n",
    "df = df.rename(columns={\"index\": \"date\"})\n",
    "df[\"date\"] = pd.to_datetime(df[\"date\"], errors=\"coerce\")\n",
    "df = df.sort_values(\"date\")\n",
    "\n",
    "# ---- Convert seconds → hours ----\n",
    "sleep_cols = [\"total_sleep_s\", \"deep_sleep_s\", \"light_sleep_s\", \"rem_sleep_s\", \"awake_s\", \"avg_rem_duration_s\"]\n",
    "for col in sleep_cols:\n",
    "    if col in df.columns:\n",
    "        df[col.replace(\"_s\", \"_h\")] = df[col] / 3600\n",
    "\n",
    "# ---- Preview ----\n",
    "print(df.head(10))\n"
   ]
  },
  {
   "cell_type": "code",
   "execution_count": 56,
   "metadata": {},
   "outputs": [
    {
     "name": "stdout",
     "output_type": "stream",
     "text": [
      "         date  body_charged  body_drained  resting_hr  total_sleep_s  \\\n",
      "62 2025-03-30          75.0          62.0        56.0        29015.0   \n",
      "0  2025-03-31          75.0          62.0        56.0        29015.0   \n",
      "1  2025-04-01          31.0          63.0        63.0        29520.0   \n",
      "2  2025-04-02          27.0          30.0        65.0        27327.0   \n",
      "3  2025-04-03          27.0          27.0        64.0        34260.0   \n",
      "\n",
      "    deep_sleep_s  light_sleep_s  rem_sleep_s  awake_s   steps  avg_stress  \\\n",
      "62        3840.0        19860.0       5340.0    180.0  2258.0        30.0   \n",
      "0         3840.0        19860.0       5340.0    180.0  8971.0        30.0   \n",
      "1         5460.0        21000.0       3060.0   8280.0  3074.0        54.0   \n",
      "2         4620.0        22020.0        720.0   2460.0  4237.0        51.0   \n",
      "3         4200.0        22200.0       7860.0     60.0  3887.0        53.0   \n",
      "\n",
      "    max_stress  total_hleep_h  deep_hleep_h  light_hleep_h  rem_hleep_h  \\\n",
      "62        94.0       8.059722      1.066667       5.516667     1.483333   \n",
      "0         94.0       8.059722      1.066667       5.516667     1.483333   \n",
      "1         99.0       8.200000      1.516667       5.833333     0.850000   \n",
      "2         99.0       7.590833      1.283333       6.116667     0.200000   \n",
      "3         99.0       9.516667      1.166667       6.166667     2.183333   \n",
      "\n",
      "     awake_h  \n",
      "62  0.050000  \n",
      "0   0.050000  \n",
      "1   2.300000  \n",
      "2   0.683333  \n",
      "3   0.016667  \n"
     ]
    },
    {
     "name": "stderr",
     "output_type": "stream",
     "text": [
      "/var/folders/jg/x92gk5yd0t560nh7hmhyvm040000gn/T/ipykernel_1475/3967524136.py:13: FutureWarning:\n",
      "\n",
      "DataFrame.fillna with 'method' is deprecated and will raise in a future version. Use obj.ffill() or obj.bfill() instead.\n",
      "\n"
     ]
    }
   ],
   "source": [
    "\n",
    "\n",
    "# Assume df is already your loaded Garmin summary DataFrame\n",
    "# If not, load it first (e.g., from a CSV or JSON)\n",
    "\n",
    "# ---- 1. Remove unwanted columns ----\n",
    "columns_to_drop = [\"sleep_score\", \"restless_moments\"]\n",
    "df = df.drop(columns=[col for col in columns_to_drop if col in df.columns], errors=\"ignore\")\n",
    "\n",
    "# ---- 2. Ensure date is datetime and sorted ----\n",
    "df[\"date\"] = pd.to_datetime(df[\"date\"], errors=\"coerce\")\n",
    "df = df.sort_values(\"date\")\n",
    "\n",
    "# ---- 3. Forward-fill then backward-fill missing values ----\n",
    "df = df.fillna(method=\"ffill\").fillna(method=\"bfill\")\n",
    "\n",
    "# ---- 4. Preview cleaned data ----\n",
    "print(df.head())\n",
    "\n",
    "# Optional: save to CSV\n",
    "# df_filled.to_csv(\"garmin_cleaned.csv\", index=False)\n"
   ]
  },
  {
   "cell_type": "code",
   "execution_count": 57,
   "metadata": {},
   "outputs": [
    {
     "data": {
      "application/vnd.plotly.v1+json": {
       "config": {
        "plotlyServerURL": "https://plot.ly"
       },
       "data": [
        {
         "mode": "markers",
         "name": "body_charged",
         "type": "scatter",
         "x": {
          "bdata": "AAAAAACkoUAAAAAAgIXBQAAAAAAABKhAAAAAAACNsEAAAAAAAF6uQAAAAAAAR8hAAAAAAABJsEAAAAAAgBfEQAAAAACAM8lAAAAAAADzzEAAAAAAAHHOQAAAAACAdMhAAAAAAICBzUAAAAAAgCDGQAAAAACA88NAAAAAAADopkAAAAAAADioQAAAAAAAyJVAAAAAAABWpEAAAAAAAEC6QAAAAACAHcFAAAAAAACKskAAAAAAgJ3AQAAAAAAA4qRAAAAAAABoxkAAAAAAABvDQAAAAAAAybVAAAAAAABKr0AAAAAAADCxQAAAAAAAwqRAAAAAAAB0okAAAAAAAHSiQAAAAAAArrxAAAAAAABoqkAAAAAAgDvQQAAAAAAAn79AAAAAAAA/xEAAAAAAADCcQAAAAAAAibBAAAAAAABQpkAAAAAAgNfQQAAAAAAAQLxAAAAAAACgoUAAAAAAAFaqQAAAAAAASJxAAAAAAAC3tEAAAAAAAGihQAAAAAAAI8pAAAAAAAAItUAAAAAAAOCwQAAAAAAArLhAAAAAAAB5u0AAAAAAANCwQAAAAAAADspAAAAAAABGtEAAAAAAAOKmQAAAAAAA0spAAAAAAAC8vEAAAAAAAK6iQAAAAACAKs5AAAAAAABSr0AAAAAAAIBWQAAAAAAAgFZAAAAAAACAVkA=",
          "dtype": "f8"
         },
         "xaxis": "x",
         "y": {
          "bdata": "AAAAAADAUkAAAAAAAMBSQAAAAAAAAD9AAAAAAAAAO0AAAAAAAAA7QAAAAAAAAFBAAAAAAAAATkAAAAAAAEBTQAAAAAAAgENAAAAAAACAS0AAAAAAAABQQAAAAAAAQFBAAAAAAACASEAAAAAAAABAQAAAAAAAAFJAAAAAAAAASkAAAAAAAABNQAAAAAAAAExAAAAAAACASEAAAAAAAAAAAAAAAAAAAENAAAAAAABAUUAAAAAAAIBOQAAAAAAAAEZAAAAAAAAASUAAAAAAAABFQAAAAAAAgEVAAAAAAACAUkAAAAAAAABKQAAAAAAAgEBAAAAAAAAAAAAAAAAAAAAwQAAAAAAAADBAAAAAAABAUEAAAAAAAIBMQAAAAAAAgE5AAAAAAAAATEAAAAAAAAAxQAAAAAAAACJAAAAAAACAVUAAAAAAAABOQAAAAAAAgEpAAAAAAAAASUAAAAAAAABKQAAAAAAAADRAAAAAAAAAVEAAAAAAAABDQAAAAAAAAE1AAAAAAAAAP0AAAAAAAEBUQAAAAAAAgEpAAAAAAACASkAAAAAAAABRQAAAAAAAAEtAAAAAAACAQUAAAAAAAIBOQAAAAAAAAEtAAAAAAABAUUAAAAAAAIBFQAAAAAAAgExAAAAAAACAU0AAAAAAAIBOQAAAAAAAgEtAAAAAAACAS0A=",
          "dtype": "f8"
         },
         "yaxis": "y"
        },
        {
         "line": {
          "dash": "dash"
         },
         "mode": "lines",
         "name": "body_charged Fit",
         "type": "scatter",
         "x": {
          "bdata": "AAAAAACkoUAAAAAAgIXBQAAAAAAABKhAAAAAAACNsEAAAAAAAF6uQAAAAAAAR8hAAAAAAABJsEAAAAAAgBfEQAAAAACAM8lAAAAAAADzzEAAAAAAAHHOQAAAAACAdMhAAAAAAICBzUAAAAAAgCDGQAAAAACA88NAAAAAAADopkAAAAAAADioQAAAAAAAyJVAAAAAAABWpEAAAAAAAEC6QAAAAACAHcFAAAAAAACKskAAAAAAgJ3AQAAAAAAA4qRAAAAAAABoxkAAAAAAABvDQAAAAAAAybVAAAAAAABKr0AAAAAAADCxQAAAAAAAwqRAAAAAAAB0okAAAAAAAHSiQAAAAAAArrxAAAAAAABoqkAAAAAAgDvQQAAAAAAAn79AAAAAAAA/xEAAAAAAADCcQAAAAAAAibBAAAAAAABQpkAAAAAAgNfQQAAAAAAAQLxAAAAAAACgoUAAAAAAAFaqQAAAAAAASJxAAAAAAAC3tEAAAAAAAGihQAAAAAAAI8pAAAAAAAAItUAAAAAAAOCwQAAAAAAArLhAAAAAAAB5u0AAAAAAANCwQAAAAAAADspAAAAAAABGtEAAAAAAAOKmQAAAAAAA0spAAAAAAAC8vEAAAAAAAK6iQAAAAACAKs5AAAAAAABSr0AAAAAAAIBWQAAAAAAAgFZAAAAAAACAVkA=",
          "dtype": "f8"
         },
         "xaxis": "x",
         "y": {
          "bdata": "cLMoSeykR0BJghEy3yJKQIUklw948kdAxbnBtP1gSEADiP/Zuj9IQBy6VEmWa0tAroU4ZIdaSEC8zHAM759KQCYZD4GJmEtAog8vPOdOTEAelTTygZdMQGhWDCY8dEtA5RpuwvxpTEDEPaf89AJLQIaG32sXmUpAKKF4dvnkR0BSmsuX8PRHQOFoWcLQUkdAi87gf7XFR0CYq1OE9ExJQOTTbfAaD0pA6rvEvFyRSEAGTGnuxvZJQLILbnhczEdAqcXH6YsQS0C33HVU8W9KQPVwUW9V4EhAo57tkvFKSEBInAoye3BIQDTDTTjXykdAo4r6ac6uR0Cjivppzq5HQLatOqEQiElA7Y4AeowPSED26l7q9flMQFwBKrufz0lAqjIQ+XCnSkB8qpRNx3lHQKanuWScYEhA0kjfhcDdR0Al9kmvQjVNQFW7XIicfUlAYKokobukR0AmZu6FsQ5IQKvFoEVZekdAiZcohUvGSECEK+xwEqJHQF+T1bAOxktAhwbMGf7NSEDSMWnx4GhIQC2FJPGPJklAtzXLOrNqSUBU6UixW2dIQBTVgOgQwktAkJdEcI67SECQk3J6sORHQCHFl4tR50tAJO1WOWWJSUAHDjXuj7FHQEkWGK0bikxAw7D14lJLSEDMVBLY5NZGQMxUEtjk1kZAzFQS2OTWRkA=",
          "dtype": "f8"
         },
         "yaxis": "y"
        },
        {
         "mode": "markers",
         "name": "body_drained",
         "type": "scatter",
         "x": {
          "bdata": "AAAAAACkoUAAAAAAgIXBQAAAAAAABKhAAAAAAACNsEAAAAAAAF6uQAAAAAAAR8hAAAAAAABJsEAAAAAAgBfEQAAAAACAM8lAAAAAAADzzEAAAAAAAHHOQAAAAACAdMhAAAAAAICBzUAAAAAAgCDGQAAAAACA88NAAAAAAADopkAAAAAAADioQAAAAAAAyJVAAAAAAABWpEAAAAAAAEC6QAAAAACAHcFAAAAAAACKskAAAAAAgJ3AQAAAAAAA4qRAAAAAAABoxkAAAAAAABvDQAAAAAAAybVAAAAAAABKr0AAAAAAADCxQAAAAAAAwqRAAAAAAAB0okAAAAAAAHSiQAAAAAAArrxAAAAAAABoqkAAAAAAgDvQQAAAAAAAn79AAAAAAAA/xEAAAAAAADCcQAAAAAAAibBAAAAAAABQpkAAAAAAgNfQQAAAAAAAQLxAAAAAAACgoUAAAAAAAFaqQAAAAAAASJxAAAAAAAC3tEAAAAAAAGihQAAAAAAAI8pAAAAAAAAItUAAAAAAAOCwQAAAAAAArLhAAAAAAAB5u0AAAAAAANCwQAAAAAAADspAAAAAAABGtEAAAAAAAOKmQAAAAAAA0spAAAAAAAC8vEAAAAAAAK6iQAAAAACAKs5AAAAAAABSr0AAAAAAAIBWQAAAAAAAgFZAAAAAAACAVkA=",
          "dtype": "f8"
         },
         "xaxis": "x2",
         "y": {
          "bdata": "AAAAAAAAT0AAAAAAAABPQAAAAAAAgE9AAAAAAAAAPkAAAAAAAAA7QAAAAAAAgE5AAAAAAAAAQ0AAAAAAAABKQAAAAAAAAExAAAAAAACAUkAAAAAAAABIQAAAAAAAAFFAAAAAAAAASUAAAAAAAABHQAAAAAAAgERAAAAAAADAUkAAAAAAAABDQAAAAAAAwFRAAAAAAAAAOUAAAAAAAIBEQAAAAAAAgEBAAAAAAABAUEAAAAAAAABRQAAAAAAAAFBAAAAAAAAARkAAAAAAAIBHQAAAAAAAAENAAAAAAAAASUAAAAAAAEBSQAAAAAAAAEVAAAAAAAAAAAAAAAAAAAAwQAAAAAAAADBAAAAAAAAATkAAAAAAAABOQAAAAAAAAE5AAAAAAAAATkAAAAAAAAAyQAAAAAAAAEtAAAAAAADAVEAAAAAAAABTQAAAAAAAgEpAAAAAAAAASUAAAAAAAIBFQAAAAAAAADlAAAAAAACAUkAAAAAAAIBDQAAAAAAAgE9AAAAAAAAAP0AAAAAAAABTQAAAAAAAAE9AAAAAAAAAR0AAAAAAAEBSQAAAAAAAgEtAAAAAAACAQUAAAAAAAIBJQAAAAAAAgE9AAAAAAACAUUAAAAAAAIBDQAAAAAAAAEZAAAAAAAAAVkAAAAAAAABLQAAAAAAAABxAAAAAAAAAHEA=",
          "dtype": "f8"
         },
         "yaxis": "y2"
        },
        {
         "line": {
          "dash": "dash"
         },
         "mode": "lines",
         "name": "body_drained Fit",
         "type": "scatter",
         "x": {
          "bdata": "AAAAAACkoUAAAAAAgIXBQAAAAAAABKhAAAAAAACNsEAAAAAAAF6uQAAAAAAAR8hAAAAAAABJsEAAAAAAgBfEQAAAAACAM8lAAAAAAADzzEAAAAAAAHHOQAAAAACAdMhAAAAAAICBzUAAAAAAgCDGQAAAAACA88NAAAAAAADopkAAAAAAADioQAAAAAAAyJVAAAAAAABWpEAAAAAAAEC6QAAAAACAHcFAAAAAAACKskAAAAAAgJ3AQAAAAAAA4qRAAAAAAABoxkAAAAAAABvDQAAAAAAAybVAAAAAAABKr0AAAAAAADCxQAAAAAAAwqRAAAAAAAB0okAAAAAAAHSiQAAAAAAArrxAAAAAAABoqkAAAAAAgDvQQAAAAAAAn79AAAAAAAA/xEAAAAAAADCcQAAAAAAAibBAAAAAAABQpkAAAAAAgNfQQAAAAAAAQLxAAAAAAACgoUAAAAAAAFaqQAAAAAAASJxAAAAAAAC3tEAAAAAAAGihQAAAAAAAI8pAAAAAAAAItUAAAAAAAOCwQAAAAAAArLhAAAAAAAB5u0AAAAAAANCwQAAAAAAADspAAAAAAABGtEAAAAAAAOKmQAAAAAAA0spAAAAAAAC8vEAAAAAAAK6iQAAAAACAKs5AAAAAAABSr0AAAAAAAIBWQAAAAAAAgFZAAAAAAACAVkA=",
          "dtype": "f8"
         },
         "xaxis": "x2",
         "y": {
          "bdata": "C06UWtKARkCK86ObYIBKQDqi1H09/UZA6s5dK5GuR0CDX4qHM3lHQKGU1aTIj0xA5sdt6DKkR0AEMMlfCElLQNcu21/n10xAwuXQMYD8TUAMrVma/XBOQDLLlquonUxAC+U+rPQnTkApQScH6edLQHgKy/oNPktAZmbfxJbnRkCsaDBbNAFHQH6Lqp4V/UVASBfW02y1RkCcVhq/KClJQPe/xbCpYEpA5nviGC38R0AGHj4toTlKQJAtzScZwEZAnwSgyLb9S0CQoVKUCPxKQJLC17vhekhAKOQqdDGLR0AGKx2Xa8dHQHGzlJ+ovUZA1GcD0K2QRkDUZwPQrZBGQBLirW7/h0lAzMEMq+UrR0BmkKIO9A5PQGfVj3nP+klA/QpgABRVS0DaxFFBmTtGQGKwTwn1rUdAUyLTPQDcRkAhKz3PGG5PQH2aKcY5d0lAxz6NSYSARkAa/WxehipHQKbyZnSDPEZAPpcQnxpRSEAQaSpbP3xGQNj29U3wIE1AfIGuUHRdSEBryALuOLtHQAxLiE+P60hAmyvrJ+JYSUBMTsplyLhHQEe2YeiIGk1Aw7gB3d8/SECBz1SrIedGQEBmyfFNVk1A7Uzf5SGKSUAtxenGGZVGQNv45+l9W05AsAI5ls2LR0Cdqq9AQjZFQJ2qr0BCNkVAnaqvQEI2RUA=",
          "dtype": "f8"
         },
         "yaxis": "y2"
        },
        {
         "mode": "markers",
         "name": "resting_hr",
         "type": "scatter",
         "x": {
          "bdata": "AAAAAACkoUAAAAAAgIXBQAAAAAAABKhAAAAAAACNsEAAAAAAAF6uQAAAAAAAR8hAAAAAAABJsEAAAAAAgBfEQAAAAACAM8lAAAAAAADzzEAAAAAAAHHOQAAAAACAdMhAAAAAAICBzUAAAAAAgCDGQAAAAACA88NAAAAAAADopkAAAAAAADioQAAAAAAAyJVAAAAAAABWpEAAAAAAAEC6QAAAAACAHcFAAAAAAACKskAAAAAAgJ3AQAAAAAAA4qRAAAAAAABoxkAAAAAAABvDQAAAAAAAybVAAAAAAABKr0AAAAAAADCxQAAAAAAAwqRAAAAAAAB0okAAAAAAAHSiQAAAAAAArrxAAAAAAABoqkAAAAAAgDvQQAAAAAAAn79AAAAAAAA/xEAAAAAAADCcQAAAAAAAibBAAAAAAABQpkAAAAAAgNfQQAAAAAAAQLxAAAAAAACgoUAAAAAAAFaqQAAAAAAASJxAAAAAAAC3tEAAAAAAAGihQAAAAAAAI8pAAAAAAAAItUAAAAAAAOCwQAAAAAAArLhAAAAAAAB5u0AAAAAAANCwQAAAAAAADspAAAAAAABGtEAAAAAAAOKmQAAAAAAA0spAAAAAAAC8vEAAAAAAAK6iQAAAAACAKs5AAAAAAABSr0AAAAAAAIBWQAAAAAAAgFZAAAAAAACAVkA=",
          "dtype": "f8"
         },
         "xaxis": "x3",
         "y": {
          "bdata": "AAAAAAAATEAAAAAAAABMQAAAAAAAgE9AAAAAAABAUEAAAAAAAABQQAAAAAAAAE9AAAAAAACAT0AAAAAAAIBMQAAAAAAAAE5AAAAAAAAATEAAAAAAAIBMQAAAAAAAgE1AAAAAAACATkAAAAAAAEBQQAAAAAAAgE5AAAAAAACATUAAAAAAAIBOQAAAAAAAgE5AAAAAAAAATkAAAAAAAEBQQAAAAAAAQFBAAAAAAAAATkAAAAAAAABOQAAAAAAAgE5AAAAAAACATUAAAAAAAABPQAAAAAAAwFBAAAAAAACATkAAAAAAAIBNQAAAAAAAAE9AAAAAAACAUEAAAAAAAEBSQAAAAAAAQFJAAAAAAACATkAAAAAAAABPQAAAAAAAgE1AAAAAAACATEAAAAAAAMBQQAAAAAAAwFBAAAAAAAAATUAAAAAAAIBOQAAAAAAAAE5AAAAAAACATkAAAAAAAIBPQAAAAAAAAFFAAAAAAAAATkAAAAAAAIBPQAAAAAAAAE5AAAAAAACAT0AAAAAAAABNQAAAAAAAAE1AAAAAAAAAT0AAAAAAAABNQAAAAAAAAE1AAAAAAACAUEAAAAAAAEBQQAAAAAAAAE9AAAAAAAAATUAAAAAAAIBOQAAAAAAAAE9AAAAAAAAATUAAAAAAAIBOQAAAAAAAAE9AAAAAAAAAT0A=",
          "dtype": "f8"
         },
         "yaxis": "y3"
        },
        {
         "line": {
          "dash": "dash"
         },
         "mode": "lines",
         "name": "resting_hr Fit",
         "type": "scatter",
         "x": {
          "bdata": "AAAAAACkoUAAAAAAgIXBQAAAAAAABKhAAAAAAACNsEAAAAAAAF6uQAAAAAAAR8hAAAAAAABJsEAAAAAAgBfEQAAAAACAM8lAAAAAAADzzEAAAAAAAHHOQAAAAACAdMhAAAAAAICBzUAAAAAAgCDGQAAAAACA88NAAAAAAADopkAAAAAAADioQAAAAAAAyJVAAAAAAABWpEAAAAAAAEC6QAAAAACAHcFAAAAAAACKskAAAAAAgJ3AQAAAAAAA4qRAAAAAAABoxkAAAAAAABvDQAAAAAAAybVAAAAAAABKr0AAAAAAADCxQAAAAAAAwqRAAAAAAAB0okAAAAAAAHSiQAAAAAAArrxAAAAAAABoqkAAAAAAgDvQQAAAAAAAn79AAAAAAAA/xEAAAAAAADCcQAAAAAAAibBAAAAAAABQpkAAAAAAgNfQQAAAAAAAQLxAAAAAAACgoUAAAAAAAFaqQAAAAAAASJxAAAAAAAC3tEAAAAAAAGihQAAAAAAAI8pAAAAAAAAItUAAAAAAAOCwQAAAAAAArLhAAAAAAAB5u0AAAAAAANCwQAAAAAAADspAAAAAAABGtEAAAAAAAOKmQAAAAAAA0spAAAAAAAC8vEAAAAAAAK6iQAAAAACAKs5AAAAAAABSr0AAAAAAAIBWQAAAAAAAgFZAAAAAAACAVkA=",
          "dtype": "f8"
         },
         "xaxis": "x3",
         "y": {
          "bdata": "uOgOZlM4T0BbEhb6g4xOQE0GRPxwI09AgApACa0FT0AvPWQ6og5PQP4bObD8M05AtPIQkmoHT0AbDDyT1WpOQOLbbZrhJ05Auvf8W8T2TUA7IR2mNuNNQCLHXXWoMU5A8ZO+C3nvTUAyYkJqKlBOQGFrRlGtbE5ATwm8XRMnT0BXgE6ixiJPQPxfi05wTk9A34py934vT0BhkSh6IMZOQAhCwsnWkU5AwppvFKb4TkCOBiAYZJhOQCPnBFS0LU9AawF8e4FMTkDHBNNSwndOQNM5DWNh405AmgRFGJ0LT0BfVloQgQFPQGvD6igdLk9A4dA4/qk1T0Dh0Dj+qTVPQOS9wCU1tk5AZfGXFJwbT0DtqfnMsshNQNbuPoLvok5AdhwN+M9oTkA9Mwn/8UNPQJKBeT7HBU9Ap9//UAUpT0DmGvVdurhNQFUIbd0FuU5AQaSrgGA4T0BNPVkM1xtPQKIAM6/KQ09AK5btoGTqTkC/5T31FzlPQCxpzDSfG05A/Ooh61HoTkDJo9c4jQNPQIWL1Hl30E5AGexXtR2+TkARgL0N9gNPQGrLp2OyHE5A6vmEAEntTkCdIqcFJydPQH02qAOqEk5AJJ13a9m1TkCeMVj86zRPQHjGRnrS5k1AiI0L44ILT0AGAbkV0G9PQAYBuRXQb09ABgG5FdBvT0A=",
          "dtype": "f8"
         },
         "yaxis": "y3"
        },
        {
         "mode": "markers",
         "name": "total_sleep_s",
         "type": "scatter",
         "x": {
          "bdata": "AAAAAACkoUAAAAAAgIXBQAAAAAAABKhAAAAAAACNsEAAAAAAAF6uQAAAAAAAR8hAAAAAAABJsEAAAAAAgBfEQAAAAACAM8lAAAAAAADzzEAAAAAAAHHOQAAAAACAdMhAAAAAAICBzUAAAAAAgCDGQAAAAACA88NAAAAAAADopkAAAAAAADioQAAAAAAAyJVAAAAAAABWpEAAAAAAAEC6QAAAAACAHcFAAAAAAACKskAAAAAAgJ3AQAAAAAAA4qRAAAAAAABoxkAAAAAAABvDQAAAAAAAybVAAAAAAABKr0AAAAAAADCxQAAAAAAAwqRAAAAAAAB0okAAAAAAAHSiQAAAAAAArrxAAAAAAABoqkAAAAAAgDvQQAAAAAAAn79AAAAAAAA/xEAAAAAAADCcQAAAAAAAibBAAAAAAABQpkAAAAAAgNfQQAAAAAAAQLxAAAAAAACgoUAAAAAAAFaqQAAAAAAASJxAAAAAAAC3tEAAAAAAAGihQAAAAAAAI8pAAAAAAAAItUAAAAAAAOCwQAAAAAAArLhAAAAAAAB5u0AAAAAAANCwQAAAAAAADspAAAAAAABGtEAAAAAAAOKmQAAAAAAA0spAAAAAAAC8vEAAAAAAAK6iQAAAAACAKs5AAAAAAABSr0AAAAAAAIBWQAAAAAAAgFZAAAAAAACAVkA=",
          "dtype": "f8"
         },
         "xaxis": "x4",
         "y": {
          "bdata": "AAAAAMBV3EAAAAAAwFXcQAAAAAAA1NxAAAAAAMCv2kAAAAAAgLrgQAAAAAAAH91AAAAAAADD3kAAAAAAYIjhQAAAAAAAp9xAAAAAAADI2UAAAAAAAH3ZQAAAAAAALt1AAAAAAADh3kAAAAAAgGDgQAAAAAAAl91AAAAAAAAb3EAAAAAAALvXQAAAAACAyOFAAAAAAADx3UAAAAAAAPHdQAAAAAAAl91AAAAAAEDA3kAAAAAAgIvdQAAAAADActlAAAAAAAAx2kAAAAAAgGDgQAAAAAAATdxAAAAAAACk4EAAAAAAAGvcQAAAAABAOt1AAAAAAABAqkAAAAAAAOTbQAAAAAAA5NtAAAAAAAAq4kAAAAAAAKnaQAAAAAAAHeBAAAAAAADY2EAAAAAAAC7NQAAAAAAALs1AAAAAAICa4kAAAAAAAHjeQAAAAAAAzdRAAAAAAACy0UAAAAAAQCjhQAAAAAAASt9AAAAAAABA2kAAAAAAAP7gQAAAAAAAt9tAAAAAAAAkyEAAAAAAANPdQAAAAAAAd9BAAAAAAAC320AAAAAAAFDZQAAAAAAAvtRAAAAAAADY2EAAAAAAABLbQAAAAAAA6dZAAAAAAAC42kAAAAAAAPPbQAAAAAAA5tlAAAAAAACW3kAAAAAAAOPcQAAAAACAUeBAAAAAAIBR4EA=",
          "dtype": "f8"
         },
         "yaxis": "y4"
        },
        {
         "line": {
          "dash": "dash"
         },
         "mode": "lines",
         "name": "total_sleep_s Fit",
         "type": "scatter",
         "x": {
          "bdata": "AAAAAACkoUAAAAAAgIXBQAAAAAAABKhAAAAAAACNsEAAAAAAAF6uQAAAAAAAR8hAAAAAAABJsEAAAAAAgBfEQAAAAACAM8lAAAAAAADzzEAAAAAAAHHOQAAAAACAdMhAAAAAAICBzUAAAAAAgCDGQAAAAACA88NAAAAAAADopkAAAAAAADioQAAAAAAAyJVAAAAAAABWpEAAAAAAAEC6QAAAAACAHcFAAAAAAACKskAAAAAAgJ3AQAAAAAAA4qRAAAAAAABoxkAAAAAAABvDQAAAAAAAybVAAAAAAABKr0AAAAAAADCxQAAAAAAAwqRAAAAAAAB0okAAAAAAAHSiQAAAAAAArrxAAAAAAABoqkAAAAAAgDvQQAAAAAAAn79AAAAAAAA/xEAAAAAAADCcQAAAAAAAibBAAAAAAABQpkAAAAAAgNfQQAAAAAAAQLxAAAAAAACgoUAAAAAAAFaqQAAAAAAASJxAAAAAAAC3tEAAAAAAAGihQAAAAAAAI8pAAAAAAAAItUAAAAAAAOCwQAAAAAAArLhAAAAAAAB5u0AAAAAAANCwQAAAAAAADspAAAAAAABGtEAAAAAAAOKmQAAAAAAA0spAAAAAAAC8vEAAAAAAAK6iQAAAAACAKs5AAAAAAABSr0AAAAAAAIBWQAAAAAAAgFZAAAAAAACAVkA=",
          "dtype": "f8"
         },
         "xaxis": "x4",
         "y": {
          "bdata": "jfSypImf20BpFY73wIfbQHWte4ilnNtAGE7WsYaY20A3bdckxJnbQM87XKl/e9tAWunaXsSY20C3WJ5bF4PbQNsDz6bSedtAZOZuHwZz20AGFiwtUXDbQAps8B8te9tArVvfoANy20CeDSNEZn/bQBv9ZqlYg9tArPGqUyad20AYcoHzjZzbQD2pGkqZottA2eCmulCe20DmKH2euo/bQFHwX599iNtA8cNkCLmW20DROGLQZYnbQAZBQD0RnttAHsfCkOR+20C72Utk4YTbQJpaTlHHk9tAzF9AHlmZ20Du2aHa8pfbQI5lUMAfnttAGQfKUCuf20AZB8pQK5/bQL+caXeGjdtAzPLm/Y+b20Cg2NaGpWzbQH/lQX/bittAV6R+tM+C20AgAZ1rJaHbQDpXmlKKmNtAMp83Qmud20DoR2GPb2rbQOaXeDzqjdtAHvkUdYuf20BZB6AnmJvbQG3zdvofodtAM8zC1b+U20AMOXHapJ/bQDO+GzMgeNtAQhNBXnaU20CWkPJpO5jbQFDD1AspkdtAQl6Rup6O20AetQLtSZjbQBgeJktGeNtAM85kUyaV20CG+D0MKZ3bQBSfGsDidttAyHy7xHmN20DjxDwDEZ/bQPRXKhDRcNtAqlZ8fVWZ20CJSr4DOKfbQIlKvgM4p9tAiUq+Azin20A=",
          "dtype": "f8"
         },
         "yaxis": "y4"
        },
        {
         "mode": "markers",
         "name": "deep_sleep_s",
         "type": "scatter",
         "x": {
          "bdata": "AAAAAACkoUAAAAAAgIXBQAAAAAAABKhAAAAAAACNsEAAAAAAAF6uQAAAAAAAR8hAAAAAAABJsEAAAAAAgBfEQAAAAACAM8lAAAAAAADzzEAAAAAAAHHOQAAAAACAdMhAAAAAAICBzUAAAAAAgCDGQAAAAACA88NAAAAAAADopkAAAAAAADioQAAAAAAAyJVAAAAAAABWpEAAAAAAAEC6QAAAAACAHcFAAAAAAACKskAAAAAAgJ3AQAAAAAAA4qRAAAAAAABoxkAAAAAAABvDQAAAAAAAybVAAAAAAABKr0AAAAAAADCxQAAAAAAAwqRAAAAAAAB0okAAAAAAAHSiQAAAAAAArrxAAAAAAABoqkAAAAAAgDvQQAAAAAAAn79AAAAAAAA/xEAAAAAAADCcQAAAAAAAibBAAAAAAABQpkAAAAAAgNfQQAAAAAAAQLxAAAAAAACgoUAAAAAAAFaqQAAAAAAASJxAAAAAAAC3tEAAAAAAAGihQAAAAAAAI8pAAAAAAAAItUAAAAAAAOCwQAAAAAAArLhAAAAAAAB5u0AAAAAAANCwQAAAAAAADspAAAAAAABGtEAAAAAAAOKmQAAAAAAA0spAAAAAAAC8vEAAAAAAAK6iQAAAAACAKs5AAAAAAABSr0AAAAAAAIBWQAAAAAAAgFZAAAAAAACAVkA=",
          "dtype": "f8"
         },
         "xaxis": "x5",
         "y": {
          "bdata": "AAAAAAAArkAAAAAAAACuQAAAAAAAVLVAAAAAAAAMskAAAAAAAGiwQAAAAAAA4K9AAAAAAABYsUAAAAAAAGS0QAAAAAAAgKZAAAAAAAD8skAAAAAAALCzQAAAAAAALLBAAAAAAAAwq0AAAAAAAOCvQAAAAAAADLJAAAAAAADgsEAAAAAAABCtQAAAAAAAiK1AAAAAAACYrEAAAAAAAJisQAAAAAAAaKBAAAAAAABcvEAAAAAAAPimQAAAAAAAWLFAAAAAAABor0AAAAAAADCrQAAAAAAA0LFAAAAAAABYsUAAAAAAANChQAAAAAAAsLNAAAAAAAAAAAAAAAAAAGCYQAAAAAAAYJhAAAAAAADMtUAAAAAAACS4QAAAAAAANLdAAAAAAAD4tkAAAAAAAGigQAAAAAAAaKBAAAAAAABwp0AAAAAAAMi5QAAAAAAA0KFAAAAAAAAQrUAAAAAAADCrQAAAAAAAAJ5AAAAAAAAQvUAAAAAAALiqQAAAAAAAwLJAAAAAAAAYtUAAAAAAAByxQAAAAAAAlLFAAAAAAABQqUAAAAAAAIy5QAAAAAAAEK1AAAAAAABgqEAAAAAAABCtQAAAAAAAIIxAAAAAAACksEAAAAAAAACuQAAAAAAAyKlAAAAAAAAYtUAAAAAAANCxQAAAAAAAcKdAAAAAAABwp0A=",
          "dtype": "f8"
         },
         "yaxis": "y5"
        },
        {
         "line": {
          "dash": "dash"
         },
         "mode": "lines",
         "name": "deep_sleep_s Fit",
         "type": "scatter",
         "x": {
          "bdata": "AAAAAACkoUAAAAAAgIXBQAAAAAAABKhAAAAAAACNsEAAAAAAAF6uQAAAAAAAR8hAAAAAAABJsEAAAAAAgBfEQAAAAACAM8lAAAAAAADzzEAAAAAAAHHOQAAAAACAdMhAAAAAAICBzUAAAAAAgCDGQAAAAACA88NAAAAAAADopkAAAAAAADioQAAAAAAAyJVAAAAAAABWpEAAAAAAAEC6QAAAAACAHcFAAAAAAACKskAAAAAAgJ3AQAAAAAAA4qRAAAAAAABoxkAAAAAAABvDQAAAAAAAybVAAAAAAABKr0AAAAAAADCxQAAAAAAAwqRAAAAAAAB0okAAAAAAAHSiQAAAAAAArrxAAAAAAABoqkAAAAAAgDvQQAAAAAAAn79AAAAAAAA/xEAAAAAAADCcQAAAAAAAibBAAAAAAABQpkAAAAAAgNfQQAAAAAAAQLxAAAAAAACgoUAAAAAAAFaqQAAAAAAASJxAAAAAAAC3tEAAAAAAAGihQAAAAAAAI8pAAAAAAAAItUAAAAAAAOCwQAAAAAAArLhAAAAAAAB5u0AAAAAAANCwQAAAAAAADspAAAAAAABGtEAAAAAAAOKmQAAAAAAA0spAAAAAAAC8vEAAAAAAAK6iQAAAAACAKs5AAAAAAABSr0AAAAAAAIBWQAAAAAAAgFZAAAAAAACAVkA=",
          "dtype": "f8"
         },
         "xaxis": "x5",
         "y": {
          "bdata": "oAXvh9dSrUAByutgPwmwQDwKJOdfqK1AKDuAmUcirkCIc//Fl/2tQNQKtmqIvrBAxXrm5iYbrkDm2gYDOE6wQIVeo5tS17BALOjroOU7sUByKNMi8GOxQGK+r1pNw7BAczmMcdVKsUBAN3tq1ISwQCqT0/5xSrBA2FI9gX2ZrUBDTNeUGautQApMICNH+KxAZsovMAF3rUDxXN/liyavQMaDPVSx/K9ARCqO/6FXrkCQvgnh2+GvQFLyr41Xfq1A1SwoCFOMsEDiSuZ6wDOwQG43g+C8rq5Ab1AZKfYJrkC5MdqBXTOuQP+1fDaqfK1Avg28Pr5drUC+Dbw+vl2tQBomx4O+Z69A9uvXCnPIrUB+6e0JPJqxQC5tolustq9A01dN8ltSsEDjNaH9QCOtQBNss0PcIa5ATPQJI4aRrUDXAVUu8LqxQF3nRsw2XK9AFp4I3aFSrUAHGsuJgcetQIJsVP7hI61AWs41awSSrkCE9G6Esk+tQIVN6kxt8LBAwC+p9IGarkAYBNrN+iquQLipEQwz/K5AEKm531pHr0DFx6Z2TSmuQFcOd8o57rBATfRbMyyGrkCIt+MALZmtQFSxqjbFArFA4/oTMDZpr0AV68hsyGCtQKNmmVqMXLFAhB/mfmEKrkCAl1Dgl2+sQICXUOCXb6xAgJdQ4JdvrEA=",
          "dtype": "f8"
         },
         "yaxis": "y5"
        },
        {
         "mode": "markers",
         "name": "light_sleep_s",
         "type": "scatter",
         "x": {
          "bdata": "AAAAAACkoUAAAAAAgIXBQAAAAAAABKhAAAAAAACNsEAAAAAAAF6uQAAAAAAAR8hAAAAAAABJsEAAAAAAgBfEQAAAAACAM8lAAAAAAADzzEAAAAAAAHHOQAAAAACAdMhAAAAAAICBzUAAAAAAgCDGQAAAAACA88NAAAAAAADopkAAAAAAADioQAAAAAAAyJVAAAAAAABWpEAAAAAAAEC6QAAAAACAHcFAAAAAAACKskAAAAAAgJ3AQAAAAAAA4qRAAAAAAABoxkAAAAAAABvDQAAAAAAAybVAAAAAAABKr0AAAAAAADCxQAAAAAAAwqRAAAAAAAB0okAAAAAAAHSiQAAAAAAArrxAAAAAAABoqkAAAAAAgDvQQAAAAAAAn79AAAAAAAA/xEAAAAAAADCcQAAAAAAAibBAAAAAAABQpkAAAAAAgNfQQAAAAAAAQLxAAAAAAACgoUAAAAAAAFaqQAAAAAAASJxAAAAAAAC3tEAAAAAAAGihQAAAAAAAI8pAAAAAAAAItUAAAAAAAOCwQAAAAAAArLhAAAAAAAB5u0AAAAAAANCwQAAAAAAADspAAAAAAABGtEAAAAAAAOKmQAAAAAAA0spAAAAAAAC8vEAAAAAAAK6iQAAAAACAKs5AAAAAAABSr0AAAAAAAIBWQAAAAAAAgFZAAAAAAACAVkA=",
          "dtype": "f8"
         },
         "xaxis": "x6",
         "y": {
          "bdata": "AAAAAABl00AAAAAAAGXTQAAAAAAAgtRAAAAAAACB1UAAAAAAAK7VQAAAAAAAKNRAAAAAAADr1EAAAAAAACXXQAAAAAAAoNRAAAAAAAC0zkAAAAAAAHjOQAAAAAAAlNFAAAAAAABx1kAAAAAAAI7XQAAAAAAAVtNAAAAAAADg0EAAAAAAAEnRQAAAAAAAf9dAAAAAAACi0kAAAAAAAKLSQAAAAAAAYNhAAAAAAAAOz0AAAAAAAFXUQAAAAAAAZtJAAAAAAACE0kAAAAAAAAjWQAAAAAAAg9NAAAAAAACB1UAAAAAAADjTQAAAAAAA0dBAAAAAAABAqkAAAAAAAF7aQAAAAAAAXtpAAAAAAABy1UAAAAAAAP7QQAAAAAAAsNNAAAAAAAA8zkAAAAAAAIDGQAAAAAAAgMZAAAAAAAD22EAAAAAAAO/QQAAAAAAAtsxAAAAAAAAEykAAAAAAAKvYQAAAAAAAXtpAAAAAAACaykAAAAAAANjYQAAAAAAAwdFAAAAAAACQtUAAAAAAAOnWQAAAAAAAKsJAAAAAAACw00AAAAAAAD7MQAAAAAAAZMRAAAAAAABoz0AAAAAAAJLTQAAAAAAAHdBAAAAAAAAezkAAAAAAAEbUQAAAAAAAkdRAAAAAAAAZ1EAAAAAAAO3SQAAAAAAAJddAAAAAAAAl10A=",
          "dtype": "f8"
         },
         "yaxis": "y6"
        },
        {
         "line": {
          "dash": "dash"
         },
         "mode": "lines",
         "name": "light_sleep_s Fit",
         "type": "scatter",
         "x": {
          "bdata": "AAAAAACkoUAAAAAAgIXBQAAAAAAABKhAAAAAAACNsEAAAAAAAF6uQAAAAAAAR8hAAAAAAABJsEAAAAAAgBfEQAAAAACAM8lAAAAAAADzzEAAAAAAAHHOQAAAAACAdMhAAAAAAICBzUAAAAAAgCDGQAAAAACA88NAAAAAAADopkAAAAAAADioQAAAAAAAyJVAAAAAAABWpEAAAAAAAEC6QAAAAACAHcFAAAAAAACKskAAAAAAgJ3AQAAAAAAA4qRAAAAAAABoxkAAAAAAABvDQAAAAAAAybVAAAAAAABKr0AAAAAAADCxQAAAAAAAwqRAAAAAAAB0okAAAAAAAHSiQAAAAAAArrxAAAAAAABoqkAAAAAAgDvQQAAAAAAAn79AAAAAAAA/xEAAAAAAADCcQAAAAAAAibBAAAAAAABQpkAAAAAAgNfQQAAAAAAAQLxAAAAAAACgoUAAAAAAAFaqQAAAAAAASJxAAAAAAAC3tEAAAAAAAGihQAAAAAAAI8pAAAAAAAAItUAAAAAAAOCwQAAAAAAArLhAAAAAAAB5u0AAAAAAANCwQAAAAAAADspAAAAAAABGtEAAAAAAAOKmQAAAAAAA0spAAAAAAAC8vEAAAAAAAK6iQAAAAACAKs5AAAAAAABSr0AAAAAAAIBWQAAAAAAAgFZAAAAAAACAVkA=",
          "dtype": "f8"
         },
         "xaxis": "x6",
         "y": {
          "bdata": "wxMk2JsZ00Dxu+wzQ2vSQPON2INqBNNAqg1QFzbm0kApQL4hTe/SQE1rP2RtEdJAJq6rM/rn0kCREpaHFUnSQO8/748kBdJAQ5rzuk3T0UDSNP0hdr/RQKhyalwQD9JAPNCv2ubL0UAlu86YBS7SQBVTMzz0StJA9j7yoBoI00DE/S2mvQPTQOsZg08MMNNATukHDKYQ00D6Qy9muaXSQG09QSGqcNJACkKx6P3Y0kBAP6kxUHfSQM54i6PUDtNAIKKk1U4q0kAqPvMdM1bSQB+kb9low9JAUU8uljzs0kCB1N1a+uHSQOz4kQQ/D9NABtN5YegW00AG03lh6BbTQIyPUuqRldJAxTs8BHj80kBxTZgXjqTRQC+iEHQDgtJAAfqFSAhH0kD/hjxZZiXTQLKtka9Q5tJAgR/R7RMK00D/yJpPWZTRQFVAX0VtmNJAx+NEJKkZ00DW48/as/zSQPQW2nQ+JdNAEvb+lobK0kD6QxBOYxrTQIWkPNez+NFAfw3OC2zI0kATVf4/DuTSQNtmE3g3sNJAwBkgXJid0kAw1QSheOTSQNK07RXL+dFA4N485HXN0kD8diOTLgjTQAdyzsyc79FAct9s1TSV0kDRCp6RJxbTQNN9Bpkfw9FASq/s/SHs0kA14xQz6lHTQDXjFDPqUdNANeMUM+pR00A=",
          "dtype": "f8"
         },
         "yaxis": "y6"
        },
        {
         "mode": "markers",
         "name": "rem_sleep_s",
         "type": "scatter",
         "x": {
          "bdata": "AAAAAACkoUAAAAAAgIXBQAAAAAAABKhAAAAAAACNsEAAAAAAAF6uQAAAAAAAR8hAAAAAAABJsEAAAAAAgBfEQAAAAACAM8lAAAAAAADzzEAAAAAAAHHOQAAAAACAdMhAAAAAAICBzUAAAAAAgCDGQAAAAACA88NAAAAAAADopkAAAAAAADioQAAAAAAAyJVAAAAAAABWpEAAAAAAAEC6QAAAAACAHcFAAAAAAACKskAAAAAAgJ3AQAAAAAAA4qRAAAAAAABoxkAAAAAAABvDQAAAAAAAybVAAAAAAABKr0AAAAAAADCxQAAAAAAAwqRAAAAAAAB0okAAAAAAAHSiQAAAAAAArrxAAAAAAABoqkAAAAAAgDvQQAAAAAAAn79AAAAAAAA/xEAAAAAAADCcQAAAAAAAibBAAAAAAABQpkAAAAAAgNfQQAAAAAAAQLxAAAAAAACgoUAAAAAAAFaqQAAAAAAASJxAAAAAAAC3tEAAAAAAAGihQAAAAAAAI8pAAAAAAAAItUAAAAAAAOCwQAAAAAAArLhAAAAAAAB5u0AAAAAAANCwQAAAAAAADspAAAAAAABGtEAAAAAAAOKmQAAAAAAA0spAAAAAAAC8vEAAAAAAAK6iQAAAAACAKs5AAAAAAABSr0AAAAAAAIBWQAAAAAAAgFZAAAAAAACAVkA=",
          "dtype": "f8"
         },
         "xaxis": "x7",
         "y": {
          "bdata": "AAAAAADctEAAAAAAANy0QAAAAAAA6KdAAAAAAACAhkAAAAAAALS+QAAAAAAA7LNAAAAAAAAItkAAAAAAAGy7QAAAAAAA3LRAAAAAAAC8tkAAAAAAAFS1QAAAAAAAPL5AAAAAAAAotEAAAAAAANy0QAAAAAAA+LZAAAAAAAAgvEAAAAAAAICmQAAAAAAAwsBAAAAAAADwvkAAAAAAAPC+QAAAAAAAUKlAAAAAAABKwEAAAAAAAIy5QAAAAAAACKZAAAAAAAAArkAAAAAAAEy9QAAAAAAAWLFAAAAAAADEvUAAAAAAAOS7QAAAAAAAAL5AAAAAAAAAAAAAAAAAAAAAAAAAAAAAAAAAAAAAAADewkAAAAAAABCtQAAAAAAA9LpAAAAAAADgr0AAAAAAAKCUQAAAAAAAoJRAAAAAAACiwkAAAAAAAFy8QAAAAAAA4LBAAAAAAADgkEAAAAAAABS5QAAAAAAAYKhAAAAAAAC8tkAAAAAAADS3QAAAAAAAGLVAAAAAAACAlkAAAAAAABilQAAAAAAA6KdAAAAAAAB0s0AAAAAAADizQAAAAAAAqLtAAAAAAABguEAAAAAAAPCuQAAAAAAArLdAAAAAAAAAvkAAAAAAAGivQAAAAAAA4KBAAAAAAADctEAAAAAAAAi2QAAAAAAAQLpAAAAAAABAukA=",
          "dtype": "f8"
         },
         "yaxis": "y7"
        },
        {
         "line": {
          "dash": "dash"
         },
         "mode": "lines",
         "name": "rem_sleep_s Fit",
         "type": "scatter",
         "x": {
          "bdata": "AAAAAACkoUAAAAAAgIXBQAAAAAAABKhAAAAAAACNsEAAAAAAAF6uQAAAAAAAR8hAAAAAAABJsEAAAAAAgBfEQAAAAACAM8lAAAAAAADzzEAAAAAAAHHOQAAAAACAdMhAAAAAAICBzUAAAAAAgCDGQAAAAACA88NAAAAAAADopkAAAAAAADioQAAAAAAAyJVAAAAAAABWpEAAAAAAAEC6QAAAAACAHcFAAAAAAACKskAAAAAAgJ3AQAAAAAAA4qRAAAAAAABoxkAAAAAAABvDQAAAAAAAybVAAAAAAABKr0AAAAAAADCxQAAAAAAAwqRAAAAAAAB0okAAAAAAAHSiQAAAAAAArrxAAAAAAABoqkAAAAAAgDvQQAAAAAAAn79AAAAAAAA/xEAAAAAAADCcQAAAAAAAibBAAAAAAABQpkAAAAAAgNfQQAAAAAAAQLxAAAAAAACgoUAAAAAAAFaqQAAAAAAASJxAAAAAAAC3tEAAAAAAAGihQAAAAAAAI8pAAAAAAAAItUAAAAAAAOCwQAAAAAAArLhAAAAAAAB5u0AAAAAAANCwQAAAAAAADspAAAAAAABGtEAAAAAAAOKmQAAAAAAA0spAAAAAAAC8vEAAAAAAAK6iQAAAAACAKs5AAAAAAABSr0AAAAAAAIBWQAAAAAAAgFZAAAAAAACAVkA=",
          "dtype": "f8"
         },
         "xaxis": "x7",
         "y": {
          "bdata": "39GKUGpzs0D14MoNY2y0QPvknditkbNAoBk++s+8s0DYmuXk1K+zQG3auZys7LRACdiRWUq6s0Avqe7YMZ20QFRIpIU3/rRAJkd0g2NFtUD7CW1UuWG1QOnmJ50M8LRAluHrc/VPtUDhLC8k18O0QEPr3T2GmrRATaeun2mMs0AeDSu0pJKzQNHqwQtfU7NAP7Xl7DWAs0DVkmbh5hi0QNmfYTGsZLRAfeawsLDPs0DMikKYLVu0QAE1xIrOgrNApIm32yTJtECnWOAcd4q0QNTLvKOC7rNAjO55PzW0s0AI5LyV28KzQLBDMqE2grNAbXK/vkV3s0Btcr++RXezQPwXcHn4L7RAJQylKweds0Au0xaoJYi1QOqE1NnlS7RArkAv6h+gtECJsv3Mk2KzQEyd2f+pvLNADW05CpiJs0CAllI9Sp+1QPC8pBPkK7RAtZNYU1dzs0Bo9EK4sZyzQAdtlMTMYrNATIfZI1nks0BoLZl6TXKzQLhwJWb7D7VA9VxMMlrns0B0LeMF5L+zQJuFwRfrCbRAk5OdqoIktEAjPFEcTL+zQERXBqFsDrVAAc9CQijgs0AOSuMjTYyzQIHvfXv2HLVAI8vPZX0wtEDP9xcWWXizQGLrFpp+XLVA4GreOVu0s0CTl8svAiOzQJOXyy8CI7NAk5fLLwIjs0A=",
          "dtype": "f8"
         },
         "yaxis": "y7"
        },
        {
         "mode": "markers",
         "name": "awake_s",
         "type": "scatter",
         "x": {
          "bdata": "AAAAAACkoUAAAAAAgIXBQAAAAAAABKhAAAAAAACNsEAAAAAAAF6uQAAAAAAAR8hAAAAAAABJsEAAAAAAgBfEQAAAAACAM8lAAAAAAADzzEAAAAAAAHHOQAAAAACAdMhAAAAAAICBzUAAAAAAgCDGQAAAAACA88NAAAAAAADopkAAAAAAADioQAAAAAAAyJVAAAAAAABWpEAAAAAAAEC6QAAAAACAHcFAAAAAAACKskAAAAAAgJ3AQAAAAAAA4qRAAAAAAABoxkAAAAAAABvDQAAAAAAAybVAAAAAAABKr0AAAAAAADCxQAAAAAAAwqRAAAAAAAB0okAAAAAAAHSiQAAAAAAArrxAAAAAAABoqkAAAAAAgDvQQAAAAAAAn79AAAAAAAA/xEAAAAAAADCcQAAAAAAAibBAAAAAAABQpkAAAAAAgNfQQAAAAAAAQLxAAAAAAACgoUAAAAAAAFaqQAAAAAAASJxAAAAAAAC3tEAAAAAAAGihQAAAAAAAI8pAAAAAAAAItUAAAAAAAOCwQAAAAAAArLhAAAAAAAB5u0AAAAAAANCwQAAAAAAADspAAAAAAABGtEAAAAAAAOKmQAAAAAAA0spAAAAAAAC8vEAAAAAAAK6iQAAAAACAKs5AAAAAAABSr0AAAAAAAIBWQAAAAAAAgFZAAAAAAACAVkA=",
          "dtype": "f8"
         },
         "xaxis": "x8",
         "y": {
          "bdata": "AAAAAACAZkAAAAAAAIBmQAAAAAAALMBAAAAAAAA4o0AAAAAAAABOQAAAAAAAAE5AAAAAAABAekAAAAAAAABOQAAAAAAAAE5AAAAAAAAAAAAAAAAAAIB2QAAAAAAAAH5AAAAAAAAAnkAAAAAAAKCkQAAAAAAAAE5AAAAAAAAAAAAAAAAAAIBmQAAAAAAAAAAAAAAAAAAATkAAAAAAAABOQAAAAAAA0JFAAAAAAAAAAAAAAAAAAAAAAAAAAAAAgGZAAAAAAAAAfkAAAAAAAAAAAAAAAAAAAAAAAAAAAAAAAAAAAAAAAAAAAAAAAAAAgGZAAAAAAACIrUAAAAAAAOCgQAAAAAAA4KBAAAAAAAAAXkAAAAAAAOCPQAAAAAAAAAAAAAAAAABAekAAAAAAALCTQAAAAAAAsJNAAAAAAAAAAAAAAAAAAAAAAAAAAAAAAAAAAAAAAAAAAAAAAAAAAOCgQAAAAAAAUJlAAAAAAABgiEAAAAAAACCsQAAAAAAAAF5AAAAAAADAckAAAAAAAGjAQAAAAAAAAF5AAAAAAAAItkAAAAAAAABeQAAAAAAAwHJAAAAAAACAhkAAAAAAACCMQAAAAAAAQHpAAAAAAAAAXkAAAAAAAFCZQAAAAAAA4I9AAAAAAACAZkAAAAAAAABOQAAAAAAAcJdAAAAAAABwl0A=",
          "dtype": "f8"
         },
         "yaxis": "y8"
        },
        {
         "line": {
          "dash": "dash"
         },
         "mode": "lines",
         "name": "awake_s Fit",
         "type": "scatter",
         "x": {
          "bdata": "AAAAAACkoUAAAAAAgIXBQAAAAAAABKhAAAAAAACNsEAAAAAAAF6uQAAAAAAAR8hAAAAAAABJsEAAAAAAgBfEQAAAAACAM8lAAAAAAADzzEAAAAAAAHHOQAAAAACAdMhAAAAAAICBzUAAAAAAgCDGQAAAAACA88NAAAAAAADopkAAAAAAADioQAAAAAAAyJVAAAAAAABWpEAAAAAAAEC6QAAAAACAHcFAAAAAAACKskAAAAAAgJ3AQAAAAAAA4qRAAAAAAABoxkAAAAAAABvDQAAAAAAAybVAAAAAAABKr0AAAAAAADCxQAAAAAAAwqRAAAAAAAB0okAAAAAAAHSiQAAAAAAArrxAAAAAAABoqkAAAAAAgDvQQAAAAAAAn79AAAAAAAA/xEAAAAAAADCcQAAAAAAAibBAAAAAAABQpkAAAAAAgNfQQAAAAAAAQLxAAAAAAACgoUAAAAAAAFaqQAAAAAAASJxAAAAAAAC3tEAAAAAAAGihQAAAAAAAI8pAAAAAAAAItUAAAAAAAOCwQAAAAAAArLhAAAAAAAB5u0AAAAAAANCwQAAAAAAADspAAAAAAABGtEAAAAAAAOKmQAAAAAAA0spAAAAAAAC8vEAAAAAAAK6iQAAAAACAKs5AAAAAAABSr0AAAAAAAIBWQAAAAAAAgFZAAAAAAACAVkA=",
          "dtype": "f8"
         },
         "xaxis": "x8",
         "y": {
          "bdata": "iFt+mgqvk0AvrjcpXh2KQDT2sCHX4JJAqvfKC/S6kUACJTe7ZROSQLNJWxQ1SYNAHMCGACPMkUAbqx6wRISHQMF7vdYnWoJAArPLLJsgfUDgkePqXBx6QAqEN2c3G4NA3M67+IcAfEBvBv6fpXWFQLJxyh+oqIdAXa/PL7kEk0CuR4ctRdqSQA8DhThfiZRAwM/yXtxXk0B6uXzsAo+OQIyW0mt9hopACx8RkVQ6kUBOA+D43geLQOH5qQgsRpNAr4YzImAthUClJl4ffoOIQAfVobxWaJBA8Qy1P5T1kUCKMWN9w5GRQEdlEhU3SpNAcaHXycKUk0BxodfJwpSTQDsbxuenVI1ANPBj1IOTkkCg6T5dLwV2QFae4fcX2ItAjIaXlVdch0D4QpEaxCGUQIMS5c72u5FAgq2/qu0Xk0Bwd53Nc45zQPbfYdI/jI1A9WgL/Iuvk0CdrF4LypWSQLIa6vU/IJRAOgQe8ZOtkEDnJMJRn7aTQENd0U8SaIFAhmRNAhyZkECISm27+qWRQBvpFd8wW49AgE8Hp9LwjUDutdXHBaqRQBqR9VBMfYFAu3q/+CHKkECAQyNCewWTQJIC+fAut4BASF8PkpRNjUDIXlrDbo2TQKxbRGDiqnpAGPKafJH0kUAMNMOr49KVQAw0w6vj0pVADDTDq+PSlUA=",
          "dtype": "f8"
         },
         "yaxis": "y8"
        },
        {
         "mode": "markers",
         "name": "avg_stress",
         "type": "scatter",
         "x": {
          "bdata": "AAAAAACkoUAAAAAAgIXBQAAAAAAABKhAAAAAAACNsEAAAAAAAF6uQAAAAAAAR8hAAAAAAABJsEAAAAAAgBfEQAAAAACAM8lAAAAAAADzzEAAAAAAAHHOQAAAAACAdMhAAAAAAICBzUAAAAAAgCDGQAAAAACA88NAAAAAAADopkAAAAAAADioQAAAAAAAyJVAAAAAAABWpEAAAAAAAEC6QAAAAACAHcFAAAAAAACKskAAAAAAgJ3AQAAAAAAA4qRAAAAAAABoxkAAAAAAABvDQAAAAAAAybVAAAAAAABKr0AAAAAAADCxQAAAAAAAwqRAAAAAAAB0okAAAAAAAHSiQAAAAAAArrxAAAAAAABoqkAAAAAAgDvQQAAAAAAAn79AAAAAAAA/xEAAAAAAADCcQAAAAAAAibBAAAAAAABQpkAAAAAAgNfQQAAAAAAAQLxAAAAAAACgoUAAAAAAAFaqQAAAAAAASJxAAAAAAAC3tEAAAAAAAGihQAAAAAAAI8pAAAAAAAAItUAAAAAAAOCwQAAAAAAArLhAAAAAAAB5u0AAAAAAANCwQAAAAAAADspAAAAAAABGtEAAAAAAAOKmQAAAAAAA0spAAAAAAAC8vEAAAAAAAK6iQAAAAACAKs5AAAAAAABSr0AAAAAAAIBWQAAAAAAAgFZAAAAAAACAVkA=",
          "dtype": "f8"
         },
         "xaxis": "x9",
         "y": {
          "bdata": "AAAAAAAAPkAAAAAAAAA+QAAAAAAAAEtAAAAAAACASUAAAAAAAIBKQAAAAAAAAEVAAAAAAAAAP0AAAAAAAAA4QAAAAAAAgEFAAAAAAACARkAAAAAAAIBBQAAAAAAAgEJAAAAAAAAAREAAAAAAAIBIQAAAAAAAADxAAAAAAACAR0AAAAAAAIBDQAAAAAAAAENAAAAAAACAQEAAAAAAAABJQAAAAAAAAEZAAAAAAAAAP0AAAAAAAAA/QAAAAAAAAEZAAAAAAAAAR0AAAAAAAABFQAAAAAAAgERAAAAAAAAAPkAAAAAAAABEQAAAAAAAgEtAAAAAAACAU0AAAAAAAABNQAAAAAAAAE1AAAAAAACAQkAAAAAAAABEQAAAAAAAgEVAAAAAAAAARkAAAAAAAABPQAAAAAAAgElAAAAAAAAAQ0AAAAAAAABIQAAAAAAAAEVAAAAAAAAAQkAAAAAAAABFQAAAAAAAAEZAAAAAAAAAREAAAAAAAABGQAAAAAAAgEVAAAAAAAAARkAAAAAAAABDQAAAAAAAgEdAAAAAAAAARUAAAAAAAABEQAAAAAAAAEpAAAAAAAAARUAAAAAAAABCQAAAAAAAAEdAAAAAAAAARkAAAAAAAABEQAAAAAAAgENAAAAAAAAARUAAAAAAAIBCQAAAAAAAADlAAAAAAAAAOUA=",
          "dtype": "f8"
         },
         "yaxis": "y9"
        },
        {
         "line": {
          "dash": "dash"
         },
         "mode": "lines",
         "name": "avg_stress Fit",
         "type": "scatter",
         "x": {
          "bdata": "AAAAAACkoUAAAAAAgIXBQAAAAAAABKhAAAAAAACNsEAAAAAAAF6uQAAAAAAAR8hAAAAAAABJsEAAAAAAgBfEQAAAAACAM8lAAAAAAADzzEAAAAAAAHHOQAAAAACAdMhAAAAAAICBzUAAAAAAgCDGQAAAAACA88NAAAAAAADopkAAAAAAADioQAAAAAAAyJVAAAAAAABWpEAAAAAAAEC6QAAAAACAHcFAAAAAAACKskAAAAAAgJ3AQAAAAAAA4qRAAAAAAABoxkAAAAAAABvDQAAAAAAAybVAAAAAAABKr0AAAAAAADCxQAAAAAAAwqRAAAAAAAB0okAAAAAAAHSiQAAAAAAArrxAAAAAAABoqkAAAAAAgDvQQAAAAAAAn79AAAAAAAA/xEAAAAAAADCcQAAAAAAAibBAAAAAAABQpkAAAAAAgNfQQAAAAAAAQLxAAAAAAACgoUAAAAAAAFaqQAAAAAAASJxAAAAAAAC3tEAAAAAAAGihQAAAAAAAI8pAAAAAAAAItUAAAAAAAOCwQAAAAAAArLhAAAAAAAB5u0AAAAAAANCwQAAAAAAADspAAAAAAABGtEAAAAAAAOKmQAAAAAAA0spAAAAAAAC8vEAAAAAAAK6iQAAAAACAKs5AAAAAAABSr0AAAAAAAIBWQAAAAAAAgFZAAAAAAACAVkA=",
          "dtype": "f8"
         },
         "xaxis": "x9",
         "y": {
          "bdata": "WK/Lgi4ORUB3rYqLIuZEQO3bzFRQCUVAqN1DOGACRUBmB667dgRFQJ6nrwaA0URAR29uEcgCRUCP52HGSN5EQC+rZautzkRAZcNdAjvDREAnMjQ+rL5EQM5zeg310ERAYSw+w4fBREAOEs5zEdhEQAnNYbu23kRA8/zhMCkKRUDWOuKfKAlFQBVxyv5VE0VAbS4soh8MRUCgxbw6kPNEQC623zJg50RAfO554lb/REA3rTQo5+hEQOHyFru0C0VAEJzDEDfXREDfglYATOFEQJcgG8xh+kRAiN2YhsIDRUBexA5KZwFFQFJCbCrNC0VA/Sohr48NRUD9KiGvjw1FQGlVqFLa70RApEyNA30HRUBxWmAVfrhEQMlqCVtc60RAU6+sINDdREBxXeDZ4xBFQIUxGVRmAkVASja3QZ0KRUBMQGEfxbREQI/XElCC8ERARlm2kDEORUBUSS3CigdFQKdfILDaEEVA/xCwPgT8REBLpItTXA5FQPawWybSy0RA1S4Qi4j7RECRUbl24QFFQHnb5jX59URAluPHOLLxREABoQ7m+QFFQH2hm0oSzERACZL60LD8REDY+8HFLQpFQDiH8aK7yURA5q898cTvREABi1ZlYw1FQDf+U5ODv0RArInDarwDRUBpO3NwHRtFQGk7c3AdG0VAaTtzcB0bRUA=",
          "dtype": "f8"
         },
         "yaxis": "y9"
        },
        {
         "mode": "markers",
         "name": "max_stress",
         "type": "scatter",
         "x": {
          "bdata": "AAAAAACkoUAAAAAAgIXBQAAAAAAABKhAAAAAAACNsEAAAAAAAF6uQAAAAAAAR8hAAAAAAABJsEAAAAAAgBfEQAAAAACAM8lAAAAAAADzzEAAAAAAAHHOQAAAAACAdMhAAAAAAICBzUAAAAAAgCDGQAAAAACA88NAAAAAAADopkAAAAAAADioQAAAAAAAyJVAAAAAAABWpEAAAAAAAEC6QAAAAACAHcFAAAAAAACKskAAAAAAgJ3AQAAAAAAA4qRAAAAAAABoxkAAAAAAABvDQAAAAAAAybVAAAAAAABKr0AAAAAAADCxQAAAAAAAwqRAAAAAAAB0okAAAAAAAHSiQAAAAAAArrxAAAAAAABoqkAAAAAAgDvQQAAAAAAAn79AAAAAAAA/xEAAAAAAADCcQAAAAAAAibBAAAAAAABQpkAAAAAAgNfQQAAAAAAAQLxAAAAAAACgoUAAAAAAAFaqQAAAAAAASJxAAAAAAAC3tEAAAAAAAGihQAAAAAAAI8pAAAAAAAAItUAAAAAAAOCwQAAAAAAArLhAAAAAAAB5u0AAAAAAANCwQAAAAAAADspAAAAAAABGtEAAAAAAAOKmQAAAAAAA0spAAAAAAAC8vEAAAAAAAK6iQAAAAACAKs5AAAAAAABSr0AAAAAAAIBWQAAAAAAAgFZAAAAAAACAVkA=",
          "dtype": "f8"
         },
         "xaxis": "x10",
         "y": {
          "bdata": "AAAAAACAV0AAAAAAAIBXQAAAAAAAwFhAAAAAAADAWEAAAAAAAMBYQAAAAAAAwFhAAAAAAACAWEAAAAAAAABXQAAAAAAAAFlAAAAAAACAWEAAAAAAAEBYQAAAAAAAwFhAAAAAAAAAWEAAAAAAAMBYQAAAAAAAwFhAAAAAAACAWEAAAAAAAIBWQAAAAAAAgFhAAAAAAAAAVUAAAAAAAABYQAAAAAAAwFhAAAAAAADAWEAAAAAAAIBYQAAAAAAAAFhAAAAAAAAAWEAAAAAAAEBYQAAAAAAAgFhAAAAAAAAAWEAAAAAAAMBYQAAAAAAAwFhAAAAAAADAWEAAAAAAAEBYQAAAAAAAQFhAAAAAAABAWEAAAAAAAMBYQAAAAAAAwFhAAAAAAADAWEAAAAAAAMBYQAAAAAAAQFdAAAAAAAAAWEAAAAAAAMBYQAAAAAAAwFhAAAAAAACAWEAAAAAAAEBXQAAAAAAAQFhAAAAAAACAWEAAAAAAAIBXQAAAAAAAwFhAAAAAAADAWEAAAAAAAMBYQAAAAAAAQFhAAAAAAADAV0AAAAAAAIBXQAAAAAAAwFdAAAAAAADAV0AAAAAAAEBXQAAAAAAAgFhAAAAAAADAWEAAAAAAAABYQAAAAAAAgFdAAAAAAABAWEAAAAAAAABYQAAAAAAAQFFAAAAAAABAUUA=",
          "dtype": "f8"
         },
         "yaxis": "y10"
        },
        {
         "line": {
          "dash": "dash"
         },
         "mode": "lines",
         "name": "max_stress Fit",
         "type": "scatter",
         "x": {
          "bdata": "AAAAAACkoUAAAAAAgIXBQAAAAAAABKhAAAAAAACNsEAAAAAAAF6uQAAAAAAAR8hAAAAAAABJsEAAAAAAgBfEQAAAAACAM8lAAAAAAADzzEAAAAAAAHHOQAAAAACAdMhAAAAAAICBzUAAAAAAgCDGQAAAAACA88NAAAAAAADopkAAAAAAADioQAAAAAAAyJVAAAAAAABWpEAAAAAAAEC6QAAAAACAHcFAAAAAAACKskAAAAAAgJ3AQAAAAAAA4qRAAAAAAABoxkAAAAAAABvDQAAAAAAAybVAAAAAAABKr0AAAAAAADCxQAAAAAAAwqRAAAAAAAB0okAAAAAAAHSiQAAAAAAArrxAAAAAAABoqkAAAAAAgDvQQAAAAAAAn79AAAAAAAA/xEAAAAAAADCcQAAAAAAAibBAAAAAAABQpkAAAAAAgNfQQAAAAAAAQLxAAAAAAACgoUAAAAAAAFaqQAAAAAAASJxAAAAAAAC3tEAAAAAAAGihQAAAAAAAI8pAAAAAAAAItUAAAAAAAOCwQAAAAAAArLhAAAAAAAB5u0AAAAAAANCwQAAAAAAADspAAAAAAABGtEAAAAAAAOKmQAAAAAAA0spAAAAAAAC8vEAAAAAAAK6iQAAAAACAKs5AAAAAAABSr0AAAAAAAIBWQAAAAAAAgFZAAAAAAACAVkA=",
          "dtype": "f8"
         },
         "xaxis": "x10",
         "y": {
          "bdata": "m9OSeWiSV0AdUQZA+jZYQEFkWpFppldAD8hcYezCV0Cqz0fVV7pXQCcIiGnGi1hAAXxhn0HBV0AKIH5EPVdYQEv3jONel1hA/wJMPmrGWEAxDvn9JNlYQLJxtoMBjlhAk9Q/3GbNWEDtpcyzyHBYQFaiCmh5VVhAq4GvZe6iV0D7pme9DKdXQCfvKCQ6fVdA8I2RpN2aV0BxLE9Qy/9XQE07nN/gMVhADXabyWbPV0Cv0Y9BmitYQNHyyPOUnFdA7JQVJkp0WECzo7f220pYQOPApQTG41dAWIghYjy9V0BOr/5X68ZXQDcs6IkwnFdAg97HKfWUV0CD3scp9ZRXQA5VUeQKD1hAfzpF+umtV0CaSZPFivJYQLbXM5uAIVhAovRDDy1ZWEBO0Eg9R4dXQGmW5EbTwldAUdLDbhGhV0AKi9Hm1gFZQKz/Z4xYDFhAyLpW7FuSV0DIyrZ+sa1XQMca/eRsh1dA2Xd8bw7dV0A6Xw0zrJFXQOkwRgUdo1hARGV+xwrfV0BNzppG9cRXQMWV497j9VdAk1mMp3cHWECzB7rckMRXQJUnWG8VolhAOv24Q0naV0BvXNWR26JXQE4pW5Gxq1hA1AL2wGIPWEB6Rq8pq5VXQAU47Biw1VhA/7mZfFW9V0AttRlvQl1XQC21GW9CXVdALbUZb0JdV0A=",
          "dtype": "f8"
         },
         "yaxis": "y10"
        },
        {
         "mode": "markers",
         "name": "total_hleep_h",
         "type": "scatter",
         "x": {
          "bdata": "AAAAAACkoUAAAAAAgIXBQAAAAAAABKhAAAAAAACNsEAAAAAAAF6uQAAAAAAAR8hAAAAAAABJsEAAAAAAgBfEQAAAAACAM8lAAAAAAADzzEAAAAAAAHHOQAAAAACAdMhAAAAAAICBzUAAAAAAgCDGQAAAAACA88NAAAAAAADopkAAAAAAADioQAAAAAAAyJVAAAAAAABWpEAAAAAAAEC6QAAAAACAHcFAAAAAAACKskAAAAAAgJ3AQAAAAAAA4qRAAAAAAABoxkAAAAAAABvDQAAAAAAAybVAAAAAAABKr0AAAAAAADCxQAAAAAAAwqRAAAAAAAB0okAAAAAAAHSiQAAAAAAArrxAAAAAAABoqkAAAAAAgDvQQAAAAAAAn79AAAAAAAA/xEAAAAAAADCcQAAAAAAAibBAAAAAAABQpkAAAAAAgNfQQAAAAAAAQLxAAAAAAACgoUAAAAAAAFaqQAAAAAAASJxAAAAAAAC3tEAAAAAAAGihQAAAAAAAI8pAAAAAAAAItUAAAAAAAOCwQAAAAAAArLhAAAAAAAB5u0AAAAAAANCwQAAAAAAADspAAAAAAABGtEAAAAAAAOKmQAAAAAAA0spAAAAAAAC8vEAAAAAAAK6iQAAAAACAKs5AAAAAAABSr0AAAAAAAIBWQAAAAAAAgFZAAAAAAACAVkA=",
          "dtype": "f8"
         },
         "xaxis": "x11",
         "y": {
          "bdata": "6ZM+6ZMeIEDpkz7pkx4gQGZmZmZmZiBAnTbQaQNdHkCJiIiIiAgjQBERERERkSBAAAAAAACAIUCTXyz5xfIjQM3MzMzMTCBAVVVVVVVVHUAAAAAAAAAdQJqZmZmZmSBAERERERGRIUAiIiIiIqIiQFVVVVVV1SBApU/6pE/6H0AAAAAAAAAbQLy7u7u7OyRAiYiIiIgIIUCJiIiIiAghQFVVVVVV1SBAtKKRgG9+IUC5/UGGys4gQN+8mnhW9BxAzczMzMzMHUAiIiIiIqIiQJqZmZmZGSBA7+7u7u7uIkCrqqqqqiogQNbEs6KRoCBA3t3d3d3d7T+8u7u7u7sfQLy7u7u7ux9Aq6qqqqqqJEBVVVVVVVUeQFVVVVVVVSJAREREREREHECamZmZmZkQQJqZmZmZmRBAq6qqqqoqJUBVVVVVVVUhQKuqqqqqqhdAIiIiIiIiFEDwzauJZ4UjQM3MzMzMzCFA3t3d3d3dHUBVVVVVVVUjQImIiIiIiB9Ad3d3d3d3C0B3d3d3d/cgQLy7u7u7uxJAiYiIiIiIH0DNzMzMzMwcQJqZmZmZmRdAREREREREHEDNzMzMzMweQBERERERERpAZmZmZmZmHkDNzMzMzMwfQHd3d3d3dx1AZmZmZmZmIUDv7u7u7m4gQBERERERkSJAERERERGRIkA=",
          "dtype": "f8"
         },
         "yaxis": "y11"
        },
        {
         "line": {
          "dash": "dash"
         },
         "mode": "lines",
         "name": "total_hleep_h Fit",
         "type": "scatter",
         "x": {
          "bdata": "AAAAAACkoUAAAAAAgIXBQAAAAAAABKhAAAAAAACNsEAAAAAAAF6uQAAAAAAAR8hAAAAAAABJsEAAAAAAgBfEQAAAAACAM8lAAAAAAADzzEAAAAAAAHHOQAAAAACAdMhAAAAAAICBzUAAAAAAgCDGQAAAAACA88NAAAAAAADopkAAAAAAADioQAAAAAAAyJVAAAAAAABWpEAAAAAAAEC6QAAAAACAHcFAAAAAAACKskAAAAAAgJ3AQAAAAAAA4qRAAAAAAABoxkAAAAAAABvDQAAAAAAAybVAAAAAAABKr0AAAAAAADCxQAAAAAAAwqRAAAAAAAB0okAAAAAAAHSiQAAAAAAArrxAAAAAAABoqkAAAAAAgDvQQAAAAAAAn79AAAAAAAA/xEAAAAAAADCcQAAAAAAAibBAAAAAAABQpkAAAAAAgNfQQAAAAAAAQLxAAAAAAACgoUAAAAAAAFaqQAAAAAAASJxAAAAAAAC3tEAAAAAAAGihQAAAAAAAI8pAAAAAAAAItUAAAAAAAOCwQAAAAAAArLhAAAAAAAB5u0AAAAAAANCwQAAAAAAADspAAAAAAABGtEAAAAAAAOKmQAAAAAAA0spAAAAAAAC8vEAAAAAAAK6iQAAAAACAKs5AAAAAAABSr0AAAAAAAIBWQAAAAAAAgFZAAAAAAACAVkA=",
          "dtype": "f8"
         },
         "xaxis": "x11",
         "y": {
          "bdata": "7htcotZtH0BT/9USx1IfQNpVoo2Mah9APuCpYdxlH0DpiXSRRWcfQOhjZITVRB9AwLAOjiJmH0CUtPoCeU0fQICqLmbtQh9AnflrEDE7H0CgeCylHDgfQP5qzpt3RB9AUCZ69Ao6H0BJ/Q+1RUkfQPAnGlDDTR9AJeuDFx9rH0BOM+W4cWofQECE1T9ScR9A1b16m3JsH0AKfRsF2lsfQLMTv7idUx9AKG3kHM9jH0BQymfnpVQfQOabuF4qbB9AR7//IrJIH0DQhAUngk8fQGHEbo11YB9AvcXyy8tmH0D4c/QrNGUfQE8no+E6bB9AvpFnT2ttH0C+kWdPa20fQFiRvSNYWR9AkqvcxVBpH0CdtVmI7zMfQDRQfxJPVh9AOaSUfCdNH0DJTxslq28fQBmDZILgZR9AWwFehW1rH0B+eJ6WazEfQNAPyqfJWR9AW225sthtH0D+mYAPWmkfQIFbA/Skbx9A1VdfT5BhH0BV4dOX9W0fQND84Bb/QB9ADfabuDxhH0AKLYm6hmUfQDm9ve56XR9AxDUPBJdaH0BzuHM9l2UfQMWqiG4qQR9AcND36wRiH0BJ5Q8wImsfQCVTFueVPx9AXFcwsUlZH0APdR5iTW0fQDRl3yauOB9A4iI4q8dmH0Bw5oDtk3YfQHDmgO2Tdh9AcOaA7ZN2H0A=",
          "dtype": "f8"
         },
         "yaxis": "y11"
        },
        {
         "mode": "markers",
         "name": "deep_hleep_h",
         "type": "scatter",
         "x": {
          "bdata": "AAAAAACkoUAAAAAAgIXBQAAAAAAABKhAAAAAAACNsEAAAAAAAF6uQAAAAAAAR8hAAAAAAABJsEAAAAAAgBfEQAAAAACAM8lAAAAAAADzzEAAAAAAAHHOQAAAAACAdMhAAAAAAICBzUAAAAAAgCDGQAAAAACA88NAAAAAAADopkAAAAAAADioQAAAAAAAyJVAAAAAAABWpEAAAAAAAEC6QAAAAACAHcFAAAAAAACKskAAAAAAgJ3AQAAAAAAA4qRAAAAAAABoxkAAAAAAABvDQAAAAAAAybVAAAAAAABKr0AAAAAAADCxQAAAAAAAwqRAAAAAAAB0okAAAAAAAHSiQAAAAAAArrxAAAAAAABoqkAAAAAAgDvQQAAAAAAAn79AAAAAAAA/xEAAAAAAADCcQAAAAAAAibBAAAAAAABQpkAAAAAAgNfQQAAAAAAAQLxAAAAAAACgoUAAAAAAAFaqQAAAAAAASJxAAAAAAAC3tEAAAAAAAGihQAAAAAAAI8pAAAAAAAAItUAAAAAAAOCwQAAAAAAArLhAAAAAAAB5u0AAAAAAANCwQAAAAAAADspAAAAAAABGtEAAAAAAAOKmQAAAAAAA0spAAAAAAAC8vEAAAAAAAK6iQAAAAACAKs5AAAAAAABSr0AAAAAAAIBWQAAAAAAAgFZAAAAAAACAVkA=",
          "dtype": "f8"
         },
         "xaxis": "x12",
         "y": {
          "bdata": "ERERERER8T8RERERERHxP0RERERERPg/iYiIiIiI9D+rqqqqqqryPyIiIiIiIvI/vLu7u7u78z8zMzMzMzP3P5qZmZmZmek/mpmZmZmZ9T9mZmZmZmb2P2ZmZmZmZvI/7+7u7u7u7j8iIiIiIiLyP4mIiIiIiPQ/MzMzMzMz8z+JiIiIiIjwP83MzMzMzPA/RERERERE8D9ERERERETwP6uqqqqqquI/IiIiIiIiAEAiIiIiIiLqP7y7u7u7u/M/3t3d3d3d8T/v7u7u7u7uP0RERERERPQ/vLu7u7u78z9ERERERETkP2ZmZmZmZvY/AAAAAAAAAAC8u7u7u7vbP7y7u7u7u9s/zczMzMzM+D93d3d3d3f7P2ZmZmZmZvo/IiIiIiIi+j+rqqqqqqriP6uqqqqqquI/q6qqqqqq6j9VVVVVVVX9P0REREREROQ/iYiIiIiI8D/v7u7u7u7uPxEREREREeE/iYiIiIiIAEBmZmZmZmbuP1VVVVVVVfU/AAAAAAAA+D93d3d3d3fzPwAAAAAAAPQ/zczMzMzM7D8RERERERH9P4mIiIiIiPA/vLu7u7u76z+JiIiIiIjwPwAAAAAAANA/7+7u7u7u8j8RERERERHxP1VVVVVVVe0/AAAAAAAA+D9ERERERET0P6uqqqqqquo/q6qqqqqq6j8=",
          "dtype": "f8"
         },
         "yaxis": "y12"
        },
        {
         "line": {
          "dash": "dash"
         },
         "mode": "lines",
         "name": "deep_hleep_h Fit",
         "type": "scatter",
         "x": {
          "bdata": "AAAAAACkoUAAAAAAgIXBQAAAAAAABKhAAAAAAACNsEAAAAAAAF6uQAAAAAAAR8hAAAAAAABJsEAAAAAAgBfEQAAAAACAM8lAAAAAAADzzEAAAAAAAHHOQAAAAACAdMhAAAAAAICBzUAAAAAAgCDGQAAAAACA88NAAAAAAADopkAAAAAAADioQAAAAAAAyJVAAAAAAABWpEAAAAAAAEC6QAAAAACAHcFAAAAAAACKskAAAAAAgJ3AQAAAAAAA4qRAAAAAAABoxkAAAAAAABvDQAAAAAAAybVAAAAAAABKr0AAAAAAADCxQAAAAAAAwqRAAAAAAAB0okAAAAAAAHSiQAAAAAAArrxAAAAAAABoqkAAAAAAgDvQQAAAAAAAn79AAAAAAAA/xEAAAAAAADCcQAAAAAAAibBAAAAAAABQpkAAAAAAgNfQQAAAAAAAQLxAAAAAAACgoUAAAAAAAFaqQAAAAAAASJxAAAAAAAC3tEAAAAAAAGihQAAAAAAAI8pAAAAAAAAItUAAAAAAAOCwQAAAAAAArLhAAAAAAAB5u0AAAAAAANCwQAAAAAAADspAAAAAAABGtEAAAAAAAOKmQAAAAAAA0spAAAAAAAC8vEAAAAAAAK6iQAAAAACAKs5AAAAAAABSr0AAAAAAAIBWQAAAAAAAgFZAAAAAAACAVkA=",
          "dtype": "f8"
         },
         "xaxis": "x12",
         "y": {
          "bdata": "4wjbF4+u8D8qXJkF3D7yP39uJLI33/A/gkFkaJEk8T/KUpGAsg/xPw7IuzEfDfM/YM6IW4Mg8T868sZYVY3yP61s379TKfM/AYsuI8Kb8z8oL9/vUMnzP5oah1mMEvM/54cCysCs8z+MZZ7wd8vyP6zSGjwKifI/mYW0AMDW8D85z/CYxODwPz6Oyb8Je/A/FSDpqyHD8D8BV6KBobjxP1dWNs90MvI/6fXdhOtC8T98OwvbMCPyP23prEBOx/A/jHkC5v7T8j8/6h1MOG/yPxfidRp5dPE/KzEd07sW8T+cs9usSS7xP783agFaxvA/zIsMs8K08D/MiwyzwrTwP0MS45y43fE/mfT/63bx8D/Yn/3vFwf0P0LcFX6fCvI/hD8gUQuS8j9Cl9aUfJPwPxeVk1hUJPE/oLk31DfS8D9QsSaTTSz0P7iM+Gkp1/E/rrLyj3Cu8D+ocGqI7fDwP+OZjyzYk/A/WL8fXyJk8T+++z0hxazwP+4TvOXjRfM/2GJh3/Zo8T83O45whCnxP59QTkSKoPE/2Aorl0vL8T+KiUsxkCjxP4YBrb9iQ/M/fbhYYGVd8T9JBNg0ktbwP6YCj83CWvM/u209VI7e8T/XbbVlfbbwP11xY4LowPM/l93t4vgW8T9w/Q2cRy3wP3D9DZxHLfA/cP0NnEct8D8=",
          "dtype": "f8"
         },
         "yaxis": "y12"
        },
        {
         "mode": "markers",
         "name": "light_hleep_h",
         "type": "scatter",
         "x": {
          "bdata": "AAAAAACkoUAAAAAAgIXBQAAAAAAABKhAAAAAAACNsEAAAAAAAF6uQAAAAAAAR8hAAAAAAABJsEAAAAAAgBfEQAAAAACAM8lAAAAAAADzzEAAAAAAAHHOQAAAAACAdMhAAAAAAICBzUAAAAAAgCDGQAAAAACA88NAAAAAAADopkAAAAAAADioQAAAAAAAyJVAAAAAAABWpEAAAAAAAEC6QAAAAACAHcFAAAAAAACKskAAAAAAgJ3AQAAAAAAA4qRAAAAAAABoxkAAAAAAABvDQAAAAAAAybVAAAAAAABKr0AAAAAAADCxQAAAAAAAwqRAAAAAAAB0okAAAAAAAHSiQAAAAAAArrxAAAAAAABoqkAAAAAAgDvQQAAAAAAAn79AAAAAAAA/xEAAAAAAADCcQAAAAAAAibBAAAAAAABQpkAAAAAAgNfQQAAAAAAAQLxAAAAAAACgoUAAAAAAAFaqQAAAAAAASJxAAAAAAAC3tEAAAAAAAGihQAAAAAAAI8pAAAAAAAAItUAAAAAAAOCwQAAAAAAArLhAAAAAAAB5u0AAAAAAANCwQAAAAAAADspAAAAAAABGtEAAAAAAAOKmQAAAAAAA0spAAAAAAAC8vEAAAAAAAK6iQAAAAACAKs5AAAAAAABSr0AAAAAAAIBWQAAAAAAAgFZAAAAAAACAVkA=",
          "dtype": "f8"
         },
         "xaxis": "x13",
         "y": {
          "bdata": "ERERERERFkAREREREREWQFVVVVVVVRdAd3d3d3d3GECrqqqqqqoYQO/u7u7u7hZAzczMzMzMF0BVVVVVVVUaQHd3d3d3dxdAd3d3d3d3EUBVVVVVVVURQAAAAAAAABRAiYiIiIiIGUDNzMzMzMwaQAAAAAAAABZAMzMzMzMzE0CrqqqqqqoTQLy7u7u7uxpAMzMzMzMzFUAzMzMzMzMVQLy7u7u7uxtAq6qqqqqqEUAiIiIiIiIXQO/u7u7u7hRAERERERERFUAREREREREZQDMzMzMzMxZAd3d3d3d3GEDe3d3d3d0VQCIiIiIiIhNA3t3d3d3d7T8AAAAAAAAeQAAAAAAAAB5AZmZmZmZmGEBVVVVVVVUTQGZmZmZmZhZAMzMzMzMzEUCamZmZmZkJQJqZmZmZmQlAZmZmZmZmHEBEREREREQTQFVVVVVVVRBAmpmZmZmZDUAREREREREcQAAAAAAAAB5AREREREREDkBEREREREQcQDMzMzMzMxRAiYiIiIiI+D8REREREREaQKuqqqqqqgRAZmZmZmZmFkAREREREREQQDMzMzMzMwdA3t3d3d3dEUBEREREREQWQFVVVVVVVRJAIiIiIiIiEUAREREREREXQGZmZmZmZhdA3t3d3d3dFkCJiIiIiIgVQFVVVVVVVRpAVVVVVVVVGkA=",
          "dtype": "f8"
         },
         "yaxis": "y13"
        },
        {
         "line": {
          "dash": "dash"
         },
         "mode": "lines",
         "name": "light_hleep_h Fit",
         "type": "scatter",
         "x": {
          "bdata": "AAAAAACkoUAAAAAAgIXBQAAAAAAABKhAAAAAAACNsEAAAAAAAF6uQAAAAAAAR8hAAAAAAABJsEAAAAAAgBfEQAAAAACAM8lAAAAAAADzzEAAAAAAAHHOQAAAAACAdMhAAAAAAICBzUAAAAAAgCDGQAAAAACA88NAAAAAAADopkAAAAAAADioQAAAAAAAyJVAAAAAAABWpEAAAAAAAEC6QAAAAACAHcFAAAAAAACKskAAAAAAgJ3AQAAAAAAA4qRAAAAAAABoxkAAAAAAABvDQAAAAAAAybVAAAAAAABKr0AAAAAAADCxQAAAAAAAwqRAAAAAAAB0okAAAAAAAHSiQAAAAAAArrxAAAAAAABoqkAAAAAAgDvQQAAAAAAAn79AAAAAAAA/xEAAAAAAADCcQAAAAAAAibBAAAAAAABQpkAAAAAAgNfQQAAAAAAAQLxAAAAAAACgoUAAAAAAAFaqQAAAAAAASJxAAAAAAAC3tEAAAAAAAGihQAAAAAAAI8pAAAAAAAAItUAAAAAAAOCwQAAAAAAArLhAAAAAAAB5u0AAAAAAANCwQAAAAAAADspAAAAAAABGtEAAAAAAAOKmQAAAAAAA0spAAAAAAAC8vEAAAAAAAK6iQAAAAACAKs5AAAAAAABSr0AAAAAAAIBWQAAAAAAAgFZAAAAAAACAVkA=",
          "dtype": "f8"
         },
         "xaxis": "x13",
         "y": {
          "bdata": "B35Fx0m7FUDF5TLA6/QUQAeulfUsoxVAa+3dLc+AFUAlKZzVJosVQB+TKlq1jhRAFpSslNGCFUApLiqRCM4UQJJPOjy7gBRAUZ0QhQZIFEBb4w0RczEUQI6sO/YEjBRAJL1qkpo/FEBMQ4AePq8UQPw4QTop0BRAmZGfJl+nFUACI79GaKIVQOn/WbTR1BVAgL9h8hexFUAMEdX0bzcVQO095zYR+xRAdSRiu8RxFUD3RwDJoQIVQMHmbmoGrxVAsUbkXASrFED3kl3B9NwUQN/cInE2WRVAhJ5EMqqHFUAH/Ncg/nsVQGJ3kHN/rxVA81HrCze4FUDzUesLN7gVQKc63LEOJRVAB8DzJiKaFUC6jtAB1hIUQCCUIHTODhVAEHQU9LLLFEDV5V0qtMgVQJRRJnDtgBVAlAD/EZ6pFUBChrOdZQAUQPj8otBOKBVAG7Bp6Fi7FUBhoRY8ZpoVQJlP8caGyBVAnamBLU9hFUA0bWS4LLwVQMp13bqTchRAcL1Hb+peFUAqz39OW34VQOSUZBtgQxVAxXM0MjAuFUDLX6FX1H4VQG+R1XLRcxRADLf+/aVkFUC33FXYdacVQBA6HxM8aBRAG9zeyaQkFUDQe16rW7cVQOOthbGdNRRAXDr874uHFUAMi4kcWvsVQAyLiRxa+xVADIuJHFr7FUA=",
          "dtype": "f8"
         },
         "yaxis": "y13"
        },
        {
         "mode": "markers",
         "name": "rem_hleep_h",
         "type": "scatter",
         "x": {
          "bdata": "AAAAAACkoUAAAAAAgIXBQAAAAAAABKhAAAAAAACNsEAAAAAAAF6uQAAAAAAAR8hAAAAAAABJsEAAAAAAgBfEQAAAAACAM8lAAAAAAADzzEAAAAAAAHHOQAAAAACAdMhAAAAAAICBzUAAAAAAgCDGQAAAAACA88NAAAAAAADopkAAAAAAADioQAAAAAAAyJVAAAAAAABWpEAAAAAAAEC6QAAAAACAHcFAAAAAAACKskAAAAAAgJ3AQAAAAAAA4qRAAAAAAABoxkAAAAAAABvDQAAAAAAAybVAAAAAAABKr0AAAAAAADCxQAAAAAAAwqRAAAAAAAB0okAAAAAAAHSiQAAAAAAArrxAAAAAAABoqkAAAAAAgDvQQAAAAAAAn79AAAAAAAA/xEAAAAAAADCcQAAAAAAAibBAAAAAAABQpkAAAAAAgNfQQAAAAAAAQLxAAAAAAACgoUAAAAAAAFaqQAAAAAAASJxAAAAAAAC3tEAAAAAAAGihQAAAAAAAI8pAAAAAAAAItUAAAAAAAOCwQAAAAAAArLhAAAAAAAB5u0AAAAAAANCwQAAAAAAADspAAAAAAABGtEAAAAAAAOKmQAAAAAAA0spAAAAAAAC8vEAAAAAAAK6iQAAAAACAKs5AAAAAAABSr0AAAAAAAIBWQAAAAAAAgFZAAAAAAACAVkA=",
          "dtype": "f8"
         },
         "xaxis": "x14",
         "y": {
          "bdata": "vLu7u7u79z+8u7u7u7v3PzMzMzMzM+s/mpmZmZmZyT93d3d3d3cBQKuqqqqqqvY/ERERERER+T8zMzMzMzP/P7y7u7u7u/c/3t3d3d3d+T9ERERERET4PzMzMzMzMwFA7+7u7u7u9j+8u7u7u7v3PyIiIiIiIvo/AAAAAAAAAECamZmZmZnpPxEREREREQNAmpmZmZmZAUCamZmZmZkBQM3MzMzMzOw/iYiIiIiIAkARERERERH9PxEREREREek/ERERERER8T+rqqqqqqoAQLy7u7u7u/M/7+7u7u7uAEC8u7u7u7v/PxEREREREQFAAAAAAAAAAAAAAAAAAAAAAAAAAAAAAAAAd3d3d3d3BUCJiIiIiIjwP6uqqqqqqv4/IiIiIiIi8j93d3d3d3fXP3d3d3d3d9c/MzMzMzMzBUAiIiIiIiIAQDMzMzMzM/M/MzMzMzMz0z+JiIiIiIj8P7y7u7u7u+s/3t3d3d3d+T9mZmZmZmb6PwAAAAAAAPg/mpmZmZmZ2T8AAAAAAADoPzMzMzMzM+s/IiIiIiIi9j/e3d3d3d31P3d3d3d3d/8/vLu7u7u7+z+amZmZmZnxP+/u7u7u7vo/ERERERERAUDe3d3d3d3xPzMzMzMzM+M/vLu7u7u79z8RERERERH5P97d3d3d3f0/3t3d3d3d/T8=",
          "dtype": "f8"
         },
         "yaxis": "y14"
        },
        {
         "line": {
          "dash": "dash"
         },
         "mode": "lines",
         "name": "rem_hleep_h Fit",
         "type": "scatter",
         "x": {
          "bdata": "AAAAAACkoUAAAAAAgIXBQAAAAAAABKhAAAAAAACNsEAAAAAAAF6uQAAAAAAAR8hAAAAAAABJsEAAAAAAgBfEQAAAAACAM8lAAAAAAADzzEAAAAAAAHHOQAAAAACAdMhAAAAAAICBzUAAAAAAgCDGQAAAAACA88NAAAAAAADopkAAAAAAADioQAAAAAAAyJVAAAAAAABWpEAAAAAAAEC6QAAAAACAHcFAAAAAAACKskAAAAAAgJ3AQAAAAAAA4qRAAAAAAABoxkAAAAAAABvDQAAAAAAAybVAAAAAAABKr0AAAAAAADCxQAAAAAAAwqRAAAAAAAB0okAAAAAAAHSiQAAAAAAArrxAAAAAAABoqkAAAAAAgDvQQAAAAAAAn79AAAAAAAA/xEAAAAAAADCcQAAAAAAAibBAAAAAAABQpkAAAAAAgNfQQAAAAAAAQLxAAAAAAACgoUAAAAAAAFaqQAAAAAAASJxAAAAAAAC3tEAAAAAAAGihQAAAAAAAI8pAAAAAAAAItUAAAAAAAOCwQAAAAAAArLhAAAAAAAB5u0AAAAAAANCwQAAAAAAADspAAAAAAABGtEAAAAAAAOKmQAAAAAAA0spAAAAAAAC8vEAAAAAAAK6iQAAAAACAKs5AAAAAAABSr0AAAAAAAIBWQAAAAAAAgFZAAAAAAACAVkA=",
          "dtype": "f8"
         },
         "xaxis": "x14",
         "y": {
          "bdata": "Bxob03ch9j/J5fcRvjz3PxboOcvmQ/Y/2wEYSfp09j83qOdaNWb2P76nJ3e0zvc/BMZqtBty9j8wxlteRnT3P648cx+q4vc/0w2bbKQz+D9d6ryn4VP4P2lO4oGL0vc/jzmPLqs/+D/yrRS9PqD3P8V3wpM8cfc/i1T90Og99j/ZYLip/0T2PwVt61MC/fU/cVzkvQYw9j+aDkZJwd32P7EfBB73M/c//z2w1nSK9j+nev+iKSn3P5Khh+36MvY/I0bMhEem9z+fnK8G9173P7tRBNmFrfY/SsybETBr9j/w9mse23v2P0FX1xVOMvY/E/0UTdsl9j8T/RRN2yX2P5hXK4oA+PY/XHVFaNBQ9j9BtpM1mX/4PwsBBPHGF/c/HjVSx5t39z9X3fBqTw72P0bvKxPPdPY/jPN30LM69j+JCG8R7pn4P65YTz9c8/Y/vRAlOGIh9j+PS/Iub1D2PzX50juQDvY/FllZ6/Wh9j+wjrC+MyD2P3vtoJjg9vc/TtFF72Cl9j9dg/rnenj2Pya6IgO1zPY/Y7yuhPbq9j8MOUoQznf2P2gqcuIa9fc/PUwMODGd9j+cRoxoyD32Px9H0YalBfg/n5jlxpf49j/FgwSUFCf2P3Zb+3ruTfg/3t6HR1tr9j9axEup+8X1P1rES6n7xfU/WsRLqfvF9T8=",
          "dtype": "f8"
         },
         "yaxis": "y14"
        },
        {
         "mode": "markers",
         "name": "awake_h",
         "type": "scatter",
         "x": {
          "bdata": "AAAAAACkoUAAAAAAgIXBQAAAAAAABKhAAAAAAACNsEAAAAAAAF6uQAAAAAAAR8hAAAAAAABJsEAAAAAAgBfEQAAAAACAM8lAAAAAAADzzEAAAAAAAHHOQAAAAACAdMhAAAAAAICBzUAAAAAAgCDGQAAAAACA88NAAAAAAADopkAAAAAAADioQAAAAAAAyJVAAAAAAABWpEAAAAAAAEC6QAAAAACAHcFAAAAAAACKskAAAAAAgJ3AQAAAAAAA4qRAAAAAAABoxkAAAAAAABvDQAAAAAAAybVAAAAAAABKr0AAAAAAADCxQAAAAAAAwqRAAAAAAAB0okAAAAAAAHSiQAAAAAAArrxAAAAAAABoqkAAAAAAgDvQQAAAAAAAn79AAAAAAAA/xEAAAAAAADCcQAAAAAAAibBAAAAAAABQpkAAAAAAgNfQQAAAAAAAQLxAAAAAAACgoUAAAAAAAFaqQAAAAAAASJxAAAAAAAC3tEAAAAAAAGihQAAAAAAAI8pAAAAAAAAItUAAAAAAAOCwQAAAAAAArLhAAAAAAAB5u0AAAAAAANCwQAAAAAAADspAAAAAAABGtEAAAAAAAOKmQAAAAAAA0spAAAAAAAC8vEAAAAAAAK6iQAAAAACAKs5AAAAAAABSr0AAAAAAAIBWQAAAAAAAgFZAAAAAAACAVkA=",
          "dtype": "f8"
         },
         "xaxis": "x15",
         "y": {
          "bdata": "mpmZmZmZqT+amZmZmZmpP2ZmZmZmZgJA3t3d3d3d5T8RERERERGRPxEREREREZE/3t3d3d3dvT8RERERERGRPxEREREREZE/AAAAAAAAAACamZmZmZm5PxEREREREcE/ERERERER4T93d3d3d3fnPxEREREREZE/AAAAAAAAAACamZmZmZmpPwAAAAAAAAAAERERERERkT8RERERERGRP0RERERERNQ/AAAAAAAAAAAAAAAAAAAAAJqZmZmZmak/ERERERERwT8AAAAAAAAAAAAAAAAAAAAAAAAAAAAAAAAAAAAAAAAAAJqZmZmZmak/zczMzMzM8D8zMzMzMzPjPzMzMzMzM+M/ERERERERoT8iIiIiIiLSPwAAAAAAAAAA3t3d3d3dvT9mZmZmZmbWP2ZmZmZmZtY/AAAAAAAAAAAAAAAAAAAAAAAAAAAAAAAAAAAAAAAAAAAzMzMzMzPjP83MzMzMzNw/vLu7u7u7yz8AAAAAAADwPxEREREREaE/VVVVVVVVtT+rqqqqqqoCQBEREREREaE/ERERERER+T8RERERERGhP1VVVVVVVbU/mpmZmZmZyT8AAAAAAADQP97d3d3d3b0/ERERERERoT/NzMzMzMzcPyIiIiIiItI/mpmZmZmZqT8RERERERGRP6uqqqqqqto/q6qqqqqq2j8=",
          "dtype": "f8"
         },
         "yaxis": "y15"
        },
        {
         "line": {
          "dash": "dash"
         },
         "mode": "lines",
         "name": "awake_h Fit",
         "type": "scatter",
         "x": {
          "bdata": "AAAAAACkoUAAAAAAgIXBQAAAAAAABKhAAAAAAACNsEAAAAAAAF6uQAAAAAAAR8hAAAAAAABJsEAAAAAAgBfEQAAAAACAM8lAAAAAAADzzEAAAAAAAHHOQAAAAACAdMhAAAAAAICBzUAAAAAAgCDGQAAAAACA88NAAAAAAADopkAAAAAAADioQAAAAAAAyJVAAAAAAABWpEAAAAAAAEC6QAAAAACAHcFAAAAAAACKskAAAAAAgJ3AQAAAAAAA4qRAAAAAAABoxkAAAAAAABvDQAAAAAAAybVAAAAAAABKr0AAAAAAADCxQAAAAAAAwqRAAAAAAAB0okAAAAAAAHSiQAAAAAAArrxAAAAAAABoqkAAAAAAgDvQQAAAAAAAn79AAAAAAAA/xEAAAAAAADCcQAAAAAAAibBAAAAAAABQpkAAAAAAgNfQQAAAAAAAQLxAAAAAAACgoUAAAAAAAFaqQAAAAAAASJxAAAAAAAC3tEAAAAAAAGihQAAAAAAAI8pAAAAAAAAItUAAAAAAAOCwQAAAAAAArLhAAAAAAAB5u0AAAAAAANCwQAAAAAAADspAAAAAAABGtEAAAAAAAOKmQAAAAAAA0spAAAAAAAC8vEAAAAAAAK6iQAAAAACAKs5AAAAAAABSr0AAAAAAAIBWQAAAAAAAgFZAAAAAAACAVkA=",
          "dtype": "f8"
         },
         "xaxis": "x15",
         "y": {
          "bdata": "smx8MU9l1j+ZhxeDdrbNP53J5ceyetU/uAjw+FEs1D8ylsEt85DUP2G7Rd5x8cU/T5a8Ad8/1D+miJM9usHKP3Dc+gF14cQ/0obD+vqRwD9QFIDTUbW9P8aafAoevcU/dE+pBzLcvz+h4GGojGrIP0B4CCMh68o/HMRjeIaj1T8+V1sXOXPVP04KOpK4Xdc/+0MUAR4C1j8iXkqdbGLRP4+tvosRLs4/WF1t0fmZ0z+XyLOCRsHOP0nBUMP97dU/iPZuElIYyD/4Cr24HeTLP/qLmloNq9I/9xjX+AVv1D+dAFGcdP3TPyFqCGuX8tU/NKNSb2hH1j80o1JvaEfWP0yaRkWXr9A/dkxNILgi1T+IQbAk3Q25PxdAJsAvrs8/T+Vd5UyUyj+pw3co1+fWP+7y3WJ4LdQ/ICYMVWC51T/EXcXwOkC2PxpDVaY3z9A/zGFzZuJl1j9wm6SOTiXVP1jkkokd5tY/cbfDstT50j9HyfRL723WP90+5ucEzsM/qvCx0Yri0j/WTOfidBTUP3bFJ2iU1tE/HIdRvG4I0T+u9Z6KDhnUP0x1apgr5sM/6M9E41Ea0z/FM9ZHY6TVP+kjQ37CBMM/j+aF0pCr0D8swVXvET/WPxQUiit6V74/wS7pjt9t1D8mSzJ3o9TYPyZLMnej1Ng/Jksyd6PU2D8=",
          "dtype": "f8"
         },
         "yaxis": "y15"
        }
       ],
       "layout": {
        "annotations": [
         {
          "font": {
           "size": 16
          },
          "showarrow": false,
          "text": "Steps vs. Body Charged",
          "x": 0.5,
          "xanchor": "center",
          "xref": "paper",
          "y": 1,
          "yanchor": "bottom",
          "yref": "paper"
         },
         {
          "font": {
           "size": 16
          },
          "showarrow": false,
          "text": "Steps vs. Body Drained",
          "x": 0.5,
          "xanchor": "center",
          "xref": "paper",
          "y": 0.9311111111111111,
          "yanchor": "bottom",
          "yref": "paper"
         },
         {
          "font": {
           "size": 16
          },
          "showarrow": false,
          "text": "Steps vs. Resting Hr",
          "x": 0.5,
          "xanchor": "center",
          "xref": "paper",
          "y": 0.8622222222222222,
          "yanchor": "bottom",
          "yref": "paper"
         },
         {
          "font": {
           "size": 16
          },
          "showarrow": false,
          "text": "Steps vs. Total Sleep S",
          "x": 0.5,
          "xanchor": "center",
          "xref": "paper",
          "y": 0.7933333333333333,
          "yanchor": "bottom",
          "yref": "paper"
         },
         {
          "font": {
           "size": 16
          },
          "showarrow": false,
          "text": "Steps vs. Deep Sleep S",
          "x": 0.5,
          "xanchor": "center",
          "xref": "paper",
          "y": 0.7244444444444444,
          "yanchor": "bottom",
          "yref": "paper"
         },
         {
          "font": {
           "size": 16
          },
          "showarrow": false,
          "text": "Steps vs. Light Sleep S",
          "x": 0.5,
          "xanchor": "center",
          "xref": "paper",
          "y": 0.6555555555555556,
          "yanchor": "bottom",
          "yref": "paper"
         },
         {
          "font": {
           "size": 16
          },
          "showarrow": false,
          "text": "Steps vs. Rem Sleep S",
          "x": 0.5,
          "xanchor": "center",
          "xref": "paper",
          "y": 0.5866666666666667,
          "yanchor": "bottom",
          "yref": "paper"
         },
         {
          "font": {
           "size": 16
          },
          "showarrow": false,
          "text": "Steps vs. Awake S",
          "x": 0.5,
          "xanchor": "center",
          "xref": "paper",
          "y": 0.5177777777777778,
          "yanchor": "bottom",
          "yref": "paper"
         },
         {
          "font": {
           "size": 16
          },
          "showarrow": false,
          "text": "Steps vs. Avg Stress",
          "x": 0.5,
          "xanchor": "center",
          "xref": "paper",
          "y": 0.4488888888888889,
          "yanchor": "bottom",
          "yref": "paper"
         },
         {
          "font": {
           "size": 16
          },
          "showarrow": false,
          "text": "Steps vs. Max Stress",
          "x": 0.5,
          "xanchor": "center",
          "xref": "paper",
          "y": 0.38,
          "yanchor": "bottom",
          "yref": "paper"
         },
         {
          "font": {
           "size": 16
          },
          "showarrow": false,
          "text": "Steps vs. Total Hleep H",
          "x": 0.5,
          "xanchor": "center",
          "xref": "paper",
          "y": 0.3111111111111111,
          "yanchor": "bottom",
          "yref": "paper"
         },
         {
          "font": {
           "size": 16
          },
          "showarrow": false,
          "text": "Steps vs. Deep Hleep H",
          "x": 0.5,
          "xanchor": "center",
          "xref": "paper",
          "y": 0.24222222222222223,
          "yanchor": "bottom",
          "yref": "paper"
         },
         {
          "font": {
           "size": 16
          },
          "showarrow": false,
          "text": "Steps vs. Light Hleep H",
          "x": 0.5,
          "xanchor": "center",
          "xref": "paper",
          "y": 0.17333333333333334,
          "yanchor": "bottom",
          "yref": "paper"
         },
         {
          "font": {
           "size": 16
          },
          "showarrow": false,
          "text": "Steps vs. Rem Hleep H",
          "x": 0.5,
          "xanchor": "center",
          "xref": "paper",
          "y": 0.10444444444444445,
          "yanchor": "bottom",
          "yref": "paper"
         },
         {
          "font": {
           "size": 16
          },
          "showarrow": false,
          "text": "Steps vs. Awake H",
          "x": 0.5,
          "xanchor": "center",
          "xref": "paper",
          "y": 0.035555555555555556,
          "yanchor": "bottom",
          "yref": "paper"
         },
         {
          "font": {
           "size": 12
          },
          "showarrow": false,
          "text": "R² = 0.03",
          "x": 0.95,
          "xref": "paper",
          "y": 1,
          "yref": "paper"
         },
         {
          "font": {
           "size": 12
          },
          "showarrow": false,
          "text": "R² = 0.08",
          "x": 0.95,
          "xref": "paper",
          "y": 0.9333333333333333,
          "yref": "paper"
         },
         {
          "font": {
           "size": 12
          },
          "showarrow": false,
          "text": "R² = 0.07",
          "x": 0.95,
          "xref": "paper",
          "y": 0.8666666666666667,
          "yref": "paper"
         },
         {
          "font": {
           "size": 12
          },
          "showarrow": false,
          "text": "R² = 0.00",
          "x": 0.95,
          "xref": "paper",
          "y": 0.8,
          "yref": "paper"
         },
         {
          "font": {
           "size": 12
          },
          "showarrow": false,
          "text": "R² = 0.03",
          "x": 0.95,
          "xref": "paper",
          "y": 0.7333333333333334,
          "yref": "paper"
         },
         {
          "font": {
           "size": 12
          },
          "showarrow": false,
          "text": "R² = 0.01",
          "x": 0.95,
          "xref": "paper",
          "y": 0.6666666666666667,
          "yref": "paper"
         },
         {
          "font": {
           "size": 12
          },
          "showarrow": false,
          "text": "R² = 0.01",
          "x": 0.95,
          "xref": "paper",
          "y": 0.6,
          "yref": "paper"
         },
         {
          "font": {
           "size": 12
          },
          "showarrow": false,
          "text": "R² = 0.03",
          "x": 0.95,
          "xref": "paper",
          "y": 0.5333333333333333,
          "yref": "paper"
         },
         {
          "font": {
           "size": 12
          },
          "showarrow": false,
          "text": "R² = 0.00",
          "x": 0.95,
          "xref": "paper",
          "y": 0.4666666666666667,
          "yref": "paper"
         },
         {
          "font": {
           "size": 12
          },
          "showarrow": false,
          "text": "R² = 0.10",
          "x": 0.95,
          "xref": "paper",
          "y": 0.4,
          "yref": "paper"
         },
         {
          "font": {
           "size": 12
          },
          "showarrow": false,
          "text": "R² = 0.00",
          "x": 0.95,
          "xref": "paper",
          "y": 0.33333333333333337,
          "yref": "paper"
         },
         {
          "font": {
           "size": 12
          },
          "showarrow": false,
          "text": "R² = 0.03",
          "x": 0.95,
          "xref": "paper",
          "y": 0.2666666666666667,
          "yref": "paper"
         },
         {
          "font": {
           "size": 12
          },
          "showarrow": false,
          "text": "R² = 0.01",
          "x": 0.95,
          "xref": "paper",
          "y": 0.19999999999999996,
          "yref": "paper"
         },
         {
          "font": {
           "size": 12
          },
          "showarrow": false,
          "text": "R² = 0.01",
          "x": 0.95,
          "xref": "paper",
          "y": 0.1333333333333333,
          "yref": "paper"
         },
         {
          "font": {
           "size": 12
          },
          "showarrow": false,
          "text": "R² = 0.03",
          "x": 0.95,
          "xref": "paper",
          "y": 0.06666666666666665,
          "yref": "paper"
         }
        ],
        "height": 5250,
        "showlegend": false,
        "template": {
         "data": {
          "bar": [
           {
            "error_x": {
             "color": "#2a3f5f"
            },
            "error_y": {
             "color": "#2a3f5f"
            },
            "marker": {
             "line": {
              "color": "#E5ECF6",
              "width": 0.5
             },
             "pattern": {
              "fillmode": "overlay",
              "size": 10,
              "solidity": 0.2
             }
            },
            "type": "bar"
           }
          ],
          "barpolar": [
           {
            "marker": {
             "line": {
              "color": "#E5ECF6",
              "width": 0.5
             },
             "pattern": {
              "fillmode": "overlay",
              "size": 10,
              "solidity": 0.2
             }
            },
            "type": "barpolar"
           }
          ],
          "carpet": [
           {
            "aaxis": {
             "endlinecolor": "#2a3f5f",
             "gridcolor": "white",
             "linecolor": "white",
             "minorgridcolor": "white",
             "startlinecolor": "#2a3f5f"
            },
            "baxis": {
             "endlinecolor": "#2a3f5f",
             "gridcolor": "white",
             "linecolor": "white",
             "minorgridcolor": "white",
             "startlinecolor": "#2a3f5f"
            },
            "type": "carpet"
           }
          ],
          "choropleth": [
           {
            "colorbar": {
             "outlinewidth": 0,
             "ticks": ""
            },
            "type": "choropleth"
           }
          ],
          "contour": [
           {
            "colorbar": {
             "outlinewidth": 0,
             "ticks": ""
            },
            "colorscale": [
             [
              0,
              "#0d0887"
             ],
             [
              0.1111111111111111,
              "#46039f"
             ],
             [
              0.2222222222222222,
              "#7201a8"
             ],
             [
              0.3333333333333333,
              "#9c179e"
             ],
             [
              0.4444444444444444,
              "#bd3786"
             ],
             [
              0.5555555555555556,
              "#d8576b"
             ],
             [
              0.6666666666666666,
              "#ed7953"
             ],
             [
              0.7777777777777778,
              "#fb9f3a"
             ],
             [
              0.8888888888888888,
              "#fdca26"
             ],
             [
              1,
              "#f0f921"
             ]
            ],
            "type": "contour"
           }
          ],
          "contourcarpet": [
           {
            "colorbar": {
             "outlinewidth": 0,
             "ticks": ""
            },
            "type": "contourcarpet"
           }
          ],
          "heatmap": [
           {
            "colorbar": {
             "outlinewidth": 0,
             "ticks": ""
            },
            "colorscale": [
             [
              0,
              "#0d0887"
             ],
             [
              0.1111111111111111,
              "#46039f"
             ],
             [
              0.2222222222222222,
              "#7201a8"
             ],
             [
              0.3333333333333333,
              "#9c179e"
             ],
             [
              0.4444444444444444,
              "#bd3786"
             ],
             [
              0.5555555555555556,
              "#d8576b"
             ],
             [
              0.6666666666666666,
              "#ed7953"
             ],
             [
              0.7777777777777778,
              "#fb9f3a"
             ],
             [
              0.8888888888888888,
              "#fdca26"
             ],
             [
              1,
              "#f0f921"
             ]
            ],
            "type": "heatmap"
           }
          ],
          "histogram": [
           {
            "marker": {
             "pattern": {
              "fillmode": "overlay",
              "size": 10,
              "solidity": 0.2
             }
            },
            "type": "histogram"
           }
          ],
          "histogram2d": [
           {
            "colorbar": {
             "outlinewidth": 0,
             "ticks": ""
            },
            "colorscale": [
             [
              0,
              "#0d0887"
             ],
             [
              0.1111111111111111,
              "#46039f"
             ],
             [
              0.2222222222222222,
              "#7201a8"
             ],
             [
              0.3333333333333333,
              "#9c179e"
             ],
             [
              0.4444444444444444,
              "#bd3786"
             ],
             [
              0.5555555555555556,
              "#d8576b"
             ],
             [
              0.6666666666666666,
              "#ed7953"
             ],
             [
              0.7777777777777778,
              "#fb9f3a"
             ],
             [
              0.8888888888888888,
              "#fdca26"
             ],
             [
              1,
              "#f0f921"
             ]
            ],
            "type": "histogram2d"
           }
          ],
          "histogram2dcontour": [
           {
            "colorbar": {
             "outlinewidth": 0,
             "ticks": ""
            },
            "colorscale": [
             [
              0,
              "#0d0887"
             ],
             [
              0.1111111111111111,
              "#46039f"
             ],
             [
              0.2222222222222222,
              "#7201a8"
             ],
             [
              0.3333333333333333,
              "#9c179e"
             ],
             [
              0.4444444444444444,
              "#bd3786"
             ],
             [
              0.5555555555555556,
              "#d8576b"
             ],
             [
              0.6666666666666666,
              "#ed7953"
             ],
             [
              0.7777777777777778,
              "#fb9f3a"
             ],
             [
              0.8888888888888888,
              "#fdca26"
             ],
             [
              1,
              "#f0f921"
             ]
            ],
            "type": "histogram2dcontour"
           }
          ],
          "mesh3d": [
           {
            "colorbar": {
             "outlinewidth": 0,
             "ticks": ""
            },
            "type": "mesh3d"
           }
          ],
          "parcoords": [
           {
            "line": {
             "colorbar": {
              "outlinewidth": 0,
              "ticks": ""
             }
            },
            "type": "parcoords"
           }
          ],
          "pie": [
           {
            "automargin": true,
            "type": "pie"
           }
          ],
          "scatter": [
           {
            "fillpattern": {
             "fillmode": "overlay",
             "size": 10,
             "solidity": 0.2
            },
            "type": "scatter"
           }
          ],
          "scatter3d": [
           {
            "line": {
             "colorbar": {
              "outlinewidth": 0,
              "ticks": ""
             }
            },
            "marker": {
             "colorbar": {
              "outlinewidth": 0,
              "ticks": ""
             }
            },
            "type": "scatter3d"
           }
          ],
          "scattercarpet": [
           {
            "marker": {
             "colorbar": {
              "outlinewidth": 0,
              "ticks": ""
             }
            },
            "type": "scattercarpet"
           }
          ],
          "scattergeo": [
           {
            "marker": {
             "colorbar": {
              "outlinewidth": 0,
              "ticks": ""
             }
            },
            "type": "scattergeo"
           }
          ],
          "scattergl": [
           {
            "marker": {
             "colorbar": {
              "outlinewidth": 0,
              "ticks": ""
             }
            },
            "type": "scattergl"
           }
          ],
          "scattermap": [
           {
            "marker": {
             "colorbar": {
              "outlinewidth": 0,
              "ticks": ""
             }
            },
            "type": "scattermap"
           }
          ],
          "scattermapbox": [
           {
            "marker": {
             "colorbar": {
              "outlinewidth": 0,
              "ticks": ""
             }
            },
            "type": "scattermapbox"
           }
          ],
          "scatterpolar": [
           {
            "marker": {
             "colorbar": {
              "outlinewidth": 0,
              "ticks": ""
             }
            },
            "type": "scatterpolar"
           }
          ],
          "scatterpolargl": [
           {
            "marker": {
             "colorbar": {
              "outlinewidth": 0,
              "ticks": ""
             }
            },
            "type": "scatterpolargl"
           }
          ],
          "scatterternary": [
           {
            "marker": {
             "colorbar": {
              "outlinewidth": 0,
              "ticks": ""
             }
            },
            "type": "scatterternary"
           }
          ],
          "surface": [
           {
            "colorbar": {
             "outlinewidth": 0,
             "ticks": ""
            },
            "colorscale": [
             [
              0,
              "#0d0887"
             ],
             [
              0.1111111111111111,
              "#46039f"
             ],
             [
              0.2222222222222222,
              "#7201a8"
             ],
             [
              0.3333333333333333,
              "#9c179e"
             ],
             [
              0.4444444444444444,
              "#bd3786"
             ],
             [
              0.5555555555555556,
              "#d8576b"
             ],
             [
              0.6666666666666666,
              "#ed7953"
             ],
             [
              0.7777777777777778,
              "#fb9f3a"
             ],
             [
              0.8888888888888888,
              "#fdca26"
             ],
             [
              1,
              "#f0f921"
             ]
            ],
            "type": "surface"
           }
          ],
          "table": [
           {
            "cells": {
             "fill": {
              "color": "#EBF0F8"
             },
             "line": {
              "color": "white"
             }
            },
            "header": {
             "fill": {
              "color": "#C8D4E3"
             },
             "line": {
              "color": "white"
             }
            },
            "type": "table"
           }
          ]
         },
         "layout": {
          "annotationdefaults": {
           "arrowcolor": "#2a3f5f",
           "arrowhead": 0,
           "arrowwidth": 1
          },
          "autotypenumbers": "strict",
          "coloraxis": {
           "colorbar": {
            "outlinewidth": 0,
            "ticks": ""
           }
          },
          "colorscale": {
           "diverging": [
            [
             0,
             "#8e0152"
            ],
            [
             0.1,
             "#c51b7d"
            ],
            [
             0.2,
             "#de77ae"
            ],
            [
             0.3,
             "#f1b6da"
            ],
            [
             0.4,
             "#fde0ef"
            ],
            [
             0.5,
             "#f7f7f7"
            ],
            [
             0.6,
             "#e6f5d0"
            ],
            [
             0.7,
             "#b8e186"
            ],
            [
             0.8,
             "#7fbc41"
            ],
            [
             0.9,
             "#4d9221"
            ],
            [
             1,
             "#276419"
            ]
           ],
           "sequential": [
            [
             0,
             "#0d0887"
            ],
            [
             0.1111111111111111,
             "#46039f"
            ],
            [
             0.2222222222222222,
             "#7201a8"
            ],
            [
             0.3333333333333333,
             "#9c179e"
            ],
            [
             0.4444444444444444,
             "#bd3786"
            ],
            [
             0.5555555555555556,
             "#d8576b"
            ],
            [
             0.6666666666666666,
             "#ed7953"
            ],
            [
             0.7777777777777778,
             "#fb9f3a"
            ],
            [
             0.8888888888888888,
             "#fdca26"
            ],
            [
             1,
             "#f0f921"
            ]
           ],
           "sequentialminus": [
            [
             0,
             "#0d0887"
            ],
            [
             0.1111111111111111,
             "#46039f"
            ],
            [
             0.2222222222222222,
             "#7201a8"
            ],
            [
             0.3333333333333333,
             "#9c179e"
            ],
            [
             0.4444444444444444,
             "#bd3786"
            ],
            [
             0.5555555555555556,
             "#d8576b"
            ],
            [
             0.6666666666666666,
             "#ed7953"
            ],
            [
             0.7777777777777778,
             "#fb9f3a"
            ],
            [
             0.8888888888888888,
             "#fdca26"
            ],
            [
             1,
             "#f0f921"
            ]
           ]
          },
          "colorway": [
           "#636efa",
           "#EF553B",
           "#00cc96",
           "#ab63fa",
           "#FFA15A",
           "#19d3f3",
           "#FF6692",
           "#B6E880",
           "#FF97FF",
           "#FECB52"
          ],
          "font": {
           "color": "#2a3f5f"
          },
          "geo": {
           "bgcolor": "white",
           "lakecolor": "white",
           "landcolor": "#E5ECF6",
           "showlakes": true,
           "showland": true,
           "subunitcolor": "white"
          },
          "hoverlabel": {
           "align": "left"
          },
          "hovermode": "closest",
          "mapbox": {
           "style": "light"
          },
          "paper_bgcolor": "white",
          "plot_bgcolor": "#E5ECF6",
          "polar": {
           "angularaxis": {
            "gridcolor": "white",
            "linecolor": "white",
            "ticks": ""
           },
           "bgcolor": "#E5ECF6",
           "radialaxis": {
            "gridcolor": "white",
            "linecolor": "white",
            "ticks": ""
           }
          },
          "scene": {
           "xaxis": {
            "backgroundcolor": "#E5ECF6",
            "gridcolor": "white",
            "gridwidth": 2,
            "linecolor": "white",
            "showbackground": true,
            "ticks": "",
            "zerolinecolor": "white"
           },
           "yaxis": {
            "backgroundcolor": "#E5ECF6",
            "gridcolor": "white",
            "gridwidth": 2,
            "linecolor": "white",
            "showbackground": true,
            "ticks": "",
            "zerolinecolor": "white"
           },
           "zaxis": {
            "backgroundcolor": "#E5ECF6",
            "gridcolor": "white",
            "gridwidth": 2,
            "linecolor": "white",
            "showbackground": true,
            "ticks": "",
            "zerolinecolor": "white"
           }
          },
          "shapedefaults": {
           "line": {
            "color": "#2a3f5f"
           }
          },
          "ternary": {
           "aaxis": {
            "gridcolor": "white",
            "linecolor": "white",
            "ticks": ""
           },
           "baxis": {
            "gridcolor": "white",
            "linecolor": "white",
            "ticks": ""
           },
           "bgcolor": "#E5ECF6",
           "caxis": {
            "gridcolor": "white",
            "linecolor": "white",
            "ticks": ""
           }
          },
          "title": {
           "x": 0.05
          },
          "xaxis": {
           "automargin": true,
           "gridcolor": "white",
           "linecolor": "white",
           "ticks": "",
           "title": {
            "standoff": 15
           },
           "zerolinecolor": "white",
           "zerolinewidth": 2
          },
          "yaxis": {
           "automargin": true,
           "gridcolor": "white",
           "linecolor": "white",
           "ticks": "",
           "title": {
            "standoff": 15
           },
           "zerolinecolor": "white",
           "zerolinewidth": 2
          }
         }
        },
        "title": {
         "text": "Steps vs Other Metrics with Regression Lines and R²"
        },
        "width": 1000,
        "xaxis": {
         "anchor": "y",
         "domain": [
          0,
          1
         ]
        },
        "xaxis10": {
         "anchor": "y10",
         "domain": [
          0,
          1
         ]
        },
        "xaxis11": {
         "anchor": "y11",
         "domain": [
          0,
          1
         ]
        },
        "xaxis12": {
         "anchor": "y12",
         "domain": [
          0,
          1
         ]
        },
        "xaxis13": {
         "anchor": "y13",
         "domain": [
          0,
          1
         ]
        },
        "xaxis14": {
         "anchor": "y14",
         "domain": [
          0,
          1
         ]
        },
        "xaxis15": {
         "anchor": "y15",
         "domain": [
          0,
          1
         ]
        },
        "xaxis2": {
         "anchor": "y2",
         "domain": [
          0,
          1
         ]
        },
        "xaxis3": {
         "anchor": "y3",
         "domain": [
          0,
          1
         ]
        },
        "xaxis4": {
         "anchor": "y4",
         "domain": [
          0,
          1
         ]
        },
        "xaxis5": {
         "anchor": "y5",
         "domain": [
          0,
          1
         ]
        },
        "xaxis6": {
         "anchor": "y6",
         "domain": [
          0,
          1
         ]
        },
        "xaxis7": {
         "anchor": "y7",
         "domain": [
          0,
          1
         ]
        },
        "xaxis8": {
         "anchor": "y8",
         "domain": [
          0,
          1
         ]
        },
        "xaxis9": {
         "anchor": "y9",
         "domain": [
          0,
          1
         ]
        },
        "yaxis": {
         "anchor": "x",
         "domain": [
          0.9644444444444444,
          1
         ]
        },
        "yaxis10": {
         "anchor": "x10",
         "domain": [
          0.34444444444444444,
          0.38
         ]
        },
        "yaxis11": {
         "anchor": "x11",
         "domain": [
          0.27555555555555555,
          0.3111111111111111
         ]
        },
        "yaxis12": {
         "anchor": "x12",
         "domain": [
          0.20666666666666667,
          0.24222222222222223
         ]
        },
        "yaxis13": {
         "anchor": "x13",
         "domain": [
          0.13777777777777778,
          0.17333333333333334
         ]
        },
        "yaxis14": {
         "anchor": "x14",
         "domain": [
          0.06888888888888889,
          0.10444444444444445
         ]
        },
        "yaxis15": {
         "anchor": "x15",
         "domain": [
          0,
          0.035555555555555556
         ]
        },
        "yaxis2": {
         "anchor": "x2",
         "domain": [
          0.8955555555555555,
          0.9311111111111111
         ]
        },
        "yaxis3": {
         "anchor": "x3",
         "domain": [
          0.8266666666666667,
          0.8622222222222222
         ]
        },
        "yaxis4": {
         "anchor": "x4",
         "domain": [
          0.7577777777777778,
          0.7933333333333333
         ]
        },
        "yaxis5": {
         "anchor": "x5",
         "domain": [
          0.6888888888888889,
          0.7244444444444444
         ]
        },
        "yaxis6": {
         "anchor": "x6",
         "domain": [
          0.62,
          0.6555555555555556
         ]
        },
        "yaxis7": {
         "anchor": "x7",
         "domain": [
          0.5511111111111111,
          0.5866666666666667
         ]
        },
        "yaxis8": {
         "anchor": "x8",
         "domain": [
          0.4822222222222222,
          0.5177777777777778
         ]
        },
        "yaxis9": {
         "anchor": "x9",
         "domain": [
          0.41333333333333333,
          0.4488888888888889
         ]
        }
       }
      }
     },
     "metadata": {},
     "output_type": "display_data"
    }
   ],
   "source": [
    "import pandas as pd\n",
    "import plotly.graph_objects as go\n",
    "import plotly.subplots as sp\n",
    "from sklearn.linear_model import LinearRegression\n",
    "from sklearn.metrics import r2_score\n",
    "\n",
    "# Ensure steps column is numeric\n",
    "df[\"steps\"] = pd.to_numeric(df[\"steps\"], errors=\"coerce\")\n",
    "\n",
    "# Select valid numeric columns to compare with steps\n",
    "columns_to_plot = [\n",
    "    col for col in df.columns\n",
    "    if col not in [\"date\", \"steps\"] and pd.api.types.is_numeric_dtype(df[col])\n",
    "]\n",
    "\n",
    "# Filter out columns with insufficient non-null pairings\n",
    "valid_pairs = []\n",
    "for col in columns_to_plot:\n",
    "    temp_df = df[[\"steps\", col]].dropna()\n",
    "    if len(temp_df) >= 2:\n",
    "        valid_pairs.append(col)\n",
    "\n",
    "# Prepare plot\n",
    "fig = sp.make_subplots(\n",
    "    rows=len(valid_pairs), cols=1, shared_xaxes=False,\n",
    "    subplot_titles=[f\"Steps vs. {col.replace('_', ' ').title()}\" for col in valid_pairs]\n",
    ")\n",
    "\n",
    "# Plot with regression\n",
    "for i, col in enumerate(valid_pairs, start=1):\n",
    "    temp_df = df[[\"steps\", col]].dropna()\n",
    "    X = temp_df[\"steps\"].values.reshape(-1, 1)\n",
    "    y = temp_df[col].values\n",
    "\n",
    "    model = LinearRegression()\n",
    "    model.fit(X, y)\n",
    "    y_pred = model.predict(X)\n",
    "    r2 = r2_score(y, y_pred)\n",
    "\n",
    "    fig.add_trace(\n",
    "        go.Scatter(x=temp_df[\"steps\"], y=temp_df[col], mode='markers', name=col),\n",
    "        row=i, col=1\n",
    "    )\n",
    "\n",
    "    fig.add_trace(\n",
    "        go.Scatter(x=temp_df[\"steps\"], y=y_pred, mode='lines',\n",
    "                   line=dict(dash='dash'), name=f\"{col} Fit\"),\n",
    "        row=i, col=1\n",
    "    )\n",
    "\n",
    "    fig.add_annotation(\n",
    "        xref=\"paper\", yref=\"paper\",\n",
    "        x=0.95, y=1 - (i - 1) / len(valid_pairs),\n",
    "        text=f\"R² = {r2:.2f}\", showarrow=False, font=dict(size=12)\n",
    "    )\n",
    "\n",
    "fig.update_layout(\n",
    "    height=350 * len(valid_pairs),\n",
    "    width=1000,\n",
    "    title_text=\"Steps vs Other Metrics with Regression Lines and R²\",\n",
    "    showlegend=False\n",
    ")\n",
    "\n",
    "fig.show()\n"
   ]
  }
 ],
 "metadata": {
  "kernelspec": {
   "display_name": "Python 3",
   "language": "python",
   "name": "python3"
  },
  "language_info": {
   "codemirror_mode": {
    "name": "ipython",
    "version": 3
   },
   "file_extension": ".py",
   "mimetype": "text/x-python",
   "name": "python",
   "nbconvert_exporter": "python",
   "pygments_lexer": "ipython3",
   "version": "3.13.2"
  }
 },
 "nbformat": 4,
 "nbformat_minor": 2
}
