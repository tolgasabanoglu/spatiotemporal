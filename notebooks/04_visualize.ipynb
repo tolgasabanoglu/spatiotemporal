{
 "cells": [
  {
   "cell_type": "code",
   "execution_count": 67,
   "metadata": {},
   "outputs": [
    {
     "name": "stdout",
     "output_type": "stream",
     "text": [
      "🔐 Logging into Garmin Connect...\n",
      "\n",
      "📆 Fetching Garmin data from 2025-02-25 to 2025-06-29\n",
      "\n",
      "\n",
      "📅 2025-02-25\n",
      "📦 Fetching steps...\n",
      "✅ Saved steps → steps_2025-02-25.json\n",
      "📦 Fetching sleep...\n",
      "✅ Saved sleep → sleep_2025-02-25.json\n",
      "📦 Fetching stress...\n",
      "✅ Saved stress → stress_2025-02-25.json\n",
      "📦 Fetching body_battery...\n",
      "✅ Saved body_battery → body_battery_2025-02-25.json\n",
      "📦 Fetching heart_rate...\n",
      "✅ Saved heart_rate → heart_rate_2025-02-25.json\n",
      "\n",
      "📅 2025-02-26\n",
      "📦 Fetching steps...\n",
      "✅ Saved steps → steps_2025-02-26.json\n",
      "📦 Fetching sleep...\n",
      "✅ Saved sleep → sleep_2025-02-26.json\n",
      "📦 Fetching stress...\n",
      "✅ Saved stress → stress_2025-02-26.json\n",
      "📦 Fetching body_battery...\n",
      "✅ Saved body_battery → body_battery_2025-02-26.json\n",
      "📦 Fetching heart_rate...\n",
      "✅ Saved heart_rate → heart_rate_2025-02-26.json\n",
      "\n",
      "📅 2025-02-27\n",
      "📦 Fetching steps...\n",
      "✅ Saved steps → steps_2025-02-27.json\n",
      "📦 Fetching sleep...\n",
      "✅ Saved sleep → sleep_2025-02-27.json\n",
      "📦 Fetching stress...\n",
      "✅ Saved stress → stress_2025-02-27.json\n",
      "📦 Fetching body_battery...\n",
      "✅ Saved body_battery → body_battery_2025-02-27.json\n",
      "📦 Fetching heart_rate...\n",
      "✅ Saved heart_rate → heart_rate_2025-02-27.json\n",
      "\n",
      "📅 2025-02-28\n",
      "📦 Fetching steps...\n",
      "✅ Saved steps → steps_2025-02-28.json\n",
      "📦 Fetching sleep...\n",
      "✅ Saved sleep → sleep_2025-02-28.json\n",
      "📦 Fetching stress...\n",
      "✅ Saved stress → stress_2025-02-28.json\n",
      "📦 Fetching body_battery...\n",
      "✅ Saved body_battery → body_battery_2025-02-28.json\n",
      "📦 Fetching heart_rate...\n",
      "✅ Saved heart_rate → heart_rate_2025-02-28.json\n",
      "\n",
      "📅 2025-03-01\n",
      "📦 Fetching steps...\n",
      "✅ Saved steps → steps_2025-03-01.json\n",
      "📦 Fetching sleep...\n",
      "✅ Saved sleep → sleep_2025-03-01.json\n",
      "📦 Fetching stress...\n",
      "✅ Saved stress → stress_2025-03-01.json\n",
      "📦 Fetching body_battery...\n",
      "✅ Saved body_battery → body_battery_2025-03-01.json\n",
      "📦 Fetching heart_rate...\n",
      "✅ Saved heart_rate → heart_rate_2025-03-01.json\n",
      "\n",
      "📅 2025-03-02\n",
      "📦 Fetching steps...\n",
      "✅ Saved steps → steps_2025-03-02.json\n",
      "📦 Fetching sleep...\n",
      "✅ Saved sleep → sleep_2025-03-02.json\n",
      "📦 Fetching stress...\n",
      "✅ Saved stress → stress_2025-03-02.json\n",
      "📦 Fetching body_battery...\n",
      "✅ Saved body_battery → body_battery_2025-03-02.json\n",
      "📦 Fetching heart_rate...\n",
      "✅ Saved heart_rate → heart_rate_2025-03-02.json\n",
      "\n",
      "📅 2025-03-03\n",
      "📦 Fetching steps...\n",
      "✅ Saved steps → steps_2025-03-03.json\n",
      "📦 Fetching sleep...\n",
      "✅ Saved sleep → sleep_2025-03-03.json\n",
      "📦 Fetching stress...\n",
      "✅ Saved stress → stress_2025-03-03.json\n",
      "📦 Fetching body_battery...\n",
      "✅ Saved body_battery → body_battery_2025-03-03.json\n",
      "📦 Fetching heart_rate...\n",
      "✅ Saved heart_rate → heart_rate_2025-03-03.json\n",
      "\n",
      "📅 2025-03-04\n",
      "📦 Fetching steps...\n",
      "✅ Saved steps → steps_2025-03-04.json\n",
      "📦 Fetching sleep...\n",
      "✅ Saved sleep → sleep_2025-03-04.json\n",
      "📦 Fetching stress...\n",
      "✅ Saved stress → stress_2025-03-04.json\n",
      "📦 Fetching body_battery...\n",
      "✅ Saved body_battery → body_battery_2025-03-04.json\n",
      "📦 Fetching heart_rate...\n",
      "✅ Saved heart_rate → heart_rate_2025-03-04.json\n",
      "\n",
      "📅 2025-03-05\n",
      "📦 Fetching steps...\n",
      "✅ Saved steps → steps_2025-03-05.json\n",
      "📦 Fetching sleep...\n",
      "✅ Saved sleep → sleep_2025-03-05.json\n",
      "📦 Fetching stress...\n",
      "✅ Saved stress → stress_2025-03-05.json\n",
      "📦 Fetching body_battery...\n",
      "✅ Saved body_battery → body_battery_2025-03-05.json\n",
      "📦 Fetching heart_rate...\n",
      "✅ Saved heart_rate → heart_rate_2025-03-05.json\n",
      "\n",
      "📅 2025-03-06\n",
      "📦 Fetching steps...\n",
      "✅ Saved steps → steps_2025-03-06.json\n",
      "📦 Fetching sleep...\n",
      "✅ Saved sleep → sleep_2025-03-06.json\n",
      "📦 Fetching stress...\n",
      "✅ Saved stress → stress_2025-03-06.json\n",
      "📦 Fetching body_battery...\n",
      "✅ Saved body_battery → body_battery_2025-03-06.json\n",
      "📦 Fetching heart_rate...\n",
      "✅ Saved heart_rate → heart_rate_2025-03-06.json\n",
      "\n",
      "📅 2025-03-07\n",
      "📦 Fetching steps...\n",
      "✅ Saved steps → steps_2025-03-07.json\n",
      "📦 Fetching sleep...\n",
      "✅ Saved sleep → sleep_2025-03-07.json\n",
      "📦 Fetching stress...\n",
      "✅ Saved stress → stress_2025-03-07.json\n",
      "📦 Fetching body_battery...\n",
      "✅ Saved body_battery → body_battery_2025-03-07.json\n",
      "📦 Fetching heart_rate...\n",
      "✅ Saved heart_rate → heart_rate_2025-03-07.json\n",
      "\n",
      "📅 2025-03-08\n",
      "📦 Fetching steps...\n",
      "✅ Saved steps → steps_2025-03-08.json\n",
      "📦 Fetching sleep...\n",
      "✅ Saved sleep → sleep_2025-03-08.json\n",
      "📦 Fetching stress...\n",
      "✅ Saved stress → stress_2025-03-08.json\n",
      "📦 Fetching body_battery...\n",
      "✅ Saved body_battery → body_battery_2025-03-08.json\n",
      "📦 Fetching heart_rate...\n",
      "✅ Saved heart_rate → heart_rate_2025-03-08.json\n",
      "\n",
      "📅 2025-03-09\n",
      "📦 Fetching steps...\n",
      "✅ Saved steps → steps_2025-03-09.json\n",
      "📦 Fetching sleep...\n",
      "✅ Saved sleep → sleep_2025-03-09.json\n",
      "📦 Fetching stress...\n",
      "✅ Saved stress → stress_2025-03-09.json\n",
      "📦 Fetching body_battery...\n",
      "✅ Saved body_battery → body_battery_2025-03-09.json\n",
      "📦 Fetching heart_rate...\n",
      "✅ Saved heart_rate → heart_rate_2025-03-09.json\n",
      "\n",
      "📅 2025-03-10\n",
      "📦 Fetching steps...\n",
      "✅ Saved steps → steps_2025-03-10.json\n",
      "📦 Fetching sleep...\n",
      "✅ Saved sleep → sleep_2025-03-10.json\n",
      "📦 Fetching stress...\n",
      "✅ Saved stress → stress_2025-03-10.json\n",
      "📦 Fetching body_battery...\n",
      "✅ Saved body_battery → body_battery_2025-03-10.json\n",
      "📦 Fetching heart_rate...\n",
      "✅ Saved heart_rate → heart_rate_2025-03-10.json\n",
      "\n",
      "📅 2025-03-11\n",
      "📦 Fetching steps...\n",
      "✅ Saved steps → steps_2025-03-11.json\n",
      "📦 Fetching sleep...\n",
      "✅ Saved sleep → sleep_2025-03-11.json\n",
      "📦 Fetching stress...\n",
      "✅ Saved stress → stress_2025-03-11.json\n",
      "📦 Fetching body_battery...\n",
      "✅ Saved body_battery → body_battery_2025-03-11.json\n",
      "📦 Fetching heart_rate...\n",
      "✅ Saved heart_rate → heart_rate_2025-03-11.json\n",
      "\n",
      "📅 2025-03-12\n",
      "📦 Fetching steps...\n",
      "✅ Saved steps → steps_2025-03-12.json\n",
      "📦 Fetching sleep...\n",
      "✅ Saved sleep → sleep_2025-03-12.json\n",
      "📦 Fetching stress...\n",
      "✅ Saved stress → stress_2025-03-12.json\n",
      "📦 Fetching body_battery...\n",
      "✅ Saved body_battery → body_battery_2025-03-12.json\n",
      "📦 Fetching heart_rate...\n",
      "✅ Saved heart_rate → heart_rate_2025-03-12.json\n",
      "\n",
      "📅 2025-03-13\n",
      "📦 Fetching steps...\n",
      "✅ Saved steps → steps_2025-03-13.json\n",
      "📦 Fetching sleep...\n",
      "✅ Saved sleep → sleep_2025-03-13.json\n",
      "📦 Fetching stress...\n",
      "✅ Saved stress → stress_2025-03-13.json\n",
      "📦 Fetching body_battery...\n",
      "✅ Saved body_battery → body_battery_2025-03-13.json\n",
      "📦 Fetching heart_rate...\n",
      "✅ Saved heart_rate → heart_rate_2025-03-13.json\n",
      "\n",
      "📅 2025-03-14\n",
      "📦 Fetching steps...\n",
      "✅ Saved steps → steps_2025-03-14.json\n",
      "📦 Fetching sleep...\n",
      "✅ Saved sleep → sleep_2025-03-14.json\n",
      "📦 Fetching stress...\n",
      "✅ Saved stress → stress_2025-03-14.json\n",
      "📦 Fetching body_battery...\n",
      "✅ Saved body_battery → body_battery_2025-03-14.json\n",
      "📦 Fetching heart_rate...\n",
      "✅ Saved heart_rate → heart_rate_2025-03-14.json\n",
      "\n",
      "📅 2025-03-15\n",
      "📦 Fetching steps...\n",
      "✅ Saved steps → steps_2025-03-15.json\n",
      "📦 Fetching sleep...\n",
      "✅ Saved sleep → sleep_2025-03-15.json\n",
      "📦 Fetching stress...\n",
      "✅ Saved stress → stress_2025-03-15.json\n",
      "📦 Fetching body_battery...\n",
      "✅ Saved body_battery → body_battery_2025-03-15.json\n",
      "📦 Fetching heart_rate...\n",
      "✅ Saved heart_rate → heart_rate_2025-03-15.json\n",
      "\n",
      "📅 2025-03-16\n",
      "📦 Fetching steps...\n",
      "✅ Saved steps → steps_2025-03-16.json\n",
      "📦 Fetching sleep...\n",
      "✅ Saved sleep → sleep_2025-03-16.json\n",
      "📦 Fetching stress...\n",
      "✅ Saved stress → stress_2025-03-16.json\n",
      "📦 Fetching body_battery...\n",
      "✅ Saved body_battery → body_battery_2025-03-16.json\n",
      "📦 Fetching heart_rate...\n",
      "✅ Saved heart_rate → heart_rate_2025-03-16.json\n",
      "\n",
      "📅 2025-03-17\n",
      "📦 Fetching steps...\n",
      "✅ Saved steps → steps_2025-03-17.json\n",
      "📦 Fetching sleep...\n",
      "✅ Saved sleep → sleep_2025-03-17.json\n",
      "📦 Fetching stress...\n",
      "✅ Saved stress → stress_2025-03-17.json\n",
      "📦 Fetching body_battery...\n",
      "✅ Saved body_battery → body_battery_2025-03-17.json\n",
      "📦 Fetching heart_rate...\n",
      "✅ Saved heart_rate → heart_rate_2025-03-17.json\n",
      "\n",
      "📅 2025-03-18\n",
      "📦 Fetching steps...\n",
      "✅ Saved steps → steps_2025-03-18.json\n",
      "📦 Fetching sleep...\n",
      "✅ Saved sleep → sleep_2025-03-18.json\n",
      "📦 Fetching stress...\n",
      "✅ Saved stress → stress_2025-03-18.json\n",
      "📦 Fetching body_battery...\n",
      "✅ Saved body_battery → body_battery_2025-03-18.json\n",
      "📦 Fetching heart_rate...\n",
      "✅ Saved heart_rate → heart_rate_2025-03-18.json\n",
      "\n",
      "📅 2025-03-19\n",
      "📦 Fetching steps...\n",
      "✅ Saved steps → steps_2025-03-19.json\n",
      "📦 Fetching sleep...\n",
      "✅ Saved sleep → sleep_2025-03-19.json\n",
      "📦 Fetching stress...\n",
      "✅ Saved stress → stress_2025-03-19.json\n",
      "📦 Fetching body_battery...\n",
      "✅ Saved body_battery → body_battery_2025-03-19.json\n",
      "📦 Fetching heart_rate...\n",
      "✅ Saved heart_rate → heart_rate_2025-03-19.json\n",
      "\n",
      "📅 2025-03-20\n",
      "📦 Fetching steps...\n",
      "✅ Saved steps → steps_2025-03-20.json\n",
      "📦 Fetching sleep...\n",
      "✅ Saved sleep → sleep_2025-03-20.json\n",
      "📦 Fetching stress...\n",
      "✅ Saved stress → stress_2025-03-20.json\n",
      "📦 Fetching body_battery...\n",
      "✅ Saved body_battery → body_battery_2025-03-20.json\n",
      "📦 Fetching heart_rate...\n",
      "✅ Saved heart_rate → heart_rate_2025-03-20.json\n",
      "\n",
      "📅 2025-03-21\n",
      "📦 Fetching steps...\n",
      "✅ Saved steps → steps_2025-03-21.json\n",
      "📦 Fetching sleep...\n",
      "✅ Saved sleep → sleep_2025-03-21.json\n",
      "📦 Fetching stress...\n",
      "✅ Saved stress → stress_2025-03-21.json\n",
      "📦 Fetching body_battery...\n",
      "✅ Saved body_battery → body_battery_2025-03-21.json\n",
      "📦 Fetching heart_rate...\n",
      "✅ Saved heart_rate → heart_rate_2025-03-21.json\n",
      "\n",
      "📅 2025-03-22\n",
      "📦 Fetching steps...\n",
      "✅ Saved steps → steps_2025-03-22.json\n",
      "📦 Fetching sleep...\n",
      "✅ Saved sleep → sleep_2025-03-22.json\n",
      "📦 Fetching stress...\n",
      "✅ Saved stress → stress_2025-03-22.json\n",
      "📦 Fetching body_battery...\n",
      "✅ Saved body_battery → body_battery_2025-03-22.json\n",
      "📦 Fetching heart_rate...\n",
      "✅ Saved heart_rate → heart_rate_2025-03-22.json\n",
      "\n",
      "📅 2025-03-23\n",
      "📦 Fetching steps...\n",
      "✅ Saved steps → steps_2025-03-23.json\n",
      "📦 Fetching sleep...\n",
      "✅ Saved sleep → sleep_2025-03-23.json\n",
      "📦 Fetching stress...\n",
      "✅ Saved stress → stress_2025-03-23.json\n",
      "📦 Fetching body_battery...\n",
      "✅ Saved body_battery → body_battery_2025-03-23.json\n",
      "📦 Fetching heart_rate...\n",
      "✅ Saved heart_rate → heart_rate_2025-03-23.json\n",
      "\n",
      "📅 2025-03-24\n",
      "📦 Fetching steps...\n",
      "✅ Saved steps → steps_2025-03-24.json\n",
      "📦 Fetching sleep...\n",
      "✅ Saved sleep → sleep_2025-03-24.json\n",
      "📦 Fetching stress...\n",
      "✅ Saved stress → stress_2025-03-24.json\n",
      "📦 Fetching body_battery...\n",
      "✅ Saved body_battery → body_battery_2025-03-24.json\n",
      "📦 Fetching heart_rate...\n",
      "✅ Saved heart_rate → heart_rate_2025-03-24.json\n",
      "\n",
      "📅 2025-03-25\n",
      "📦 Fetching steps...\n",
      "✅ Saved steps → steps_2025-03-25.json\n",
      "📦 Fetching sleep...\n",
      "✅ Saved sleep → sleep_2025-03-25.json\n",
      "📦 Fetching stress...\n",
      "✅ Saved stress → stress_2025-03-25.json\n",
      "📦 Fetching body_battery...\n",
      "✅ Saved body_battery → body_battery_2025-03-25.json\n",
      "📦 Fetching heart_rate...\n",
      "✅ Saved heart_rate → heart_rate_2025-03-25.json\n",
      "\n",
      "📅 2025-03-26\n",
      "📦 Fetching steps...\n",
      "✅ Saved steps → steps_2025-03-26.json\n",
      "📦 Fetching sleep...\n",
      "✅ Saved sleep → sleep_2025-03-26.json\n",
      "📦 Fetching stress...\n",
      "✅ Saved stress → stress_2025-03-26.json\n",
      "📦 Fetching body_battery...\n",
      "✅ Saved body_battery → body_battery_2025-03-26.json\n",
      "📦 Fetching heart_rate...\n",
      "✅ Saved heart_rate → heart_rate_2025-03-26.json\n",
      "\n",
      "📅 2025-03-27\n",
      "📦 Fetching steps...\n",
      "✅ Saved steps → steps_2025-03-27.json\n",
      "📦 Fetching sleep...\n",
      "✅ Saved sleep → sleep_2025-03-27.json\n",
      "📦 Fetching stress...\n",
      "✅ Saved stress → stress_2025-03-27.json\n",
      "📦 Fetching body_battery...\n",
      "✅ Saved body_battery → body_battery_2025-03-27.json\n",
      "📦 Fetching heart_rate...\n",
      "✅ Saved heart_rate → heart_rate_2025-03-27.json\n",
      "\n",
      "📅 2025-03-28\n",
      "📦 Fetching steps...\n",
      "✅ Saved steps → steps_2025-03-28.json\n",
      "📦 Fetching sleep...\n",
      "✅ Saved sleep → sleep_2025-03-28.json\n",
      "📦 Fetching stress...\n",
      "✅ Saved stress → stress_2025-03-28.json\n",
      "📦 Fetching body_battery...\n",
      "✅ Saved body_battery → body_battery_2025-03-28.json\n",
      "📦 Fetching heart_rate...\n",
      "✅ Saved heart_rate → heart_rate_2025-03-28.json\n",
      "\n",
      "📅 2025-03-29\n",
      "📦 Fetching steps...\n",
      "✅ Saved steps → steps_2025-03-29.json\n",
      "📦 Fetching sleep...\n",
      "✅ Saved sleep → sleep_2025-03-29.json\n",
      "📦 Fetching stress...\n",
      "✅ Saved stress → stress_2025-03-29.json\n",
      "📦 Fetching body_battery...\n",
      "✅ Saved body_battery → body_battery_2025-03-29.json\n",
      "📦 Fetching heart_rate...\n",
      "✅ Saved heart_rate → heart_rate_2025-03-29.json\n",
      "\n",
      "📅 2025-03-30\n",
      "📦 Fetching steps...\n",
      "✅ Saved steps → steps_2025-03-30.json\n",
      "📦 Fetching sleep...\n",
      "✅ Saved sleep → sleep_2025-03-30.json\n",
      "📦 Fetching stress...\n",
      "✅ Saved stress → stress_2025-03-30.json\n",
      "📦 Fetching body_battery...\n",
      "✅ Saved body_battery → body_battery_2025-03-30.json\n",
      "📦 Fetching heart_rate...\n",
      "✅ Saved heart_rate → heart_rate_2025-03-30.json\n",
      "\n",
      "📅 2025-03-31\n",
      "📦 Fetching steps...\n",
      "✅ Saved steps → steps_2025-03-31.json\n",
      "📦 Fetching sleep...\n",
      "✅ Saved sleep → sleep_2025-03-31.json\n",
      "📦 Fetching stress...\n",
      "✅ Saved stress → stress_2025-03-31.json\n",
      "📦 Fetching body_battery...\n",
      "✅ Saved body_battery → body_battery_2025-03-31.json\n",
      "📦 Fetching heart_rate...\n",
      "✅ Saved heart_rate → heart_rate_2025-03-31.json\n",
      "\n",
      "📅 2025-04-01\n",
      "📦 Fetching steps...\n",
      "✅ Saved steps → steps_2025-04-01.json\n",
      "📦 Fetching sleep...\n",
      "✅ Saved sleep → sleep_2025-04-01.json\n",
      "📦 Fetching stress...\n",
      "✅ Saved stress → stress_2025-04-01.json\n",
      "📦 Fetching body_battery...\n",
      "✅ Saved body_battery → body_battery_2025-04-01.json\n",
      "📦 Fetching heart_rate...\n",
      "✅ Saved heart_rate → heart_rate_2025-04-01.json\n",
      "\n",
      "📅 2025-04-02\n",
      "📦 Fetching steps...\n",
      "✅ Saved steps → steps_2025-04-02.json\n",
      "📦 Fetching sleep...\n",
      "✅ Saved sleep → sleep_2025-04-02.json\n",
      "📦 Fetching stress...\n",
      "✅ Saved stress → stress_2025-04-02.json\n",
      "📦 Fetching body_battery...\n",
      "✅ Saved body_battery → body_battery_2025-04-02.json\n",
      "📦 Fetching heart_rate...\n",
      "✅ Saved heart_rate → heart_rate_2025-04-02.json\n",
      "\n",
      "📅 2025-04-03\n",
      "📦 Fetching steps...\n",
      "✅ Saved steps → steps_2025-04-03.json\n",
      "📦 Fetching sleep...\n",
      "✅ Saved sleep → sleep_2025-04-03.json\n",
      "📦 Fetching stress...\n",
      "✅ Saved stress → stress_2025-04-03.json\n",
      "📦 Fetching body_battery...\n",
      "✅ Saved body_battery → body_battery_2025-04-03.json\n",
      "📦 Fetching heart_rate...\n",
      "✅ Saved heart_rate → heart_rate_2025-04-03.json\n",
      "\n",
      "📅 2025-04-04\n",
      "📦 Fetching steps...\n",
      "✅ Saved steps → steps_2025-04-04.json\n",
      "📦 Fetching sleep...\n",
      "✅ Saved sleep → sleep_2025-04-04.json\n",
      "📦 Fetching stress...\n",
      "✅ Saved stress → stress_2025-04-04.json\n",
      "📦 Fetching body_battery...\n",
      "✅ Saved body_battery → body_battery_2025-04-04.json\n",
      "📦 Fetching heart_rate...\n",
      "✅ Saved heart_rate → heart_rate_2025-04-04.json\n",
      "\n",
      "📅 2025-04-05\n",
      "📦 Fetching steps...\n",
      "✅ Saved steps → steps_2025-04-05.json\n",
      "📦 Fetching sleep...\n",
      "✅ Saved sleep → sleep_2025-04-05.json\n",
      "📦 Fetching stress...\n",
      "✅ Saved stress → stress_2025-04-05.json\n",
      "📦 Fetching body_battery...\n",
      "✅ Saved body_battery → body_battery_2025-04-05.json\n",
      "📦 Fetching heart_rate...\n",
      "✅ Saved heart_rate → heart_rate_2025-04-05.json\n",
      "\n",
      "📅 2025-04-06\n",
      "📦 Fetching steps...\n",
      "✅ Saved steps → steps_2025-04-06.json\n",
      "📦 Fetching sleep...\n",
      "✅ Saved sleep → sleep_2025-04-06.json\n",
      "📦 Fetching stress...\n",
      "✅ Saved stress → stress_2025-04-06.json\n",
      "📦 Fetching body_battery...\n",
      "✅ Saved body_battery → body_battery_2025-04-06.json\n",
      "📦 Fetching heart_rate...\n",
      "✅ Saved heart_rate → heart_rate_2025-04-06.json\n",
      "\n",
      "📅 2025-04-07\n",
      "📦 Fetching steps...\n",
      "✅ Saved steps → steps_2025-04-07.json\n",
      "📦 Fetching sleep...\n",
      "✅ Saved sleep → sleep_2025-04-07.json\n",
      "📦 Fetching stress...\n",
      "✅ Saved stress → stress_2025-04-07.json\n",
      "📦 Fetching body_battery...\n",
      "✅ Saved body_battery → body_battery_2025-04-07.json\n",
      "📦 Fetching heart_rate...\n",
      "✅ Saved heart_rate → heart_rate_2025-04-07.json\n",
      "\n",
      "📅 2025-04-08\n",
      "📦 Fetching steps...\n",
      "✅ Saved steps → steps_2025-04-08.json\n",
      "📦 Fetching sleep...\n",
      "✅ Saved sleep → sleep_2025-04-08.json\n",
      "📦 Fetching stress...\n",
      "✅ Saved stress → stress_2025-04-08.json\n",
      "📦 Fetching body_battery...\n",
      "✅ Saved body_battery → body_battery_2025-04-08.json\n",
      "📦 Fetching heart_rate...\n",
      "✅ Saved heart_rate → heart_rate_2025-04-08.json\n",
      "\n",
      "📅 2025-04-09\n",
      "📦 Fetching steps...\n",
      "✅ Saved steps → steps_2025-04-09.json\n",
      "📦 Fetching sleep...\n",
      "✅ Saved sleep → sleep_2025-04-09.json\n",
      "📦 Fetching stress...\n",
      "✅ Saved stress → stress_2025-04-09.json\n",
      "📦 Fetching body_battery...\n",
      "✅ Saved body_battery → body_battery_2025-04-09.json\n",
      "📦 Fetching heart_rate...\n",
      "✅ Saved heart_rate → heart_rate_2025-04-09.json\n",
      "\n",
      "📅 2025-04-10\n",
      "📦 Fetching steps...\n",
      "✅ Saved steps → steps_2025-04-10.json\n",
      "📦 Fetching sleep...\n",
      "✅ Saved sleep → sleep_2025-04-10.json\n",
      "📦 Fetching stress...\n",
      "✅ Saved stress → stress_2025-04-10.json\n",
      "📦 Fetching body_battery...\n",
      "✅ Saved body_battery → body_battery_2025-04-10.json\n",
      "📦 Fetching heart_rate...\n",
      "✅ Saved heart_rate → heart_rate_2025-04-10.json\n",
      "\n",
      "📅 2025-04-11\n",
      "📦 Fetching steps...\n",
      "✅ Saved steps → steps_2025-04-11.json\n",
      "📦 Fetching sleep...\n",
      "✅ Saved sleep → sleep_2025-04-11.json\n",
      "📦 Fetching stress...\n",
      "✅ Saved stress → stress_2025-04-11.json\n",
      "📦 Fetching body_battery...\n",
      "✅ Saved body_battery → body_battery_2025-04-11.json\n",
      "📦 Fetching heart_rate...\n",
      "✅ Saved heart_rate → heart_rate_2025-04-11.json\n",
      "\n",
      "📅 2025-04-12\n",
      "📦 Fetching steps...\n",
      "✅ Saved steps → steps_2025-04-12.json\n",
      "📦 Fetching sleep...\n",
      "✅ Saved sleep → sleep_2025-04-12.json\n",
      "📦 Fetching stress...\n",
      "✅ Saved stress → stress_2025-04-12.json\n",
      "📦 Fetching body_battery...\n",
      "✅ Saved body_battery → body_battery_2025-04-12.json\n",
      "📦 Fetching heart_rate...\n",
      "✅ Saved heart_rate → heart_rate_2025-04-12.json\n",
      "\n",
      "📅 2025-04-13\n",
      "📦 Fetching steps...\n",
      "✅ Saved steps → steps_2025-04-13.json\n",
      "📦 Fetching sleep...\n",
      "✅ Saved sleep → sleep_2025-04-13.json\n",
      "📦 Fetching stress...\n",
      "✅ Saved stress → stress_2025-04-13.json\n",
      "📦 Fetching body_battery...\n",
      "✅ Saved body_battery → body_battery_2025-04-13.json\n",
      "📦 Fetching heart_rate...\n",
      "✅ Saved heart_rate → heart_rate_2025-04-13.json\n",
      "\n",
      "📅 2025-04-14\n",
      "📦 Fetching steps...\n",
      "✅ Saved steps → steps_2025-04-14.json\n",
      "📦 Fetching sleep...\n",
      "✅ Saved sleep → sleep_2025-04-14.json\n",
      "📦 Fetching stress...\n",
      "✅ Saved stress → stress_2025-04-14.json\n",
      "📦 Fetching body_battery...\n",
      "✅ Saved body_battery → body_battery_2025-04-14.json\n",
      "📦 Fetching heart_rate...\n",
      "✅ Saved heart_rate → heart_rate_2025-04-14.json\n",
      "\n",
      "📅 2025-04-15\n",
      "📦 Fetching steps...\n",
      "✅ Saved steps → steps_2025-04-15.json\n",
      "📦 Fetching sleep...\n",
      "✅ Saved sleep → sleep_2025-04-15.json\n",
      "📦 Fetching stress...\n",
      "✅ Saved stress → stress_2025-04-15.json\n",
      "📦 Fetching body_battery...\n",
      "✅ Saved body_battery → body_battery_2025-04-15.json\n",
      "📦 Fetching heart_rate...\n",
      "✅ Saved heart_rate → heart_rate_2025-04-15.json\n",
      "\n",
      "📅 2025-04-16\n",
      "📦 Fetching steps...\n",
      "✅ Saved steps → steps_2025-04-16.json\n",
      "📦 Fetching sleep...\n",
      "✅ Saved sleep → sleep_2025-04-16.json\n",
      "📦 Fetching stress...\n",
      "✅ Saved stress → stress_2025-04-16.json\n",
      "📦 Fetching body_battery...\n",
      "✅ Saved body_battery → body_battery_2025-04-16.json\n",
      "📦 Fetching heart_rate...\n",
      "✅ Saved heart_rate → heart_rate_2025-04-16.json\n",
      "\n",
      "📅 2025-04-17\n",
      "📦 Fetching steps...\n",
      "✅ Saved steps → steps_2025-04-17.json\n",
      "📦 Fetching sleep...\n",
      "✅ Saved sleep → sleep_2025-04-17.json\n",
      "📦 Fetching stress...\n",
      "✅ Saved stress → stress_2025-04-17.json\n",
      "📦 Fetching body_battery...\n",
      "✅ Saved body_battery → body_battery_2025-04-17.json\n",
      "📦 Fetching heart_rate...\n",
      "✅ Saved heart_rate → heart_rate_2025-04-17.json\n",
      "\n",
      "📅 2025-04-18\n",
      "📦 Fetching steps...\n",
      "✅ Saved steps → steps_2025-04-18.json\n",
      "📦 Fetching sleep...\n",
      "✅ Saved sleep → sleep_2025-04-18.json\n",
      "📦 Fetching stress...\n",
      "✅ Saved stress → stress_2025-04-18.json\n",
      "📦 Fetching body_battery...\n",
      "✅ Saved body_battery → body_battery_2025-04-18.json\n",
      "📦 Fetching heart_rate...\n",
      "✅ Saved heart_rate → heart_rate_2025-04-18.json\n",
      "\n",
      "📅 2025-04-19\n",
      "📦 Fetching steps...\n",
      "✅ Saved steps → steps_2025-04-19.json\n",
      "📦 Fetching sleep...\n",
      "✅ Saved sleep → sleep_2025-04-19.json\n",
      "📦 Fetching stress...\n",
      "✅ Saved stress → stress_2025-04-19.json\n",
      "📦 Fetching body_battery...\n",
      "✅ Saved body_battery → body_battery_2025-04-19.json\n",
      "📦 Fetching heart_rate...\n",
      "✅ Saved heart_rate → heart_rate_2025-04-19.json\n",
      "\n",
      "📅 2025-04-20\n",
      "📦 Fetching steps...\n",
      "✅ Saved steps → steps_2025-04-20.json\n",
      "📦 Fetching sleep...\n",
      "✅ Saved sleep → sleep_2025-04-20.json\n",
      "📦 Fetching stress...\n",
      "✅ Saved stress → stress_2025-04-20.json\n",
      "📦 Fetching body_battery...\n",
      "✅ Saved body_battery → body_battery_2025-04-20.json\n",
      "📦 Fetching heart_rate...\n",
      "✅ Saved heart_rate → heart_rate_2025-04-20.json\n",
      "\n",
      "📅 2025-04-21\n",
      "📦 Fetching steps...\n",
      "✅ Saved steps → steps_2025-04-21.json\n",
      "📦 Fetching sleep...\n",
      "✅ Saved sleep → sleep_2025-04-21.json\n",
      "📦 Fetching stress...\n",
      "✅ Saved stress → stress_2025-04-21.json\n",
      "📦 Fetching body_battery...\n",
      "✅ Saved body_battery → body_battery_2025-04-21.json\n",
      "📦 Fetching heart_rate...\n",
      "✅ Saved heart_rate → heart_rate_2025-04-21.json\n",
      "\n",
      "📅 2025-04-22\n",
      "📦 Fetching steps...\n",
      "✅ Saved steps → steps_2025-04-22.json\n",
      "📦 Fetching sleep...\n",
      "✅ Saved sleep → sleep_2025-04-22.json\n",
      "📦 Fetching stress...\n",
      "✅ Saved stress → stress_2025-04-22.json\n",
      "📦 Fetching body_battery...\n",
      "✅ Saved body_battery → body_battery_2025-04-22.json\n",
      "📦 Fetching heart_rate...\n",
      "✅ Saved heart_rate → heart_rate_2025-04-22.json\n",
      "\n",
      "📅 2025-04-23\n",
      "📦 Fetching steps...\n",
      "✅ Saved steps → steps_2025-04-23.json\n",
      "📦 Fetching sleep...\n",
      "✅ Saved sleep → sleep_2025-04-23.json\n",
      "📦 Fetching stress...\n",
      "✅ Saved stress → stress_2025-04-23.json\n",
      "📦 Fetching body_battery...\n",
      "✅ Saved body_battery → body_battery_2025-04-23.json\n",
      "📦 Fetching heart_rate...\n",
      "✅ Saved heart_rate → heart_rate_2025-04-23.json\n",
      "\n",
      "📅 2025-04-24\n",
      "📦 Fetching steps...\n",
      "✅ Saved steps → steps_2025-04-24.json\n",
      "📦 Fetching sleep...\n",
      "✅ Saved sleep → sleep_2025-04-24.json\n",
      "📦 Fetching stress...\n",
      "✅ Saved stress → stress_2025-04-24.json\n",
      "📦 Fetching body_battery...\n",
      "✅ Saved body_battery → body_battery_2025-04-24.json\n",
      "📦 Fetching heart_rate...\n",
      "✅ Saved heart_rate → heart_rate_2025-04-24.json\n",
      "\n",
      "📅 2025-04-25\n",
      "📦 Fetching steps...\n",
      "✅ Saved steps → steps_2025-04-25.json\n",
      "📦 Fetching sleep...\n",
      "✅ Saved sleep → sleep_2025-04-25.json\n",
      "📦 Fetching stress...\n",
      "✅ Saved stress → stress_2025-04-25.json\n",
      "📦 Fetching body_battery...\n",
      "✅ Saved body_battery → body_battery_2025-04-25.json\n",
      "📦 Fetching heart_rate...\n",
      "✅ Saved heart_rate → heart_rate_2025-04-25.json\n",
      "\n",
      "📅 2025-04-26\n",
      "📦 Fetching steps...\n",
      "✅ Saved steps → steps_2025-04-26.json\n",
      "📦 Fetching sleep...\n",
      "✅ Saved sleep → sleep_2025-04-26.json\n",
      "📦 Fetching stress...\n",
      "✅ Saved stress → stress_2025-04-26.json\n",
      "📦 Fetching body_battery...\n",
      "✅ Saved body_battery → body_battery_2025-04-26.json\n",
      "📦 Fetching heart_rate...\n",
      "✅ Saved heart_rate → heart_rate_2025-04-26.json\n",
      "\n",
      "📅 2025-04-27\n",
      "📦 Fetching steps...\n",
      "✅ Saved steps → steps_2025-04-27.json\n",
      "📦 Fetching sleep...\n",
      "✅ Saved sleep → sleep_2025-04-27.json\n",
      "📦 Fetching stress...\n",
      "✅ Saved stress → stress_2025-04-27.json\n",
      "📦 Fetching body_battery...\n",
      "✅ Saved body_battery → body_battery_2025-04-27.json\n",
      "📦 Fetching heart_rate...\n",
      "✅ Saved heart_rate → heart_rate_2025-04-27.json\n",
      "\n",
      "📅 2025-04-28\n",
      "📦 Fetching steps...\n",
      "✅ Saved steps → steps_2025-04-28.json\n",
      "📦 Fetching sleep...\n",
      "✅ Saved sleep → sleep_2025-04-28.json\n",
      "📦 Fetching stress...\n",
      "✅ Saved stress → stress_2025-04-28.json\n",
      "📦 Fetching body_battery...\n",
      "✅ Saved body_battery → body_battery_2025-04-28.json\n",
      "📦 Fetching heart_rate...\n",
      "✅ Saved heart_rate → heart_rate_2025-04-28.json\n",
      "\n",
      "📅 2025-04-29\n",
      "📦 Fetching steps...\n",
      "✅ Saved steps → steps_2025-04-29.json\n",
      "📦 Fetching sleep...\n",
      "✅ Saved sleep → sleep_2025-04-29.json\n",
      "📦 Fetching stress...\n",
      "✅ Saved stress → stress_2025-04-29.json\n",
      "📦 Fetching body_battery...\n",
      "✅ Saved body_battery → body_battery_2025-04-29.json\n",
      "📦 Fetching heart_rate...\n",
      "✅ Saved heart_rate → heart_rate_2025-04-29.json\n",
      "\n",
      "📅 2025-04-30\n",
      "📦 Fetching steps...\n",
      "✅ Saved steps → steps_2025-04-30.json\n",
      "📦 Fetching sleep...\n",
      "✅ Saved sleep → sleep_2025-04-30.json\n",
      "📦 Fetching stress...\n",
      "✅ Saved stress → stress_2025-04-30.json\n",
      "📦 Fetching body_battery...\n",
      "✅ Saved body_battery → body_battery_2025-04-30.json\n",
      "📦 Fetching heart_rate...\n",
      "✅ Saved heart_rate → heart_rate_2025-04-30.json\n",
      "\n",
      "📅 2025-05-01\n",
      "📦 Fetching steps...\n",
      "✅ Saved steps → steps_2025-05-01.json\n",
      "📦 Fetching sleep...\n",
      "✅ Saved sleep → sleep_2025-05-01.json\n",
      "📦 Fetching stress...\n",
      "✅ Saved stress → stress_2025-05-01.json\n",
      "📦 Fetching body_battery...\n",
      "✅ Saved body_battery → body_battery_2025-05-01.json\n",
      "📦 Fetching heart_rate...\n",
      "✅ Saved heart_rate → heart_rate_2025-05-01.json\n",
      "\n",
      "📅 2025-05-02\n",
      "📦 Fetching steps...\n",
      "✅ Saved steps → steps_2025-05-02.json\n",
      "📦 Fetching sleep...\n",
      "✅ Saved sleep → sleep_2025-05-02.json\n",
      "📦 Fetching stress...\n",
      "✅ Saved stress → stress_2025-05-02.json\n",
      "📦 Fetching body_battery...\n",
      "✅ Saved body_battery → body_battery_2025-05-02.json\n",
      "📦 Fetching heart_rate...\n",
      "✅ Saved heart_rate → heart_rate_2025-05-02.json\n",
      "\n",
      "📅 2025-05-03\n",
      "📦 Fetching steps...\n",
      "✅ Saved steps → steps_2025-05-03.json\n",
      "📦 Fetching sleep...\n",
      "✅ Saved sleep → sleep_2025-05-03.json\n",
      "📦 Fetching stress...\n",
      "✅ Saved stress → stress_2025-05-03.json\n",
      "📦 Fetching body_battery...\n",
      "✅ Saved body_battery → body_battery_2025-05-03.json\n",
      "📦 Fetching heart_rate...\n",
      "✅ Saved heart_rate → heart_rate_2025-05-03.json\n",
      "\n",
      "📅 2025-05-04\n",
      "📦 Fetching steps...\n",
      "✅ Saved steps → steps_2025-05-04.json\n",
      "📦 Fetching sleep...\n",
      "✅ Saved sleep → sleep_2025-05-04.json\n",
      "📦 Fetching stress...\n",
      "✅ Saved stress → stress_2025-05-04.json\n",
      "📦 Fetching body_battery...\n",
      "✅ Saved body_battery → body_battery_2025-05-04.json\n",
      "📦 Fetching heart_rate...\n",
      "✅ Saved heart_rate → heart_rate_2025-05-04.json\n",
      "\n",
      "📅 2025-05-05\n",
      "📦 Fetching steps...\n",
      "✅ Saved steps → steps_2025-05-05.json\n",
      "📦 Fetching sleep...\n",
      "✅ Saved sleep → sleep_2025-05-05.json\n",
      "📦 Fetching stress...\n",
      "✅ Saved stress → stress_2025-05-05.json\n",
      "📦 Fetching body_battery...\n",
      "✅ Saved body_battery → body_battery_2025-05-05.json\n",
      "📦 Fetching heart_rate...\n",
      "✅ Saved heart_rate → heart_rate_2025-05-05.json\n",
      "\n",
      "📅 2025-05-06\n",
      "📦 Fetching steps...\n",
      "✅ Saved steps → steps_2025-05-06.json\n",
      "📦 Fetching sleep...\n",
      "✅ Saved sleep → sleep_2025-05-06.json\n",
      "📦 Fetching stress...\n",
      "✅ Saved stress → stress_2025-05-06.json\n",
      "📦 Fetching body_battery...\n",
      "✅ Saved body_battery → body_battery_2025-05-06.json\n",
      "📦 Fetching heart_rate...\n",
      "✅ Saved heart_rate → heart_rate_2025-05-06.json\n",
      "\n",
      "📅 2025-05-07\n",
      "📦 Fetching steps...\n",
      "✅ Saved steps → steps_2025-05-07.json\n",
      "📦 Fetching sleep...\n",
      "✅ Saved sleep → sleep_2025-05-07.json\n",
      "📦 Fetching stress...\n",
      "✅ Saved stress → stress_2025-05-07.json\n",
      "📦 Fetching body_battery...\n",
      "✅ Saved body_battery → body_battery_2025-05-07.json\n",
      "📦 Fetching heart_rate...\n",
      "✅ Saved heart_rate → heart_rate_2025-05-07.json\n",
      "\n",
      "📅 2025-05-08\n",
      "📦 Fetching steps...\n",
      "✅ Saved steps → steps_2025-05-08.json\n",
      "📦 Fetching sleep...\n",
      "✅ Saved sleep → sleep_2025-05-08.json\n",
      "📦 Fetching stress...\n",
      "✅ Saved stress → stress_2025-05-08.json\n",
      "📦 Fetching body_battery...\n",
      "✅ Saved body_battery → body_battery_2025-05-08.json\n",
      "📦 Fetching heart_rate...\n",
      "✅ Saved heart_rate → heart_rate_2025-05-08.json\n",
      "\n",
      "📅 2025-05-09\n",
      "📦 Fetching steps...\n",
      "✅ Saved steps → steps_2025-05-09.json\n",
      "📦 Fetching sleep...\n",
      "✅ Saved sleep → sleep_2025-05-09.json\n",
      "📦 Fetching stress...\n",
      "✅ Saved stress → stress_2025-05-09.json\n",
      "📦 Fetching body_battery...\n",
      "✅ Saved body_battery → body_battery_2025-05-09.json\n",
      "📦 Fetching heart_rate...\n",
      "✅ Saved heart_rate → heart_rate_2025-05-09.json\n",
      "\n",
      "📅 2025-05-10\n",
      "📦 Fetching steps...\n",
      "✅ Saved steps → steps_2025-05-10.json\n",
      "📦 Fetching sleep...\n",
      "✅ Saved sleep → sleep_2025-05-10.json\n",
      "📦 Fetching stress...\n",
      "✅ Saved stress → stress_2025-05-10.json\n",
      "📦 Fetching body_battery...\n",
      "✅ Saved body_battery → body_battery_2025-05-10.json\n",
      "📦 Fetching heart_rate...\n",
      "✅ Saved heart_rate → heart_rate_2025-05-10.json\n",
      "\n",
      "📅 2025-05-11\n",
      "📦 Fetching steps...\n",
      "✅ Saved steps → steps_2025-05-11.json\n",
      "📦 Fetching sleep...\n",
      "✅ Saved sleep → sleep_2025-05-11.json\n",
      "📦 Fetching stress...\n",
      "✅ Saved stress → stress_2025-05-11.json\n",
      "📦 Fetching body_battery...\n",
      "✅ Saved body_battery → body_battery_2025-05-11.json\n",
      "📦 Fetching heart_rate...\n",
      "✅ Saved heart_rate → heart_rate_2025-05-11.json\n",
      "\n",
      "📅 2025-05-12\n",
      "📦 Fetching steps...\n",
      "✅ Saved steps → steps_2025-05-12.json\n",
      "📦 Fetching sleep...\n",
      "✅ Saved sleep → sleep_2025-05-12.json\n",
      "📦 Fetching stress...\n",
      "✅ Saved stress → stress_2025-05-12.json\n",
      "📦 Fetching body_battery...\n",
      "✅ Saved body_battery → body_battery_2025-05-12.json\n",
      "📦 Fetching heart_rate...\n",
      "✅ Saved heart_rate → heart_rate_2025-05-12.json\n",
      "\n",
      "📅 2025-05-13\n",
      "📦 Fetching steps...\n",
      "✅ Saved steps → steps_2025-05-13.json\n",
      "📦 Fetching sleep...\n",
      "✅ Saved sleep → sleep_2025-05-13.json\n",
      "📦 Fetching stress...\n",
      "✅ Saved stress → stress_2025-05-13.json\n",
      "📦 Fetching body_battery...\n",
      "✅ Saved body_battery → body_battery_2025-05-13.json\n",
      "📦 Fetching heart_rate...\n",
      "✅ Saved heart_rate → heart_rate_2025-05-13.json\n",
      "\n",
      "📅 2025-05-14\n",
      "📦 Fetching steps...\n",
      "✅ Saved steps → steps_2025-05-14.json\n",
      "📦 Fetching sleep...\n",
      "✅ Saved sleep → sleep_2025-05-14.json\n",
      "📦 Fetching stress...\n",
      "✅ Saved stress → stress_2025-05-14.json\n",
      "📦 Fetching body_battery...\n",
      "✅ Saved body_battery → body_battery_2025-05-14.json\n",
      "📦 Fetching heart_rate...\n",
      "✅ Saved heart_rate → heart_rate_2025-05-14.json\n",
      "\n",
      "📅 2025-05-15\n",
      "📦 Fetching steps...\n",
      "✅ Saved steps → steps_2025-05-15.json\n",
      "📦 Fetching sleep...\n",
      "✅ Saved sleep → sleep_2025-05-15.json\n",
      "📦 Fetching stress...\n",
      "✅ Saved stress → stress_2025-05-15.json\n",
      "📦 Fetching body_battery...\n",
      "✅ Saved body_battery → body_battery_2025-05-15.json\n",
      "📦 Fetching heart_rate...\n",
      "✅ Saved heart_rate → heart_rate_2025-05-15.json\n",
      "\n",
      "📅 2025-05-16\n",
      "📦 Fetching steps...\n",
      "✅ Saved steps → steps_2025-05-16.json\n",
      "📦 Fetching sleep...\n",
      "✅ Saved sleep → sleep_2025-05-16.json\n",
      "📦 Fetching stress...\n",
      "✅ Saved stress → stress_2025-05-16.json\n",
      "📦 Fetching body_battery...\n",
      "✅ Saved body_battery → body_battery_2025-05-16.json\n",
      "📦 Fetching heart_rate...\n",
      "✅ Saved heart_rate → heart_rate_2025-05-16.json\n",
      "\n",
      "📅 2025-05-17\n",
      "📦 Fetching steps...\n",
      "✅ Saved steps → steps_2025-05-17.json\n",
      "📦 Fetching sleep...\n",
      "✅ Saved sleep → sleep_2025-05-17.json\n",
      "📦 Fetching stress...\n",
      "✅ Saved stress → stress_2025-05-17.json\n",
      "📦 Fetching body_battery...\n",
      "✅ Saved body_battery → body_battery_2025-05-17.json\n",
      "📦 Fetching heart_rate...\n",
      "✅ Saved heart_rate → heart_rate_2025-05-17.json\n",
      "\n",
      "📅 2025-05-18\n",
      "📦 Fetching steps...\n",
      "✅ Saved steps → steps_2025-05-18.json\n",
      "📦 Fetching sleep...\n",
      "✅ Saved sleep → sleep_2025-05-18.json\n",
      "📦 Fetching stress...\n",
      "✅ Saved stress → stress_2025-05-18.json\n",
      "📦 Fetching body_battery...\n",
      "✅ Saved body_battery → body_battery_2025-05-18.json\n",
      "📦 Fetching heart_rate...\n",
      "✅ Saved heart_rate → heart_rate_2025-05-18.json\n",
      "\n",
      "📅 2025-05-19\n",
      "📦 Fetching steps...\n",
      "✅ Saved steps → steps_2025-05-19.json\n",
      "📦 Fetching sleep...\n",
      "✅ Saved sleep → sleep_2025-05-19.json\n",
      "📦 Fetching stress...\n",
      "✅ Saved stress → stress_2025-05-19.json\n",
      "📦 Fetching body_battery...\n",
      "✅ Saved body_battery → body_battery_2025-05-19.json\n",
      "📦 Fetching heart_rate...\n",
      "✅ Saved heart_rate → heart_rate_2025-05-19.json\n",
      "\n",
      "📅 2025-05-20\n",
      "📦 Fetching steps...\n",
      "✅ Saved steps → steps_2025-05-20.json\n",
      "📦 Fetching sleep...\n",
      "✅ Saved sleep → sleep_2025-05-20.json\n",
      "📦 Fetching stress...\n",
      "✅ Saved stress → stress_2025-05-20.json\n",
      "📦 Fetching body_battery...\n",
      "✅ Saved body_battery → body_battery_2025-05-20.json\n",
      "📦 Fetching heart_rate...\n",
      "✅ Saved heart_rate → heart_rate_2025-05-20.json\n",
      "\n",
      "📅 2025-05-21\n",
      "📦 Fetching steps...\n",
      "✅ Saved steps → steps_2025-05-21.json\n",
      "📦 Fetching sleep...\n",
      "✅ Saved sleep → sleep_2025-05-21.json\n",
      "📦 Fetching stress...\n",
      "✅ Saved stress → stress_2025-05-21.json\n",
      "📦 Fetching body_battery...\n",
      "✅ Saved body_battery → body_battery_2025-05-21.json\n",
      "📦 Fetching heart_rate...\n",
      "✅ Saved heart_rate → heart_rate_2025-05-21.json\n",
      "\n",
      "📅 2025-05-22\n",
      "📦 Fetching steps...\n",
      "✅ Saved steps → steps_2025-05-22.json\n",
      "📦 Fetching sleep...\n",
      "✅ Saved sleep → sleep_2025-05-22.json\n",
      "📦 Fetching stress...\n",
      "✅ Saved stress → stress_2025-05-22.json\n",
      "📦 Fetching body_battery...\n",
      "✅ Saved body_battery → body_battery_2025-05-22.json\n",
      "📦 Fetching heart_rate...\n",
      "✅ Saved heart_rate → heart_rate_2025-05-22.json\n",
      "\n",
      "📅 2025-05-23\n",
      "📦 Fetching steps...\n",
      "✅ Saved steps → steps_2025-05-23.json\n",
      "📦 Fetching sleep...\n",
      "✅ Saved sleep → sleep_2025-05-23.json\n",
      "📦 Fetching stress...\n",
      "✅ Saved stress → stress_2025-05-23.json\n",
      "📦 Fetching body_battery...\n",
      "✅ Saved body_battery → body_battery_2025-05-23.json\n",
      "📦 Fetching heart_rate...\n",
      "✅ Saved heart_rate → heart_rate_2025-05-23.json\n",
      "\n",
      "📅 2025-05-24\n",
      "📦 Fetching steps...\n",
      "✅ Saved steps → steps_2025-05-24.json\n",
      "📦 Fetching sleep...\n",
      "✅ Saved sleep → sleep_2025-05-24.json\n",
      "📦 Fetching stress...\n",
      "✅ Saved stress → stress_2025-05-24.json\n",
      "📦 Fetching body_battery...\n",
      "✅ Saved body_battery → body_battery_2025-05-24.json\n",
      "📦 Fetching heart_rate...\n",
      "✅ Saved heart_rate → heart_rate_2025-05-24.json\n",
      "\n",
      "📅 2025-05-25\n",
      "📦 Fetching steps...\n",
      "✅ Saved steps → steps_2025-05-25.json\n",
      "📦 Fetching sleep...\n",
      "✅ Saved sleep → sleep_2025-05-25.json\n",
      "📦 Fetching stress...\n",
      "✅ Saved stress → stress_2025-05-25.json\n",
      "📦 Fetching body_battery...\n",
      "✅ Saved body_battery → body_battery_2025-05-25.json\n",
      "📦 Fetching heart_rate...\n",
      "✅ Saved heart_rate → heart_rate_2025-05-25.json\n",
      "\n",
      "📅 2025-05-26\n",
      "📦 Fetching steps...\n",
      "✅ Saved steps → steps_2025-05-26.json\n",
      "📦 Fetching sleep...\n",
      "✅ Saved sleep → sleep_2025-05-26.json\n",
      "📦 Fetching stress...\n",
      "✅ Saved stress → stress_2025-05-26.json\n",
      "📦 Fetching body_battery...\n",
      "✅ Saved body_battery → body_battery_2025-05-26.json\n",
      "📦 Fetching heart_rate...\n",
      "✅ Saved heart_rate → heart_rate_2025-05-26.json\n",
      "\n",
      "📅 2025-05-27\n",
      "📦 Fetching steps...\n",
      "✅ Saved steps → steps_2025-05-27.json\n",
      "📦 Fetching sleep...\n",
      "✅ Saved sleep → sleep_2025-05-27.json\n",
      "📦 Fetching stress...\n",
      "✅ Saved stress → stress_2025-05-27.json\n",
      "📦 Fetching body_battery...\n",
      "✅ Saved body_battery → body_battery_2025-05-27.json\n",
      "📦 Fetching heart_rate...\n",
      "✅ Saved heart_rate → heart_rate_2025-05-27.json\n",
      "\n",
      "📅 2025-05-28\n",
      "📦 Fetching steps...\n",
      "✅ Saved steps → steps_2025-05-28.json\n",
      "📦 Fetching sleep...\n",
      "✅ Saved sleep → sleep_2025-05-28.json\n",
      "📦 Fetching stress...\n",
      "✅ Saved stress → stress_2025-05-28.json\n",
      "📦 Fetching body_battery...\n",
      "✅ Saved body_battery → body_battery_2025-05-28.json\n",
      "📦 Fetching heart_rate...\n",
      "✅ Saved heart_rate → heart_rate_2025-05-28.json\n",
      "\n",
      "📅 2025-05-29\n",
      "📦 Fetching steps...\n",
      "✅ Saved steps → steps_2025-05-29.json\n",
      "📦 Fetching sleep...\n",
      "✅ Saved sleep → sleep_2025-05-29.json\n",
      "📦 Fetching stress...\n",
      "✅ Saved stress → stress_2025-05-29.json\n",
      "📦 Fetching body_battery...\n",
      "✅ Saved body_battery → body_battery_2025-05-29.json\n",
      "📦 Fetching heart_rate...\n",
      "✅ Saved heart_rate → heart_rate_2025-05-29.json\n",
      "\n",
      "📅 2025-05-30\n",
      "📦 Fetching steps...\n",
      "✅ Saved steps → steps_2025-05-30.json\n",
      "📦 Fetching sleep...\n",
      "✅ Saved sleep → sleep_2025-05-30.json\n",
      "📦 Fetching stress...\n",
      "✅ Saved stress → stress_2025-05-30.json\n",
      "📦 Fetching body_battery...\n",
      "✅ Saved body_battery → body_battery_2025-05-30.json\n",
      "📦 Fetching heart_rate...\n",
      "✅ Saved heart_rate → heart_rate_2025-05-30.json\n",
      "\n",
      "📅 2025-05-31\n",
      "📦 Fetching steps...\n",
      "✅ Saved steps → steps_2025-05-31.json\n",
      "📦 Fetching sleep...\n",
      "✅ Saved sleep → sleep_2025-05-31.json\n",
      "📦 Fetching stress...\n",
      "✅ Saved stress → stress_2025-05-31.json\n",
      "📦 Fetching body_battery...\n",
      "✅ Saved body_battery → body_battery_2025-05-31.json\n",
      "📦 Fetching heart_rate...\n",
      "✅ Saved heart_rate → heart_rate_2025-05-31.json\n",
      "\n",
      "📅 2025-06-01\n",
      "📦 Fetching steps...\n",
      "✅ Saved steps → steps_2025-06-01.json\n",
      "📦 Fetching sleep...\n",
      "✅ Saved sleep → sleep_2025-06-01.json\n",
      "📦 Fetching stress...\n",
      "✅ Saved stress → stress_2025-06-01.json\n",
      "📦 Fetching body_battery...\n",
      "✅ Saved body_battery → body_battery_2025-06-01.json\n",
      "📦 Fetching heart_rate...\n",
      "✅ Saved heart_rate → heart_rate_2025-06-01.json\n",
      "\n",
      "📅 2025-06-02\n",
      "📦 Fetching steps...\n",
      "✅ Saved steps → steps_2025-06-02.json\n",
      "📦 Fetching sleep...\n",
      "✅ Saved sleep → sleep_2025-06-02.json\n",
      "📦 Fetching stress...\n",
      "✅ Saved stress → stress_2025-06-02.json\n",
      "📦 Fetching body_battery...\n",
      "✅ Saved body_battery → body_battery_2025-06-02.json\n",
      "📦 Fetching heart_rate...\n",
      "✅ Saved heart_rate → heart_rate_2025-06-02.json\n",
      "\n",
      "📅 2025-06-03\n",
      "📦 Fetching steps...\n",
      "✅ Saved steps → steps_2025-06-03.json\n",
      "📦 Fetching sleep...\n",
      "✅ Saved sleep → sleep_2025-06-03.json\n",
      "📦 Fetching stress...\n",
      "✅ Saved stress → stress_2025-06-03.json\n",
      "📦 Fetching body_battery...\n",
      "✅ Saved body_battery → body_battery_2025-06-03.json\n",
      "📦 Fetching heart_rate...\n",
      "✅ Saved heart_rate → heart_rate_2025-06-03.json\n",
      "\n",
      "📅 2025-06-04\n",
      "📦 Fetching steps...\n",
      "✅ Saved steps → steps_2025-06-04.json\n",
      "📦 Fetching sleep...\n",
      "✅ Saved sleep → sleep_2025-06-04.json\n",
      "📦 Fetching stress...\n",
      "✅ Saved stress → stress_2025-06-04.json\n",
      "📦 Fetching body_battery...\n",
      "✅ Saved body_battery → body_battery_2025-06-04.json\n",
      "📦 Fetching heart_rate...\n",
      "✅ Saved heart_rate → heart_rate_2025-06-04.json\n",
      "\n",
      "📅 2025-06-05\n",
      "📦 Fetching steps...\n",
      "✅ Saved steps → steps_2025-06-05.json\n",
      "📦 Fetching sleep...\n",
      "✅ Saved sleep → sleep_2025-06-05.json\n",
      "📦 Fetching stress...\n",
      "✅ Saved stress → stress_2025-06-05.json\n",
      "📦 Fetching body_battery...\n",
      "✅ Saved body_battery → body_battery_2025-06-05.json\n",
      "📦 Fetching heart_rate...\n",
      "✅ Saved heart_rate → heart_rate_2025-06-05.json\n",
      "\n",
      "📅 2025-06-06\n",
      "📦 Fetching steps...\n",
      "✅ Saved steps → steps_2025-06-06.json\n",
      "📦 Fetching sleep...\n",
      "✅ Saved sleep → sleep_2025-06-06.json\n",
      "📦 Fetching stress...\n",
      "✅ Saved stress → stress_2025-06-06.json\n",
      "📦 Fetching body_battery...\n",
      "✅ Saved body_battery → body_battery_2025-06-06.json\n",
      "📦 Fetching heart_rate...\n",
      "✅ Saved heart_rate → heart_rate_2025-06-06.json\n",
      "\n",
      "📅 2025-06-07\n",
      "📦 Fetching steps...\n",
      "✅ Saved steps → steps_2025-06-07.json\n",
      "📦 Fetching sleep...\n",
      "✅ Saved sleep → sleep_2025-06-07.json\n",
      "📦 Fetching stress...\n",
      "✅ Saved stress → stress_2025-06-07.json\n",
      "📦 Fetching body_battery...\n",
      "✅ Saved body_battery → body_battery_2025-06-07.json\n",
      "📦 Fetching heart_rate...\n",
      "✅ Saved heart_rate → heart_rate_2025-06-07.json\n",
      "\n",
      "📅 2025-06-08\n",
      "📦 Fetching steps...\n",
      "✅ Saved steps → steps_2025-06-08.json\n",
      "📦 Fetching sleep...\n",
      "✅ Saved sleep → sleep_2025-06-08.json\n",
      "📦 Fetching stress...\n",
      "✅ Saved stress → stress_2025-06-08.json\n",
      "📦 Fetching body_battery...\n",
      "✅ Saved body_battery → body_battery_2025-06-08.json\n",
      "📦 Fetching heart_rate...\n",
      "✅ Saved heart_rate → heart_rate_2025-06-08.json\n",
      "\n",
      "📅 2025-06-09\n",
      "📦 Fetching steps...\n",
      "✅ Saved steps → steps_2025-06-09.json\n",
      "📦 Fetching sleep...\n",
      "✅ Saved sleep → sleep_2025-06-09.json\n",
      "📦 Fetching stress...\n",
      "✅ Saved stress → stress_2025-06-09.json\n",
      "📦 Fetching body_battery...\n",
      "✅ Saved body_battery → body_battery_2025-06-09.json\n",
      "📦 Fetching heart_rate...\n",
      "✅ Saved heart_rate → heart_rate_2025-06-09.json\n",
      "\n",
      "📅 2025-06-10\n",
      "📦 Fetching steps...\n",
      "✅ Saved steps → steps_2025-06-10.json\n",
      "📦 Fetching sleep...\n",
      "✅ Saved sleep → sleep_2025-06-10.json\n",
      "📦 Fetching stress...\n",
      "✅ Saved stress → stress_2025-06-10.json\n",
      "📦 Fetching body_battery...\n",
      "✅ Saved body_battery → body_battery_2025-06-10.json\n",
      "📦 Fetching heart_rate...\n",
      "✅ Saved heart_rate → heart_rate_2025-06-10.json\n",
      "\n",
      "📅 2025-06-11\n",
      "📦 Fetching steps...\n",
      "✅ Saved steps → steps_2025-06-11.json\n",
      "📦 Fetching sleep...\n",
      "✅ Saved sleep → sleep_2025-06-11.json\n",
      "📦 Fetching stress...\n",
      "✅ Saved stress → stress_2025-06-11.json\n",
      "📦 Fetching body_battery...\n",
      "✅ Saved body_battery → body_battery_2025-06-11.json\n",
      "📦 Fetching heart_rate...\n",
      "✅ Saved heart_rate → heart_rate_2025-06-11.json\n",
      "\n",
      "📅 2025-06-12\n",
      "📦 Fetching steps...\n",
      "✅ Saved steps → steps_2025-06-12.json\n",
      "📦 Fetching sleep...\n",
      "✅ Saved sleep → sleep_2025-06-12.json\n",
      "📦 Fetching stress...\n",
      "✅ Saved stress → stress_2025-06-12.json\n",
      "📦 Fetching body_battery...\n",
      "✅ Saved body_battery → body_battery_2025-06-12.json\n",
      "📦 Fetching heart_rate...\n",
      "✅ Saved heart_rate → heart_rate_2025-06-12.json\n",
      "\n",
      "📅 2025-06-13\n",
      "📦 Fetching steps...\n",
      "✅ Saved steps → steps_2025-06-13.json\n",
      "📦 Fetching sleep...\n",
      "✅ Saved sleep → sleep_2025-06-13.json\n",
      "📦 Fetching stress...\n",
      "✅ Saved stress → stress_2025-06-13.json\n",
      "📦 Fetching body_battery...\n",
      "✅ Saved body_battery → body_battery_2025-06-13.json\n",
      "📦 Fetching heart_rate...\n",
      "✅ Saved heart_rate → heart_rate_2025-06-13.json\n",
      "\n",
      "📅 2025-06-14\n",
      "📦 Fetching steps...\n",
      "✅ Saved steps → steps_2025-06-14.json\n",
      "📦 Fetching sleep...\n",
      "✅ Saved sleep → sleep_2025-06-14.json\n",
      "📦 Fetching stress...\n",
      "✅ Saved stress → stress_2025-06-14.json\n",
      "📦 Fetching body_battery...\n",
      "✅ Saved body_battery → body_battery_2025-06-14.json\n",
      "📦 Fetching heart_rate...\n",
      "✅ Saved heart_rate → heart_rate_2025-06-14.json\n",
      "\n",
      "📅 2025-06-15\n",
      "📦 Fetching steps...\n",
      "✅ Saved steps → steps_2025-06-15.json\n",
      "📦 Fetching sleep...\n",
      "✅ Saved sleep → sleep_2025-06-15.json\n",
      "📦 Fetching stress...\n",
      "✅ Saved stress → stress_2025-06-15.json\n",
      "📦 Fetching body_battery...\n",
      "✅ Saved body_battery → body_battery_2025-06-15.json\n",
      "📦 Fetching heart_rate...\n",
      "✅ Saved heart_rate → heart_rate_2025-06-15.json\n",
      "\n",
      "📅 2025-06-16\n",
      "📦 Fetching steps...\n",
      "✅ Saved steps → steps_2025-06-16.json\n",
      "📦 Fetching sleep...\n",
      "✅ Saved sleep → sleep_2025-06-16.json\n",
      "📦 Fetching stress...\n",
      "✅ Saved stress → stress_2025-06-16.json\n",
      "📦 Fetching body_battery...\n",
      "✅ Saved body_battery → body_battery_2025-06-16.json\n",
      "📦 Fetching heart_rate...\n",
      "✅ Saved heart_rate → heart_rate_2025-06-16.json\n",
      "\n",
      "📅 2025-06-17\n",
      "📦 Fetching steps...\n",
      "✅ Saved steps → steps_2025-06-17.json\n",
      "📦 Fetching sleep...\n",
      "✅ Saved sleep → sleep_2025-06-17.json\n",
      "📦 Fetching stress...\n",
      "✅ Saved stress → stress_2025-06-17.json\n",
      "📦 Fetching body_battery...\n",
      "✅ Saved body_battery → body_battery_2025-06-17.json\n",
      "📦 Fetching heart_rate...\n",
      "✅ Saved heart_rate → heart_rate_2025-06-17.json\n",
      "\n",
      "📅 2025-06-18\n",
      "📦 Fetching steps...\n",
      "✅ Saved steps → steps_2025-06-18.json\n",
      "📦 Fetching sleep...\n",
      "✅ Saved sleep → sleep_2025-06-18.json\n",
      "📦 Fetching stress...\n",
      "✅ Saved stress → stress_2025-06-18.json\n",
      "📦 Fetching body_battery...\n",
      "✅ Saved body_battery → body_battery_2025-06-18.json\n",
      "📦 Fetching heart_rate...\n",
      "✅ Saved heart_rate → heart_rate_2025-06-18.json\n",
      "\n",
      "📅 2025-06-19\n",
      "📦 Fetching steps...\n",
      "✅ Saved steps → steps_2025-06-19.json\n",
      "📦 Fetching sleep...\n",
      "✅ Saved sleep → sleep_2025-06-19.json\n",
      "📦 Fetching stress...\n",
      "✅ Saved stress → stress_2025-06-19.json\n",
      "📦 Fetching body_battery...\n",
      "✅ Saved body_battery → body_battery_2025-06-19.json\n",
      "📦 Fetching heart_rate...\n",
      "✅ Saved heart_rate → heart_rate_2025-06-19.json\n",
      "\n",
      "📅 2025-06-20\n",
      "📦 Fetching steps...\n",
      "✅ Saved steps → steps_2025-06-20.json\n",
      "📦 Fetching sleep...\n",
      "✅ Saved sleep → sleep_2025-06-20.json\n",
      "📦 Fetching stress...\n",
      "✅ Saved stress → stress_2025-06-20.json\n",
      "📦 Fetching body_battery...\n",
      "✅ Saved body_battery → body_battery_2025-06-20.json\n",
      "📦 Fetching heart_rate...\n",
      "✅ Saved heart_rate → heart_rate_2025-06-20.json\n",
      "\n",
      "📅 2025-06-21\n",
      "📦 Fetching steps...\n",
      "✅ Saved steps → steps_2025-06-21.json\n",
      "📦 Fetching sleep...\n",
      "✅ Saved sleep → sleep_2025-06-21.json\n",
      "📦 Fetching stress...\n",
      "✅ Saved stress → stress_2025-06-21.json\n",
      "📦 Fetching body_battery...\n",
      "✅ Saved body_battery → body_battery_2025-06-21.json\n",
      "📦 Fetching heart_rate...\n",
      "✅ Saved heart_rate → heart_rate_2025-06-21.json\n",
      "\n",
      "📅 2025-06-22\n",
      "📦 Fetching steps...\n",
      "✅ Saved steps → steps_2025-06-22.json\n",
      "📦 Fetching sleep...\n",
      "✅ Saved sleep → sleep_2025-06-22.json\n",
      "📦 Fetching stress...\n",
      "✅ Saved stress → stress_2025-06-22.json\n",
      "📦 Fetching body_battery...\n",
      "✅ Saved body_battery → body_battery_2025-06-22.json\n",
      "📦 Fetching heart_rate...\n",
      "✅ Saved heart_rate → heart_rate_2025-06-22.json\n",
      "\n",
      "📅 2025-06-23\n",
      "📦 Fetching steps...\n",
      "✅ Saved steps → steps_2025-06-23.json\n",
      "📦 Fetching sleep...\n",
      "✅ Saved sleep → sleep_2025-06-23.json\n",
      "📦 Fetching stress...\n",
      "✅ Saved stress → stress_2025-06-23.json\n",
      "📦 Fetching body_battery...\n",
      "✅ Saved body_battery → body_battery_2025-06-23.json\n",
      "📦 Fetching heart_rate...\n",
      "✅ Saved heart_rate → heart_rate_2025-06-23.json\n",
      "\n",
      "📅 2025-06-24\n",
      "📦 Fetching steps...\n",
      "✅ Saved steps → steps_2025-06-24.json\n",
      "📦 Fetching sleep...\n",
      "✅ Saved sleep → sleep_2025-06-24.json\n",
      "📦 Fetching stress...\n",
      "✅ Saved stress → stress_2025-06-24.json\n",
      "📦 Fetching body_battery...\n",
      "✅ Saved body_battery → body_battery_2025-06-24.json\n",
      "📦 Fetching heart_rate...\n",
      "✅ Saved heart_rate → heart_rate_2025-06-24.json\n",
      "\n",
      "📅 2025-06-25\n",
      "📦 Fetching steps...\n",
      "✅ Saved steps → steps_2025-06-25.json\n",
      "📦 Fetching sleep...\n",
      "✅ Saved sleep → sleep_2025-06-25.json\n",
      "📦 Fetching stress...\n",
      "✅ Saved stress → stress_2025-06-25.json\n",
      "📦 Fetching body_battery...\n",
      "✅ Saved body_battery → body_battery_2025-06-25.json\n",
      "📦 Fetching heart_rate...\n",
      "✅ Saved heart_rate → heart_rate_2025-06-25.json\n",
      "\n",
      "📅 2025-06-26\n",
      "📦 Fetching steps...\n",
      "✅ Saved steps → steps_2025-06-26.json\n",
      "📦 Fetching sleep...\n",
      "✅ Saved sleep → sleep_2025-06-26.json\n",
      "📦 Fetching stress...\n",
      "✅ Saved stress → stress_2025-06-26.json\n",
      "📦 Fetching body_battery...\n",
      "✅ Saved body_battery → body_battery_2025-06-26.json\n",
      "📦 Fetching heart_rate...\n",
      "✅ Saved heart_rate → heart_rate_2025-06-26.json\n",
      "\n",
      "📅 2025-06-27\n",
      "📦 Fetching steps...\n",
      "✅ Saved steps → steps_2025-06-27.json\n",
      "📦 Fetching sleep...\n",
      "✅ Saved sleep → sleep_2025-06-27.json\n",
      "📦 Fetching stress...\n",
      "✅ Saved stress → stress_2025-06-27.json\n",
      "📦 Fetching body_battery...\n",
      "✅ Saved body_battery → body_battery_2025-06-27.json\n",
      "📦 Fetching heart_rate...\n",
      "✅ Saved heart_rate → heart_rate_2025-06-27.json\n",
      "\n",
      "📅 2025-06-28\n",
      "📦 Fetching steps...\n",
      "✅ Saved steps → steps_2025-06-28.json\n",
      "📦 Fetching sleep...\n",
      "✅ Saved sleep → sleep_2025-06-28.json\n",
      "📦 Fetching stress...\n",
      "✅ Saved stress → stress_2025-06-28.json\n",
      "📦 Fetching body_battery...\n",
      "✅ Saved body_battery → body_battery_2025-06-28.json\n",
      "📦 Fetching heart_rate...\n",
      "✅ Saved heart_rate → heart_rate_2025-06-28.json\n",
      "\n",
      "📅 2025-06-29\n",
      "📦 Fetching steps...\n",
      "🚫 No valid steps data for 2025-06-29, skipping.\n",
      "📦 Fetching sleep...\n",
      "✅ Saved sleep → sleep_2025-06-29.json\n",
      "📦 Fetching stress...\n",
      "✅ Saved stress → stress_2025-06-29.json\n",
      "📦 Fetching body_battery...\n",
      "🚫 No valid body_battery data for 2025-06-29, skipping.\n",
      "📦 Fetching heart_rate...\n",
      "✅ Saved heart_rate → heart_rate_2025-06-29.json\n"
     ]
    },
    {
     "data": {
      "text/plain": [
       "CompletedProcess(args=['python3', '/Users/tolgasabanoglu/Desktop/github/spatiotemporal/scripts/parse_garmin.py'], returncode=0)"
      ]
     },
     "execution_count": 67,
     "metadata": {},
     "output_type": "execute_result"
    }
   ],
   "source": [
    "import subprocess\n",
    "\n",
    "subprocess.run([\"python3\", \"/Users/tolgasabanoglu/Desktop/github/spatiotemporal/scripts/parse_garmin.py\"])"
   ]
  },
  {
   "cell_type": "code",
   "execution_count": 3,
   "metadata": {},
   "outputs": [
    {
     "name": "stdout",
     "output_type": "stream",
     "text": [
      "\n",
      "📊 Garmin JSON File Audit:\n",
      "\n",
      "        type  file_count format  has_date sample_date                                                                                                                                                                                                                                                                                                top_keys\n",
      "       steps         124   list      True  2025-02-24                                                                                                                                                                                                                          [startGMT, endGMT, steps, pushes, primaryActivityLevel, activityLevelConstant]\n",
      "      stress         125   dict      True  2025-02-25 [userProfilePK, calendarDate, startTimestampGMT, endTimestampGMT, startTimestampLocal, endTimestampLocal, maxStressLevel, avgStressLevel, stressChartValueOffset, stressChartYAxisOrigin, stressValueDescriptorsDTOList, stressValuesArray, bodyBatteryValueDescriptorsDTOList, bodyBatteryValuesArray]\n",
      "       sleep         125   dict     False           —                                                                                                                                                                                                                                               [dailySleepDTO, sleepMovement, remSleepData, sleepLevels]\n",
      "body_battery         124   list      True  2025-02-24                                                                                                                                         [date, charged, drained, startTimestampGMT, endTimestampGMT, startTimestampLocal, endTimestampLocal, bodyBatteryValuesArray, bodyBatteryValueDescriptorDTOList]\n",
      "  heart_rate         125   dict      True  2025-02-25                                                                   [userProfilePK, calendarDate, startTimestampGMT, endTimestampGMT, startTimestampLocal, endTimestampLocal, maxHeartRate, minHeartRate, restingHeartRate, lastSevenDaysAvgRestingHeartRate, heartRateValueDescriptors, heartRateValues]\n"
     ]
    }
   ],
   "source": [
    "import os\n",
    "import json\n",
    "from glob import glob\n",
    "import pandas as pd\n",
    "\n",
    "# Directory with your raw Garmin data\n",
    "raw_dir = \"/Users/tolgasabanoglu/Desktop/github/spatiotemporal/data/raw/\"\n",
    "json_files = sorted(glob(os.path.join(raw_dir, \"*.json\")))\n",
    "\n",
    "# Known Garmin data prefixes\n",
    "file_types = [\"steps\", \"stress\", \"sleep\", \"body_battery\", \"heart_rate\"]\n",
    "\n",
    "audit_rows = []\n",
    "\n",
    "for ftype in file_types:\n",
    "    matching = [f for f in json_files if os.path.basename(f).startswith(ftype)]\n",
    "    entry = {\n",
    "        \"type\": ftype,\n",
    "        \"file_count\": len(matching),\n",
    "        \"format\": \"❓\",\n",
    "        \"has_date\": False,\n",
    "        \"sample_date\": \"—\",\n",
    "        \"top_keys\": []\n",
    "    }\n",
    "    \n",
    "    for file in matching:\n",
    "        try:\n",
    "            with open(file) as f:\n",
    "                data = json.load(f)\n",
    "\n",
    "                if isinstance(data, list) and data:\n",
    "                    entry[\"format\"] = \"list\"\n",
    "                    entry[\"top_keys\"] = list(data[0].keys())\n",
    "                    date = (\n",
    "                        data[0].get(\"calendarDate\") or\n",
    "                        data[0].get(\"startGMT\") or\n",
    "                        data[0].get(\"startTimestampGMT\")\n",
    "                    )\n",
    "                    if date:\n",
    "                        entry[\"has_date\"] = True\n",
    "                        entry[\"sample_date\"] = str(date)[:10]\n",
    "                    break\n",
    "\n",
    "                elif isinstance(data, dict):\n",
    "                    entry[\"format\"] = \"dict\"\n",
    "                    entry[\"top_keys\"] = list(data.keys())\n",
    "                    date = (\n",
    "                        data.get(\"calendarDate\") or\n",
    "                        data.get(\"date\") or\n",
    "                        data.get(\"startTimestampGMT\")\n",
    "                    )\n",
    "                    if date:\n",
    "                        entry[\"has_date\"] = True\n",
    "                        entry[\"sample_date\"] = str(date)[:10]\n",
    "                    break\n",
    "        except Exception as e:\n",
    "            entry[\"top_keys\"] = [f\"⚠️ Error: {e}\"]\n",
    "\n",
    "    audit_rows.append(entry)\n",
    "\n",
    "# Show audit results as table\n",
    "df_audit = pd.DataFrame(audit_rows)\n",
    "df_audit = df_audit[[\"type\", \"file_count\", \"format\", \"has_date\", \"sample_date\", \"top_keys\"]]\n",
    "\n",
    "# Print as plain table\n",
    "print(\"\\n📊 Garmin JSON File Audit:\\n\")\n",
    "print(df_audit.to_string(index=False))\n"
   ]
  },
  {
   "cell_type": "code",
   "execution_count": 1,
   "metadata": {},
   "outputs": [
    {
     "name": "stdout",
     "output_type": "stream",
     "text": [
      "          date  body_charged  body_drained  resting_hr  sleep_score  \\\n",
      "125 2025-02-24           NaN           NaN         NaN          NaN   \n",
      "0   2025-02-25           0.0          13.0        75.0          NaN   \n",
      "1   2025-02-26          51.0          51.0        64.0          NaN   \n",
      "2   2025-02-27          50.0          23.0        68.0          NaN   \n",
      "3   2025-02-28          70.0          71.0        59.0          NaN   \n",
      "4   2025-03-01          53.0          68.0        60.0          NaN   \n",
      "5   2025-03-02          26.0          37.0        65.0          NaN   \n",
      "6   2025-03-03          72.0          48.0        65.0          NaN   \n",
      "7   2025-03-04          42.0          65.0        59.0          NaN   \n",
      "8   2025-03-05          75.0          67.0        57.0          NaN   \n",
      "\n",
      "     total_sleep_s  deep_sleep_s  light_sleep_s  rem_sleep_s  awake_s  \\\n",
      "125            NaN           NaN            NaN          NaN      NaN   \n",
      "0              NaN           NaN            NaN          NaN      NaN   \n",
      "1          23340.0        3300.0        14280.0       5760.0     60.0   \n",
      "2          31440.0        4380.0        23400.0       3660.0   4680.0   \n",
      "3          38985.0        3120.0        23880.0      12000.0    540.0   \n",
      "4          31080.0        3960.0        19920.0       7200.0    600.0   \n",
      "5          22080.0        1980.0        18000.0       2100.0   1020.0   \n",
      "6          26880.0        7860.0        13620.0       5400.0      0.0   \n",
      "7          17400.0        4200.0         9960.0       3240.0    300.0   \n",
      "8          29038.0        4680.0        16140.0       8220.0    240.0   \n",
      "\n",
      "     restless_moments    steps  avg_stress  max_stress  total_hleep_h  \\\n",
      "125               NaN    525.0         NaN         NaN            NaN   \n",
      "0                 NaN   9953.0        54.0        96.0            NaN   \n",
      "1                 NaN   2926.0        46.0        97.0       6.483333   \n",
      "2                 NaN   8521.0        43.0        96.0       8.733333   \n",
      "3                 NaN  17681.0        25.0        99.0      10.829167   \n",
      "4                 NaN   7008.0        37.0        99.0       8.633333   \n",
      "5                 NaN   5103.0        51.0        99.0       6.133333   \n",
      "6                 NaN   5488.0        28.0        95.0       7.466667   \n",
      "7                 NaN   2669.0        41.0        99.0       4.833333   \n",
      "8                 NaN   7114.0        38.0        98.0       8.066111   \n",
      "\n",
      "     deep_hleep_h  light_hleep_h  rem_hleep_h   awake_h  \n",
      "125           NaN            NaN          NaN       NaN  \n",
      "0             NaN            NaN          NaN       NaN  \n",
      "1        0.916667       3.966667     1.600000  0.016667  \n",
      "2        1.216667       6.500000     1.016667  1.300000  \n",
      "3        0.866667       6.633333     3.333333  0.150000  \n",
      "4        1.100000       5.533333     2.000000  0.166667  \n",
      "5        0.550000       5.000000     0.583333  0.283333  \n",
      "6        2.183333       3.783333     1.500000  0.000000  \n",
      "7        1.166667       2.766667     0.900000  0.083333  \n",
      "8        1.300000       4.483333     2.283333  0.066667  \n"
     ]
    }
   ],
   "source": [
    "import os\n",
    "import json\n",
    "import pandas as pd\n",
    "from glob import glob\n",
    "from collections import defaultdict\n",
    "\n",
    "# ---- Setup ----\n",
    "raw_dir = \"/Users/tolgasabanoglu/Desktop/github/spatiotemporal/data/raw/\"\n",
    "json_files = sorted(glob(os.path.join(raw_dir, \"*.json\")))\n",
    "summary = defaultdict(dict)\n",
    "\n",
    "# ---- Parse Files ----\n",
    "for file in json_files:\n",
    "    fname = os.path.basename(file)\n",
    "\n",
    "    try:\n",
    "        with open(file) as f:\n",
    "            data = json.load(f)\n",
    "    except Exception as e:\n",
    "        print(f\"⚠️ Could not load {fname}: {e}\")\n",
    "        continue\n",
    "\n",
    "    # ---- STEPS ----\n",
    "    if fname.startswith(\"steps\") and isinstance(data, list) and data:\n",
    "        date = data[0].get(\"startGMT\", \"\")[:10]\n",
    "        steps = sum(item.get(\"steps\", 0) for item in data if isinstance(item, dict))\n",
    "        summary[date][\"steps\"] = steps\n",
    "\n",
    "    # ---- STRESS ----\n",
    "    elif fname.startswith(\"stress\") and isinstance(data, dict):\n",
    "        date = data.get(\"calendarDate\")\n",
    "        if date:\n",
    "            summary[date][\"avg_stress\"] = data.get(\"avgStressLevel\")\n",
    "            summary[date][\"max_stress\"] = data.get(\"maxStressLevel\")\n",
    "\n",
    "    # ---- BODY BATTERY ----\n",
    "    elif fname.startswith(\"body_battery\"):\n",
    "        if isinstance(data, list):\n",
    "            for entry in data:\n",
    "                if isinstance(entry, dict):\n",
    "                    date = entry.get(\"date\")\n",
    "                    if date:\n",
    "                        summary[date][\"body_charged\"] = entry.get(\"charged\")\n",
    "                        summary[date][\"body_drained\"] = entry.get(\"drained\")\n",
    "        elif isinstance(data, dict):\n",
    "            date = data.get(\"date\")\n",
    "            if date:\n",
    "                summary[date][\"body_charged\"] = data.get(\"charged\")\n",
    "                summary[date][\"body_drained\"] = data.get(\"drained\")\n",
    "\n",
    "    # ---- HEART RATE ----\n",
    "    elif fname.startswith(\"heart_rate\") and isinstance(data, dict):\n",
    "        date = data.get(\"calendarDate\")\n",
    "        if date:\n",
    "            summary[date][\"resting_hr\"] = data.get(\"restingHeartRate\")\n",
    "\n",
    "    # ---- SLEEP ----\n",
    "    elif fname.startswith(\"sleep\") and isinstance(data, dict):\n",
    "        record = {}\n",
    "        date = None\n",
    "\n",
    "        daily = data.get(\"dailySleepDTO\")\n",
    "        if isinstance(daily, dict):\n",
    "            date = daily.get(\"calendarDate\") or daily.get(\"sleepEndTimestampGMT\", \"\")[:10]\n",
    "            record.update({\n",
    "                \"sleep_score\": daily.get(\"overallSleepScore\"),\n",
    "                \"total_sleep_s\": daily.get(\"sleepTimeSeconds\"),\n",
    "                \"deep_sleep_s\": daily.get(\"deepSleepSeconds\"),\n",
    "                \"light_sleep_s\": daily.get(\"lightSleepSeconds\"),\n",
    "                \"rem_sleep_s\": daily.get(\"remSleepSeconds\"),\n",
    "                \"awake_s\": daily.get(\"awakeSleepSeconds\"),\n",
    "                \"restless_moments\": daily.get(\"restlessMomentsCount\")\n",
    "            })\n",
    "\n",
    "        rem = data.get(\"remSleepData\")\n",
    "        if isinstance(rem, dict):\n",
    "            record.update({\n",
    "                \"rem_count\": rem.get(\"remSleepCount\"),\n",
    "                \"avg_rem_duration_s\": rem.get(\"avgRemSleepSeconds\")\n",
    "            })\n",
    "\n",
    "        if date:\n",
    "            summary[date].update(record)\n",
    "\n",
    "# ---- Create DataFrame ----\n",
    "df = pd.DataFrame.from_dict(summary, orient=\"index\").reset_index()\n",
    "df = df.rename(columns={\"index\": \"date\"})\n",
    "df[\"date\"] = pd.to_datetime(df[\"date\"], errors=\"coerce\")\n",
    "df = df.sort_values(\"date\")\n",
    "\n",
    "# ---- Convert seconds → hours ----\n",
    "sleep_cols = [\"total_sleep_s\", \"deep_sleep_s\", \"light_sleep_s\", \"rem_sleep_s\", \"awake_s\", \"avg_rem_duration_s\"]\n",
    "for col in sleep_cols:\n",
    "    if col in df.columns:\n",
    "        df[col.replace(\"_s\", \"_h\")] = df[col] / 3600\n",
    "\n",
    "# ---- Preview ----\n",
    "print(df.head(10))\n"
   ]
  },
  {
   "cell_type": "code",
   "execution_count": 2,
   "metadata": {},
   "outputs": [
    {
     "data": {
      "application/vnd.plotly.v1+json": {
       "config": {
        "plotlyServerURL": "https://plot.ly"
       },
       "data": [
        {
         "mode": "markers",
         "name": "body_charged",
         "type": "scatter",
         "x": {
          "bdata": "AAAAAAAAS0AAAAAAAABHQAAAAAAAgEVAAAAAAAAAOUAAAAAAAIBCQAAAAAAAgElAAAAAAAAAPEAAAAAAAIBEQAAAAAAAAENAAAAAAAAARUAAAAAAAMBQQAAAAAAAgEJAAAAAAACAQ0AAAAAAAAA/QAAAAAAAADhAAAAAAACASUAAAAAAAABJQAAAAAAAAENAAAAAAAAAQUAAAAAAAAA/QAAAAAAAAERAAAAAAACAQEAAAAAAAABDQAAAAAAAAEZAAAAAAAAAREAAAAAAAABBQAAAAAAAAD9AAAAAAAAARUAAAAAAAIBJQAAAAAAAAEdAAAAAAACAQEAAAAAAAABGQAAAAAAAgElAAAAAAAAAPUAAAAAAAAA+QAAAAAAAAEtAAAAAAACASUAAAAAAAIBKQAAAAAAAAEVAAAAAAAAAP0AAAAAAAAA4QAAAAAAAgEFAAAAAAACARkAAAAAAAIBBQAAAAAAAgEJAAAAAAAAAREAAAAAAAIBIQAAAAAAAADxAAAAAAACAR0AAAAAAAIBDQAAAAAAAAENAAAAAAACAQEAAAAAAAABJQAAAAAAAAEZAAAAAAAAAP0AAAAAAAAA/QAAAAAAAAEZAAAAAAAAAR0AAAAAAAABFQAAAAAAAgERAAAAAAAAAPkAAAAAAAABEQAAAAAAAgEtAAAAAAACAU0AAAAAAAABNQAAAAAAAAEZAAAAAAAAAR0AAAAAAAABCQAAAAAAAAEFAAAAAAACATEAAAAAAAIBAQAAAAAAAAEhAAAAAAACAQUAAAAAAAABCQAAAAAAAgEFAAAAAAAAAP0AAAAAAAAA9QAAAAAAAAEZAAAAAAACARUAAAAAAAABOQAAAAAAAgEdAAAAAAAAARUAAAAAAAIBKQAAAAAAAgENAAAAAAACAQ0AAAAAAAABIQAAAAAAAAEVAAAAAAAAASUAAAAAAAIBDQAAAAAAAAEZAAAAAAAAAREAAAAAAAABEQAAAAAAAAEZAAAAAAAAASUAAAAAAAIBCQAAAAAAAAERAAAAAAACARUAAAAAAAABGQAAAAAAAAE9AAAAAAACASUAAAAAAAABDQAAAAAAAAEhAAAAAAAAARUAAAAAAAABCQAAAAAAAAEVAAAAAAAAARkAAAAAAAABEQAAAAAAAAEZAAAAAAACARUAAAAAAAABGQAAAAAAAAENAAAAAAACAR0AAAAAAAABFQAAAAAAAAERAAAAAAAAASkAAAAAAAABFQAAAAAAAAEJAAAAAAAAAR0AAAAAAAABGQAAAAAAAAERAAAAAAACAQ0AAAAAAAABFQAAAAAAAgEJAAAAAAACAQEA=",
          "dtype": "f8"
         },
         "xaxis": "x",
         "y": {
          "bdata": "AAAAAAAAAAAAAAAAAIBJQAAAAAAAAElAAAAAAACAUUAAAAAAAIBKQAAAAAAAADpAAAAAAAAAUkAAAAAAAABFQAAAAAAAwFJAAAAAAAAAQkAAAAAAAAA4QAAAAAAAgFJAAAAAAAAAVEAAAAAAAIBPQAAAAAAAgFFAAAAAAACAQkAAAAAAAABBQAAAAAAAgElAAAAAAAAAUUAAAAAAAABSQAAAAAAAgE1AAAAAAAAAU0AAAAAAAIBMQAAAAAAAAEJAAAAAAABAU0AAAAAAAIBIQAAAAAAAgE9AAAAAAACARUAAAAAAAABNQAAAAAAAAENAAAAAAACAU0AAAAAAAABKQAAAAAAAADpAAAAAAAAAUUAAAAAAAMBSQAAAAAAAAD9AAAAAAAAAO0AAAAAAAAA7QAAAAAAAAFBAAAAAAAAATkAAAAAAAEBTQAAAAAAAgENAAAAAAACAS0AAAAAAAABQQAAAAAAAQFBAAAAAAACASEAAAAAAAABAQAAAAAAAAFJAAAAAAAAASkAAAAAAAABNQAAAAAAAAExAAAAAAACASEAAAAAAAAAAAAAAAAAAAENAAAAAAABAUUAAAAAAAIBOQAAAAAAAAEZAAAAAAAAASUAAAAAAAABFQAAAAAAAgEVAAAAAAACAUkAAAAAAAABKQAAAAAAAgEBAAAAAAAAAAAAAAAAAAAAwQAAAAAAAAEJAAAAAAAAAPEAAAAAAAABLQAAAAAAAwFBAAAAAAAAALEAAAAAAAMBWQAAAAAAAAEJAAAAAAACAT0AAAAAAAABSQAAAAAAAAFFAAAAAAAAATUAAAAAAAEBUQAAAAAAAAEBAAAAAAABAVUAAAAAAAAA6QAAAAAAAAEpAAAAAAACARkAAAAAAAAA9QAAAAAAAwFRAAAAAAACATEAAAAAAAABJQAAAAAAAAEJAAAAAAACAQkAAAAAAAIBDQAAAAAAAAEJAAAAAAACAUUAAAAAAAABRQAAAAAAAADNAAAAAAAAANEAAAAAAAEBQQAAAAAAAgExAAAAAAACATkAAAAAAAABMQAAAAAAAADFAAAAAAAAAIkAAAAAAAIBVQAAAAAAAAE5AAAAAAACASkAAAAAAAABJQAAAAAAAAEpAAAAAAAAANEAAAAAAAABUQAAAAAAAAENAAAAAAAAATUAAAAAAAAA/QAAAAAAAQFRAAAAAAACASkAAAAAAAIBKQAAAAAAAAFFAAAAAAAAAS0AAAAAAAIBBQAAAAAAAgE5AAAAAAAAAS0AAAAAAAEBRQAAAAAAAgEVAAAAAAACATEAAAAAAAIBTQAAAAAAAgE5AAAAAAAAAT0A=",
          "dtype": "f8"
         },
         "yaxis": "y"
        },
        {
         "line": {
          "dash": "dash"
         },
         "mode": "lines",
         "name": "body_charged Fit",
         "type": "scatter",
         "x": {
          "bdata": "AAAAAAAAS0AAAAAAAABHQAAAAAAAgEVAAAAAAAAAOUAAAAAAAIBCQAAAAAAAgElAAAAAAAAAPEAAAAAAAIBEQAAAAAAAAENAAAAAAAAARUAAAAAAAMBQQAAAAAAAgEJAAAAAAACAQ0AAAAAAAAA/QAAAAAAAADhAAAAAAACASUAAAAAAAABJQAAAAAAAAENAAAAAAAAAQUAAAAAAAAA/QAAAAAAAAERAAAAAAACAQEAAAAAAAABDQAAAAAAAAEZAAAAAAAAAREAAAAAAAABBQAAAAAAAAD9AAAAAAAAARUAAAAAAAIBJQAAAAAAAAEdAAAAAAACAQEAAAAAAAABGQAAAAAAAgElAAAAAAAAAPUAAAAAAAAA+QAAAAAAAAEtAAAAAAACASUAAAAAAAIBKQAAAAAAAAEVAAAAAAAAAP0AAAAAAAAA4QAAAAAAAgEFAAAAAAACARkAAAAAAAIBBQAAAAAAAgEJAAAAAAAAAREAAAAAAAIBIQAAAAAAAADxAAAAAAACAR0AAAAAAAIBDQAAAAAAAAENAAAAAAACAQEAAAAAAAABJQAAAAAAAAEZAAAAAAAAAP0AAAAAAAAA/QAAAAAAAAEZAAAAAAAAAR0AAAAAAAABFQAAAAAAAgERAAAAAAAAAPkAAAAAAAABEQAAAAAAAgEtAAAAAAACAU0AAAAAAAABNQAAAAAAAAEZAAAAAAAAAR0AAAAAAAABCQAAAAAAAAEFAAAAAAACATEAAAAAAAIBAQAAAAAAAAEhAAAAAAACAQUAAAAAAAABCQAAAAAAAgEFAAAAAAAAAP0AAAAAAAAA9QAAAAAAAAEZAAAAAAACARUAAAAAAAABOQAAAAAAAgEdAAAAAAAAARUAAAAAAAIBKQAAAAAAAgENAAAAAAACAQ0AAAAAAAABIQAAAAAAAAEVAAAAAAAAASUAAAAAAAIBDQAAAAAAAAEZAAAAAAAAAREAAAAAAAABEQAAAAAAAAEZAAAAAAAAASUAAAAAAAIBCQAAAAAAAAERAAAAAAACARUAAAAAAAABGQAAAAAAAAE9AAAAAAACASUAAAAAAAABDQAAAAAAAAEhAAAAAAAAARUAAAAAAAABCQAAAAAAAAEVAAAAAAAAARkAAAAAAAABEQAAAAAAAAEZAAAAAAACARUAAAAAAAABGQAAAAAAAAENAAAAAAACAR0AAAAAAAABFQAAAAAAAAERAAAAAAAAASkAAAAAAAABFQAAAAAAAAEJAAAAAAAAAR0AAAAAAAABGQAAAAAAAAERAAAAAAACAQ0AAAAAAAABFQAAAAAAAgEJAAAAAAACAQEA=",
          "dtype": "f8"
         },
         "xaxis": "x",
         "y": {
          "bdata": "pPVIgeKBPkD4lKPPtwpGQMY+Q0VilkhAzpyAgzDuU0BjkoIwt61NQKAkRLabzEFA58ewSFuoUkBQBQPp00hKQB6vol5+1ExADCIjF5tvSUBQwRdhOuQgQGOSgjC3rU1A2svCjEX7S0AA8+ANhmJRQHCOcOzMWlRAoCREtpvMQUDkBySI1KVCQB6vol5+1ExAGB4R07AcUEAA8+ANhmJRQJTo4roMIktAuw8BPE2JUEAer6JeftRMQIJbY3MpvUdAlOjiugwiS0AYHhHTsBxQQADz4A2GYlFADCIjF5tvSUCgJES2m8xBQPiUo8+3CkZAuw8BPE2JUECCW2NzKb1HQKAkRLabzEFARNbA3747UkCi5NB2Is9RQKT1SIHigT5AoCREtpvMQUAWXoQSKhpAQAwiIxebb0lAAPPgDYZiUUBwjnDszFpUQO1YQtQoYE9APHiDofDjRkDtWELUKGBPQGOSgjC3rU1AlOjiugwiS0Aq6wNaDX9DQOfHsEhbqFJAtLHD/X4xRUDay8KMRftLQB6vol5+1ExAuw8BPE2JUEDkBySI1KVCQIJbY3MpvUdAAPPgDYZiUUAA8+ANhmJRQIJbY3MpvUdA+JSjz7cKRkAMIiMXm29JQFAFA+nTSEpAouTQdiLPUUCU6OK6DCJLQBwvid1wzzxAgE5jsYlxJMB820nyG7g3QIJbY3MpvUdA+JSjz7cKRkCodWIC8IZOQBgeEdOwHFBACKIJlo1qOUC7DwE8TYlQQG7O4ytGWERA7VhC1ChgT0CodWIC8IZOQO1YQtQoYE9AAPPgDYZiUUBE1sDfvjtSQIJbY3MpvUdAxj5DRWKWSEBsTsqqOFM0QLSxw/1+MUVADCIjF5tvSUAWXoQSKhpAQNrLwoxF+0tA2svCjEX7S0BuzuMrRlhEQAwiIxebb0lA5AckiNSlQkDay8KMRftLQIJbY3MpvUdAlOjiugwiS0CU6OK6DCJLQIJbY3MpvUdA5AckiNSlQkBjkoIwt61NQJTo4roMIktAxj5DRWKWSECCW2NzKb1HQFjBSmNV7jBAoCREtpvMQUAer6JeftRMQG7O4ytGWERADCIjF5tvSUCodWIC8IZOQAwiIxebb0lAgltjcym9R0CU6OK6DCJLQIJbY3MpvUdAxj5DRWKWSECCW2NzKb1HQB6vol5+1ExAtLHD/X4xRUAMIiMXm29JQJTo4roMIktAXEFk5GLzQEAMIiMXm29JQKh1YgLwhk5A+JSjz7cKRkCCW2NzKb1HQJTo4roMIktA2svCjEX7S0AMIiMXm29JQGOSgjC3rU1Auw8BPE2JUEA=",
          "dtype": "f8"
         },
         "yaxis": "y"
        },
        {
         "mode": "markers",
         "name": "body_drained",
         "type": "scatter",
         "x": {
          "bdata": "AAAAAAAAS0AAAAAAAABHQAAAAAAAgEVAAAAAAAAAOUAAAAAAAIBCQAAAAAAAgElAAAAAAAAAPEAAAAAAAIBEQAAAAAAAAENAAAAAAAAARUAAAAAAAMBQQAAAAAAAgEJAAAAAAACAQ0AAAAAAAAA/QAAAAAAAADhAAAAAAACASUAAAAAAAABJQAAAAAAAAENAAAAAAAAAQUAAAAAAAAA/QAAAAAAAAERAAAAAAACAQEAAAAAAAABDQAAAAAAAAEZAAAAAAAAAREAAAAAAAABBQAAAAAAAAD9AAAAAAAAARUAAAAAAAIBJQAAAAAAAAEdAAAAAAACAQEAAAAAAAABGQAAAAAAAgElAAAAAAAAAPUAAAAAAAAA+QAAAAAAAAEtAAAAAAACASUAAAAAAAIBKQAAAAAAAAEVAAAAAAAAAP0AAAAAAAAA4QAAAAAAAgEFAAAAAAACARkAAAAAAAIBBQAAAAAAAgEJAAAAAAAAAREAAAAAAAIBIQAAAAAAAADxAAAAAAACAR0AAAAAAAIBDQAAAAAAAAENAAAAAAACAQEAAAAAAAABJQAAAAAAAAEZAAAAAAAAAP0AAAAAAAAA/QAAAAAAAAEZAAAAAAAAAR0AAAAAAAABFQAAAAAAAgERAAAAAAAAAPkAAAAAAAABEQAAAAAAAgEtAAAAAAACAU0AAAAAAAABNQAAAAAAAAEZAAAAAAAAAR0AAAAAAAABCQAAAAAAAAEFAAAAAAACATEAAAAAAAIBAQAAAAAAAAEhAAAAAAACAQUAAAAAAAABCQAAAAAAAgEFAAAAAAAAAP0AAAAAAAAA9QAAAAAAAAEZAAAAAAACARUAAAAAAAABOQAAAAAAAgEdAAAAAAAAARUAAAAAAAIBKQAAAAAAAgENAAAAAAACAQ0AAAAAAAABIQAAAAAAAAEVAAAAAAAAASUAAAAAAAIBDQAAAAAAAAEZAAAAAAAAAREAAAAAAAABEQAAAAAAAAEZAAAAAAAAASUAAAAAAAIBCQAAAAAAAAERAAAAAAACARUAAAAAAAABGQAAAAAAAAE9AAAAAAACASUAAAAAAAABDQAAAAAAAAEhAAAAAAAAARUAAAAAAAABCQAAAAAAAAEVAAAAAAAAARkAAAAAAAABEQAAAAAAAAEZAAAAAAACARUAAAAAAAABGQAAAAAAAAENAAAAAAACAR0AAAAAAAABFQAAAAAAAAERAAAAAAAAASkAAAAAAAABFQAAAAAAAAEJAAAAAAAAAR0AAAAAAAABGQAAAAAAAAERAAAAAAACAQ0AAAAAAAABFQAAAAAAAgEJAAAAAAACAQEA=",
          "dtype": "f8"
         },
         "xaxis": "x2",
         "y": {
          "bdata": "AAAAAAAAKkAAAAAAAIBJQAAAAAAAADdAAAAAAADAUUAAAAAAAABRQAAAAAAAgEJAAAAAAAAASEAAAAAAAEBQQAAAAAAAwFBAAAAAAACARkAAAAAAAAA4QAAAAAAAAFFAAAAAAACAS0AAAAAAAEBQQAAAAAAAAExAAAAAAADAU0AAAAAAAABBQAAAAAAAgEVAAAAAAACATkAAAAAAAIBPQAAAAAAAgE5AAAAAAACAT0AAAAAAAIBRQAAAAAAAAEhAAAAAAADAUEAAAAAAAIBDQAAAAAAAAE5AAAAAAACATkAAAAAAAEBRQAAAAAAAADNAAAAAAAAAV0AAAAAAAABJQAAAAAAAgEJAAAAAAAAAR0AAAAAAAABPQAAAAAAAgE9AAAAAAAAAPkAAAAAAAAA7QAAAAAAAgE5AAAAAAAAAQ0AAAAAAAABKQAAAAAAAAExAAAAAAACAUkAAAAAAAABIQAAAAAAAAFFAAAAAAAAASUAAAAAAAABHQAAAAAAAgERAAAAAAADAUkAAAAAAAABDQAAAAAAAwFRAAAAAAAAAOUAAAAAAAIBEQAAAAAAAgEBAAAAAAABAUEAAAAAAAABRQAAAAAAAAFBAAAAAAAAARkAAAAAAAIBHQAAAAAAAAENAAAAAAAAASUAAAAAAAEBSQAAAAAAAAEVAAAAAAAAAAAAAAAAAAAAwQAAAAAAAAD5AAAAAAAAAPUAAAAAAAABIQAAAAAAAAE1AAAAAAAAAQEAAAAAAAIBRQAAAAAAAgE1AAAAAAACASUAAAAAAAABSQAAAAAAAgFFAAAAAAACASkAAAAAAAEBTQAAAAAAAAEdAAAAAAADAVEAAAAAAAAA+QAAAAAAAAExAAAAAAAAARUAAAAAAAAA6QAAAAAAAAFRAAAAAAACATEAAAAAAAIBNQAAAAAAAAEJAAAAAAACAQkAAAAAAAIBDQAAAAAAAAEJAAAAAAAAAT0AAAAAAAIBRQAAAAAAAADlAAAAAAAAAMkAAAAAAAABOQAAAAAAAAE5AAAAAAAAATkAAAAAAAABOQAAAAAAAADJAAAAAAAAAS0AAAAAAAMBUQAAAAAAAAFNAAAAAAACASkAAAAAAAABJQAAAAAAAgEVAAAAAAAAAOUAAAAAAAIBSQAAAAAAAgENAAAAAAACAT0AAAAAAAAA/QAAAAAAAAFNAAAAAAAAAT0AAAAAAAABHQAAAAAAAQFJAAAAAAACAS0AAAAAAAIBBQAAAAAAAgElAAAAAAACAT0AAAAAAAIBRQAAAAAAAgENAAAAAAAAARkAAAAAAAABWQAAAAAAAAEtAAAAAAACASkA=",
          "dtype": "f8"
         },
         "yaxis": "y2"
        },
        {
         "line": {
          "dash": "dash"
         },
         "mode": "lines",
         "name": "body_drained Fit",
         "type": "scatter",
         "x": {
          "bdata": "AAAAAAAAS0AAAAAAAABHQAAAAAAAgEVAAAAAAAAAOUAAAAAAAIBCQAAAAAAAgElAAAAAAAAAPEAAAAAAAIBEQAAAAAAAAENAAAAAAAAARUAAAAAAAMBQQAAAAAAAgEJAAAAAAACAQ0AAAAAAAAA/QAAAAAAAADhAAAAAAACASUAAAAAAAABJQAAAAAAAAENAAAAAAAAAQUAAAAAAAAA/QAAAAAAAAERAAAAAAACAQEAAAAAAAABDQAAAAAAAAEZAAAAAAAAAREAAAAAAAABBQAAAAAAAAD9AAAAAAAAARUAAAAAAAIBJQAAAAAAAAEdAAAAAAACAQEAAAAAAAABGQAAAAAAAgElAAAAAAAAAPUAAAAAAAAA+QAAAAAAAAEtAAAAAAACASUAAAAAAAIBKQAAAAAAAAEVAAAAAAAAAP0AAAAAAAAA4QAAAAAAAgEFAAAAAAACARkAAAAAAAIBBQAAAAAAAgEJAAAAAAAAAREAAAAAAAIBIQAAAAAAAADxAAAAAAACAR0AAAAAAAIBDQAAAAAAAAENAAAAAAACAQEAAAAAAAABJQAAAAAAAAEZAAAAAAAAAP0AAAAAAAAA/QAAAAAAAAEZAAAAAAAAAR0AAAAAAAABFQAAAAAAAgERAAAAAAAAAPkAAAAAAAABEQAAAAAAAgEtAAAAAAACAU0AAAAAAAABNQAAAAAAAAEZAAAAAAAAAR0AAAAAAAABCQAAAAAAAAEFAAAAAAACATEAAAAAAAIBAQAAAAAAAAEhAAAAAAACAQUAAAAAAAABCQAAAAAAAgEFAAAAAAAAAP0AAAAAAAAA9QAAAAAAAAEZAAAAAAACARUAAAAAAAABOQAAAAAAAgEdAAAAAAAAARUAAAAAAAIBKQAAAAAAAgENAAAAAAACAQ0AAAAAAAABIQAAAAAAAAEVAAAAAAAAASUAAAAAAAIBDQAAAAAAAAEZAAAAAAAAAREAAAAAAAABEQAAAAAAAAEZAAAAAAAAASUAAAAAAAIBCQAAAAAAAAERAAAAAAACARUAAAAAAAABGQAAAAAAAAE9AAAAAAACASUAAAAAAAABDQAAAAAAAAEhAAAAAAAAARUAAAAAAAABCQAAAAAAAAEVAAAAAAAAARkAAAAAAAABEQAAAAAAAAEZAAAAAAACARUAAAAAAAABGQAAAAAAAAENAAAAAAACAR0AAAAAAAABFQAAAAAAAAERAAAAAAAAASkAAAAAAAABFQAAAAAAAAEJAAAAAAAAAR0AAAAAAAABGQAAAAAAAAERAAAAAAACAQ0AAAAAAAABFQAAAAAAAgEJAAAAAAACAQEA=",
          "dtype": "f8"
         },
         "xaxis": "x2",
         "y": {
          "bdata": "UGoSphoFREDNRqND+eRHQHyZub7sWElAy8Sf0FAIUUDaPua000BMQP+8KCEOeUVAdJsUE1dOUECb0B1m5FBKQEojNOHXxEtADLVrkujUSUAICA7MoXI7QNo+5rTTQExAuweCDdxIS0A45BKruihPQJPSeLpORlFA/7woIQ55RUCO2Nr0CfVFQEojNOHXxEtAiZH8L8e0TUA45BKruihPQCvszzngzEpAGa2uA8MwTkBKIzTh18RLQOx9B+vw3EhAK+zPOeDMSkCJkfwvx7RNQDjkEqu6KE9ADLVrkujUSUD/vCghDnlFQM1Go0P55EdAGa2uA8MwTkDsfQfr8NxIQP+8KCEOeUVArI07KVkQUEDI/8R+tqRPQFBqEqYaBURA/7woIQ55RUDfhcR5FoFEQAy1a5Lo1ElAOOQSq7ooT0CT0ni6TkZRQPl1SlzLOE1AXWJVF/VgSED5dUpcyzhNQNo+5rTTQExAK+zPOeDMSkAe9IzIBXFGQHSbFBNXTlBAPSvxb/1oR0C7B4IN3EhLQEojNOHXxEtAGa2uA8MwTkCO2Nr0CfVFQOx9B+vw3EhAOOQSq7ooT0A45BKruihPQOx9B+vw3EhAzUajQ/nkR0AMtWuS6NRJQJvQHWbkUEpAyP/EfrakT0Ar7M854MxKQMBOYNIeiUNAsKm/mv3KMEAR/ElXKxVCQOx9B+vw3EhAzUajQ/nkR0BqWpiIz7xMQImR/C/HtE1AoRf8KieRQkAZra4DwzBOQK4PP5wB7UZA+XVKXMs4TUBqWpiIz7xMQPl1SlzLOE1AOOQSq7ooT0CsjTspWRBQQOx9B+vw3EhAfJm5vuxYSUDyxOWvMx1BQD0r8W/9aEdADLVrkujUSUDfhcR5FoFEQLsHgg3cSEtAuweCDdxIS0CuDz+cAe1GQAy1a5Lo1ElAjtja9An1RUC7B4IN3EhLQOx9B+vw3EhAK+zPOeDMSkAr7M854MxKQOx9B+vw3EhAjtja9An1RUDaPua000BMQCvszzngzEpAfJm5vuxYSUDsfQfr8NxIQNKNgQg8JUBA/7woIQ55RUBKIzTh18RLQK4PP5wB7UZADLVrkujUSUBqWpiIz7xMQAy1a5Lo1ElA7H0H6/DcSEAr7M854MxKQOx9B+vw3EhAfJm5vuxYSUDsfQfr8NxIQEojNOHXxEtAPSvxb/1oR0AMtWuS6NRJQCvszzngzEpAb6F2TRL9REAMtWuS6NRJQGpamIjPvExAzUajQ/nkR0DsfQfr8NxIQCvszzngzEpAuweCDdxIS0AMtWuS6NRJQNo+5rTTQExAGa2uA8MwTkA=",
          "dtype": "f8"
         },
         "yaxis": "y2"
        },
        {
         "mode": "markers",
         "name": "resting_hr",
         "type": "scatter",
         "x": {
          "bdata": "AAAAAAAAS0AAAAAAAABHQAAAAAAAgEVAAAAAAAAAOUAAAAAAAIBCQAAAAAAAgElAAAAAAAAAPEAAAAAAAIBEQAAAAAAAAENAAAAAAAAARUAAAAAAAMBQQAAAAAAAgEJAAAAAAACAQ0AAAAAAAAA/QAAAAAAAADhAAAAAAACASUAAAAAAAABJQAAAAAAAAENAAAAAAAAAQUAAAAAAAAA/QAAAAAAAAERAAAAAAACAQEAAAAAAAABDQAAAAAAAAEZAAAAAAAAAREAAAAAAAABBQAAAAAAAAD9AAAAAAAAARUAAAAAAAIBJQAAAAAAAAEdAAAAAAACAQEAAAAAAAABGQAAAAAAAgElAAAAAAAAAPUAAAAAAAAA+QAAAAAAAAEtAAAAAAACASUAAAAAAAIBKQAAAAAAAAEVAAAAAAAAAP0AAAAAAAAA4QAAAAAAAgEFAAAAAAACARkAAAAAAAIBBQAAAAAAAgEJAAAAAAAAAREAAAAAAAIBIQAAAAAAAADxAAAAAAACAR0AAAAAAAIBDQAAAAAAAAENAAAAAAACAQEAAAAAAAABJQAAAAAAAAEZAAAAAAAAAP0AAAAAAAAA/QAAAAAAAAEZAAAAAAAAAR0AAAAAAAABFQAAAAAAAgERAAAAAAAAAPkAAAAAAAABEQAAAAAAAgEtAAAAAAACAU0AAAAAAAABNQAAAAAAAAEZAAAAAAAAAR0AAAAAAAABCQAAAAAAAAEFAAAAAAACATEAAAAAAAIBAQAAAAAAAAEhAAAAAAACAQUAAAAAAAABCQAAAAAAAgEFAAAAAAAAAP0AAAAAAAAA9QAAAAAAAAEZAAAAAAACARUAAAAAAAABOQAAAAAAAgEdAAAAAAAAARUAAAAAAAIBKQAAAAAAAgENAAAAAAACAQ0AAAAAAAABIQAAAAAAAAEVAAAAAAAAASUAAAAAAAIBDQAAAAAAAAEZAAAAAAAAAREAAAAAAAABEQAAAAAAAAEZAAAAAAAAASUAAAAAAAIBCQAAAAAAAAERAAAAAAACARUAAAAAAAABGQAAAAAAAAE9AAAAAAACASUAAAAAAAABDQAAAAAAAAEhAAAAAAAAARUAAAAAAAABCQAAAAAAAAEVAAAAAAAAARkAAAAAAAABEQAAAAAAAAEZAAAAAAACARUAAAAAAAABGQAAAAAAAAENAAAAAAACAR0AAAAAAAABFQAAAAAAAAERAAAAAAAAASkAAAAAAAABFQAAAAAAAAEJAAAAAAAAAR0AAAAAAAABGQAAAAAAAAERAAAAAAACAQ0AAAAAAAABFQAAAAAAAgEJAAAAAAACAQEA=",
          "dtype": "f8"
         },
         "xaxis": "x3",
         "y": {
          "bdata": "AAAAAADAUkAAAAAAAABQQAAAAAAAAFFAAAAAAACATUAAAAAAAABOQAAAAAAAQFBAAAAAAABAUEAAAAAAAIBNQAAAAAAAgExAAAAAAABAUEAAAAAAAEBSQAAAAAAAgE1AAAAAAACATkAAAAAAAIBNQAAAAAAAAE5AAAAAAACATUAAAAAAAABPQAAAAAAAAFBAAAAAAAAAT0AAAAAAAIBNQAAAAAAAgE1AAAAAAAAATUAAAAAAAIBMQAAAAAAAAE9AAAAAAACATEAAAAAAAIBNQAAAAAAAgE1AAAAAAACAT0AAAAAAAABNQAAAAAAAgE1AAAAAAACATUAAAAAAAIBOQAAAAAAAgE9AAAAAAACATUAAAAAAAABMQAAAAAAAgE9AAAAAAABAUEAAAAAAAABQQAAAAAAAAE9AAAAAAACAT0AAAAAAAIBMQAAAAAAAAE5AAAAAAAAATEAAAAAAAIBMQAAAAAAAgE1AAAAAAACATkAAAAAAAEBQQAAAAAAAgE5AAAAAAACATUAAAAAAAIBOQAAAAAAAgE5AAAAAAAAATkAAAAAAAEBQQAAAAAAAQFBAAAAAAAAATkAAAAAAAABOQAAAAAAAgE5AAAAAAACATUAAAAAAAABPQAAAAAAAwFBAAAAAAACATkAAAAAAAIBNQAAAAAAAAE9AAAAAAACAUEAAAAAAAEBSQAAAAAAAAFFAAAAAAAAAUkAAAAAAAABOQAAAAAAAgE5AAAAAAADAUUAAAAAAAIBLQAAAAAAAgE9AAAAAAAAATUAAAAAAAIBMQAAAAAAAAE1AAAAAAAAATkAAAAAAAABMQAAAAAAAAFBAAAAAAACAS0AAAAAAAABPQAAAAAAAgE1AAAAAAABAUEAAAAAAAABQQAAAAAAAgExAAAAAAACATUAAAAAAAABOQAAAAAAAAE9AAAAAAABAUEAAAAAAAABQQAAAAAAAwFBAAAAAAACATkAAAAAAAIBOQAAAAAAAAFJAAAAAAABAUUAAAAAAAIBOQAAAAAAAAE9AAAAAAACATUAAAAAAAIBMQAAAAAAAwFBAAAAAAADAUEAAAAAAAABNQAAAAAAAgE5AAAAAAAAATkAAAAAAAIBOQAAAAAAAgE9AAAAAAAAAUUAAAAAAAABOQAAAAAAAgE9AAAAAAAAATkAAAAAAAIBPQAAAAAAAAE1AAAAAAAAATUAAAAAAAABPQAAAAAAAAE1AAAAAAAAATUAAAAAAAIBQQAAAAAAAQFBAAAAAAAAAT0AAAAAAAABNQAAAAAAAgE5AAAAAAAAAT0AAAAAAAABNQAAAAAAAgE5AAAAAAAAAT0A=",
          "dtype": "f8"
         },
         "yaxis": "y3"
        },
        {
         "line": {
          "dash": "dash"
         },
         "mode": "lines",
         "name": "resting_hr Fit",
         "type": "scatter",
         "x": {
          "bdata": "AAAAAAAAS0AAAAAAAABHQAAAAAAAgEVAAAAAAAAAOUAAAAAAAIBCQAAAAAAAgElAAAAAAAAAPEAAAAAAAIBEQAAAAAAAAENAAAAAAAAARUAAAAAAAMBQQAAAAAAAgEJAAAAAAACAQ0AAAAAAAAA/QAAAAAAAADhAAAAAAACASUAAAAAAAABJQAAAAAAAAENAAAAAAAAAQUAAAAAAAAA/QAAAAAAAAERAAAAAAACAQEAAAAAAAABDQAAAAAAAAEZAAAAAAAAAREAAAAAAAABBQAAAAAAAAD9AAAAAAAAARUAAAAAAAIBJQAAAAAAAAEdAAAAAAACAQEAAAAAAAABGQAAAAAAAgElAAAAAAAAAPUAAAAAAAAA+QAAAAAAAAEtAAAAAAACASUAAAAAAAIBKQAAAAAAAAEVAAAAAAAAAP0AAAAAAAAA4QAAAAAAAgEFAAAAAAACARkAAAAAAAIBBQAAAAAAAgEJAAAAAAAAAREAAAAAAAIBIQAAAAAAAADxAAAAAAACAR0AAAAAAAIBDQAAAAAAAAENAAAAAAACAQEAAAAAAAABJQAAAAAAAAEZAAAAAAAAAP0AAAAAAAAA/QAAAAAAAAEZAAAAAAAAAR0AAAAAAAABFQAAAAAAAgERAAAAAAAAAPkAAAAAAAABEQAAAAAAAgEtAAAAAAACAU0AAAAAAAABNQAAAAAAAAEZAAAAAAAAAR0AAAAAAAABCQAAAAAAAAEFAAAAAAACATEAAAAAAAIBAQAAAAAAAAEhAAAAAAACAQUAAAAAAAABCQAAAAAAAgEFAAAAAAAAAP0AAAAAAAAA9QAAAAAAAAEZAAAAAAACARUAAAAAAAABOQAAAAAAAgEdAAAAAAAAARUAAAAAAAIBKQAAAAAAAgENAAAAAAACAQ0AAAAAAAABIQAAAAAAAAEVAAAAAAAAASUAAAAAAAIBDQAAAAAAAAEZAAAAAAAAAREAAAAAAAABEQAAAAAAAAEZAAAAAAAAASUAAAAAAAIBCQAAAAAAAAERAAAAAAACARUAAAAAAAABGQAAAAAAAAE9AAAAAAACASUAAAAAAAABDQAAAAAAAAEhAAAAAAAAARUAAAAAAAABCQAAAAAAAAEVAAAAAAAAARkAAAAAAAABEQAAAAAAAAEZAAAAAAACARUAAAAAAAABGQAAAAAAAAENAAAAAAACAR0AAAAAAAABFQAAAAAAAAERAAAAAAAAASkAAAAAAAABFQAAAAAAAAEJAAAAAAAAAR0AAAAAAAABGQAAAAAAAAERAAAAAAACAQ0AAAAAAAABFQAAAAAAAgEJAAAAAAACAQEA=",
          "dtype": "f8"
         },
         "xaxis": "x3",
         "y": {
          "bdata": "+3AvzdIhUEAOJ0gPtFJPQPegH3tZ+E5AbHwsAjraTEDIlM5SpENOQN9bNgZL6U9AgwJVlpQ0TUA98lkYHbxOQCZsMYTCYU5Amsm8STvaTkDY6DEOl+VQQMiUzlKkQ05Ag0OUteB/TkCaiH0q745NQA+lydAbvExA31s2BkvpT0CChNPULMtPQCZsMYTCYU5Asg6mvknpTUCaiH0q745NQOAa9+b+nU5AVDdDjSvLTUAmbDGEwmFOQFR4gqx3Fk9A4Br35v6dTkCyDqa+SelNQJqIfSrvjk1Amsm8STvaTkDfWzYGS+lPQA4nSA+0Uk9AVDdDjSvLTUBUeIKsdxZPQN9bNgZL6U9A4Nm3x7JSTUA9sRr50HBNQPtwL83SIVBA31s2BkvpT0BNBX60wxJQQJrJvEk72k5Amoh9Ku+OTUAPpcnQG7xMQA7mCPBnB05AsU/l3ZU0T0AO5gjwZwdOQMiUzlKkQ05A4Br35v6dTkAlrXCjDq1PQIMCVZaUNE1Aa/6qQNJwT0CDQ5S14H9OQCZsMYTCYU5AVDdDjSvLTUCChNPULMtPQFR4gqx3Fk9Amoh9Ku+OTUCaiH0q745NQFR4gqx3Fk9ADidID7RST0CaybxJO9pOQD3yWRgdvE5APbEa+dBwTUDgGvfm/p1OQKrc4OXhMFBAWInRHT2LUUC1H/UvD15QQFR4gqx3Fk9ADidID7RST0BsvWshhiVOQLIOpr5J6U1AB7RDFwBPUEBUN0ONK8tNQMjVDXLwjk9ADuYI8GcHTkBsvWshhiVOQA7mCPBnB05Amoh9Ku+OTUDg2bfHslJNQFR4gqx3Fk9A96Afe1n4TkAS91dhLXxQQGv+qkDScE9Amsm8STvaTkBNBX60wxJQQINDlLXgf05Ag0OUteB/TkDI1Q1y8I5PQJrJvEk72k5AgoTT1CzLT0CDQ5S14H9OQFR4gqx3Fk9A4Br35v6dTkDgGvfm/p1OQFR4gqx3Fk9AgoTT1CzLT0DIlM5SpENOQOAa9+b+nU5A96Afe1n4TkBUeIKsdxZPQG/OupJLmlBA31s2BkvpT0AmbDGEwmFOQMjVDXLwjk9Amsm8STvaTkBsvWshhiVOQJrJvEk72k5AVHiCrHcWT0DgGvfm/p1OQFR4gqx3Fk9A96Afe1n4TkBUeIKsdxZPQCZsMYTCYU5Aa/6qQNJwT0CaybxJO9pOQOAa9+b+nU5AnpnMm7QDUECaybxJO9pOQGy9ayGGJU5ADidID7RST0BUeIKsdxZPQOAa9+b+nU5Ag0OUteB/TkCaybxJO9pOQMiUzlKkQ05AVDdDjSvLTUA=",
          "dtype": "f8"
         },
         "yaxis": "y3"
        },
        {
         "mode": "markers",
         "name": "total_sleep_s",
         "type": "scatter",
         "x": {
          "bdata": "AAAAAAAAR0AAAAAAAIBFQAAAAAAAADlAAAAAAACAQkAAAAAAAIBJQAAAAAAAADxAAAAAAACAREAAAAAAAABDQAAAAAAAAEVAAAAAAADAUEAAAAAAAIBCQAAAAAAAgENAAAAAAAAAP0AAAAAAAAA4QAAAAAAAgElAAAAAAAAASUAAAAAAAABDQAAAAAAAAEFAAAAAAAAAP0AAAAAAAABEQAAAAAAAgEBAAAAAAAAAQ0AAAAAAAABGQAAAAAAAAERAAAAAAAAAQUAAAAAAAAA/QAAAAAAAAEVAAAAAAACASUAAAAAAAABHQAAAAAAAgEBAAAAAAAAARkAAAAAAAIBJQAAAAAAAAD1AAAAAAAAAPkAAAAAAAABLQAAAAAAAgElAAAAAAACASkAAAAAAAABFQAAAAAAAAD9AAAAAAAAAOEAAAAAAAIBBQAAAAAAAgEZAAAAAAACAQUAAAAAAAIBCQAAAAAAAAERAAAAAAACASEAAAAAAAAA8QAAAAAAAgEdAAAAAAACAQ0AAAAAAAABDQAAAAAAAgEBAAAAAAAAARkAAAAAAAAA/QAAAAAAAAD9AAAAAAAAARkAAAAAAAABHQAAAAAAAAEVAAAAAAACAREAAAAAAAAA+QAAAAAAAAERAAAAAAACAS0AAAAAAAIBTQAAAAAAAAE1AAAAAAAAARkAAAAAAAABHQAAAAAAAAEJAAAAAAAAAQUAAAAAAAIBMQAAAAAAAgEBAAAAAAAAASEAAAAAAAIBBQAAAAAAAAEJAAAAAAACAQUAAAAAAAAA/QAAAAAAAAD1AAAAAAAAARkAAAAAAAIBFQAAAAAAAAE5AAAAAAACAR0AAAAAAAABFQAAAAAAAgEpAAAAAAACAQ0AAAAAAAIBDQAAAAAAAAEhAAAAAAAAARUAAAAAAAABJQAAAAAAAgENAAAAAAAAARkAAAAAAAABEQAAAAAAAAERAAAAAAAAARkAAAAAAAABJQAAAAAAAgEJAAAAAAAAAREAAAAAAAIBFQAAAAAAAAEZAAAAAAAAAT0AAAAAAAABDQAAAAAAAAEhAAAAAAAAARUAAAAAAAABCQAAAAAAAAEVAAAAAAAAARkAAAAAAAABEQAAAAAAAAEZAAAAAAACARUAAAAAAAABGQAAAAAAAAENAAAAAAACAR0AAAAAAAABFQAAAAAAAAERAAAAAAAAASkAAAAAAAABFQAAAAAAAAEJAAAAAAAAAR0AAAAAAAABGQAAAAAAAAERAAAAAAACAQ0AAAAAAAABFQAAAAAAAgEJAAAAAAACAQEA=",
          "dtype": "f8"
         },
         "xaxis": "x4",
         "y": {
          "bdata": "AAAAAADL1kAAAAAAALTeQAAAAAAgCeNAAAAAAABa3kAAAAAAAJDVQAAAAAAAQNpAAAAAAAD+0EAAAAAAgFvcQAAAAAAAwtBAAAAAAAB53UAAAAAAgNjgQAAAAAAA19lAAAAAAIBv4EAAAAAAYCLgQAAAAAAAEttAAAAAAAAD20AAAAAAAEDaQAAAAACAYOBAAAAAAADU3EAAAAAAAEveQAAAAAAA799AAAAAAABo4EAAAAAAACHbQAAAAAAAINxAAAAAAADh3kAAAAAAANXbQAAAAAAAs99AAAAAAAC320AAAAAAAO3SQAAAAACA5+BAAAAAAACG30AAAAAAAFzcQAAAAAAAEttAAAAAAMBV3EAAAAAAANTcQAAAAADAr9pAAAAAAIC64EAAAAAAAB/dQAAAAAAAw95AAAAAAGCI4UAAAAAAAKfcQAAAAAAAyNlAAAAAAAB92UAAAAAAAC7dQAAAAAAA4d5AAAAAAIBg4EAAAAAAAJfdQAAAAAAAG9xAAAAAAAC710AAAAAAgMjhQAAAAAAA8d1AAAAAAACX3UAAAAAAQMDeQAAAAACAi91AAAAAAMBy2UAAAAAAADHaQAAAAACAYOBAAAAAAABN3EAAAAAAAKTgQAAAAAAAa9xAAAAAAEA63UAAAAAAAECqQAAAAAAA5NtAAAAAAMCF3UAAAAAAYDDiQAAAAACAJOBAAAAAAAAs4EAAAAAAAEDaQAAAAAAgWeJAAAAAAADH2kAAAAAAALPgQAAAAABADt5AAAAAAAA83kAAAAAAADvfQAAAAAAALt1AAAAAAAB82kAAAAAAAJfdQAAAAAAAINxAAAAAAEDb3kAAAAAAABDdQAAAAABA2tBAAAAAAAAQ3UAAAAAAABTZQAAAAACAM+BAAAAAAADX2UAAAAAAAMjZQAAAAAAAm9lAAAAAAADK10AAAAAAgI3gQAAAAACA1+FAAAAAAAAsz0AAAAAAAAbYQAAAAAAAKuJAAAAAAACp2kAAAAAAAB3gQAAAAAAA2NhAAAAAAAAuzUAAAAAAgJriQAAAAAAAeN5AAAAAAADN1EAAAAAAALLRQAAAAABAKOFAAAAAAABK30AAAAAAAEDaQAAAAAAA/uBAAAAAAAC320AAAAAAACTIQAAAAAAA091AAAAAAAB30EAAAAAAALfbQAAAAAAAUNlAAAAAAAC+1EAAAAAAANjYQAAAAAAAEttAAAAAAADp1kAAAAAAALjaQAAAAAAA89tAAAAAAADm2UAAAAAAAJbeQAAAAAAA49xAAAAAAIBR4EA=",
          "dtype": "f8"
         },
         "yaxis": "y4"
        },
        {
         "line": {
          "dash": "dash"
         },
         "mode": "lines",
         "name": "total_sleep_s Fit",
         "type": "scatter",
         "x": {
          "bdata": "AAAAAAAAR0AAAAAAAIBFQAAAAAAAADlAAAAAAACAQkAAAAAAAIBJQAAAAAAAADxAAAAAAACAREAAAAAAAABDQAAAAAAAAEVAAAAAAADAUEAAAAAAAIBCQAAAAAAAgENAAAAAAAAAP0AAAAAAAAA4QAAAAAAAgElAAAAAAAAASUAAAAAAAABDQAAAAAAAAEFAAAAAAAAAP0AAAAAAAABEQAAAAAAAgEBAAAAAAAAAQ0AAAAAAAABGQAAAAAAAAERAAAAAAAAAQUAAAAAAAAA/QAAAAAAAAEVAAAAAAACASUAAAAAAAABHQAAAAAAAgEBAAAAAAAAARkAAAAAAAIBJQAAAAAAAAD1AAAAAAAAAPkAAAAAAAABLQAAAAAAAgElAAAAAAACASkAAAAAAAABFQAAAAAAAAD9AAAAAAAAAOEAAAAAAAIBBQAAAAAAAgEZAAAAAAACAQUAAAAAAAIBCQAAAAAAAAERAAAAAAACASEAAAAAAAAA8QAAAAAAAgEdAAAAAAACAQ0AAAAAAAABDQAAAAAAAgEBAAAAAAAAARkAAAAAAAAA/QAAAAAAAAD9AAAAAAAAARkAAAAAAAABHQAAAAAAAAEVAAAAAAACAREAAAAAAAAA+QAAAAAAAAERAAAAAAACAS0AAAAAAAIBTQAAAAAAAAE1AAAAAAAAARkAAAAAAAABHQAAAAAAAAEJAAAAAAAAAQUAAAAAAAIBMQAAAAAAAgEBAAAAAAAAASEAAAAAAAIBBQAAAAAAAAEJAAAAAAACAQUAAAAAAAAA/QAAAAAAAAD1AAAAAAAAARkAAAAAAAIBFQAAAAAAAAE5AAAAAAACAR0AAAAAAAABFQAAAAAAAgEpAAAAAAACAQ0AAAAAAAIBDQAAAAAAAAEhAAAAAAAAARUAAAAAAAABJQAAAAAAAgENAAAAAAAAARkAAAAAAAABEQAAAAAAAAERAAAAAAAAARkAAAAAAAABJQAAAAAAAgEJAAAAAAAAAREAAAAAAAIBFQAAAAAAAAEZAAAAAAAAAT0AAAAAAAABDQAAAAAAAAEhAAAAAAAAARUAAAAAAAABCQAAAAAAAAEVAAAAAAAAARkAAAAAAAABEQAAAAAAAAEZAAAAAAACARUAAAAAAAABGQAAAAAAAAENAAAAAAACAR0AAAAAAAABFQAAAAAAAAERAAAAAAAAASkAAAAAAAABFQAAAAAAAAEJAAAAAAAAAR0AAAAAAAABGQAAAAAAAAERAAAAAAACAQ0AAAAAAAABFQAAAAAAAgEJAAAAAAACAQEA=",
          "dtype": "f8"
         },
         "xaxis": "x4",
         "y": {
          "bdata": "uhwy7ju+2kAcDQ3lLJ/bQLdXF1dpcuBA4u3C0g5h3UBq4W/9VEfZQIbfqdvwAeBACVj03iI13EBsSM/VExbdQJOyAOIn6ttABYo1LqWX1EDi7cLSDmHdQPai29gYy9xAqM54wPAi30ByKpHV5pfgQGrhb/1UR9lA4IZj+k+S2UBsSM/VExbdQEbencn/Qd5AqM54wPAi30CA/efbHYDcQLyDkcb6jN5AbEjP1RMW3UCmZxnoMVTbQID959sdgNxARt6dyf9B3kCoznjA8CLfQJOyAOIn6ttAauFv/VRH2UC6HDLuO77aQLyDkcb6jN5ApmcZ6DFU20Bq4W/9VEfZQJUZYLrmuN9AHnRsvett30AH8ZQGZGbYQGrhb/1UR9lAfpaIA1+x2ECTsgDiJ+rbQKjOeMDwIt9AciqR1eaX4EDPOKrMBPfdQDDCJes2CdtAzziqzAT33UDi7cLSDmHdQID959sdgNxAVixX90rd2UCG36nb8AHgQER3PvFAc9pA9qLb2BjL3EBsSM/VExbdQLyDkcb6jN5ApmcZ6DFU20CoznjA8CLfQKjOeMDwIt9ApmcZ6DFU20C6HDLuO77aQJOyAOIn6ttACVj03iI13EAedGy9623fQID959sdgNxAkUuhCWkb2EDwbb1P3F7RQC5bxhJ4OtdApmcZ6DFU20C6HDLuO77aQFmTts8JrN1ARt6dyf9B3kCkALoPc4XXQLyDkcb6jN5AzdFK9EUo2kDPOKrMBPfdQFmTts8JrN1AzziqzAT33UCoznjA8CLfQJUZYLrmuN9ApmcZ6DFU20AcDQ3lLJ/bQEEQ3xiCpNZARHc+8UBz2kCTsgDiJ+rbQH6WiANfsdhA9qLb2BjL3ED2otvYGMvcQM3RSvRFKNpAk7IA4ifq20DghmP6T5LZQPai29gYy9xApmcZ6DFU20CA/efbHYDcQID959sdgNxApmcZ6DFU20DghmP6T5LZQOLtwtIOYd1AgP3n2x2A3EAcDQ3lLJ/bQKZnGegxVNtAVcX3HowO1kBsSM/VExbdQM3RSvRFKNpAk7IA4ifq20BZk7bPCazdQJOyAOIn6ttApmcZ6DFU20CA/efbHYDcQKZnGegxVNtAHA0N5Syf20CmZxnoMVTbQGxIz9UTFt1ARHc+8UBz2kCTsgDiJ+rbQID959sdgNxA9Dt8AFr82ECTsgDiJ+rbQFmTts8JrN1Auhwy7ju+2kCmZxnoMVTbQID959sdgNxA9qLb2BjL3ECTsgDiJ+rbQOLtwtIOYd1AvIORxvqM3kA=",
          "dtype": "f8"
         },
         "yaxis": "y4"
        },
        {
         "mode": "markers",
         "name": "deep_sleep_s",
         "type": "scatter",
         "x": {
          "bdata": "AAAAAAAAR0AAAAAAAIBFQAAAAAAAADlAAAAAAACAQkAAAAAAAIBJQAAAAAAAADxAAAAAAACAREAAAAAAAABDQAAAAAAAAEVAAAAAAADAUEAAAAAAAIBCQAAAAAAAgENAAAAAAAAAP0AAAAAAAAA4QAAAAAAAgElAAAAAAAAASUAAAAAAAABDQAAAAAAAAEFAAAAAAAAAP0AAAAAAAABEQAAAAAAAgEBAAAAAAAAAQ0AAAAAAAABGQAAAAAAAAERAAAAAAAAAQUAAAAAAAAA/QAAAAAAAAEVAAAAAAACASUAAAAAAAABHQAAAAAAAgEBAAAAAAAAARkAAAAAAAIBJQAAAAAAAAD1AAAAAAAAAPkAAAAAAAABLQAAAAAAAgElAAAAAAACASkAAAAAAAABFQAAAAAAAAD9AAAAAAAAAOEAAAAAAAIBBQAAAAAAAgEZAAAAAAACAQUAAAAAAAIBCQAAAAAAAAERAAAAAAACASEAAAAAAAAA8QAAAAAAAgEdAAAAAAACAQ0AAAAAAAABDQAAAAAAAgEBAAAAAAAAARkAAAAAAAAA/QAAAAAAAAD9AAAAAAAAARkAAAAAAAABHQAAAAAAAAEVAAAAAAACAREAAAAAAAAA+QAAAAAAAAERAAAAAAACAS0AAAAAAAIBTQAAAAAAAAE1AAAAAAAAARkAAAAAAAABHQAAAAAAAAEJAAAAAAAAAQUAAAAAAAIBMQAAAAAAAgEBAAAAAAAAASEAAAAAAAIBBQAAAAAAAAEJAAAAAAACAQUAAAAAAAAA/QAAAAAAAAD1AAAAAAAAARkAAAAAAAIBFQAAAAAAAAE5AAAAAAACAR0AAAAAAAABFQAAAAAAAgEpAAAAAAACAQ0AAAAAAAIBDQAAAAAAAAEhAAAAAAAAARUAAAAAAAABJQAAAAAAAgENAAAAAAAAARkAAAAAAAABEQAAAAAAAAERAAAAAAAAARkAAAAAAAABJQAAAAAAAgEJAAAAAAAAAREAAAAAAAIBFQAAAAAAAAEZAAAAAAAAAT0AAAAAAAABDQAAAAAAAAEhAAAAAAAAARUAAAAAAAABCQAAAAAAAAEVAAAAAAAAARkAAAAAAAABEQAAAAAAAAEZAAAAAAACARUAAAAAAAABGQAAAAAAAAENAAAAAAACAR0AAAAAAAABFQAAAAAAAAERAAAAAAAAASkAAAAAAAABFQAAAAAAAAEJAAAAAAAAAR0AAAAAAAABGQAAAAAAAAERAAAAAAACAQ0AAAAAAAABFQAAAAAAAgEJAAAAAAACAQEA=",
          "dtype": "f8"
         },
         "xaxis": "x5",
         "y": {
          "bdata": "AAAAAADIqUAAAAAAAByxQAAAAAAAYKhAAAAAAADwrkAAAAAAAPCeQAAAAAAAtL5AAAAAAABosEAAAAAAAEiyQAAAAAAAQKpAAAAAAAAssEAAAAAAADizQAAAAAAAULlAAAAAAACYrEAAAAAAAJC1QAAAAAAA5LtAAAAAAACwo0AAAAAAAAyyQAAAAAAAGLVAAAAAAADwrkAAAAAAAGivQAAAAAAAdLNAAAAAAADMtUAAAAAAAHCnQAAAAAAAWLFAAAAAAAB8ukAAAAAAALCzQAAAAAAAcKdAAAAAAADss0AAAAAAAACuQAAAAAAAHLFAAAAAAAAwu0AAAAAAAJClQAAAAAAAMKtAAAAAAAAArkAAAAAAAFS1QAAAAAAADLJAAAAAAABosEAAAAAAAOCvQAAAAAAAWLFAAAAAAABktEAAAAAAAICmQAAAAAAA/LJAAAAAAACws0AAAAAAACywQAAAAAAAMKtAAAAAAADgr0AAAAAAAAyyQAAAAAAA4LBAAAAAAAAQrUAAAAAAAIitQAAAAAAAmKxAAAAAAABooEAAAAAAAFy8QAAAAAAA+KZAAAAAAABYsUAAAAAAAGivQAAAAAAAMKtAAAAAAADQsUAAAAAAAFixQAAAAAAA0KFAAAAAAACws0AAAAAAAAAAAAAAAAAAYJhAAAAAAACksEAAAAAAAPCuQAAAAAAAqKtAAAAAAADwrkAAAAAAAICGQAAAAAAACLZAAAAAAABIskAAAAAAAHSzQAAAAAAACLZAAAAAAAAIpkAAAAAAAHiuQAAAAAAAJLhAAAAAAAAAjkAAAAAAALi6QAAAAAAApLBAAAAAAACIrUAAAAAAAByxQAAAAAAAAAAAAAAAAABIskAAAAAAADCrQAAAAAAAIJxAAAAAAABEtkAAAAAAAGS0QAAAAAAAGKVAAAAAAABQmUAAAAAAALy2QAAAAAAA/LJAAAAAAABYoUAAAAAAALCzQAAAAAAAzLVAAAAAAAAkuEAAAAAAADS3QAAAAAAA+LZAAAAAAABooEAAAAAAAHCnQAAAAAAAyLlAAAAAAADQoUAAAAAAABCtQAAAAAAAMKtAAAAAAAAAnkAAAAAAABC9QAAAAAAAuKpAAAAAAADAskAAAAAAABi1QAAAAAAAHLFAAAAAAACUsUAAAAAAAFCpQAAAAAAAjLlAAAAAAAAQrUAAAAAAAGCoQAAAAAAAEK1AAAAAAAAgjEAAAAAAAKSwQAAAAAAAAK5AAAAAAADIqUAAAAAAABi1QAAAAAAA0LFAAAAAAABwp0A=",
          "dtype": "f8"
         },
         "yaxis": "y5"
        },
        {
         "line": {
          "dash": "dash"
         },
         "mode": "lines",
         "name": "deep_sleep_s Fit",
         "type": "scatter",
         "x": {
          "bdata": "AAAAAAAAR0AAAAAAAIBFQAAAAAAAADlAAAAAAACAQkAAAAAAAIBJQAAAAAAAADxAAAAAAACAREAAAAAAAABDQAAAAAAAAEVAAAAAAADAUEAAAAAAAIBCQAAAAAAAgENAAAAAAAAAP0AAAAAAAAA4QAAAAAAAgElAAAAAAAAASUAAAAAAAABDQAAAAAAAAEFAAAAAAAAAP0AAAAAAAABEQAAAAAAAgEBAAAAAAAAAQ0AAAAAAAABGQAAAAAAAAERAAAAAAAAAQUAAAAAAAAA/QAAAAAAAAEVAAAAAAACASUAAAAAAAABHQAAAAAAAgEBAAAAAAAAARkAAAAAAAIBJQAAAAAAAAD1AAAAAAAAAPkAAAAAAAABLQAAAAAAAgElAAAAAAACASkAAAAAAAABFQAAAAAAAAD9AAAAAAAAAOEAAAAAAAIBBQAAAAAAAgEZAAAAAAACAQUAAAAAAAIBCQAAAAAAAAERAAAAAAACASEAAAAAAAAA8QAAAAAAAgEdAAAAAAACAQ0AAAAAAAABDQAAAAAAAgEBAAAAAAAAARkAAAAAAAAA/QAAAAAAAAD9AAAAAAAAARkAAAAAAAABHQAAAAAAAAEVAAAAAAACAREAAAAAAAAA+QAAAAAAAAERAAAAAAACAS0AAAAAAAIBTQAAAAAAAAE1AAAAAAAAARkAAAAAAAABHQAAAAAAAAEJAAAAAAAAAQUAAAAAAAIBMQAAAAAAAgEBAAAAAAAAASEAAAAAAAIBBQAAAAAAAAEJAAAAAAACAQUAAAAAAAAA/QAAAAAAAAD1AAAAAAAAARkAAAAAAAIBFQAAAAAAAAE5AAAAAAACAR0AAAAAAAABFQAAAAAAAgEpAAAAAAACAQ0AAAAAAAIBDQAAAAAAAAEhAAAAAAAAARUAAAAAAAABJQAAAAAAAgENAAAAAAAAARkAAAAAAAABEQAAAAAAAAERAAAAAAAAARkAAAAAAAABJQAAAAAAAgEJAAAAAAAAAREAAAAAAAIBFQAAAAAAAAEZAAAAAAAAAT0AAAAAAAABDQAAAAAAAAEhAAAAAAAAARUAAAAAAAABCQAAAAAAAAEVAAAAAAAAARkAAAAAAAABEQAAAAAAAAEZAAAAAAACARUAAAAAAAABGQAAAAAAAAENAAAAAAACAR0AAAAAAAABFQAAAAAAAAERAAAAAAAAASkAAAAAAAABFQAAAAAAAAEJAAAAAAAAAR0AAAAAAAABGQAAAAAAAAERAAAAAAACAQ0AAAAAAAABFQAAAAAAAgEJAAAAAAACAQEA=",
          "dtype": "f8"
         },
         "xaxis": "x5",
         "y": {
          "bdata": "SPz190xtrkCYBssCisWvQDui5CF867NAnI06DAI7sUBtQOjlkS+sQBMdepxdP7NAEdwBBYRVsEA5YWyKogGxQK6vM4MkHLBAGbQirKEDpUCcjToMAjuxQNY0nghDyLBA7JcPFz+TskCezrKj2yS0QG1A6OWRL6xAM5mE6VCirEA5YWyKogGxQMQSpZEg57FA7JcPFz+TskB0CNCG446wQCY/cxOAILJAOWFsiqIBsUDSrS7/ylKvQHQI0IbjjrBAxBKlkSDnsUDslw8XP5OyQK6vM4MkHLBAbUDo5ZEvrEBI/PX3TG2uQCY/cxOAILJA0q0u/8pSr0BtQOjlkS+sQLHwqxr+BbNATsTdmJ7MskAeNhPbVNeqQG1A6OWRL6xA446v3hNKq0CurzODJBywQOyXDxc/k7JAns6yo9sktEBh5tYPwa2xQA1VkvsL4K5AYebWD8GtsUCcjToMAjuxQHQI0IbjjrBA+PEg7Q8VrUATHXqcXT+zQIOjWfSN+q1A1jSeCEPIsEA5YWyKogGxQCY/cxOAILJA0q0u/8pSr0Dslw8XP5OyQOyXDxc/k7JA0q0u/8pSr0BI/PX3TG2uQK6vM4MkHLBAEdwBBYRVsEBOxN2YnsyyQHQI0IbjjrBAWN1215VkqkCg42qEbBWgQAnTocxYDKlA0q0u/8pSr0BI/PX3TG2uQP65CI5hdLFAxBKlkSDnsUDOKz7QF3+pQCY/cxOAILJAvUq98M6HrUBh5tYPwa2xQP65CI5hdLFAYebWD8GtsUDslw8XP5OyQLHwqxr+BbNA0q0u/8pSr0CYBssCisWvQH4hacXaJqhAg6NZ9I36rUCurzODJBywQOOOr94TSqtA1jSeCEPIsEDWNJ4IQ8iwQL1KvfDOh61Arq8zgyQcsEAzmYTpUKKsQNY0nghDyLBA0q0u/8pSr0B0CNCG446wQHQI0IbjjrBA0q0u/8pSr0AzmYTpUKKsQJyNOgwCO7FAdAjQhuOOsECYBssCisWvQNKtLv/KUq9A9G8wvlxBp0A5YWyKogGxQL1KvfDOh61Arq8zgyQcsED+uQiOYXSxQK6vM4MkHLBA0q0u/8pSr0B0CNCG446wQNKtLv/KUq9AmAbLAorFr0DSrS7/ylKvQDlhbIqiAbFAg6NZ9I36rUCurzODJBywQHQI0IbjjrBAqOdL4tK8q0CurzODJBywQP65CI5hdLFASPz190xtrkDSrS7/ylKvQHQI0IbjjrBA1jSeCEPIsECurzODJBywQJyNOgwCO7FAJj9zE4AgskA=",
          "dtype": "f8"
         },
         "yaxis": "y5"
        },
        {
         "mode": "markers",
         "name": "light_sleep_s",
         "type": "scatter",
         "x": {
          "bdata": "AAAAAAAAR0AAAAAAAIBFQAAAAAAAADlAAAAAAACAQkAAAAAAAIBJQAAAAAAAADxAAAAAAACAREAAAAAAAABDQAAAAAAAAEVAAAAAAADAUEAAAAAAAIBCQAAAAAAAgENAAAAAAAAAP0AAAAAAAAA4QAAAAAAAgElAAAAAAAAASUAAAAAAAABDQAAAAAAAAEFAAAAAAAAAP0AAAAAAAABEQAAAAAAAgEBAAAAAAAAAQ0AAAAAAAABGQAAAAAAAAERAAAAAAAAAQUAAAAAAAAA/QAAAAAAAAEVAAAAAAACASUAAAAAAAABHQAAAAAAAgEBAAAAAAAAARkAAAAAAAIBJQAAAAAAAAD1AAAAAAAAAPkAAAAAAAABLQAAAAAAAgElAAAAAAACASkAAAAAAAABFQAAAAAAAAD9AAAAAAAAAOEAAAAAAAIBBQAAAAAAAgEZAAAAAAACAQUAAAAAAAIBCQAAAAAAAAERAAAAAAACASEAAAAAAAAA8QAAAAAAAgEdAAAAAAACAQ0AAAAAAAABDQAAAAAAAgEBAAAAAAAAARkAAAAAAAAA/QAAAAAAAAD9AAAAAAAAARkAAAAAAAABHQAAAAAAAAEVAAAAAAACAREAAAAAAAAA+QAAAAAAAAERAAAAAAACAS0AAAAAAAIBTQAAAAAAAAE1AAAAAAAAARkAAAAAAAABHQAAAAAAAAEJAAAAAAAAAQUAAAAAAAIBMQAAAAAAAgEBAAAAAAAAASEAAAAAAAIBBQAAAAAAAAEJAAAAAAACAQUAAAAAAAAA/QAAAAAAAAD1AAAAAAAAARkAAAAAAAIBFQAAAAAAAAE5AAAAAAACAR0AAAAAAAABFQAAAAAAAgEpAAAAAAACAQ0AAAAAAAIBDQAAAAAAAAEhAAAAAAAAARUAAAAAAAABJQAAAAAAAgENAAAAAAAAARkAAAAAAAABEQAAAAAAAAERAAAAAAAAARkAAAAAAAABJQAAAAAAAgEJAAAAAAAAAREAAAAAAAIBFQAAAAAAAAEZAAAAAAAAAT0AAAAAAAABDQAAAAAAAAEhAAAAAAAAARUAAAAAAAABCQAAAAAAAAEVAAAAAAAAARkAAAAAAAABEQAAAAAAAAEZAAAAAAACARUAAAAAAAABGQAAAAAAAAENAAAAAAACAR0AAAAAAAABFQAAAAAAAAERAAAAAAAAASkAAAAAAAABFQAAAAAAAAEJAAAAAAAAAR0AAAAAAAABGQAAAAAAAAERAAAAAAACAQ0AAAAAAAABFQAAAAAAAgEJAAAAAAACAQEA=",
          "dtype": "f8"
         },
         "xaxis": "x6",
         "y": {
          "bdata": "AAAAAADky0AAAAAAANrWQAAAAAAAUtdAAAAAAAB000AAAAAAAJTRQAAAAAAAmspAAAAAAAB0w0AAAAAAAIbPQAAAAAAAJMhAAAAAAACN2EAAAAAAAL3VQAAAAAAAhs9AAAAAAAC91UAAAAAAAFXUQAAAAAAAyMlAAAAAAACE0kAAAAAAADrRQAAAAAAAVtNAAAAAAACT0kAAAAAAAN3TQAAAAAAA7NNAAAAAAACR1EAAAAAAAPnVQAAAAAAAwNJAAAAAAAAb0kAAAAAAAKLSQAAAAAAAM9hAAAAAAAAr0UAAAAAAAJjMQAAAAAAAJddAAAAAAAAL00AAAAAAALrYQAAAAAAAZdNAAAAAAABl00AAAAAAAILUQAAAAAAAgdVAAAAAAACu1UAAAAAAACjUQAAAAAAA69RAAAAAAAAl10AAAAAAAKDUQAAAAAAAtM5AAAAAAAB4zkAAAAAAAJTRQAAAAAAAcdZAAAAAAACO10AAAAAAAFbTQAAAAAAA4NBAAAAAAABJ0UAAAAAAAH/XQAAAAAAAotJAAAAAAABg2EAAAAAAAA7PQAAAAAAAVdRAAAAAAABm0kAAAAAAAITSQAAAAAAACNZAAAAAAACD00AAAAAAAIHVQAAAAAAAONNAAAAAAADR0EAAAAAAAECqQAAAAAAAXtpAAAAAAAA21UAAAAAAAKvYQAAAAAAAgNZAAAAAAADq1UAAAAAAAIzZQAAAAAAA29VAAAAAAACWzkAAAAAAAL3VQAAAAAAAd9BAAAAAAABz1EAAAAAAAL3VQAAAAAAAhdFAAAAAAAA11kAAAAAAAIrLQAAAAAAARtRAAAAAAAAG2EAAAAAAANzUQAAAAAAA0s5AAAAAAADP0kAAAAAAALLRQAAAAAAAuthAAAAAAAB30EAAAAAAADjTQAAAAAAAONNAAAAAAAD700AAAAAAAA3RQAAAAAAABthAAAAAAADWykAAAAAAACvRQAAAAAAActVAAAAAAAD+0EAAAAAAALDTQAAAAAAAPM5AAAAAAACAxkAAAAAAAPbYQAAAAAAA79BAAAAAAAC2zEAAAAAAAATKQAAAAAAAq9hAAAAAAABe2kAAAAAAAJrKQAAAAAAA2NhAAAAAAADB0UAAAAAAAJC1QAAAAAAA6dZAAAAAAAAqwkAAAAAAALDTQAAAAAAAPsxAAAAAAABkxEAAAAAAAGjPQAAAAAAAktNAAAAAAAAd0EAAAAAAAB7OQAAAAAAARtRAAAAAAACR1EAAAAAAABnUQAAAAAAA7dJAAAAAAAAl10A=",
          "dtype": "f8"
         },
         "yaxis": "y6"
        },
        {
         "line": {
          "dash": "dash"
         },
         "mode": "lines",
         "name": "light_sleep_s Fit",
         "type": "scatter",
         "x": {
          "bdata": "AAAAAAAAR0AAAAAAAIBFQAAAAAAAADlAAAAAAACAQkAAAAAAAIBJQAAAAAAAADxAAAAAAACAREAAAAAAAABDQAAAAAAAAEVAAAAAAADAUEAAAAAAAIBCQAAAAAAAgENAAAAAAAAAP0AAAAAAAAA4QAAAAAAAgElAAAAAAAAASUAAAAAAAABDQAAAAAAAAEFAAAAAAAAAP0AAAAAAAABEQAAAAAAAgEBAAAAAAAAAQ0AAAAAAAABGQAAAAAAAAERAAAAAAAAAQUAAAAAAAAA/QAAAAAAAAEVAAAAAAACASUAAAAAAAABHQAAAAAAAgEBAAAAAAAAARkAAAAAAAIBJQAAAAAAAAD1AAAAAAAAAPkAAAAAAAABLQAAAAAAAgElAAAAAAACASkAAAAAAAABFQAAAAAAAAD9AAAAAAAAAOEAAAAAAAIBBQAAAAAAAgEZAAAAAAACAQUAAAAAAAIBCQAAAAAAAAERAAAAAAACASEAAAAAAAAA8QAAAAAAAgEdAAAAAAACAQ0AAAAAAAABDQAAAAAAAgEBAAAAAAAAARkAAAAAAAAA/QAAAAAAAAD9AAAAAAAAARkAAAAAAAABHQAAAAAAAAEVAAAAAAACAREAAAAAAAAA+QAAAAAAAAERAAAAAAACAS0AAAAAAAIBTQAAAAAAAAE1AAAAAAAAARkAAAAAAAABHQAAAAAAAAEJAAAAAAAAAQUAAAAAAAIBMQAAAAAAAgEBAAAAAAAAASEAAAAAAAIBBQAAAAAAAAEJAAAAAAACAQUAAAAAAAAA/QAAAAAAAAD1AAAAAAAAARkAAAAAAAIBFQAAAAAAAAE5AAAAAAACAR0AAAAAAAABFQAAAAAAAgEpAAAAAAACAQ0AAAAAAAIBDQAAAAAAAAEhAAAAAAAAARUAAAAAAAABJQAAAAAAAgENAAAAAAAAARkAAAAAAAABEQAAAAAAAAERAAAAAAAAARkAAAAAAAABJQAAAAAAAgEJAAAAAAAAAREAAAAAAAIBFQAAAAAAAAEZAAAAAAAAAT0AAAAAAAABDQAAAAAAAAEhAAAAAAAAARUAAAAAAAABCQAAAAAAAAEVAAAAAAAAARkAAAAAAAABEQAAAAAAAAEZAAAAAAACARUAAAAAAAABGQAAAAAAAAENAAAAAAACAR0AAAAAAAABFQAAAAAAAAERAAAAAAAAASkAAAAAAAABFQAAAAAAAAEJAAAAAAAAAR0AAAAAAAABGQAAAAAAAAERAAAAAAACAQ0AAAAAAAABFQAAAAAAAgEJAAAAAAACAQEA=",
          "dtype": "f8"
         },
         "xaxis": "x6",
         "y": {
          "bdata": "2t6GCx160kByCX2A0cPSQP4IQj4MftRAoF5pajpX00Del+ydRf/RQGbeS8lXNNRA1yUhefT00kBuUBfuqD7TQKQXz/xi3NJAuLTL2C120ECgXmlqOlfTQDxCxXEXJtNAz7NVVKPq00AwF5S6nZbUQN6X7J1F/9FAEaY+GtcX0kBuUBfuqD7TQDiJX9/uoNNAz7NVVKPq00AJNHP1hQ3TQGqXsVuAudNAblAX7qg+00BA+yoEQKvSQAk0c/WFDdNAOIlf3+6g00DPs1VUo+rTQKQXz/xi3NJA3pfsnUX/0UDa3oYLHXrSQGqXsVuAudNAQPsqBECr0kDel+ydRf/RQDTQ+UzGG9RAAcKn0DQD1EBHbfYokbXRQN6X7J1F/9FAentIpSLO0UCkF8/8YtzSQM+zVVSj6tNAMBeUup2W1EAFew1jXYjTQA3t2IeuktJABXsNY12I00CgXmlqOlfTQAk0c/WFDdNAQ7SQlmgw0kBm3kvJVzTUQKjQNI+LYdJAPELFcRcm00BuUBfuqD7TQGqXsVuAudNAQPsqBECr0kDPs1VUo+rTQM+zVVSj6tNAQPsqBECr0kDa3oYLHXrSQKQXz/xi3NJA1yUhefT00kABwqfQNAPUQAk0c/WFDdNAFV+krP+c0UAaMYoC28/OQH40rjdLU9FAQPsqBECr0kDa3oYLHXrSQNNsu+bLb9NAOIlf3+6g00CwQgC03GvRQGqXsVuAudNAdsLiEvpI0kAFew1jXYjTQNNsu+bLb9NABXsNY12I00DPs1VUo+rTQDTQ+UzGG9RAQPsqBECr0kByCX2A0cPSQBkYCj8oItFAqNA0j4th0kCkF8/8YtzSQHp7SKUiztFAPELFcRcm00A8QsVxFybTQHbC4hL6SNJApBfP/GLc0kARpj4a1xfSQDxCxXEXJtNAQPsqBECr0kAJNHP1hQ3TQAk0c/WFDdNAQPsqBECr0kARpj4a1xfSQKBeaWo6V9NACTRz9YUN00ByCX2A0cPSQED7KgRAq9JAtPtlRgXx0EBuUBfuqD7TQHbC4hL6SNJApBfP/GLc0kDTbLvmy2/TQKQXz/xi3NJAQPsqBECr0kAJNHP1hQ3TQED7KgRAq9JAcgl9gNHD0kBA+yoEQKvSQG5QF+6oPtNAqNA0j4th0kCkF8/8YtzSQAk0c/WFDdNArImaIbTm0UCkF8/8YtzSQNNsu+bLb9NA2t6GCx160kBA+yoEQKvSQAk0c/WFDdNAPELFcRcm00CkF8/8YtzSQKBeaWo6V9NAapexW4C500A=",
          "dtype": "f8"
         },
         "yaxis": "y6"
        },
        {
         "mode": "markers",
         "name": "rem_sleep_s",
         "type": "scatter",
         "x": {
          "bdata": "AAAAAAAAR0AAAAAAAIBFQAAAAAAAADlAAAAAAACAQkAAAAAAAIBJQAAAAAAAADxAAAAAAACAREAAAAAAAABDQAAAAAAAAEVAAAAAAADAUEAAAAAAAIBCQAAAAAAAgENAAAAAAAAAP0AAAAAAAAA4QAAAAAAAgElAAAAAAAAASUAAAAAAAABDQAAAAAAAAEFAAAAAAAAAP0AAAAAAAABEQAAAAAAAgEBAAAAAAAAAQ0AAAAAAAABGQAAAAAAAAERAAAAAAAAAQUAAAAAAAAA/QAAAAAAAAEVAAAAAAACASUAAAAAAAABHQAAAAAAAgEBAAAAAAAAARkAAAAAAAIBJQAAAAAAAAD1AAAAAAAAAPkAAAAAAAABLQAAAAAAAgElAAAAAAACASkAAAAAAAABFQAAAAAAAAD9AAAAAAAAAOEAAAAAAAIBBQAAAAAAAgEZAAAAAAACAQUAAAAAAAIBCQAAAAAAAAERAAAAAAACASEAAAAAAAAA8QAAAAAAAgEdAAAAAAACAQ0AAAAAAAABDQAAAAAAAgEBAAAAAAAAARkAAAAAAAAA/QAAAAAAAAD9AAAAAAAAARkAAAAAAAABHQAAAAAAAAEVAAAAAAACAREAAAAAAAAA+QAAAAAAAAERAAAAAAACAS0AAAAAAAIBTQAAAAAAAAE1AAAAAAAAARkAAAAAAAABHQAAAAAAAAEJAAAAAAAAAQUAAAAAAAIBMQAAAAAAAgEBAAAAAAAAASEAAAAAAAIBBQAAAAAAAAEJAAAAAAACAQUAAAAAAAAA/QAAAAAAAAD1AAAAAAAAARkAAAAAAAIBFQAAAAAAAAE5AAAAAAACAR0AAAAAAAABFQAAAAAAAgEpAAAAAAACAQ0AAAAAAAIBDQAAAAAAAAEhAAAAAAAAARUAAAAAAAABJQAAAAAAAgENAAAAAAAAARkAAAAAAAABEQAAAAAAAAERAAAAAAAAARkAAAAAAAABJQAAAAAAAgEJAAAAAAAAAREAAAAAAAIBFQAAAAAAAAEZAAAAAAAAAT0AAAAAAAABDQAAAAAAAAEhAAAAAAAAARUAAAAAAAABCQAAAAAAAAEVAAAAAAAAARkAAAAAAAABEQAAAAAAAAEZAAAAAAACARUAAAAAAAABGQAAAAAAAAENAAAAAAACAR0AAAAAAAABFQAAAAAAAAERAAAAAAAAASkAAAAAAAABFQAAAAAAAAEJAAAAAAAAAR0AAAAAAAABGQAAAAAAAAERAAAAAAACAQ0AAAAAAAABFQAAAAAAAgEJAAAAAAACAQEA=",
          "dtype": "f8"
         },
         "xaxis": "x7",
         "y": {
          "bdata": "AAAAAACAtkAAAAAAAJisQAAAAAAAcMdAAAAAAAAgvEAAAAAAAGigQAAAAAAAGLVAAAAAAABQqUAAAAAAAA7AQAAAAAAAgJZAAAAAAAAgjEAAAAAAAJi8QAAAAAAAAK5AAAAAAAA8vkAAAAAAAEC6QAAAAAAA1LxAAAAAAAAkuEAAAAAAAAyyQAAAAAAASsBAAAAAAACMuUAAAAAAAAS6QAAAAAAAmLxAAAAAAAAwu0AAAAAAANChQAAAAAAAKLRAAAAAAACcuEAAAAAAAByxQAAAAAAASLJAAAAAAABEtkAAAAAAACCMQAAAAAAAjLlAAAAAAAC8tkAAAAAAAACOQAAAAAAAHLFAAAAAAADctEAAAAAAAOinQAAAAAAAgIZAAAAAAAC0vkAAAAAAAOyzQAAAAAAACLZAAAAAAABsu0AAAAAAANy0QAAAAAAAvLZAAAAAAABUtUAAAAAAADy+QAAAAAAAKLRAAAAAAADctEAAAAAAAPi2QAAAAAAAILxAAAAAAACApkAAAAAAAMLAQAAAAAAA8L5AAAAAAABQqUAAAAAAAErAQAAAAAAAjLlAAAAAAAAIpkAAAAAAAACuQAAAAAAATL1AAAAAAABYsUAAAAAAAMS9QAAAAAAA5LtAAAAAAAAAvkAAAAAAAAAAAAAAAAAAAAAAAAAAAACksEAAAAAAAGi/QAAAAAAAULlAAAAAAABAukAAAAAAAAAAAAAAAAAAwMJAAAAAAACou0AAAAAAADC7QAAAAAAALMBAAAAAAAAgvEAAAAAAALy2QAAAAAAAgLZAAAAAAAC4qkAAAAAAAEjCQAAAAAAAiK1AAAAAAABQqUAAAAAAAGivQAAAAAAAcJdAAAAAAAC8tkAAAAAAAOCvQAAAAAAArLdAAAAAAAB4rkAAAAAAAHCXQAAAAAAAAK5AAAAAAADQoUAAAAAAAL7EQAAAAAAAqLtAAAAAAAAAAAAAAAAAAPCeQAAAAAAA3sJAAAAAAAAQrUAAAAAAAPS6QAAAAAAA4K9AAAAAAACglEAAAAAAAKLCQAAAAAAAXLxAAAAAAADgsEAAAAAAAOCQQAAAAAAAFLlAAAAAAABgqEAAAAAAALy2QAAAAAAANLdAAAAAAAAYtUAAAAAAAICWQAAAAAAAGKVAAAAAAADop0AAAAAAAHSzQAAAAAAAOLNAAAAAAACou0AAAAAAAGC4QAAAAAAA8K5AAAAAAACst0AAAAAAAAC+QAAAAAAAaK9AAAAAAADgoEAAAAAAANy0QAAAAAAACLZAAAAAAABAukA=",
          "dtype": "f8"
         },
         "yaxis": "y7"
        },
        {
         "line": {
          "dash": "dash"
         },
         "mode": "lines",
         "name": "rem_sleep_s Fit",
         "type": "scatter",
         "x": {
          "bdata": "AAAAAAAAR0AAAAAAAIBFQAAAAAAAADlAAAAAAACAQkAAAAAAAIBJQAAAAAAAADxAAAAAAACAREAAAAAAAABDQAAAAAAAAEVAAAAAAADAUEAAAAAAAIBCQAAAAAAAgENAAAAAAAAAP0AAAAAAAAA4QAAAAAAAgElAAAAAAAAASUAAAAAAAABDQAAAAAAAAEFAAAAAAAAAP0AAAAAAAABEQAAAAAAAgEBAAAAAAAAAQ0AAAAAAAABGQAAAAAAAAERAAAAAAAAAQUAAAAAAAAA/QAAAAAAAAEVAAAAAAACASUAAAAAAAABHQAAAAAAAgEBAAAAAAAAARkAAAAAAAIBJQAAAAAAAAD1AAAAAAAAAPkAAAAAAAABLQAAAAAAAgElAAAAAAACASkAAAAAAAABFQAAAAAAAAD9AAAAAAAAAOEAAAAAAAIBBQAAAAAAAgEZAAAAAAACAQUAAAAAAAIBCQAAAAAAAAERAAAAAAACASEAAAAAAAAA8QAAAAAAAgEdAAAAAAACAQ0AAAAAAAABDQAAAAAAAgEBAAAAAAAAARkAAAAAAAAA/QAAAAAAAAD9AAAAAAAAARkAAAAAAAABHQAAAAAAAAEVAAAAAAACAREAAAAAAAAA+QAAAAAAAAERAAAAAAACAS0AAAAAAAIBTQAAAAAAAAE1AAAAAAAAARkAAAAAAAABHQAAAAAAAAEJAAAAAAAAAQUAAAAAAAIBMQAAAAAAAgEBAAAAAAAAASEAAAAAAAIBBQAAAAAAAAEJAAAAAAACAQUAAAAAAAAA/QAAAAAAAAD1AAAAAAAAARkAAAAAAAIBFQAAAAAAAAE5AAAAAAACAR0AAAAAAAABFQAAAAAAAgEpAAAAAAACAQ0AAAAAAAIBDQAAAAAAAAEhAAAAAAAAARUAAAAAAAABJQAAAAAAAgENAAAAAAAAARkAAAAAAAABEQAAAAAAAAERAAAAAAAAARkAAAAAAAABJQAAAAAAAgEJAAAAAAAAAREAAAAAAAIBFQAAAAAAAAEZAAAAAAAAAT0AAAAAAAABDQAAAAAAAAEhAAAAAAAAARUAAAAAAAABCQAAAAAAAAEVAAAAAAAAARkAAAAAAAABEQAAAAAAAAEZAAAAAAACARUAAAAAAAABGQAAAAAAAAENAAAAAAACAR0AAAAAAAABFQAAAAAAAAERAAAAAAAAASkAAAAAAAABFQAAAAAAAAEJAAAAAAAAAR0AAAAAAAABGQAAAAAAAAERAAAAAAACAQ0AAAAAAAABFQAAAAAAAgEJAAAAAAACAQEA=",
          "dtype": "f8"
         },
         "xaxis": "x7",
         "y": {
          "bdata": "ckxUimHcsUCKdI3RoI2zQBxl5Hwctb1Au8T/Xx/wtkA+E+rRmhSuQAQ9qzXdA7xARY+zq3WutEBdt+zytF+2QOiBoD4LHrRAIM8QX5oOmEC7xP9fH/C2QACq2YVKz7VA6xRy7p1SukB6cvfphkW+QD4T6tGaFK5A+C0QrG81r0Bdt+zytF+2QNPsOKdeobhA6xRy7p1SukCinMYY4D61QDH6SxTJMblAXbfs8rRftkAtZ3pkNv2yQKKcxhjgPrVA0+w4p16huEDrFHLunVK6QOiBoD4LHrRAPhPq0ZoUrkByTFSKYdyxQDH6SxTJMblALWd6ZDb9skA+E+rRmhSuQKYvmMhyc7tASSKFWwjjukAMw3dDHLKqQD4T6tGaFK5AyN2dHfHSq0DogaA+Cx60QOsUcu6dUrpAenL36YZFvkB23yU69BC4QM9ZZ/fLbLJAdt8lOvQQuEC7xP9fH/C2QKKcxhjgPrVAWiQbQyIrsEAEPas13QO8QBQ/QR33S7FAAKrZhUrPtUBdt+zytF+2QDH6SxTJMblALWd6ZDb9skDrFHLunVK6QOsUcu6dUrpALWd6ZDb9skByTFSKYdyxQOiBoD4LHrRARY+zq3WutEBJIoVbCOO6QKKcxhjgPrVAUqhRaUeRqUAAnq8GDHZIwCBY39rILqZALWd6ZDb9skByTFSKYdyxQBjSEs2JgLdA0+w4p16huEDccgW1nU+nQDH6SxTJMblAtzEusIy7sEB23yU69BC4QBjSEs2JgLdAdt8lOvQQuEDrFHLunVK6QKYvmMhyc7tALWd6ZDb9skCKdI3RoI2zQKwikyYf7aNAFD9BHfdLsUDogaA+Cx60QMjdnR3x0qtAAKrZhUrPtUAAqtmFSs+1QLcxLrCMu7BA6IGgPgsetED4LRCsbzWvQACq2YVKz7VALWd6ZDb9skCinMYY4D61QKKcxhjgPrVALWd6ZDb9skD4LRCsbzWvQLvE/18f8LZAopzGGOA+tUCKdI3RoI2zQC1nemQ2/bJANO1GcnWroUBdt+zytF+2QLcxLrCMu7BA6IGgPgsetEAY0hLNiYC3QOiBoD4LHrRALWd6ZDb9skCinMYY4D61QC1nemQ2/bJAinSN0aCNs0AtZ3pkNv2yQF237PK0X7ZAFD9BHfdLsUDogaA+Cx60QKKcxhjgPrVAgvjD98XzrEDogaA+Cx60QBjSEs2JgLdAckxUimHcsUAtZ3pkNv2yQKKcxhjgPrVAAKrZhUrPtUDogaA+Cx60QLvE/18f8LZAMfpLFMkxuUA=",
          "dtype": "f8"
         },
         "yaxis": "y7"
        },
        {
         "mode": "markers",
         "name": "awake_s",
         "type": "scatter",
         "x": {
          "bdata": "AAAAAAAAR0AAAAAAAIBFQAAAAAAAADlAAAAAAACAQkAAAAAAAIBJQAAAAAAAADxAAAAAAACAREAAAAAAAABDQAAAAAAAAEVAAAAAAADAUEAAAAAAAIBCQAAAAAAAgENAAAAAAAAAP0AAAAAAAAA4QAAAAAAAgElAAAAAAAAASUAAAAAAAABDQAAAAAAAAEFAAAAAAAAAP0AAAAAAAABEQAAAAAAAgEBAAAAAAAAAQ0AAAAAAAABGQAAAAAAAAERAAAAAAAAAQUAAAAAAAAA/QAAAAAAAAEVAAAAAAACASUAAAAAAAABHQAAAAAAAgEBAAAAAAAAARkAAAAAAAIBJQAAAAAAAAD1AAAAAAAAAPkAAAAAAAABLQAAAAAAAgElAAAAAAACASkAAAAAAAABFQAAAAAAAAD9AAAAAAAAAOEAAAAAAAIBBQAAAAAAAgEZAAAAAAACAQUAAAAAAAIBCQAAAAAAAAERAAAAAAACASEAAAAAAAAA8QAAAAAAAgEdAAAAAAACAQ0AAAAAAAABDQAAAAAAAgEBAAAAAAAAARkAAAAAAAAA/QAAAAAAAAD9AAAAAAAAARkAAAAAAAABHQAAAAAAAAEVAAAAAAACAREAAAAAAAAA+QAAAAAAAAERAAAAAAACAS0AAAAAAAIBTQAAAAAAAAE1AAAAAAAAARkAAAAAAAABHQAAAAAAAAEJAAAAAAAAAQUAAAAAAAIBMQAAAAAAAgEBAAAAAAAAASEAAAAAAAIBBQAAAAAAAAEJAAAAAAACAQUAAAAAAAAA/QAAAAAAAAD1AAAAAAAAARkAAAAAAAIBFQAAAAAAAAE5AAAAAAACAR0AAAAAAAABFQAAAAAAAgEpAAAAAAACAQ0AAAAAAAIBDQAAAAAAAAEhAAAAAAAAARUAAAAAAAABJQAAAAAAAgENAAAAAAAAARkAAAAAAAABEQAAAAAAAAERAAAAAAAAARkAAAAAAAABJQAAAAAAAgEJAAAAAAAAAREAAAAAAAIBFQAAAAAAAAEZAAAAAAAAAT0AAAAAAAABDQAAAAAAAAEhAAAAAAAAARUAAAAAAAABCQAAAAAAAAEVAAAAAAAAARkAAAAAAAABEQAAAAAAAAEZAAAAAAACARUAAAAAAAABGQAAAAAAAAENAAAAAAACAR0AAAAAAAABFQAAAAAAAAERAAAAAAAAASkAAAAAAAABFQAAAAAAAAEJAAAAAAAAAR0AAAAAAAABGQAAAAAAAAERAAAAAAACAQ0AAAAAAAABFQAAAAAAAgEJAAAAAAACAQEA=",
          "dtype": "f8"
         },
         "xaxis": "x8",
         "y": {
          "bdata": "AAAAAAAATkAAAAAAAEiyQAAAAAAA4IBAAAAAAADAgkAAAAAAAOCPQAAAAAAAAAAAAAAAAADAckAAAAAAAABuQAAAAAAAQHpAAAAAAAAcsUAAAAAAAABOQAAAAAAAAAAAAAAAAAAAAAAAAAAAAAB+QAAAAAAAwHJAAAAAAACAZkAAAAAAAABOQAAAAAAAAG5AAAAAAACAdkAAAAAAAABOQAAAAAAAQHpAAAAAAACAdkAAAAAAAJisQAAAAAAAAF5AAAAAAADQoUAAAAAAAABOQAAAAAAAQJpAAAAAAAAAXkAAAAAAAEDKQAAAAAAAAAAAAAAAAAAAfkAAAAAAABilQAAAAAAAAAAAAAAAAACAZkAAAAAAACzAQAAAAAAAOKNAAAAAAAAATkAAAAAAAABOQAAAAAAAQHpAAAAAAAAATkAAAAAAAABOQAAAAAAAAAAAAAAAAACAdkAAAAAAAAB+QAAAAAAAAJ5AAAAAAACgpEAAAAAAAABOQAAAAAAAAAAAAAAAAACAZkAAAAAAAAAAAAAAAAAAAE5AAAAAAADQkUAAAAAAAAAAAAAAAAAAAAAAAAAAAACAZkAAAAAAAAB+QAAAAAAAAAAAAAAAAAAAAAAAAAAAAAAAAAAAAAAAAAAAAAAAAACAZkAAAAAAAIitQAAAAAAA4KBAAAAAAAAAAAAAAAAAAAAAAAAAAAAAAAAAAAAAAACAZkAAAAAAAKy3QAAAAAAAAAAAAAAAAAAAbkAAAAAAANCRQAAAAAAAgGZAAAAAAAAATkAAAAAAAOCAQAAAAAAAAAAAAAAAAACIrUAAAAAAAAAAAAAAAAAAZsJAAAAAAABgiEAAAAAAAKCEQAAAAAAAcJdAAAAAAAAAXkAAAAAAAAAAAAAAAAAAIIxAAAAAAACAZkAAAAAAAIBmQAAAAAAAgGZAAAAAAAAAXkAAAAAAAAAAAAAAAAAAgGZAAAAAAAAgjEAAAAAAAOCvQAAAAAAAAF5AAAAAAADgj0AAAAAAAAAAAAAAAAAAQHpAAAAAAACwk0AAAAAAAAAAAAAAAAAAAAAAAAAAAAAAAAAAAAAAAAAAAAAAAAAA4KBAAAAAAABQmUAAAAAAAGCIQAAAAAAAIKxAAAAAAAAAXkAAAAAAAMByQAAAAAAAaMBAAAAAAAAAXkAAAAAAAAi2QAAAAAAAAF5AAAAAAADAckAAAAAAAICGQAAAAAAAIIxAAAAAAABAekAAAAAAAABeQAAAAAAAUJlAAAAAAADgj0AAAAAAAIBmQAAAAAAAAE5AAAAAAABwl0A=",
          "dtype": "f8"
         },
         "yaxis": "y8"
        },
        {
         "line": {
          "dash": "dash"
         },
         "mode": "lines",
         "name": "awake_s Fit",
         "type": "scatter",
         "x": {
          "bdata": "AAAAAAAAR0AAAAAAAIBFQAAAAAAAADlAAAAAAACAQkAAAAAAAIBJQAAAAAAAADxAAAAAAACAREAAAAAAAABDQAAAAAAAAEVAAAAAAADAUEAAAAAAAIBCQAAAAAAAgENAAAAAAAAAP0AAAAAAAAA4QAAAAAAAgElAAAAAAAAASUAAAAAAAABDQAAAAAAAAEFAAAAAAAAAP0AAAAAAAABEQAAAAAAAgEBAAAAAAAAAQ0AAAAAAAABGQAAAAAAAAERAAAAAAAAAQUAAAAAAAAA/QAAAAAAAAEVAAAAAAACASUAAAAAAAABHQAAAAAAAgEBAAAAAAAAARkAAAAAAAIBJQAAAAAAAAD1AAAAAAAAAPkAAAAAAAABLQAAAAAAAgElAAAAAAACASkAAAAAAAABFQAAAAAAAAD9AAAAAAAAAOEAAAAAAAIBBQAAAAAAAgEZAAAAAAACAQUAAAAAAAIBCQAAAAAAAAERAAAAAAACASEAAAAAAAAA8QAAAAAAAgEdAAAAAAACAQ0AAAAAAAABDQAAAAAAAgEBAAAAAAAAARkAAAAAAAAA/QAAAAAAAAD9AAAAAAAAARkAAAAAAAABHQAAAAAAAAEVAAAAAAACAREAAAAAAAAA+QAAAAAAAAERAAAAAAACAS0AAAAAAAIBTQAAAAAAAAE1AAAAAAAAARkAAAAAAAABHQAAAAAAAAEJAAAAAAAAAQUAAAAAAAIBMQAAAAAAAgEBAAAAAAAAASEAAAAAAAIBBQAAAAAAAAEJAAAAAAACAQUAAAAAAAAA/QAAAAAAAAD1AAAAAAAAARkAAAAAAAIBFQAAAAAAAAE5AAAAAAACAR0AAAAAAAABFQAAAAAAAgEpAAAAAAACAQ0AAAAAAAIBDQAAAAAAAAEhAAAAAAAAARUAAAAAAAABJQAAAAAAAgENAAAAAAAAARkAAAAAAAABEQAAAAAAAAERAAAAAAAAARkAAAAAAAABJQAAAAAAAgEJAAAAAAAAAREAAAAAAAIBFQAAAAAAAAEZAAAAAAAAAT0AAAAAAAABDQAAAAAAAAEhAAAAAAAAARUAAAAAAAABCQAAAAAAAAEVAAAAAAAAARkAAAAAAAABEQAAAAAAAAEZAAAAAAACARUAAAAAAAABGQAAAAAAAAENAAAAAAACAR0AAAAAAAABFQAAAAAAAAERAAAAAAAAASkAAAAAAAABFQAAAAAAAAEJAAAAAAAAAR0AAAAAAAABGQAAAAAAAAERAAAAAAACAQ0AAAAAAAABFQAAAAAAAgEJAAAAAAACAQEA=",
          "dtype": "f8"
         },
         "xaxis": "x8",
         "y": {
          "bdata": "RFISdE1Ql0DYw6JW2eSSQNBK6md9f37AAE6HN+IbhEBQ6nb6Dq6eQEAiWORZo2nAeHRb2xflj0CcV3ygLw6HQAo/KKKya5FAoJsPIT0gq0AAToc34huEQDhhcQl9AIpAQKJIDo5wU0AIL+ocDDKCwFDqdvoOrp5AhGX8Reg0nUCcV3ygLw6HQEhiUPnziXZAQKJIDo5wU0DYamZyyvKMQBBPZidZpXBAnFd8oC8Oh0CoSB0LAF6UQNhqZnLK8oxASGJQ+fOJdkBAokgOjnBTQAo/KKKya5FAUOp2+g6unkBEUhJ0TVCXQBBPZidZpXBAqEgdCwBelEBQ6nb6Dq6eQID3B4FItFvAgKp+5XSHMMBePPOLwYyhQFDqdvoOrp5A+Pm1MS7QoEAKPyiismuRQECiSA6OcFNACC/qHAwygsCAdTrLjm58QHjNl78m15VAgHU6y45ufEAAToc34huEQNhqZnLK8oxAtOCBkcG7m0BAIljkWaNpwBTXjCh0yZhAOGFxCX0AikCcV3ygLw6HQBBPZidZpXBAqEgdCwBelEBAokgOjnBTQECiSA6OcFNAqEgdCwBelEBEUhJ0TVCXQAo/KKKya5FAeHRb2xflj0CAqn7ldIcwwNhqZnLK8oxAxn4w5lRJokAJu9gASZ2xQP5F6PQOf6RAqEgdCwBelEBEUhJ0TVCXQGBEks6UKYFASGJQ+fOJdkCWA6uae8KjQBBPZidZpXBA5FsH3ZpCmkCAdTrLjm58QGBEks6UKYFAgHU6y45ufEBAokgOjnBTQID3B4FItFvAqEgdCwBelEDYw6JW2eSSQMzKYqk1+KVAFNeMKHTJmEAKPyiismuRQPj5tTEu0KBAOGFxCX0AikA4YXEJfQCKQORbB92aQppACj8oorJrkUCEZfxF6DSdQDhhcQl9AIpAqEgdCwBelEDYamZyyvKMQNhqZnLK8oxAqEgdCwBelECEZfxF6DSdQABOhzfiG4RA2GpmcsryjEDYw6JW2eSSQKhIHQsAXpRAmk/dXVxxp0CcV3ygLw6HQORbB92aQppACj8oorJrkUBgRJLOlCmBQAo/KKKya5FAqEgdCwBelEDYamZyyvKMQKhIHQsAXpRA2MOiVtnkkkCoSB0LAF6UQJxXfKAvDodAFNeMKHTJmEAKPyiismuRQNhqZnLK8oxAkLd415oToEAKPyiismuRQGBEks6UKYFARFISdE1Ql0CoSB0LAF6UQNhqZnLK8oxAOGFxCX0AikAKPyiismuRQABOhzfiG4RAEE9mJ1mlcEA=",
          "dtype": "f8"
         },
         "yaxis": "y8"
        },
        {
         "mode": "markers",
         "name": "steps",
         "type": "scatter",
         "x": {
          "bdata": "AAAAAAAAS0AAAAAAAABHQAAAAAAAgEVAAAAAAAAAOUAAAAAAAIBCQAAAAAAAgElAAAAAAAAAPEAAAAAAAIBEQAAAAAAAAENAAAAAAAAARUAAAAAAAMBQQAAAAAAAgEJAAAAAAACAQ0AAAAAAAAA/QAAAAAAAADhAAAAAAACASUAAAAAAAABJQAAAAAAAAENAAAAAAAAAQUAAAAAAAAA/QAAAAAAAAERAAAAAAACAQEAAAAAAAABDQAAAAAAAAEZAAAAAAAAAREAAAAAAAABBQAAAAAAAAD9AAAAAAAAARUAAAAAAAIBJQAAAAAAAAEdAAAAAAACAQEAAAAAAAABGQAAAAAAAgElAAAAAAAAAPUAAAAAAAAA+QAAAAAAAAEtAAAAAAACASUAAAAAAAIBKQAAAAAAAAEVAAAAAAAAAP0AAAAAAAAA4QAAAAAAAgEFAAAAAAACARkAAAAAAAIBBQAAAAAAAgEJAAAAAAAAAREAAAAAAAIBIQAAAAAAAADxAAAAAAACAR0AAAAAAAIBDQAAAAAAAAENAAAAAAACAQEAAAAAAAABJQAAAAAAAAEZAAAAAAAAAP0AAAAAAAAA/QAAAAAAAAEZAAAAAAAAAR0AAAAAAAABFQAAAAAAAgERAAAAAAAAAPkAAAAAAAABEQAAAAAAAgEtAAAAAAACAU0AAAAAAAABNQAAAAAAAAEZAAAAAAAAAR0AAAAAAAABCQAAAAAAAAEFAAAAAAACATEAAAAAAAIBAQAAAAAAAAEhAAAAAAACAQUAAAAAAAABCQAAAAAAAgEFAAAAAAAAAP0AAAAAAAAA9QAAAAAAAAEZAAAAAAACARUAAAAAAAABOQAAAAAAAgEdAAAAAAAAARUAAAAAAAIBKQAAAAAAAgENAAAAAAACAQ0AAAAAAAABIQAAAAAAAAEVAAAAAAAAASUAAAAAAAIBDQAAAAAAAAEZAAAAAAAAAREAAAAAAAABEQAAAAAAAAEZAAAAAAAAASUAAAAAAAIBCQAAAAAAAAERAAAAAAACARUAAAAAAAABGQAAAAAAAAE9AAAAAAACASUAAAAAAAABDQAAAAAAAAEhAAAAAAAAARUAAAAAAAABCQAAAAAAAAEVAAAAAAAAARkAAAAAAAABEQAAAAAAAAEZAAAAAAACARUAAAAAAAABGQAAAAAAAAENAAAAAAACAR0AAAAAAAABFQAAAAAAAAERAAAAAAAAASkAAAAAAAABFQAAAAAAAAEJAAAAAAAAAR0AAAAAAAABGQAAAAAAAAERAAAAAAACAQ0AAAAAAAABFQAAAAAAAgEJA",
          "dtype": "f8"
         },
         "xaxis": "x9",
         "y": {
          "bdata": "AAAAAIBww0AAAAAAANymQAAAAACApMBAAAAAAEBE0UAAAAAAAGC7QAAAAAAA77NAAAAAAABwtUAAAAAAANqkQAAAAAAAyrtAAAAAAABbyUAAAAAAANbBQAAAAAAA/sJAAAAAAAATvEAAAAAAADOyQAAAAACAsMBAAAAAAAD6xkAAAAAAANW7QAAAAACAFspAAAAAAAAirEAAAAAAAKK7QAAAAAAADrlAAAAAAAAxtUAAAAAAAFTJQAAAAACA8sBAAAAAAAClwkAAAAAAAKqhQAAAAAAA67pAAAAAAIBsx0AAAAAAAFa/QAAAAACAp8lAAAAAAAC/tUAAAAAAwA/RQAAAAAAASsBAAAAAAACkoUAAAAAAgIXBQAAAAAAABKhAAAAAAACNsEAAAAAAAF6uQAAAAAAAR8hAAAAAAABJsEAAAAAAgBfEQAAAAACAM8lAAAAAAADzzEAAAAAAAHHOQAAAAACAdMhAAAAAAICBzUAAAAAAgCDGQAAAAACA88NAAAAAAADopkAAAAAAADioQAAAAAAAyJVAAAAAAABWpEAAAAAAAEC6QAAAAACAHcFAAAAAAACKskAAAAAAgJ3AQAAAAAAA4qRAAAAAAABoxkAAAAAAABvDQAAAAAAAybVAAAAAAABKr0AAAAAAADCxQAAAAAAAwqRAAAAAAAB0okAAAAAAAKavQAAAAAAAhrxAAAAAAACxwEAAAAAAALyUQAAAAACAHcJAAAAAAAD8sUAAAAAAAKTFQAAAAAAAUMNAAAAAAABXtUAAAAAAwLHUQAAAAAAA2MlAAAAAAAAGx0AAAAAAgPjGQAAAAACAVsRAAAAAAABotUAAAAAAAGPPQAAAAAAAdMRAAAAAAIDpxUAAAAAAAIrMQAAAAAAA8KBAAAAAAIBdykAAAAAAwL3QQAAAAADAAdFAAAAAAAAxzkAAAAAAADvKQAAAAAAAd8pAAAAAAEDA00AAAAAAAG7AQAAAAAAADLBAAAAAAACuvEAAAAAAAGiqQAAAAACAO9BAAAAAAACfv0AAAAAAAD/EQAAAAAAAMJxAAAAAAACJsEAAAAAAAFCmQAAAAACA19BAAAAAAABAvEAAAAAAAKChQAAAAAAAVqpAAAAAAABInEAAAAAAALe0QAAAAAAAaKFAAAAAAAAjykAAAAAAAAi1QAAAAAAA4LBAAAAAAACsuEAAAAAAAHm7QAAAAAAA0LBAAAAAAAAOykAAAAAAAEa0QAAAAAAA4qZAAAAAAADSykAAAAAAALy8QAAAAAAArqJAAAAAAIAqzkAAAAAAAFKvQAAAAACAHsxA",
          "dtype": "f8"
         },
         "yaxis": "y9"
        },
        {
         "line": {
          "dash": "dash"
         },
         "mode": "lines",
         "name": "steps Fit",
         "type": "scatter",
         "x": {
          "bdata": "AAAAAAAAS0AAAAAAAABHQAAAAAAAgEVAAAAAAAAAOUAAAAAAAIBCQAAAAAAAgElAAAAAAAAAPEAAAAAAAIBEQAAAAAAAAENAAAAAAAAARUAAAAAAAMBQQAAAAAAAgEJAAAAAAACAQ0AAAAAAAAA/QAAAAAAAADhAAAAAAACASUAAAAAAAABJQAAAAAAAAENAAAAAAAAAQUAAAAAAAAA/QAAAAAAAAERAAAAAAACAQEAAAAAAAABDQAAAAAAAAEZAAAAAAAAAREAAAAAAAABBQAAAAAAAAD9AAAAAAAAARUAAAAAAAIBJQAAAAAAAAEdAAAAAAACAQEAAAAAAAABGQAAAAAAAgElAAAAAAAAAPUAAAAAAAAA+QAAAAAAAAEtAAAAAAACASUAAAAAAAIBKQAAAAAAAAEVAAAAAAAAAP0AAAAAAAAA4QAAAAAAAgEFAAAAAAACARkAAAAAAAIBBQAAAAAAAgEJAAAAAAAAAREAAAAAAAIBIQAAAAAAAADxAAAAAAACAR0AAAAAAAIBDQAAAAAAAAENAAAAAAACAQEAAAAAAAABJQAAAAAAAAEZAAAAAAAAAP0AAAAAAAAA/QAAAAAAAAEZAAAAAAAAAR0AAAAAAAABFQAAAAAAAgERAAAAAAAAAPkAAAAAAAABEQAAAAAAAgEtAAAAAAACAU0AAAAAAAABNQAAAAAAAAEZAAAAAAAAAR0AAAAAAAABCQAAAAAAAAEFAAAAAAACATEAAAAAAAIBAQAAAAAAAAEhAAAAAAACAQUAAAAAAAABCQAAAAAAAgEFAAAAAAAAAP0AAAAAAAAA9QAAAAAAAAEZAAAAAAACARUAAAAAAAABOQAAAAAAAgEdAAAAAAAAARUAAAAAAAIBKQAAAAAAAgENAAAAAAACAQ0AAAAAAAABIQAAAAAAAAEVAAAAAAAAASUAAAAAAAIBDQAAAAAAAAEZAAAAAAAAAREAAAAAAAABEQAAAAAAAAEZAAAAAAAAASUAAAAAAAIBCQAAAAAAAAERAAAAAAACARUAAAAAAAABGQAAAAAAAAE9AAAAAAACASUAAAAAAAABDQAAAAAAAAEhAAAAAAAAARUAAAAAAAABCQAAAAAAAAEVAAAAAAAAARkAAAAAAAABEQAAAAAAAAEZAAAAAAACARUAAAAAAAABGQAAAAAAAAENAAAAAAACAR0AAAAAAAABFQAAAAAAAAERAAAAAAAAASkAAAAAAAABFQAAAAAAAAEJAAAAAAAAAR0AAAAAAAABGQAAAAAAAAERAAAAAAACAQ0AAAAAAAABFQAAAAAAAgEJA",
          "dtype": "f8"
         },
         "xaxis": "x9",
         "y": {
          "bdata": "tmUjKRi/v0DySAklnCzAQDohNiuCScBA7DJDUOb2wEDL0Y83ToPAQEcWfTXk+L9ApFoWSgDawEDABlQvxlzAQAjfgDWsecBA/RNFLSRTwEDuvZ7zo8S+QMvRjzdOg8BARexxMwpwwEBcgulDGr3AQK8lUlKIAMFARxZ9NeT4v0Dmfc0cFAbAQAjfgDWsecBAE6q8PTSgwEBcgulDGr3AQIL5YjFoZsBA1pzLP9apwEAI34A1rHnAQHcuJyngP8BAgvliMWhmwEATqrw9NKDAQFyC6UMavcBA/RNFLSRTwEBHFn015Pi/QPJICSWcLMBA1pzLP9apwEB3Licp4D/AQEcWfTXk+L9A4WcHSF7QwEAedfhFvMbAQLZlIykYv79ARxZ9NeT4v0A8S0EtXNK/QP0TRS0kU8BAXILpQxq9wECvJVJSiADBQFC3rTuSlsBAtDsYJz42wEBQt607kpbAQMvRjzdOg8BAgvliMWhmwECpcNwetg/AQKRaFkoA2sBAL1b6IvoiwEBF7HEzCnDAQAjfgDWsecBA1pzLP9apwEDmfc0cFAbAQHcuJyngP8BAXILpQxq9wEBcgulDGr3AQHcuJyngP8BA8kgJJZwswED9E0UtJFPAQMAGVC/GXMBAHnX4RbzGwECC+WIxaGbAQDGABSXUq79AMOFVxrfwvUCgz6sYCHK/QHcuJyngP8BA8kgJJZwswECOxJ458IzAQBOqvD00oMBAJrXJHEyFv0DWnMs/1qnAQGxj6yBYGcBAULetO5KWwECOxJ458IzAQFC3rTuSlsBAXILpQxq9wEDhZwdIXtDAQHcuJyngP8BAOiE2K4JJwECVBHAQgEu/QC9W+iL6IsBA/RNFLSRTwEA8S0EtXNK/QEXscTMKcMBARexxMwpwwEBsY+sgWBnAQP0TRS0kU8BA5n3NHBQGwEBF7HEzCnDAQHcuJyngP8BAgvliMWhmwECC+WIxaGbAQHcuJyngP8BA5n3NHBQGwEDL0Y83ToPAQIL5YjFoZsBAOiE2K4JJwEB3Licp4D/AQIo5NAj4JL9ARxZ9NeT4v0AI34A1rHnAQGxj6yBYGcBA/RNFLSRTwECOxJ458IzAQP0TRS0kU8BAdy4nKeA/wECC+WIxaGbAQHcuJyngP8BAOiE2K4JJwEB3Licp4D/AQAjfgDWsecBAL1b6IvoiwED9E0UtJFPAQIL5YjFoZsBAwjBfMaDlv0D9E0UtJFPAQI7EnjnwjMBA8kgJJZwswEB3Licp4D/AQIL5YjFoZsBARexxMwpwwED9E0UtJFPAQMvRjzdOg8BA",
          "dtype": "f8"
         },
         "yaxis": "y9"
        },
        {
         "mode": "markers",
         "name": "max_stress",
         "type": "scatter",
         "x": {
          "bdata": "AAAAAAAAS0AAAAAAAABHQAAAAAAAgEVAAAAAAAAAOUAAAAAAAIBCQAAAAAAAgElAAAAAAAAAPEAAAAAAAIBEQAAAAAAAAENAAAAAAAAARUAAAAAAAMBQQAAAAAAAgEJAAAAAAACAQ0AAAAAAAAA/QAAAAAAAADhAAAAAAACASUAAAAAAAABJQAAAAAAAAENAAAAAAAAAQUAAAAAAAAA/QAAAAAAAAERAAAAAAACAQEAAAAAAAABDQAAAAAAAAEZAAAAAAAAAREAAAAAAAABBQAAAAAAAAD9AAAAAAAAARUAAAAAAAIBJQAAAAAAAAEdAAAAAAACAQEAAAAAAAABGQAAAAAAAgElAAAAAAAAAPUAAAAAAAAA+QAAAAAAAAEtAAAAAAACASUAAAAAAAIBKQAAAAAAAAEVAAAAAAAAAP0AAAAAAAAA4QAAAAAAAgEFAAAAAAACARkAAAAAAAIBBQAAAAAAAgEJAAAAAAAAAREAAAAAAAIBIQAAAAAAAADxAAAAAAACAR0AAAAAAAIBDQAAAAAAAAENAAAAAAACAQEAAAAAAAABJQAAAAAAAAEZAAAAAAAAAP0AAAAAAAAA/QAAAAAAAAEZAAAAAAAAAR0AAAAAAAABFQAAAAAAAgERAAAAAAAAAPkAAAAAAAABEQAAAAAAAgEtAAAAAAACAU0AAAAAAAABNQAAAAAAAAEZAAAAAAAAAR0AAAAAAAABCQAAAAAAAAEFAAAAAAACATEAAAAAAAIBAQAAAAAAAAEhAAAAAAACAQUAAAAAAAABCQAAAAAAAgEFAAAAAAAAAP0AAAAAAAAA9QAAAAAAAAEZAAAAAAACARUAAAAAAAABOQAAAAAAAgEdAAAAAAAAARUAAAAAAAIBKQAAAAAAAgENAAAAAAACAQ0AAAAAAAABIQAAAAAAAAEVAAAAAAAAASUAAAAAAAIBDQAAAAAAAAEZAAAAAAAAAREAAAAAAAABEQAAAAAAAAEZAAAAAAAAASUAAAAAAAIBCQAAAAAAAAERAAAAAAACARUAAAAAAAABGQAAAAAAAAE9AAAAAAACASUAAAAAAAABDQAAAAAAAAEhAAAAAAAAARUAAAAAAAABCQAAAAAAAAEVAAAAAAAAARkAAAAAAAABEQAAAAAAAAEZAAAAAAACARUAAAAAAAABGQAAAAAAAAENAAAAAAACAR0AAAAAAAABFQAAAAAAAAERAAAAAAAAASkAAAAAAAABFQAAAAAAAAEJAAAAAAAAAR0AAAAAAAABGQAAAAAAAAERAAAAAAACAQ0AAAAAAAABFQAAAAAAAgEJAAAAAAACAQEA=",
          "dtype": "f8"
         },
         "xaxis": "x10",
         "y": {
          "bdata": "AAAAAAAAWEAAAAAAAEBYQAAAAAAAAFhAAAAAAADAWEAAAAAAAMBYQAAAAAAAwFhAAAAAAADAV0AAAAAAAMBYQAAAAAAAgFhAAAAAAAAAWEAAAAAAAABZQAAAAAAAAFhAAAAAAADAWEAAAAAAAMBYQAAAAAAAQFdAAAAAAACAWEAAAAAAAIBYQAAAAAAAAFhAAAAAAACAWEAAAAAAAIBYQAAAAAAAwFhAAAAAAADAWEAAAAAAAMBYQAAAAAAAAFlAAAAAAADAWEAAAAAAAEBYQAAAAAAAgFVAAAAAAADAWEAAAAAAAMBYQAAAAAAAQFhAAAAAAADAWEAAAAAAAEBYQAAAAAAAQFhAAAAAAACAWEAAAAAAAIBXQAAAAAAAwFhAAAAAAADAWEAAAAAAAMBYQAAAAAAAwFhAAAAAAACAWEAAAAAAAABXQAAAAAAAAFlAAAAAAACAWEAAAAAAAEBYQAAAAAAAwFhAAAAAAAAAWEAAAAAAAMBYQAAAAAAAwFhAAAAAAACAWEAAAAAAAIBWQAAAAAAAgFhAAAAAAAAAVUAAAAAAAABYQAAAAAAAwFhAAAAAAADAWEAAAAAAAIBYQAAAAAAAAFhAAAAAAAAAWEAAAAAAAEBYQAAAAAAAgFhAAAAAAAAAWEAAAAAAAMBYQAAAAAAAwFhAAAAAAADAWEAAAAAAAEBYQAAAAAAAAFhAAAAAAACAWEAAAAAAAMBXQAAAAAAAwFdAAAAAAADAWEAAAAAAAABYQAAAAAAAwFhAAAAAAABAWEAAAAAAAABYQAAAAAAAwFhAAAAAAABAV0AAAAAAAMBYQAAAAAAAAFhAAAAAAABAWEAAAAAAAMBYQAAAAAAAwFhAAAAAAADAWEAAAAAAAMBYQAAAAAAAwFhAAAAAAAAAWEAAAAAAAMBYQAAAAAAAwFhAAAAAAACAWEAAAAAAAMBYQAAAAAAAwFhAAAAAAADAWEAAAAAAAMBYQAAAAAAAAFdAAAAAAABAWEAAAAAAAEBYQAAAAAAAwFhAAAAAAADAWEAAAAAAAMBYQAAAAAAAwFhAAAAAAABAV0AAAAAAAABYQAAAAAAAwFhAAAAAAADAWEAAAAAAAIBYQAAAAAAAQFdAAAAAAABAWEAAAAAAAIBYQAAAAAAAgFdAAAAAAADAWEAAAAAAAMBYQAAAAAAAwFhAAAAAAABAWEAAAAAAAMBXQAAAAAAAgFdAAAAAAADAV0AAAAAAAMBXQAAAAAAAQFdAAAAAAACAWEAAAAAAAMBYQAAAAAAAAFhAAAAAAACAV0AAAAAAAEBYQAAAAAAAAFhAAAAAAABAWEA=",
          "dtype": "f8"
         },
         "yaxis": "y10"
        },
        {
         "line": {
          "dash": "dash"
         },
         "mode": "lines",
         "name": "max_stress Fit",
         "type": "scatter",
         "x": {
          "bdata": "AAAAAAAAS0AAAAAAAABHQAAAAAAAgEVAAAAAAAAAOUAAAAAAAIBCQAAAAAAAgElAAAAAAAAAPEAAAAAAAIBEQAAAAAAAAENAAAAAAAAARUAAAAAAAMBQQAAAAAAAgEJAAAAAAACAQ0AAAAAAAAA/QAAAAAAAADhAAAAAAACASUAAAAAAAABJQAAAAAAAAENAAAAAAAAAQUAAAAAAAAA/QAAAAAAAAERAAAAAAACAQEAAAAAAAABDQAAAAAAAAEZAAAAAAAAAREAAAAAAAABBQAAAAAAAAD9AAAAAAAAARUAAAAAAAIBJQAAAAAAAAEdAAAAAAACAQEAAAAAAAABGQAAAAAAAgElAAAAAAAAAPUAAAAAAAAA+QAAAAAAAAEtAAAAAAACASUAAAAAAAIBKQAAAAAAAAEVAAAAAAAAAP0AAAAAAAAA4QAAAAAAAgEFAAAAAAACARkAAAAAAAIBBQAAAAAAAgEJAAAAAAAAAREAAAAAAAIBIQAAAAAAAADxAAAAAAACAR0AAAAAAAIBDQAAAAAAAAENAAAAAAACAQEAAAAAAAABJQAAAAAAAAEZAAAAAAAAAP0AAAAAAAAA/QAAAAAAAAEZAAAAAAAAAR0AAAAAAAABFQAAAAAAAgERAAAAAAAAAPkAAAAAAAABEQAAAAAAAgEtAAAAAAACAU0AAAAAAAABNQAAAAAAAAEZAAAAAAAAAR0AAAAAAAABCQAAAAAAAAEFAAAAAAACATEAAAAAAAIBAQAAAAAAAAEhAAAAAAACAQUAAAAAAAABCQAAAAAAAgEFAAAAAAAAAP0AAAAAAAAA9QAAAAAAAAEZAAAAAAACARUAAAAAAAABOQAAAAAAAgEdAAAAAAAAARUAAAAAAAIBKQAAAAAAAgENAAAAAAACAQ0AAAAAAAABIQAAAAAAAAEVAAAAAAAAASUAAAAAAAIBDQAAAAAAAAEZAAAAAAAAAREAAAAAAAABEQAAAAAAAAEZAAAAAAAAASUAAAAAAAIBCQAAAAAAAAERAAAAAAACARUAAAAAAAABGQAAAAAAAAE9AAAAAAACASUAAAAAAAABDQAAAAAAAAEhAAAAAAAAARUAAAAAAAABCQAAAAAAAAEVAAAAAAAAARkAAAAAAAABEQAAAAAAAAEZAAAAAAACARUAAAAAAAABGQAAAAAAAAENAAAAAAACAR0AAAAAAAABFQAAAAAAAAERAAAAAAAAASkAAAAAAAABFQAAAAAAAAEJAAAAAAAAAR0AAAAAAAABGQAAAAAAAAERAAAAAAACAQ0AAAAAAAABFQAAAAAAAgEJAAAAAAACAQEA=",
          "dtype": "f8"
         },
         "xaxis": "x10",
         "y": {
          "bdata": "U35pG0OLWED8rKWPG2JYQHs+PLusUlhAd6fDwBP2V0B6YWkSzzNYQNIPAEfUe1hA+BUtlYIFWEAlSkvYYkhYQKXb4QP0OFhAUMTDyYdNWECBsodeI85YQHphaRLPM1hA0FVa9Rg+WEB5hJZp8RRYQEwtS8/u8FdA0g8AR9R7WECnlYdVr3ZYQKXb4QP0OFhA+fL/PWAkWEB5hJZp8RRYQPvP0uY9Q1hAzniHTDsfWECl2+ED9DhYQKa4tKzRV1hA+8/S5j1DWED58v89YCRYQHmElmnxFFhAUMTDyYdNWEDSDwBH1HtYQPyspY8bYlhAzniHTDsfWECmuLSs0VdYQNIPAEfUe1hAI5ClhqcKWEBOCh54zA9YQFN+aRtDi1hA0g8AR9R7WEAoBPEpHoZYQFDEw8mHTVhAeYSWafEUWEBMLUvP7vBXQCRteC+FKVhA0TItnvZcWEAkbXgvhSlYQHphaRLPM1hA+8/S5j1DWEB9Gw9kinFYQPgVLZWCBVhAJycegUBnWEDQVVr1GD5YQKXb4QP0OFhAzniHTDsfWECnlYdVr3ZYQKa4tKzRV1hAeYSWafEUWEB5hJZp8RRYQKa4tKzRV1hA/KyljxtiWEBQxMPJh01YQCVKS9hiSFhATgoeeMwPWED7z9LmPUNYQH744QxokFhAWPK0vrkGWUD/Zkvh1p9YQKa4tKzRV1hA/KyljxtiWEBP5/Agqi5YQPny/z1gJFhA1OzS77GaWEDOeIdMOx9YQFKhlnJlbFhAJG14L4UpWEBP5/Agqi5YQCRteC+FKVhAeYSWafEUWEAjkKWGpwpYQKa4tKzRV1hAez48u6xSWEBUWzzEIKpYQCcnHoFAZ1hAUMTDyYdNWEAoBPEpHoZYQNBVWvUYPlhA0FVa9Rg+WEBSoZZyZWxYQFDEw8mHTVhAp5WHVa92WEDQVVr1GD5YQKa4tKzRV1hA+8/S5j1DWED7z9LmPUNYQKa4tKzRV1hAp5WHVa92WEB6YWkSzzNYQPvP0uY9Q1hAez48u6xSWECmuLSs0VdYQKpPLadqtFhA0g8AR9R7WECl2+ED9DhYQFKhlnJlbFhAUMTDyYdNWEBP5/Agqi5YQFDEw8mHTVhApri0rNFXWED7z9LmPUNYQKa4tKzRV1hAez48u6xSWECmuLSs0VdYQKXb4QP0OFhAJycegUBnWEBQxMPJh01YQPvP0uY9Q1hA/Yl4OPmAWEBQxMPJh01YQE/n8CCqLlhA/KyljxtiWECmuLSs0VdYQPvP0uY9Q1hA0FVa9Rg+WEBQxMPJh01YQHphaRLPM1hAzniHTDsfWEA=",
          "dtype": "f8"
         },
         "yaxis": "y10"
        },
        {
         "mode": "markers",
         "name": "total_hleep_h",
         "type": "scatter",
         "x": {
          "bdata": "AAAAAAAAR0AAAAAAAIBFQAAAAAAAADlAAAAAAACAQkAAAAAAAIBJQAAAAAAAADxAAAAAAACAREAAAAAAAABDQAAAAAAAAEVAAAAAAADAUEAAAAAAAIBCQAAAAAAAgENAAAAAAAAAP0AAAAAAAAA4QAAAAAAAgElAAAAAAAAASUAAAAAAAABDQAAAAAAAAEFAAAAAAAAAP0AAAAAAAABEQAAAAAAAgEBAAAAAAAAAQ0AAAAAAAABGQAAAAAAAAERAAAAAAAAAQUAAAAAAAAA/QAAAAAAAAEVAAAAAAACASUAAAAAAAABHQAAAAAAAgEBAAAAAAAAARkAAAAAAAIBJQAAAAAAAAD1AAAAAAAAAPkAAAAAAAABLQAAAAAAAgElAAAAAAACASkAAAAAAAABFQAAAAAAAAD9AAAAAAAAAOEAAAAAAAIBBQAAAAAAAgEZAAAAAAACAQUAAAAAAAIBCQAAAAAAAAERAAAAAAACASEAAAAAAAAA8QAAAAAAAgEdAAAAAAACAQ0AAAAAAAABDQAAAAAAAgEBAAAAAAAAARkAAAAAAAAA/QAAAAAAAAD9AAAAAAAAARkAAAAAAAABHQAAAAAAAAEVAAAAAAACAREAAAAAAAAA+QAAAAAAAAERAAAAAAACAS0AAAAAAAIBTQAAAAAAAAE1AAAAAAAAARkAAAAAAAABHQAAAAAAAAEJAAAAAAAAAQUAAAAAAAIBMQAAAAAAAgEBAAAAAAAAASEAAAAAAAIBBQAAAAAAAAEJAAAAAAACAQUAAAAAAAAA/QAAAAAAAAD1AAAAAAAAARkAAAAAAAIBFQAAAAAAAAE5AAAAAAACAR0AAAAAAAABFQAAAAAAAgEpAAAAAAACAQ0AAAAAAAIBDQAAAAAAAAEhAAAAAAAAARUAAAAAAAABJQAAAAAAAgENAAAAAAAAARkAAAAAAAABEQAAAAAAAAERAAAAAAAAARkAAAAAAAABJQAAAAAAAgEJAAAAAAAAAREAAAAAAAIBFQAAAAAAAAEZAAAAAAAAAT0AAAAAAAABDQAAAAAAAAEhAAAAAAAAARUAAAAAAAABCQAAAAAAAAEVAAAAAAAAARkAAAAAAAABEQAAAAAAAAEZAAAAAAACARUAAAAAAAABGQAAAAAAAAENAAAAAAACAR0AAAAAAAABFQAAAAAAAAERAAAAAAAAASkAAAAAAAABFQAAAAAAAAEJAAAAAAAAAR0AAAAAAAABGQAAAAAAAAERAAAAAAACAQ0AAAAAAAABFQAAAAAAAgEJAAAAAAACAQEA=",
          "dtype": "f8"
         },
         "xaxis": "x11",
         "y": {
          "bdata": "7+7u7u7uGUB3d3d3d3chQImIiIiIqCVAREREREREIUCJiIiIiIgYQN7d3d3d3R1AVVVVVVVVE0C3P8hQ2SEgQBERERERERNARERERETEIECrqqqqqiojQGZmZmZmZh1AMzMzMzOzIkBR2WHqclsiQM3MzMzMzB5AvLu7u7u7HkDe3d3d3d0dQCIiIiIioiJAZmZmZmZmIEC8u7u7uzshQKuqqqqqKiJAq6qqqqqqIkDe3d3d3d0eQAAAAAAAACBAERERERGRIUCrqqqqqqofQImIiIiICCJAiYiIiIiIH0CJiIiIiIgVQLy7u7u7OyNA7+7u7u7uIUAiIiIiIiIgQM3MzMzMzB5A6ZM+6ZMeIEBmZmZmZmYgQJ020GkDXR5AiYiIiIgII0AREREREZEgQAAAAAAAgCFAk18s+cXyI0DNzMzMzEwgQFVVVVVVVR1AAAAAAAAAHUCamZmZmZkgQBERERERkSFAIiIiIiKiIkBVVVVVVdUgQKVP+qRP+h9AAAAAAAAAG0C8u7u7uzskQImIiIiICCFAVVVVVVXVIEC0opGAb34hQLn9QYbKziBA37yaeFb0HEDNzMzMzMwdQCIiIiIioiJAmpmZmZkZIEDv7u7u7u4iQKuqqqqqKiBA1sSzopGgIEDe3d3d3d3tP7y7u7u7ux9A7FG4HoXLIEBSuB6F67EkQN7d3d3dXSJAZmZmZmZmIkDe3d3d3d0dQGviWdFI4CRAd3d3d3d3HkAAAAAAAAAjQPnFkl8sGSFAMzMzMzMzIUBERERERMQhQJqZmZmZmSBAIiIiIiIiHkBVVVVVVdUgQAAAAAAAACBAQ2WHqcuNIUCJiIiIiIggQJfbH2SoLBNAiYiIiIiIIECJiIiIiIgcQO/u7u7ubiJAZmZmZmZmHUBVVVVVVVUdQCIiIiIiIh1AERERERERG0BVVVVVVdUiQM3MzMzMTCRAvLu7u7u7EUBVVVVVVVUbQKuqqqqqqiRAVVVVVVVVHkBVVVVVVVUiQERERERERBxAmpmZmZmZEECrqqqqqiolQFVVVVVVVSFAq6qqqqqqF0AiIiIiIiIUQPDNq4lnhSNAzczMzMzMIUDe3d3d3d0dQFVVVVVVVSNAiYiIiIiIH0B3d3d3d3cLQHd3d3d39yBAvLu7u7u7EkCJiIiIiIgfQM3MzMzMzBxAmpmZmZmZF0BEREREREQcQM3MzMzMzB5AERERERERGkBmZmZmZmYeQM3MzMzMzB9Ad3d3d3d3HUBmZmZmZmYhQO/u7u7ubiBAERERERGRIkA=",
          "dtype": "f8"
         },
         "yaxis": "y11"
        },
        {
         "line": {
          "dash": "dash"
         },
         "mode": "lines",
         "name": "total_hleep_h Fit",
         "type": "scatter",
         "x": {
          "bdata": "AAAAAAAAR0AAAAAAAIBFQAAAAAAAADlAAAAAAACAQkAAAAAAAIBJQAAAAAAAADxAAAAAAACAREAAAAAAAABDQAAAAAAAAEVAAAAAAADAUEAAAAAAAIBCQAAAAAAAgENAAAAAAAAAP0AAAAAAAAA4QAAAAAAAgElAAAAAAAAASUAAAAAAAABDQAAAAAAAAEFAAAAAAAAAP0AAAAAAAABEQAAAAAAAgEBAAAAAAAAAQ0AAAAAAAABGQAAAAAAAAERAAAAAAAAAQUAAAAAAAAA/QAAAAAAAAEVAAAAAAACASUAAAAAAAABHQAAAAAAAgEBAAAAAAAAARkAAAAAAAIBJQAAAAAAAAD1AAAAAAAAAPkAAAAAAAABLQAAAAAAAgElAAAAAAACASkAAAAAAAABFQAAAAAAAAD9AAAAAAAAAOEAAAAAAAIBBQAAAAAAAgEZAAAAAAACAQUAAAAAAAIBCQAAAAAAAAERAAAAAAACASEAAAAAAAAA8QAAAAAAAgEdAAAAAAACAQ0AAAAAAAABDQAAAAAAAgEBAAAAAAAAARkAAAAAAAAA/QAAAAAAAAD9AAAAAAAAARkAAAAAAAABHQAAAAAAAAEVAAAAAAACAREAAAAAAAAA+QAAAAAAAAERAAAAAAACAS0AAAAAAAIBTQAAAAAAAAE1AAAAAAAAARkAAAAAAAABHQAAAAAAAAEJAAAAAAAAAQUAAAAAAAIBMQAAAAAAAgEBAAAAAAAAASEAAAAAAAIBBQAAAAAAAAEJAAAAAAACAQUAAAAAAAAA/QAAAAAAAAD1AAAAAAAAARkAAAAAAAIBFQAAAAAAAAE5AAAAAAACAR0AAAAAAAABFQAAAAAAAgEpAAAAAAACAQ0AAAAAAAIBDQAAAAAAAAEhAAAAAAAAARUAAAAAAAABJQAAAAAAAgENAAAAAAAAARkAAAAAAAABEQAAAAAAAAERAAAAAAAAARkAAAAAAAABJQAAAAAAAgEJAAAAAAAAAREAAAAAAAIBFQAAAAAAAAEZAAAAAAAAAT0AAAAAAAABDQAAAAAAAAEhAAAAAAAAARUAAAAAAAABCQAAAAAAAAEVAAAAAAAAARkAAAAAAAABEQAAAAAAAAEZAAAAAAACARUAAAAAAAABGQAAAAAAAAENAAAAAAACAR0AAAAAAAABFQAAAAAAAAERAAAAAAAAASkAAAAAAAABFQAAAAAAAAEJAAAAAAAAAR0AAAAAAAABGQAAAAAAAAERAAAAAAACAQ0AAAAAAAABFQAAAAAAAgEJAAAAAAACAQEA=",
          "dtype": "f8"
         },
         "xaxis": "x11",
         "y": {
          "bdata": "pQfWNn5tHkAkW10bbW0fQBCoRDuDtiJAEgE2cqW2IEDR0UkP8MIcQFH+AMmLNiJAvR4xLwYMIEB8yHSh/YsgQE/M37y8wh9AKr8i9/VtF0ASATZypbYgQOePs9BVYSBAkVS9VpS2IUCm4AUMK+EiQNHRSQ/wwhxA+0LMsD8YHUB8yHSh/YsgQNGqeeScNiFAkVS9VpS2IUBSV/L/rTYgQGbjOrVEYSFAfMh0of2LIED66dp5HRgfQFJX8v+tNiBA0ap55Jw2IUCRVL1WlLYhQE/M37y8wh9A0dFJD/DCHEClB9Y2fm0eQGbjOrVEYSFA+unaeR0YH0DR0UkP8MIcQLzFP/jjCyJAJo1+JzzhIUBSfsIqAcMbQNHRSQ/wwhxAfO9EzFAYHEBPzN+8vMIfQJFUvVaUtiFApuAFDCvhIkA8crgT9QshQNB4WNjNwh5APHK4E/ULIUASATZypbYgQFJX8v+tNiBAJrROUo9tHUBR/gDJizYiQHqWU5UuGB5A54+z0FVhIEB8yHSh/YsgQGbjOrVEYSFA+unaeR0YH0CRVL1WlLYhQJFUvVaUtiFA+unaeR0YH0ClB9Y2fm0eQE/M37y8wh9AvR4xLwYMIEAmjX4nPOEhQFJX8v+tNiBAJw1AibFtG0BX4ocGisMTQKi5uKTCbRpA+unaeR0YH0ClB9Y2fm0eQKc590JN4SBA0ap55Jw2IUDSKjtGEsMaQGbjOrVEYSFAUCXR897CHUA8crgT9QshQKc590JN4SBAPHK4E/ULIUCRVL1WlLYhQLzFP/jjCyJA+unaeR0YH0AkW10bbW0fQFPXs2EjwxlAepZTlS4YHkBPzN+8vMIfQHzvRMxQGBxA54+z0FVhIEDnj7PQVWEgQFAl0fPewh1AT8zfvLzCH0D7QsywPxgdQOePs9BVYSBA+unaeR0YH0BSV/L/rTYgQFJX8v+tNiBA+unaeR0YH0D7QsywPxgdQBIBNnKltiBAUlfy/602IEAkW10bbW0fQPrp2nkdGB9A/vSuHoQYGUB8yHSh/YsgQFAl0fPewh1AT8zfvLzCH0CnOfdCTeEgQE/M37y8wh9A+unaeR0YH0BSV/L/rTYgQPrp2nkdGB9AJFtdG21tH0D66dp5HRgfQHzIdKH9iyBAepZTlS4YHkBPzN+8vMIfQFJX8v+tNiBApmDHbaBtHEBPzN+8vMIfQKc590JN4SBApQfWNn5tHkD66dp5HRgfQFJX8v+tNiBA54+z0FVhIEBPzN+8vMIfQBIBNnKltiBAZuM6tURhIUA=",
          "dtype": "f8"
         },
         "yaxis": "y11"
        },
        {
         "mode": "markers",
         "name": "deep_hleep_h",
         "type": "scatter",
         "x": {
          "bdata": "AAAAAAAAR0AAAAAAAIBFQAAAAAAAADlAAAAAAACAQkAAAAAAAIBJQAAAAAAAADxAAAAAAACAREAAAAAAAABDQAAAAAAAAEVAAAAAAADAUEAAAAAAAIBCQAAAAAAAgENAAAAAAAAAP0AAAAAAAAA4QAAAAAAAgElAAAAAAAAASUAAAAAAAABDQAAAAAAAAEFAAAAAAAAAP0AAAAAAAABEQAAAAAAAgEBAAAAAAAAAQ0AAAAAAAABGQAAAAAAAAERAAAAAAAAAQUAAAAAAAAA/QAAAAAAAAEVAAAAAAACASUAAAAAAAABHQAAAAAAAgEBAAAAAAAAARkAAAAAAAIBJQAAAAAAAAD1AAAAAAAAAPkAAAAAAAABLQAAAAAAAgElAAAAAAACASkAAAAAAAABFQAAAAAAAAD9AAAAAAAAAOEAAAAAAAIBBQAAAAAAAgEZAAAAAAACAQUAAAAAAAIBCQAAAAAAAAERAAAAAAACASEAAAAAAAAA8QAAAAAAAgEdAAAAAAACAQ0AAAAAAAABDQAAAAAAAgEBAAAAAAAAARkAAAAAAAAA/QAAAAAAAAD9AAAAAAAAARkAAAAAAAABHQAAAAAAAAEVAAAAAAACAREAAAAAAAAA+QAAAAAAAAERAAAAAAACAS0AAAAAAAIBTQAAAAAAAAE1AAAAAAAAARkAAAAAAAABHQAAAAAAAAEJAAAAAAAAAQUAAAAAAAIBMQAAAAAAAgEBAAAAAAAAASEAAAAAAAIBBQAAAAAAAAEJAAAAAAACAQUAAAAAAAAA/QAAAAAAAAD1AAAAAAAAARkAAAAAAAIBFQAAAAAAAAE5AAAAAAACAR0AAAAAAAABFQAAAAAAAgEpAAAAAAACAQ0AAAAAAAIBDQAAAAAAAAEhAAAAAAAAARUAAAAAAAABJQAAAAAAAgENAAAAAAAAARkAAAAAAAABEQAAAAAAAAERAAAAAAAAARkAAAAAAAABJQAAAAAAAgEJAAAAAAAAAREAAAAAAAIBFQAAAAAAAAEZAAAAAAAAAT0AAAAAAAABDQAAAAAAAAEhAAAAAAAAARUAAAAAAAABCQAAAAAAAAEVAAAAAAAAARkAAAAAAAABEQAAAAAAAAEZAAAAAAACARUAAAAAAAABGQAAAAAAAAENAAAAAAACAR0AAAAAAAABFQAAAAAAAAERAAAAAAAAASkAAAAAAAABFQAAAAAAAAEJAAAAAAAAAR0AAAAAAAABGQAAAAAAAAERAAAAAAACAQ0AAAAAAAABFQAAAAAAAgEJAAAAAAACAQEA=",
          "dtype": "f8"
         },
         "xaxis": "x12",
         "y": {
          "bdata": "VVVVVVVV7T93d3d3d3fzP7y7u7u7u+s/mpmZmZmZ8T+amZmZmZnhP3d3d3d3dwFAq6qqqqqq8j/NzMzMzMz0P97d3d3d3e0/ZmZmZmZm8j/e3d3d3d31P83MzMzMzPw/RERERERE8D+JiIiIiIj4P7y7u7u7u/8/ZmZmZmZm5j+JiIiIiIj0PwAAAAAAAPg/mpmZmZmZ8T/e3d3d3d3xPyIiIiIiIvY/zczMzMzM+D+rqqqqqqrqP7y7u7u7u/M/IiIiIiIi/j9mZmZmZmb2P6uqqqqqquo/q6qqqqqq9j8RERERERHxP3d3d3d3d/M/7+7u7u7u/j+JiIiIiIjoP+/u7u7u7u4/ERERERER8T9ERERERET4P4mIiIiIiPQ/q6qqqqqq8j8iIiIiIiLyP7y7u7u7u/M/MzMzMzMz9z+amZmZmZnpP5qZmZmZmfU/ZmZmZmZm9j9mZmZmZmbyP+/u7u7u7u4/IiIiIiIi8j+JiIiIiIj0PzMzMzMzM/M/iYiIiIiI8D/NzMzMzMzwP0RERERERPA/q6qqqqqq4j8iIiIiIiIAQCIiIiIiIuo/vLu7u7u78z/e3d3d3d3xP+/u7u7u7u4/RERERERE9D+8u7u7u7vzP0REREREROQ/ZmZmZmZm9j8AAAAAAAAAALy7u7u7u9s/7+7u7u7u8j+amZmZmZnxP3d3d3d3d+8/mpmZmZmZ8T+amZmZmZnJPxEREREREfk/zczMzMzM9D8iIiIiIiL2PxEREREREfk/ERERERER6T9VVVVVVVXxP3d3d3d3d/s/ERERERER0T9mZmZmZmb+P+/u7u7u7vI/zczMzMzM8D93d3d3d3fzPwAAAAAAAAAAzczMzMzM9D/v7u7u7u7uPwAAAAAAAOA/VVVVVVVV+T8zMzMzMzP3PwAAAAAAAOg/zczMzMzM3D/e3d3d3d35P5qZmZmZmfU/vLu7u7u74z9mZmZmZmb2P83MzMzMzPg/d3d3d3d3+z9mZmZmZmb6PyIiIiIiIvo/q6qqqqqq4j+rqqqqqqrqP1VVVVVVVf0/RERERERE5D+JiIiIiIjwP+/u7u7u7u4/ERERERER4T+JiIiIiIgAQGZmZmZmZu4/VVVVVVVV9T8AAAAAAAD4P3d3d3d3d/M/AAAAAAAA9D/NzMzMzMzsPxEREREREf0/iYiIiIiI8D+8u7u7u7vrP4mIiIiIiPA/AAAAAAAA0D/v7u7u7u7yPxEREREREfE/VVVVVVVV7T8AAAAAAAD4P0RERERERPQ/q6qqqqqq6j8=",
          "dtype": "f8"
         },
         "yaxis": "y12"
        },
        {
         "line": {
          "dash": "dash"
         },
         "mode": "lines",
         "name": "deep_hleep_h Fit",
         "type": "scatter",
         "x": {
          "bdata": "AAAAAAAAR0AAAAAAAIBFQAAAAAAAADlAAAAAAACAQkAAAAAAAIBJQAAAAAAAADxAAAAAAACAREAAAAAAAABDQAAAAAAAAEVAAAAAAADAUEAAAAAAAIBCQAAAAAAAgENAAAAAAAAAP0AAAAAAAAA4QAAAAAAAgElAAAAAAAAASUAAAAAAAABDQAAAAAAAAEFAAAAAAAAAP0AAAAAAAABEQAAAAAAAgEBAAAAAAAAAQ0AAAAAAAABGQAAAAAAAAERAAAAAAAAAQUAAAAAAAAA/QAAAAAAAAEVAAAAAAACASUAAAAAAAABHQAAAAAAAgEBAAAAAAAAARkAAAAAAAIBJQAAAAAAAAD1AAAAAAAAAPkAAAAAAAABLQAAAAAAAgElAAAAAAACASkAAAAAAAABFQAAAAAAAAD9AAAAAAAAAOEAAAAAAAIBBQAAAAAAAgEZAAAAAAACAQUAAAAAAAIBCQAAAAAAAAERAAAAAAACASEAAAAAAAAA8QAAAAAAAgEdAAAAAAACAQ0AAAAAAAABDQAAAAAAAgEBAAAAAAAAARkAAAAAAAAA/QAAAAAAAAD9AAAAAAAAARkAAAAAAAABHQAAAAAAAAEVAAAAAAACAREAAAAAAAAA+QAAAAAAAAERAAAAAAACAS0AAAAAAAIBTQAAAAAAAAE1AAAAAAAAARkAAAAAAAABHQAAAAAAAAEJAAAAAAAAAQUAAAAAAAIBMQAAAAAAAgEBAAAAAAAAASEAAAAAAAIBBQAAAAAAAAEJAAAAAAACAQUAAAAAAAAA/QAAAAAAAAD1AAAAAAAAARkAAAAAAAIBFQAAAAAAAAE5AAAAAAACAR0AAAAAAAABFQAAAAAAAgEpAAAAAAACAQ0AAAAAAAIBDQAAAAAAAAEhAAAAAAAAARUAAAAAAAABJQAAAAAAAgENAAAAAAAAARkAAAAAAAABEQAAAAAAAAERAAAAAAAAARkAAAAAAAABJQAAAAAAAgEJAAAAAAAAAREAAAAAAAIBFQAAAAAAAAEZAAAAAAAAAT0AAAAAAAABDQAAAAAAAAEhAAAAAAAAARUAAAAAAAABCQAAAAAAAAEVAAAAAAAAARkAAAAAAAABEQAAAAAAAAEZAAAAAAACARUAAAAAAAABGQAAAAAAAAENAAAAAAACAR0AAAAAAAABFQAAAAAAAAERAAAAAAAAASkAAAAAAAABFQAAAAAAAAEJAAAAAAAAAR0AAAAAAAABGQAAAAAAAAERAAAAAAACAQ0AAAAAAAABFQAAAAAAAgEJAAAAAAACAQEA=",
          "dtype": "f8"
         },
         "xaxis": "x12",
         "y": {
          "bdata": "Qir5ID9P8T/aDHh8FBPyP2xccaEUqvY/C9J1M7+a8z/uBXuI2wjwP9R58kU/5vU/lU53uaKV8j8uMfYUeFnzP7it95pbVPI/MPABQdPo5z8L0nUzv5rzP1CQdvYwGPM/PJdz6mki9T9K/fC/W+v2P+4Fe4jbCPA/zKb6piJK8D8uMfYUeFnzP6O09I6UXvQ/PJdz6mki9T9y7/bX6dbyP4BVdK3bn/Q/LjH2FHhZ8z/9a/hdzdHxP3Lv9tfp1vI/o7T0jpRe9D88l3PqaSL1P7it95pbVPI/7gV7iNsI8D9CKvkgP0/xP4BVdK3bn/Q//Wv4Xc3R8T/uBXuI2wjwP/bYcif4pPU/GTjzCLFj9T+tRvhZDIruP+4Fe4jbCPA/aIj3lpoM7z+4rfeaW1TyPzyXc+ppIvU/Sv3wv1vr9j/GE3VwTR30PyDLeD+GkPE/xhN1cE0d9D8L0nUzv5rzP3Lv9tfp1vI/qkd6xWmL8D/UefJFP+b1P2SJeQL4DfE/UJB29jAY8z8uMfYUeFnzP4BVdK3bn/Q//Wv4Xc3R8T88l3PqaSL1PzyXc+ppIvU//Wv4Xc3R8T9CKvkgP0/xP7it95pbVPI/lU53uaKV8j8ZOPMIsWP1P3Lv9tfp1vI/8gT5HH4H7j8oHQqitkziP8E/+2XTf+w//Wv4Xc3R8T9CKvkgP0/xP+hy9VEG3PM/o7T0jpRe9D98gfqiYQLtP4BVdK3bn/Q/h+j547DM8D/GE3VwTR30P+hy9VEG3PM/xhN1cE0d9D88l3PqaSL1P/bYcif4pPU//Wv4Xc3R8T/aDHh8FBPyP0y8/Ou2eus/ZIl5AvgN8T+4rfeaW1TyP2iI95aaDO8/UJB29jAY8z9QkHb2MBjzP4fo+eOwzPA/uK33mltU8j/MpvqmIkrwP1CQdvYwGPM//Wv4Xc3R8T9y7/bX6dbyP3Lv9tfp1vI//Wv4Xc3R8T/MpvqmIkrwPwvSdTO/mvM/cu/21+nW8j/aDHh8FBPyP/1r+F3N0fE/1jj+cZp16j8uMfYUeFnzP4fo+eOwzPA/uK33mltU8j/ocvVRBtzzP7it95pbVPI//Wv4Xc3R8T9y7/bX6dbyP/1r+F3N0fE/2gx4fBQT8j/9a/hdzdHxPy4x9hR4WfM/ZIl5AvgN8T+4rfeaW1TyP3Lv9tfp1vI/Isr20yiP7z+4rfeaW1TyP+hy9VEG3PM/Qir5ID9P8T/9a/hdzdHxP3Lv9tfp1vI/UJB29jAY8z+4rfeaW1TyPwvSdTO/mvM/gFV0rduf9D8=",
          "dtype": "f8"
         },
         "yaxis": "y12"
        },
        {
         "mode": "markers",
         "name": "light_hleep_h",
         "type": "scatter",
         "x": {
          "bdata": "AAAAAAAAR0AAAAAAAIBFQAAAAAAAADlAAAAAAACAQkAAAAAAAIBJQAAAAAAAADxAAAAAAACAREAAAAAAAABDQAAAAAAAAEVAAAAAAADAUEAAAAAAAIBCQAAAAAAAgENAAAAAAAAAP0AAAAAAAAA4QAAAAAAAgElAAAAAAAAASUAAAAAAAABDQAAAAAAAAEFAAAAAAAAAP0AAAAAAAABEQAAAAAAAgEBAAAAAAAAAQ0AAAAAAAABGQAAAAAAAAERAAAAAAAAAQUAAAAAAAAA/QAAAAAAAAEVAAAAAAACASUAAAAAAAABHQAAAAAAAgEBAAAAAAAAARkAAAAAAAIBJQAAAAAAAAD1AAAAAAAAAPkAAAAAAAABLQAAAAAAAgElAAAAAAACASkAAAAAAAABFQAAAAAAAAD9AAAAAAAAAOEAAAAAAAIBBQAAAAAAAgEZAAAAAAACAQUAAAAAAAIBCQAAAAAAAAERAAAAAAACASEAAAAAAAAA8QAAAAAAAgEdAAAAAAACAQ0AAAAAAAABDQAAAAAAAgEBAAAAAAAAARkAAAAAAAAA/QAAAAAAAAD9AAAAAAAAARkAAAAAAAABHQAAAAAAAAEVAAAAAAACAREAAAAAAAAA+QAAAAAAAAERAAAAAAACAS0AAAAAAAIBTQAAAAAAAAE1AAAAAAAAARkAAAAAAAABHQAAAAAAAAEJAAAAAAAAAQUAAAAAAAIBMQAAAAAAAgEBAAAAAAAAASEAAAAAAAIBBQAAAAAAAAEJAAAAAAACAQUAAAAAAAAA/QAAAAAAAAD1AAAAAAAAARkAAAAAAAIBFQAAAAAAAAE5AAAAAAACAR0AAAAAAAABFQAAAAAAAgEpAAAAAAACAQ0AAAAAAAIBDQAAAAAAAAEhAAAAAAAAARUAAAAAAAABJQAAAAAAAgENAAAAAAAAARkAAAAAAAABEQAAAAAAAAERAAAAAAAAARkAAAAAAAABJQAAAAAAAgEJAAAAAAAAAREAAAAAAAIBFQAAAAAAAAEZAAAAAAAAAT0AAAAAAAABDQAAAAAAAAEhAAAAAAAAARUAAAAAAAABCQAAAAAAAAEVAAAAAAAAARkAAAAAAAABEQAAAAAAAAEZAAAAAAACARUAAAAAAAABGQAAAAAAAAENAAAAAAACAR0AAAAAAAABFQAAAAAAAAERAAAAAAAAASkAAAAAAAABFQAAAAAAAAEJAAAAAAAAAR0AAAAAAAABGQAAAAAAAAERAAAAAAACAQ0AAAAAAAABFQAAAAAAAgEJAAAAAAACAQEA=",
          "dtype": "f8"
         },
         "xaxis": "x13",
         "y": {
          "bdata": "vLu7u7u7D0AAAAAAAAAaQImIiIiIiBpAIiIiIiIiFkAAAAAAAAAUQERERERERA5AIiIiIiIiBkDv7u7u7u4RQHd3d3d3dwtA7+7u7u7uG0C8u7u7u7sYQO/u7u7u7hFAvLu7u7u7GEAiIiIiIiIXQFVVVVVVVQ1AERERERERFUCamZmZmZkTQAAAAAAAABZAIiIiIiIiFUCamZmZmZkWQKuqqqqqqhZAZmZmZmZmF0AAAAAAAAAZQFVVVVVVVRVAmpmZmZmZFEAzMzMzMzMVQImIiIiIiBtAiYiIiIiIE0BEREREREQQQFVVVVVVVRpAq6qqqqqqFUAiIiIiIiIcQBERERERERZAERERERERFkBVVVVVVVUXQHd3d3d3dxhAq6qqqqqqGEDv7u7u7u4WQM3MzMzMzBdAVVVVVVVVGkB3d3d3d3cXQHd3d3d3dxFAVVVVVVVVEUAAAAAAAAAUQImIiIiIiBlAzczMzMzMGkAAAAAAAAAWQDMzMzMzMxNAq6qqqqqqE0C8u7u7u7saQDMzMzMzMxVAvLu7u7u7G0CrqqqqqqoRQCIiIiIiIhdA7+7u7u7uFEAREREREREVQBERERERERlAMzMzMzMzFkB3d3d3d3cYQN7d3d3d3RVAIiIiIiIiE0De3d3d3d3tPwAAAAAAAB5AIiIiIiIiGEAREREREREcQJqZmZmZmRlA7+7u7u7uGEAREREREREdQN7d3d3d3RhAZmZmZmZmEUC8u7u7u7sYQLy7u7u7uxJAREREREREF0C8u7u7u7sYQO/u7u7u7hNAREREREREGUBVVVVVVVUPQBERERERERdAVVVVVVVVG0C8u7u7u7sXQImIiIiIiBFAZmZmZmZmFUAiIiIiIiIUQCIiIiIiIhxAvLu7u7u7EkDe3d3d3d0VQN7d3d3d3RVAvLu7u7u7FkBmZmZmZmYTQFVVVVVVVRtAiYiIiIiIDkCJiIiIiIgTQGZmZmZmZhhAVVVVVVVVE0BmZmZmZmYWQDMzMzMzMxFAmpmZmZmZCUBmZmZmZmYcQERERERERBNAVVVVVVVVEECamZmZmZkNQBERERERERxAAAAAAAAAHkBEREREREQOQERERERERBxAMzMzMzMzFECJiIiIiIj4PxERERERERpAq6qqqqqqBEBmZmZmZmYWQBERERERERBAMzMzMzMzB0De3d3d3d0RQERERERERBZAVVVVVVVVEkAiIiIiIiIRQBERERERERdAZmZmZmZmF0De3d3d3d0WQImIiIiIiBVAVVVVVVVVGkA=",
          "dtype": "f8"
         },
         "yaxis": "y13"
        },
        {
         "line": {
          "dash": "dash"
         },
         "mode": "lines",
         "name": "light_hleep_h Fit",
         "type": "scatter",
         "x": {
          "bdata": "AAAAAAAAR0AAAAAAAIBFQAAAAAAAADlAAAAAAACAQkAAAAAAAIBJQAAAAAAAADxAAAAAAACAREAAAAAAAABDQAAAAAAAAEVAAAAAAADAUEAAAAAAAIBCQAAAAAAAgENAAAAAAAAAP0AAAAAAAAA4QAAAAAAAgElAAAAAAAAASUAAAAAAAABDQAAAAAAAAEFAAAAAAAAAP0AAAAAAAABEQAAAAAAAgEBAAAAAAAAAQ0AAAAAAAABGQAAAAAAAAERAAAAAAAAAQUAAAAAAAAA/QAAAAAAAAEVAAAAAAACASUAAAAAAAABHQAAAAAAAgEBAAAAAAAAARkAAAAAAAIBJQAAAAAAAAD1AAAAAAAAAPkAAAAAAAABLQAAAAAAAgElAAAAAAACASkAAAAAAAABFQAAAAAAAAD9AAAAAAAAAOEAAAAAAAIBBQAAAAAAAgEZAAAAAAACAQUAAAAAAAIBCQAAAAAAAAERAAAAAAACASEAAAAAAAAA8QAAAAAAAgEdAAAAAAACAQ0AAAAAAAABDQAAAAAAAgEBAAAAAAAAARkAAAAAAAAA/QAAAAAAAAD9AAAAAAAAARkAAAAAAAABHQAAAAAAAAEVAAAAAAACAREAAAAAAAAA+QAAAAAAAAERAAAAAAACAS0AAAAAAAIBTQAAAAAAAAE1AAAAAAAAARkAAAAAAAABHQAAAAAAAAEJAAAAAAAAAQUAAAAAAAIBMQAAAAAAAgEBAAAAAAAAASEAAAAAAAIBBQAAAAAAAAEJAAAAAAACAQUAAAAAAAAA/QAAAAAAAAD1AAAAAAAAARkAAAAAAAIBFQAAAAAAAAE5AAAAAAACAR0AAAAAAAABFQAAAAAAAgEpAAAAAAACAQ0AAAAAAAIBDQAAAAAAAAEhAAAAAAAAARUAAAAAAAABJQAAAAAAAgENAAAAAAAAARkAAAAAAAABEQAAAAAAAAERAAAAAAAAARkAAAAAAAABJQAAAAAAAgEJAAAAAAAAAREAAAAAAAIBFQAAAAAAAAEZAAAAAAAAAT0AAAAAAAABDQAAAAAAAAEhAAAAAAAAARUAAAAAAAABCQAAAAAAAAEVAAAAAAAAARkAAAAAAAABEQAAAAAAAAEZAAAAAAACARUAAAAAAAABGQAAAAAAAAENAAAAAAACAR0AAAAAAAABFQAAAAAAAAERAAAAAAAAASkAAAAAAAABFQAAAAAAAAEJAAAAAAAAAR0AAAAAAAABGQAAAAAAAAERAAAAAAACAQ0AAAAAAAABFQAAAAAAAgEJAAAAAAACAQEA=",
          "dtype": "f8"
         },
         "xaxis": "x13",
         "y": {
          "bdata": "Sdr/ZtEFFUAlcWaDrVkVQEz6zS3WUBdA3Z4zvGUBFkAwNKo3DXoUQHBjZxH6/BZAYoBVlpWRFUA+F7yyceUVQMT43YyhdRVARroxoMy6EkDdnjO8ZQEWQKCPRKl9yRVAlMwA9R2pFkDrgUU3ymwXQDA0qjcNehRAzrshQQGWFEA+F7yyceUVQLk1mthBVRZAlMwA9R2pFkABCM2fia0VQFe9EeI1cRZAPhe8snHlFUCG6e55uT0VQAEIzZ+JrRVAuTWa2EFVFkCUzAD1HakWQMT43YyhdRVAMDSqNw16FEBJ2v9m0QUVQFe9EeI1cRZAhunuebk9FUAwNKo3DXoUQNLb7wcG4RZAM1R4/hHFFkBUnUMbMSYUQDA0qjcNehRA8yS7JCVCFEDE+N2MoXUVQJTMAPUdqRZA64FFN8psF0AariLPTTkWQOhhd3DFIRVAGq4iz005FkDdnjO8ZQEWQAEIzZ+JrRVAbUOZSvWxFEBwY2cR+vwWQKpSiF3d6RRAoI9EqX3JFUA+F7yyceUVQFe9EeI1cRZAhunuebk9FUCUzAD1HakWQJTMAPUdqRZAhunuebk9FUBJ2v9m0QUVQMT43YyhdRVAYoBVlpWRFUAzVHj+EcUWQAEIzZ+JrRVAthXMET0KFEB15g44UIcRQNp+ZfVgthNAhunuebk9FUBJ2v9m0QUVQHsmq8VZHRZAuTWa2EFVFkB4Bt3+VNITQFe9EeI1cRZADMsQVOnNFEAariLPTTkWQHsmq8VZHRZAGq4iz005FkCUzAD1HakWQNLb7wcG4RZAhunuebk9FUAlcWaDrVkVQJxvduJ4fhNAqlKIXd3pFEDE+N2MoXUVQPMkuyQlQhRAoI9EqX3JFUCgj0SpfckVQAzLEFTpzRRAxPjdjKF1FUDOuyFBAZYUQKCPRKl9yRVAhunuebk9FUABCM2fia0VQAEIzZ+JrRVAhunuebk9FUDOuyFBAZYUQN2eM7xlARZAAQjNn4mtFUAlcWaDrVkVQIbp7nm5PRVAX2CHz5BGE0A+F7yyceUVQAzLEFTpzRRAxPjdjKF1FUB7JqvFWR0WQMT43YyhdRVAhunuebk9FUABCM2fia0VQIbp7nm5PRVAJXFmg61ZFUCG6e55uT0VQD4XvLJx5RVAqlKIXd3pFEDE+N2MoXUVQAEIzZ+JrRVAkawyLhleFEDE+N2MoXUVQHsmq8VZHRZASdr/ZtEFFUCG6e55uT0VQAEIzZ+JrRVAoI9EqX3JFUDE+N2MoXUVQN2eM7xlARZAV70R4jVxFkA=",
          "dtype": "f8"
         },
         "yaxis": "y13"
        },
        {
         "mode": "markers",
         "name": "rem_hleep_h",
         "type": "scatter",
         "x": {
          "bdata": "AAAAAAAAR0AAAAAAAIBFQAAAAAAAADlAAAAAAACAQkAAAAAAAIBJQAAAAAAAADxAAAAAAACAREAAAAAAAABDQAAAAAAAAEVAAAAAAADAUEAAAAAAAIBCQAAAAAAAgENAAAAAAAAAP0AAAAAAAAA4QAAAAAAAgElAAAAAAAAASUAAAAAAAABDQAAAAAAAAEFAAAAAAAAAP0AAAAAAAABEQAAAAAAAgEBAAAAAAAAAQ0AAAAAAAABGQAAAAAAAAERAAAAAAAAAQUAAAAAAAAA/QAAAAAAAAEVAAAAAAACASUAAAAAAAABHQAAAAAAAgEBAAAAAAAAARkAAAAAAAIBJQAAAAAAAAD1AAAAAAAAAPkAAAAAAAABLQAAAAAAAgElAAAAAAACASkAAAAAAAABFQAAAAAAAAD9AAAAAAAAAOEAAAAAAAIBBQAAAAAAAgEZAAAAAAACAQUAAAAAAAIBCQAAAAAAAAERAAAAAAACASEAAAAAAAAA8QAAAAAAAgEdAAAAAAACAQ0AAAAAAAABDQAAAAAAAgEBAAAAAAAAARkAAAAAAAAA/QAAAAAAAAD9AAAAAAAAARkAAAAAAAABHQAAAAAAAAEVAAAAAAACAREAAAAAAAAA+QAAAAAAAAERAAAAAAACAS0AAAAAAAIBTQAAAAAAAAE1AAAAAAAAARkAAAAAAAABHQAAAAAAAAEJAAAAAAAAAQUAAAAAAAIBMQAAAAAAAgEBAAAAAAAAASEAAAAAAAIBBQAAAAAAAAEJAAAAAAACAQUAAAAAAAAA/QAAAAAAAAD1AAAAAAAAARkAAAAAAAIBFQAAAAAAAAE5AAAAAAACAR0AAAAAAAABFQAAAAAAAgEpAAAAAAACAQ0AAAAAAAIBDQAAAAAAAAEhAAAAAAAAARUAAAAAAAABJQAAAAAAAgENAAAAAAAAARkAAAAAAAABEQAAAAAAAAERAAAAAAAAARkAAAAAAAABJQAAAAAAAgEJAAAAAAAAAREAAAAAAAIBFQAAAAAAAAEZAAAAAAAAAT0AAAAAAAABDQAAAAAAAAEhAAAAAAAAARUAAAAAAAABCQAAAAAAAAEVAAAAAAAAARkAAAAAAAABEQAAAAAAAAEZAAAAAAACARUAAAAAAAABGQAAAAAAAAENAAAAAAACAR0AAAAAAAABFQAAAAAAAAERAAAAAAAAASkAAAAAAAABFQAAAAAAAAEJAAAAAAAAAR0AAAAAAAABGQAAAAAAAAERAAAAAAACAQ0AAAAAAAABFQAAAAAAAgEJAAAAAAACAQEA=",
          "dtype": "f8"
         },
         "xaxis": "x14",
         "y": {
          "bdata": "mpmZmZmZ+T9ERERERETwP6uqqqqqqgpAAAAAAAAAAECrqqqqqqriPwAAAAAAAPg/zczMzMzM7D9EREREREQCQJqZmZmZmdk/AAAAAAAA0D9EREREREQAQBEREREREfE/MzMzMzMzAUDe3d3d3d39P2ZmZmZmZgBAd3d3d3d3+z+JiIiIiIj0P4mIiIiIiAJAERERERER/T+amZmZmZn9P0RERERERABA7+7u7u7u/j9ERERERETkP+/u7u7u7vY/AAAAAAAA/D93d3d3d3fzP83MzMzMzPQ/VVVVVVVV+T8AAAAAAADQPxEREREREf0/3t3d3d3d+T8RERERERHRP3d3d3d3d/M/vLu7u7u79z8zMzMzMzPrP5qZmZmZmck/d3d3d3d3AUCrqqqqqqr2PxEREREREfk/MzMzMzMz/z+8u7u7u7v3P97d3d3d3fk/RERERERE+D8zMzMzMzMBQO/u7u7u7vY/vLu7u7u79z8iIiIiIiL6PwAAAAAAAABAmpmZmZmZ6T8REREREREDQJqZmZmZmQFAzczMzMzM7D+JiIiIiIgCQBEREREREf0/ERERERER6T8RERERERHxP6uqqqqqqgBAvLu7u7u78z/v7u7u7u4AQLy7u7u7u/8/ERERERERAUAAAAAAAAAAAAAAAAAAAAAA7+7u7u7u8j/e3d3d3d0BQM3MzMzMzPw/3t3d3d3d/T8AAAAAAAAAAFVVVVVVVQVAd3d3d3d3/z/v7u7u7u7+P2ZmZmZmZgJAAAAAAAAAAEDe3d3d3d35P5qZmZmZmfk/ZmZmZmZm7j/NzMzMzMwEQM3MzMzMzPA/zczMzMzM7D/e3d3d3d3xP6uqqqqqqto/3t3d3d3d+T8iIiIiIiLyP+/u7u7u7vo/VVVVVVVV8T+rqqqqqqraPxEREREREfE/RERERERE5D+amZmZmZkHQHd3d3d3d/8/AAAAAAAAAACamZmZmZnhP3d3d3d3dwVAiYiIiIiI8D+rqqqqqqr+PyIiIiIiIvI/d3d3d3d31z8zMzMzMzMFQCIiIiIiIgBAMzMzMzMz8z8zMzMzMzPTP4mIiIiIiPw/vLu7u7u76z/e3d3d3d35P2ZmZmZmZvo/AAAAAAAA+D+amZmZmZnZPwAAAAAAAOg/MzMzMzMz6z8iIiIiIiL2P97d3d3d3fU/d3d3d3d3/z+8u7u7u7v7P5qZmZmZmfE/7+7u7u7u+j8REREREREBQN7d3d3d3fE/MzMzMzMz4z+8u7u7u7v3PxEREREREfk/3t3d3d3d/T8=",
          "dtype": "f8"
         },
         "yaxis": "y14"
        },
        {
         "line": {
          "dash": "dash"
         },
         "mode": "lines",
         "name": "rem_hleep_h Fit",
         "type": "scatter",
         "x": {
          "bdata": "AAAAAAAAR0AAAAAAAIBFQAAAAAAAADlAAAAAAACAQkAAAAAAAIBJQAAAAAAAADxAAAAAAACAREAAAAAAAABDQAAAAAAAAEVAAAAAAADAUEAAAAAAAIBCQAAAAAAAgENAAAAAAAAAP0AAAAAAAAA4QAAAAAAAgElAAAAAAAAASUAAAAAAAABDQAAAAAAAAEFAAAAAAAAAP0AAAAAAAABEQAAAAAAAgEBAAAAAAAAAQ0AAAAAAAABGQAAAAAAAAERAAAAAAAAAQUAAAAAAAAA/QAAAAAAAAEVAAAAAAACASUAAAAAAAABHQAAAAAAAgEBAAAAAAAAARkAAAAAAAIBJQAAAAAAAAD1AAAAAAAAAPkAAAAAAAABLQAAAAAAAgElAAAAAAACASkAAAAAAAABFQAAAAAAAAD9AAAAAAAAAOEAAAAAAAIBBQAAAAAAAgEZAAAAAAACAQUAAAAAAAIBCQAAAAAAAAERAAAAAAACASEAAAAAAAAA8QAAAAAAAgEdAAAAAAACAQ0AAAAAAAABDQAAAAAAAgEBAAAAAAAAARkAAAAAAAAA/QAAAAAAAAD9AAAAAAAAARkAAAAAAAABHQAAAAAAAAEVAAAAAAACAREAAAAAAAAA+QAAAAAAAAERAAAAAAACAS0AAAAAAAIBTQAAAAAAAAE1AAAAAAAAARkAAAAAAAABHQAAAAAAAAEJAAAAAAAAAQUAAAAAAAIBMQAAAAAAAgEBAAAAAAAAASEAAAAAAAIBBQAAAAAAAAEJAAAAAAACAQUAAAAAAAAA/QAAAAAAAAD1AAAAAAAAARkAAAAAAAIBFQAAAAAAAAE5AAAAAAACAR0AAAAAAAABFQAAAAAAAgEpAAAAAAACAQ0AAAAAAAIBDQAAAAAAAAEhAAAAAAAAARUAAAAAAAABJQAAAAAAAgENAAAAAAAAARkAAAAAAAABEQAAAAAAAAERAAAAAAAAARkAAAAAAAABJQAAAAAAAgEJAAAAAAAAAREAAAAAAAIBFQAAAAAAAAEZAAAAAAAAAT0AAAAAAAABDQAAAAAAAAEhAAAAAAAAARUAAAAAAAABCQAAAAAAAAEVAAAAAAAAARkAAAAAAAABEQAAAAAAAAEZAAAAAAACARUAAAAAAAABGQAAAAAAAAENAAAAAAACAR0AAAAAAAABFQAAAAAAAAERAAAAAAAAASkAAAAAAAABFQAAAAAAAAEJAAAAAAAAAR0AAAAAAAABGQAAAAAAAAERAAAAAAACAQ0AAAAAAAABFQAAAAAAAgEJAAAAAAACAQEA=",
          "dtype": "f8"
         },
         "xaxis": "x14",
         "y": {
          "bdata": "C0fOf1pS9D9N5QvjSj/2P23NPpt25gBA0iGHqSsZ+j+clGfayRzxP5j8P9P83/8/efk0JeuH9z+8l3KI23T5P2NvIASb4/Y/8Mx7JB9f2z/SIYepKxn6P6YNXmeL0Pg/Vl4CcAzz/T94EsmrnjgBQJyUZ9rJHPE/sh58+xnB8T+8l3KI23T5PxTAxAwcBvw/Vl4CcAzz/T+Qg0lGOyz4PypK2S1sqvw/vJdyiNt0+T83W/fB+pr1P5CDSUY7LPg/FMDEDBwG/D9WXgJwDPP9P2NvIASb4/Y/nJRn2skc8T8LR85/WlL0PypK2S1sqvw/N1v3wfqa9T+clGfayRzxP4JyK7KsO/8/bOgWkVyX/j+07FPusl/uP5yUZ9rJHPE/4AB9MFOo7z9jbyAEm+P2P1ZeAnAM8/0/eBLJq544AUD+NbDry2H7PyHR4qCq9vQ//jWw68th+z/SIYepKxn6P5CDSUY7LPg/yaiQHGpl8j+Y/D/T/N//P/W8uV4KrvM/pg1eZ4vQ+D+8l3KI23T5PypK2S1sqvw/N1v3wfqa9T9WXgJwDPP9P1ZeAnAM8/0/N1v3wfqa9T8LR85/WlL0P2NvIASb4/Y/efk0JeuH9z9s6BaRXJf+P5CDSUY7LPg/iNgqrBIX7T8A231h0dSLvwScr+UxPek/N1v3wfqa9T8LR85/WlL0P+irm8p7vfo/FMDEDBwG/D8wsNgn0oXqPypK2S1sqvw/3zKlPboJ8z/+NbDry2H7P+irm8p7vfo//jWw68th+z9WXgJwDPP9P4JyK7KsO/8/N1v3wfqa9T9N5QvjSj/2P6xzXWHxq+Y/9by5Xgqu8z9jbyAEm+P2P+AAfTBTqO8/pg1eZ4vQ+D+mDV5ni9D4P98ypT26CfM/Y28gBJvj9j+yHnz7GcHxP6YNXmeL0Pg/N1v3wfqa9T+Qg0lGOyz4P5CDSUY7LPg/N1v3wfqa9T+yHnz7GcHxP9Ihh6krGfo/kINJRjss+D9N5QvjSj/2Pzdb98H6mvU/VEsL3bAa5D+8l3KI23T5P98ypT26CfM/Y28gBJvj9j/oq5vKe736P2NvIASb4/Y/N1v3wfqa9T+Qg0lGOyz4Pzdb98H6mvU/TeUL40o/9j83W/fB+pr1P7yXcojbdPk/9by5Xgqu8z9jbyAEm+P2P5CDSUY7LPg/hgpTuXl48D9jbyAEm+P2P+irm8p7vfo/C0fOf1pS9D83W/fB+pr1P5CDSUY7LPg/pg1eZ4vQ+D9jbyAEm+P2P9Ihh6krGfo/KkrZLWyq/D8=",
          "dtype": "f8"
         },
         "yaxis": "y14"
        },
        {
         "mode": "markers",
         "name": "awake_h",
         "type": "scatter",
         "x": {
          "bdata": "AAAAAAAAR0AAAAAAAIBFQAAAAAAAADlAAAAAAACAQkAAAAAAAIBJQAAAAAAAADxAAAAAAACAREAAAAAAAABDQAAAAAAAAEVAAAAAAADAUEAAAAAAAIBCQAAAAAAAgENAAAAAAAAAP0AAAAAAAAA4QAAAAAAAgElAAAAAAAAASUAAAAAAAABDQAAAAAAAAEFAAAAAAAAAP0AAAAAAAABEQAAAAAAAgEBAAAAAAAAAQ0AAAAAAAABGQAAAAAAAAERAAAAAAAAAQUAAAAAAAAA/QAAAAAAAAEVAAAAAAACASUAAAAAAAABHQAAAAAAAgEBAAAAAAAAARkAAAAAAAIBJQAAAAAAAAD1AAAAAAAAAPkAAAAAAAABLQAAAAAAAgElAAAAAAACASkAAAAAAAABFQAAAAAAAAD9AAAAAAAAAOEAAAAAAAIBBQAAAAAAAgEZAAAAAAACAQUAAAAAAAIBCQAAAAAAAAERAAAAAAACASEAAAAAAAAA8QAAAAAAAgEdAAAAAAACAQ0AAAAAAAABDQAAAAAAAgEBAAAAAAAAARkAAAAAAAAA/QAAAAAAAAD9AAAAAAAAARkAAAAAAAABHQAAAAAAAAEVAAAAAAACAREAAAAAAAAA+QAAAAAAAAERAAAAAAACAS0AAAAAAAIBTQAAAAAAAAE1AAAAAAAAARkAAAAAAAABHQAAAAAAAAEJAAAAAAAAAQUAAAAAAAIBMQAAAAAAAgEBAAAAAAAAASEAAAAAAAIBBQAAAAAAAAEJAAAAAAACAQUAAAAAAAAA/QAAAAAAAAD1AAAAAAAAARkAAAAAAAIBFQAAAAAAAAE5AAAAAAACAR0AAAAAAAABFQAAAAAAAgEpAAAAAAACAQ0AAAAAAAIBDQAAAAAAAAEhAAAAAAAAARUAAAAAAAABJQAAAAAAAgENAAAAAAAAARkAAAAAAAABEQAAAAAAAAERAAAAAAAAARkAAAAAAAABJQAAAAAAAgEJAAAAAAAAAREAAAAAAAIBFQAAAAAAAAEZAAAAAAAAAT0AAAAAAAABDQAAAAAAAAEhAAAAAAAAARUAAAAAAAABCQAAAAAAAAEVAAAAAAAAARkAAAAAAAABEQAAAAAAAAEZAAAAAAACARUAAAAAAAABGQAAAAAAAAENAAAAAAACAR0AAAAAAAABFQAAAAAAAAERAAAAAAAAASkAAAAAAAABFQAAAAAAAAEJAAAAAAAAAR0AAAAAAAABGQAAAAAAAAERAAAAAAACAQ0AAAAAAAABFQAAAAAAAgEJAAAAAAACAQEA=",
          "dtype": "f8"
         },
         "xaxis": "x15",
         "y": {
          "bdata": "ERERERERkT/NzMzMzMz0PzMzMzMzM8M/VVVVVVVVxT8iIiIiIiLSPwAAAAAAAAAAVVVVVVVVtT8RERERERGxP97d3d3d3b0/d3d3d3d38z8RERERERGRPwAAAAAAAAAAAAAAAAAAAAARERERERHBP1VVVVVVVbU/mpmZmZmZqT8RERERERGRPxEREREREbE/mpmZmZmZuT8RERERERGRP97d3d3d3b0/mpmZmZmZuT9ERERERETwPxEREREREaE/RERERERE5D8RERERERGRP97d3d3d3d0/ERERERERoT/e3d3d3d0NQAAAAAAAAAAAERERERERwT8AAAAAAADoPwAAAAAAAAAAmpmZmZmZqT9mZmZmZmYCQN7d3d3d3eU/ERERERERkT8RERERERGRP97d3d3d3b0/ERERERERkT8RERERERGRPwAAAAAAAAAAmpmZmZmZuT8RERERERHBPxEREREREeE/d3d3d3d35z8RERERERGRPwAAAAAAAAAAmpmZmZmZqT8AAAAAAAAAABEREREREZE/RERERERE1D8AAAAAAAAAAAAAAAAAAAAAmpmZmZmZqT8RERERERHBPwAAAAAAAAAAAAAAAAAAAAAAAAAAAAAAAAAAAAAAAAAAmpmZmZmZqT/NzMzMzMzwPzMzMzMzM+M/AAAAAAAAAAAAAAAAAAAAAAAAAAAAAAAAmpmZmZmZqT/v7u7u7u76PwAAAAAAAAAAERERERERsT9ERERERETUP5qZmZmZmak/ERERERERkT8zMzMzMzPDPwAAAAAAAAAAzczMzMzM8D8AAAAAAAAAAO/u7u7u7gRAvLu7u7u7yz93d3d3d3fHP6uqqqqqqto/ERERERERoT8AAAAAAAAAAAAAAAAAANA/mpmZmZmZqT+amZmZmZmpP5qZmZmZmak/ERERERERoT8AAAAAAAAAAJqZmZmZmak/AAAAAAAA0D8iIiIiIiLyPxEREREREaE/IiIiIiIi0j8AAAAAAAAAAN7d3d3d3b0/ZmZmZmZm1j8AAAAAAAAAAAAAAAAAAAAAAAAAAAAAAAAAAAAAAAAAADMzMzMzM+M/zczMzMzM3D+8u7u7u7vLPwAAAAAAAPA/ERERERERoT9VVVVVVVW1P6uqqqqqqgJAERERERERoT8RERERERH5PxEREREREaE/VVVVVVVVtT+amZmZmZnJPwAAAAAAANA/3t3d3d3dvT8RERERERGhP83MzMzMzNw/IiIiIiIi0j+amZmZmZmpPxEREREREZE/q6qqqqqq2j8=",
          "dtype": "f8"
         },
         "yaxis": "y15"
        },
        {
         "line": {
          "dash": "dash"
         },
         "mode": "lines",
         "name": "awake_h Fit",
         "type": "scatter",
         "x": {
          "bdata": "AAAAAAAAR0AAAAAAAIBFQAAAAAAAADlAAAAAAACAQkAAAAAAAIBJQAAAAAAAADxAAAAAAACAREAAAAAAAABDQAAAAAAAAEVAAAAAAADAUEAAAAAAAIBCQAAAAAAAgENAAAAAAAAAP0AAAAAAAAA4QAAAAAAAgElAAAAAAAAASUAAAAAAAABDQAAAAAAAAEFAAAAAAAAAP0AAAAAAAABEQAAAAAAAgEBAAAAAAAAAQ0AAAAAAAABGQAAAAAAAAERAAAAAAAAAQUAAAAAAAAA/QAAAAAAAAEVAAAAAAACASUAAAAAAAABHQAAAAAAAgEBAAAAAAAAARkAAAAAAAIBJQAAAAAAAAD1AAAAAAAAAPkAAAAAAAABLQAAAAAAAgElAAAAAAACASkAAAAAAAABFQAAAAAAAAD9AAAAAAAAAOEAAAAAAAIBBQAAAAAAAgEZAAAAAAACAQUAAAAAAAIBCQAAAAAAAAERAAAAAAACASEAAAAAAAAA8QAAAAAAAgEdAAAAAAACAQ0AAAAAAAABDQAAAAAAAgEBAAAAAAAAARkAAAAAAAAA/QAAAAAAAAD9AAAAAAAAARkAAAAAAAABHQAAAAAAAAEVAAAAAAACAREAAAAAAAAA+QAAAAAAAAERAAAAAAACAS0AAAAAAAIBTQAAAAAAAAE1AAAAAAAAARkAAAAAAAABHQAAAAAAAAEJAAAAAAAAAQUAAAAAAAIBMQAAAAAAAgEBAAAAAAAAASEAAAAAAAIBBQAAAAAAAAEJAAAAAAACAQUAAAAAAAAA/QAAAAAAAAD1AAAAAAAAARkAAAAAAAIBFQAAAAAAAAE5AAAAAAACAR0AAAAAAAABFQAAAAAAAgEpAAAAAAACAQ0AAAAAAAIBDQAAAAAAAAEhAAAAAAAAARUAAAAAAAABJQAAAAAAAgENAAAAAAAAARkAAAAAAAABEQAAAAAAAAERAAAAAAAAARkAAAAAAAABJQAAAAAAAgEJAAAAAAAAAREAAAAAAAIBFQAAAAAAAAEZAAAAAAAAAT0AAAAAAAABDQAAAAAAAAEhAAAAAAAAARUAAAAAAAABCQAAAAAAAAEVAAAAAAAAARkAAAAAAAABEQAAAAAAAAEZAAAAAAACARUAAAAAAAABGQAAAAAAAAENAAAAAAACAR0AAAAAAAABFQAAAAAAAAERAAAAAAAAASkAAAAAAAABFQAAAAAAAAEJAAAAAAAAAR0AAAAAAAABGQAAAAAAAAERAAAAAAACAQ0AAAAAAAABFQAAAAAAAgEJAAAAAAACAQEA=",
          "dtype": "f8"
         },
         "xaxis": "x15",
         "y": {
          "bdata": "AOWpHZqG2j+49ktgQn/VP+g9zx+YWcG/VDQgyyXhxj8QOaMsFnThP2CFTZSiK62/4FcN4gcl0j8s015JYDvKP0ynLCEl0tM/erSdJQDd7j9UNCDLJeHGPwhyncealc0/oNlDrTYelj/A3A2e0rPEvxA5oywWdOE/WpETjYed4D8s015JYDvKP4ivyKDspLk/oNlDrTYelj9wCO6i6nfQP9hxS6R38LI/LNNeSWA7yj8kRmufXyzXP3AI7qLqd9A/iK/IoOykuT+g2UOtNh6WP0ynLCEl0tM/EDmjLBZ04T8A5akdmobaP9hxS6R38LI/JEZrn18s1z8QOaMsFnThPwAUpjZxhZ+/gHTEEnXOcr80MFILwvfjPxA5oywWdOE/fojCazMh4z9MpywhJdLTP6DZQ602HpY/wNwNntKzxL+g9qLOsCzAP5SVit582dg/oPaizrAswD9UNCDLJeHGP3AI7qLqd9A/SNMH2/GN3z9ghU2Uoiutv2w0yVy3M9w/CHKdx5qVzT8s015JYDvKP9hxS6R38LI/JEZrn18s1z+g2UOtNh6WP6DZQ602HpY/JEZrn18s1z8A5akdmobaP0ynLCEl0tM/4FcN4gcl0j+AdMQSdc5yv3AI7qLqd9A/6tfhqlDO5D+p9GSAkAr0Pw7PkIn8Uec/JEZrn18s1z8A5akdmobaP3iV4UzrhsM/iK/IoOykuT9YJwHqbXvmP9hxS6R38LI/3IPom9Tg3T+g9qLOsCzAP3iV4UzrhsM/oPaizrAswD+g2UOtNh6WPwAUpjZxhZ+/JEZrn18s1z+49ktgQn/VP3wesMgZ/+g/bDTJXLcz3D9MpywhJdLTP36IwmszIeM/CHKdx5qVzT8Icp3HmpXNP9yD6JvU4N0/TKcsISXS0z9akRONh53gPwhyncealc0/JEZrn18s1z9wCO6i6nfQP3AI7qLqd9A/JEZrn18s1z9akRONh53gP1Q0IMsl4cY/cAjuoup30D+49ktgQn/VPyRGa59fLNc/6G3PBzes6j8s015JYDvKP9yD6JvU4N0/TKcsISXS0z94leFM64bDP0ynLCEl0tM/JEZrn18s1z9wCO6i6nfQPyRGa59fLNc/uPZLYEJ/1T8kRmufXyzXPyzTXklgO8o/bDTJXLcz3D9MpywhJdLTP3AI7qLqd9A/yOAyzKRK4j9MpywhJdLTP3iV4UzrhsM/AOWpHZqG2j8kRmufXyzXP3AI7qLqd9A/CHKdx5qVzT9MpywhJdLTP1Q0IMsl4cY/2HFLpHfwsj8=",
          "dtype": "f8"
         },
         "yaxis": "y15"
        }
       ],
       "layout": {
        "annotations": [
         {
          "font": {
           "size": 16
          },
          "showarrow": false,
          "text": "Avg Stress vs. Body Charged",
          "x": 0.5,
          "xanchor": "center",
          "xref": "paper",
          "y": 1,
          "yanchor": "bottom",
          "yref": "paper"
         },
         {
          "font": {
           "size": 16
          },
          "showarrow": false,
          "text": "Avg Stress vs. Body Drained",
          "x": 0.5,
          "xanchor": "center",
          "xref": "paper",
          "y": 0.9311111111111111,
          "yanchor": "bottom",
          "yref": "paper"
         },
         {
          "font": {
           "size": 16
          },
          "showarrow": false,
          "text": "Avg Stress vs. Resting Hr",
          "x": 0.5,
          "xanchor": "center",
          "xref": "paper",
          "y": 0.8622222222222222,
          "yanchor": "bottom",
          "yref": "paper"
         },
         {
          "font": {
           "size": 16
          },
          "showarrow": false,
          "text": "Avg Stress vs. Total Sleep S",
          "x": 0.5,
          "xanchor": "center",
          "xref": "paper",
          "y": 0.7933333333333333,
          "yanchor": "bottom",
          "yref": "paper"
         },
         {
          "font": {
           "size": 16
          },
          "showarrow": false,
          "text": "Avg Stress vs. Deep Sleep S",
          "x": 0.5,
          "xanchor": "center",
          "xref": "paper",
          "y": 0.7244444444444444,
          "yanchor": "bottom",
          "yref": "paper"
         },
         {
          "font": {
           "size": 16
          },
          "showarrow": false,
          "text": "Avg Stress vs. Light Sleep S",
          "x": 0.5,
          "xanchor": "center",
          "xref": "paper",
          "y": 0.6555555555555556,
          "yanchor": "bottom",
          "yref": "paper"
         },
         {
          "font": {
           "size": 16
          },
          "showarrow": false,
          "text": "Avg Stress vs. Rem Sleep S",
          "x": 0.5,
          "xanchor": "center",
          "xref": "paper",
          "y": 0.5866666666666667,
          "yanchor": "bottom",
          "yref": "paper"
         },
         {
          "font": {
           "size": 16
          },
          "showarrow": false,
          "text": "Avg Stress vs. Awake S",
          "x": 0.5,
          "xanchor": "center",
          "xref": "paper",
          "y": 0.5177777777777778,
          "yanchor": "bottom",
          "yref": "paper"
         },
         {
          "font": {
           "size": 16
          },
          "showarrow": false,
          "text": "Avg Stress vs. Steps",
          "x": 0.5,
          "xanchor": "center",
          "xref": "paper",
          "y": 0.4488888888888889,
          "yanchor": "bottom",
          "yref": "paper"
         },
         {
          "font": {
           "size": 16
          },
          "showarrow": false,
          "text": "Avg Stress vs. Max Stress",
          "x": 0.5,
          "xanchor": "center",
          "xref": "paper",
          "y": 0.38,
          "yanchor": "bottom",
          "yref": "paper"
         },
         {
          "font": {
           "size": 16
          },
          "showarrow": false,
          "text": "Avg Stress vs. Total Hleep H",
          "x": 0.5,
          "xanchor": "center",
          "xref": "paper",
          "y": 0.3111111111111111,
          "yanchor": "bottom",
          "yref": "paper"
         },
         {
          "font": {
           "size": 16
          },
          "showarrow": false,
          "text": "Avg Stress vs. Deep Hleep H",
          "x": 0.5,
          "xanchor": "center",
          "xref": "paper",
          "y": 0.24222222222222223,
          "yanchor": "bottom",
          "yref": "paper"
         },
         {
          "font": {
           "size": 16
          },
          "showarrow": false,
          "text": "Avg Stress vs. Light Hleep H",
          "x": 0.5,
          "xanchor": "center",
          "xref": "paper",
          "y": 0.17333333333333334,
          "yanchor": "bottom",
          "yref": "paper"
         },
         {
          "font": {
           "size": 16
          },
          "showarrow": false,
          "text": "Avg Stress vs. Rem Hleep H",
          "x": 0.5,
          "xanchor": "center",
          "xref": "paper",
          "y": 0.10444444444444445,
          "yanchor": "bottom",
          "yref": "paper"
         },
         {
          "font": {
           "size": 16
          },
          "showarrow": false,
          "text": "Avg Stress vs. Awake H",
          "x": 0.5,
          "xanchor": "center",
          "xref": "paper",
          "y": 0.035555555555555556,
          "yanchor": "bottom",
          "yref": "paper"
         },
         {
          "font": {
           "size": 12
          },
          "showarrow": false,
          "text": "R² = 0.54",
          "x": 0.95,
          "xref": "paper",
          "y": 1,
          "yref": "paper"
         },
         {
          "font": {
           "size": 12
          },
          "showarrow": false,
          "text": "R² = 0.22",
          "x": 0.95,
          "xref": "paper",
          "y": 0.9333333333333333,
          "yref": "paper"
         },
         {
          "font": {
           "size": 12
          },
          "showarrow": false,
          "text": "R² = 0.26",
          "x": 0.95,
          "xref": "paper",
          "y": 0.8666666666666667,
          "yref": "paper"
         },
         {
          "font": {
           "size": 12
          },
          "showarrow": false,
          "text": "R² = 0.22",
          "x": 0.95,
          "xref": "paper",
          "y": 0.8,
          "yref": "paper"
         },
         {
          "font": {
           "size": 12
          },
          "showarrow": false,
          "text": "R² = 0.11",
          "x": 0.95,
          "xref": "paper",
          "y": 0.7333333333333334,
          "yref": "paper"
         },
         {
          "font": {
           "size": 12
          },
          "showarrow": false,
          "text": "R² = 0.04",
          "x": 0.95,
          "xref": "paper",
          "y": 0.6666666666666667,
          "yref": "paper"
         },
         {
          "font": {
           "size": 12
          },
          "showarrow": false,
          "text": "R² = 0.25",
          "x": 0.95,
          "xref": "paper",
          "y": 0.6,
          "yref": "paper"
         },
         {
          "font": {
           "size": 12
          },
          "showarrow": false,
          "text": "R² = 0.15",
          "x": 0.95,
          "xref": "paper",
          "y": 0.5333333333333333,
          "yref": "paper"
         },
         {
          "font": {
           "size": 12
          },
          "showarrow": false,
          "text": "R² = 0.00",
          "x": 0.95,
          "xref": "paper",
          "y": 0.4666666666666667,
          "yref": "paper"
         },
         {
          "font": {
           "size": 12
          },
          "showarrow": false,
          "text": "R² = 0.07",
          "x": 0.95,
          "xref": "paper",
          "y": 0.4,
          "yref": "paper"
         },
         {
          "font": {
           "size": 12
          },
          "showarrow": false,
          "text": "R² = 0.22",
          "x": 0.95,
          "xref": "paper",
          "y": 0.33333333333333337,
          "yref": "paper"
         },
         {
          "font": {
           "size": 12
          },
          "showarrow": false,
          "text": "R² = 0.11",
          "x": 0.95,
          "xref": "paper",
          "y": 0.2666666666666667,
          "yref": "paper"
         },
         {
          "font": {
           "size": 12
          },
          "showarrow": false,
          "text": "R² = 0.04",
          "x": 0.95,
          "xref": "paper",
          "y": 0.19999999999999996,
          "yref": "paper"
         },
         {
          "font": {
           "size": 12
          },
          "showarrow": false,
          "text": "R² = 0.25",
          "x": 0.95,
          "xref": "paper",
          "y": 0.1333333333333333,
          "yref": "paper"
         },
         {
          "font": {
           "size": 12
          },
          "showarrow": false,
          "text": "R² = 0.15",
          "x": 0.95,
          "xref": "paper",
          "y": 0.06666666666666665,
          "yref": "paper"
         }
        ],
        "height": 5250,
        "showlegend": false,
        "template": {
         "data": {
          "bar": [
           {
            "error_x": {
             "color": "#2a3f5f"
            },
            "error_y": {
             "color": "#2a3f5f"
            },
            "marker": {
             "line": {
              "color": "#E5ECF6",
              "width": 0.5
             },
             "pattern": {
              "fillmode": "overlay",
              "size": 10,
              "solidity": 0.2
             }
            },
            "type": "bar"
           }
          ],
          "barpolar": [
           {
            "marker": {
             "line": {
              "color": "#E5ECF6",
              "width": 0.5
             },
             "pattern": {
              "fillmode": "overlay",
              "size": 10,
              "solidity": 0.2
             }
            },
            "type": "barpolar"
           }
          ],
          "carpet": [
           {
            "aaxis": {
             "endlinecolor": "#2a3f5f",
             "gridcolor": "white",
             "linecolor": "white",
             "minorgridcolor": "white",
             "startlinecolor": "#2a3f5f"
            },
            "baxis": {
             "endlinecolor": "#2a3f5f",
             "gridcolor": "white",
             "linecolor": "white",
             "minorgridcolor": "white",
             "startlinecolor": "#2a3f5f"
            },
            "type": "carpet"
           }
          ],
          "choropleth": [
           {
            "colorbar": {
             "outlinewidth": 0,
             "ticks": ""
            },
            "type": "choropleth"
           }
          ],
          "contour": [
           {
            "colorbar": {
             "outlinewidth": 0,
             "ticks": ""
            },
            "colorscale": [
             [
              0,
              "#0d0887"
             ],
             [
              0.1111111111111111,
              "#46039f"
             ],
             [
              0.2222222222222222,
              "#7201a8"
             ],
             [
              0.3333333333333333,
              "#9c179e"
             ],
             [
              0.4444444444444444,
              "#bd3786"
             ],
             [
              0.5555555555555556,
              "#d8576b"
             ],
             [
              0.6666666666666666,
              "#ed7953"
             ],
             [
              0.7777777777777778,
              "#fb9f3a"
             ],
             [
              0.8888888888888888,
              "#fdca26"
             ],
             [
              1,
              "#f0f921"
             ]
            ],
            "type": "contour"
           }
          ],
          "contourcarpet": [
           {
            "colorbar": {
             "outlinewidth": 0,
             "ticks": ""
            },
            "type": "contourcarpet"
           }
          ],
          "heatmap": [
           {
            "colorbar": {
             "outlinewidth": 0,
             "ticks": ""
            },
            "colorscale": [
             [
              0,
              "#0d0887"
             ],
             [
              0.1111111111111111,
              "#46039f"
             ],
             [
              0.2222222222222222,
              "#7201a8"
             ],
             [
              0.3333333333333333,
              "#9c179e"
             ],
             [
              0.4444444444444444,
              "#bd3786"
             ],
             [
              0.5555555555555556,
              "#d8576b"
             ],
             [
              0.6666666666666666,
              "#ed7953"
             ],
             [
              0.7777777777777778,
              "#fb9f3a"
             ],
             [
              0.8888888888888888,
              "#fdca26"
             ],
             [
              1,
              "#f0f921"
             ]
            ],
            "type": "heatmap"
           }
          ],
          "histogram": [
           {
            "marker": {
             "pattern": {
              "fillmode": "overlay",
              "size": 10,
              "solidity": 0.2
             }
            },
            "type": "histogram"
           }
          ],
          "histogram2d": [
           {
            "colorbar": {
             "outlinewidth": 0,
             "ticks": ""
            },
            "colorscale": [
             [
              0,
              "#0d0887"
             ],
             [
              0.1111111111111111,
              "#46039f"
             ],
             [
              0.2222222222222222,
              "#7201a8"
             ],
             [
              0.3333333333333333,
              "#9c179e"
             ],
             [
              0.4444444444444444,
              "#bd3786"
             ],
             [
              0.5555555555555556,
              "#d8576b"
             ],
             [
              0.6666666666666666,
              "#ed7953"
             ],
             [
              0.7777777777777778,
              "#fb9f3a"
             ],
             [
              0.8888888888888888,
              "#fdca26"
             ],
             [
              1,
              "#f0f921"
             ]
            ],
            "type": "histogram2d"
           }
          ],
          "histogram2dcontour": [
           {
            "colorbar": {
             "outlinewidth": 0,
             "ticks": ""
            },
            "colorscale": [
             [
              0,
              "#0d0887"
             ],
             [
              0.1111111111111111,
              "#46039f"
             ],
             [
              0.2222222222222222,
              "#7201a8"
             ],
             [
              0.3333333333333333,
              "#9c179e"
             ],
             [
              0.4444444444444444,
              "#bd3786"
             ],
             [
              0.5555555555555556,
              "#d8576b"
             ],
             [
              0.6666666666666666,
              "#ed7953"
             ],
             [
              0.7777777777777778,
              "#fb9f3a"
             ],
             [
              0.8888888888888888,
              "#fdca26"
             ],
             [
              1,
              "#f0f921"
             ]
            ],
            "type": "histogram2dcontour"
           }
          ],
          "mesh3d": [
           {
            "colorbar": {
             "outlinewidth": 0,
             "ticks": ""
            },
            "type": "mesh3d"
           }
          ],
          "parcoords": [
           {
            "line": {
             "colorbar": {
              "outlinewidth": 0,
              "ticks": ""
             }
            },
            "type": "parcoords"
           }
          ],
          "pie": [
           {
            "automargin": true,
            "type": "pie"
           }
          ],
          "scatter": [
           {
            "fillpattern": {
             "fillmode": "overlay",
             "size": 10,
             "solidity": 0.2
            },
            "type": "scatter"
           }
          ],
          "scatter3d": [
           {
            "line": {
             "colorbar": {
              "outlinewidth": 0,
              "ticks": ""
             }
            },
            "marker": {
             "colorbar": {
              "outlinewidth": 0,
              "ticks": ""
             }
            },
            "type": "scatter3d"
           }
          ],
          "scattercarpet": [
           {
            "marker": {
             "colorbar": {
              "outlinewidth": 0,
              "ticks": ""
             }
            },
            "type": "scattercarpet"
           }
          ],
          "scattergeo": [
           {
            "marker": {
             "colorbar": {
              "outlinewidth": 0,
              "ticks": ""
             }
            },
            "type": "scattergeo"
           }
          ],
          "scattergl": [
           {
            "marker": {
             "colorbar": {
              "outlinewidth": 0,
              "ticks": ""
             }
            },
            "type": "scattergl"
           }
          ],
          "scattermap": [
           {
            "marker": {
             "colorbar": {
              "outlinewidth": 0,
              "ticks": ""
             }
            },
            "type": "scattermap"
           }
          ],
          "scattermapbox": [
           {
            "marker": {
             "colorbar": {
              "outlinewidth": 0,
              "ticks": ""
             }
            },
            "type": "scattermapbox"
           }
          ],
          "scatterpolar": [
           {
            "marker": {
             "colorbar": {
              "outlinewidth": 0,
              "ticks": ""
             }
            },
            "type": "scatterpolar"
           }
          ],
          "scatterpolargl": [
           {
            "marker": {
             "colorbar": {
              "outlinewidth": 0,
              "ticks": ""
             }
            },
            "type": "scatterpolargl"
           }
          ],
          "scatterternary": [
           {
            "marker": {
             "colorbar": {
              "outlinewidth": 0,
              "ticks": ""
             }
            },
            "type": "scatterternary"
           }
          ],
          "surface": [
           {
            "colorbar": {
             "outlinewidth": 0,
             "ticks": ""
            },
            "colorscale": [
             [
              0,
              "#0d0887"
             ],
             [
              0.1111111111111111,
              "#46039f"
             ],
             [
              0.2222222222222222,
              "#7201a8"
             ],
             [
              0.3333333333333333,
              "#9c179e"
             ],
             [
              0.4444444444444444,
              "#bd3786"
             ],
             [
              0.5555555555555556,
              "#d8576b"
             ],
             [
              0.6666666666666666,
              "#ed7953"
             ],
             [
              0.7777777777777778,
              "#fb9f3a"
             ],
             [
              0.8888888888888888,
              "#fdca26"
             ],
             [
              1,
              "#f0f921"
             ]
            ],
            "type": "surface"
           }
          ],
          "table": [
           {
            "cells": {
             "fill": {
              "color": "#EBF0F8"
             },
             "line": {
              "color": "white"
             }
            },
            "header": {
             "fill": {
              "color": "#C8D4E3"
             },
             "line": {
              "color": "white"
             }
            },
            "type": "table"
           }
          ]
         },
         "layout": {
          "annotationdefaults": {
           "arrowcolor": "#2a3f5f",
           "arrowhead": 0,
           "arrowwidth": 1
          },
          "autotypenumbers": "strict",
          "coloraxis": {
           "colorbar": {
            "outlinewidth": 0,
            "ticks": ""
           }
          },
          "colorscale": {
           "diverging": [
            [
             0,
             "#8e0152"
            ],
            [
             0.1,
             "#c51b7d"
            ],
            [
             0.2,
             "#de77ae"
            ],
            [
             0.3,
             "#f1b6da"
            ],
            [
             0.4,
             "#fde0ef"
            ],
            [
             0.5,
             "#f7f7f7"
            ],
            [
             0.6,
             "#e6f5d0"
            ],
            [
             0.7,
             "#b8e186"
            ],
            [
             0.8,
             "#7fbc41"
            ],
            [
             0.9,
             "#4d9221"
            ],
            [
             1,
             "#276419"
            ]
           ],
           "sequential": [
            [
             0,
             "#0d0887"
            ],
            [
             0.1111111111111111,
             "#46039f"
            ],
            [
             0.2222222222222222,
             "#7201a8"
            ],
            [
             0.3333333333333333,
             "#9c179e"
            ],
            [
             0.4444444444444444,
             "#bd3786"
            ],
            [
             0.5555555555555556,
             "#d8576b"
            ],
            [
             0.6666666666666666,
             "#ed7953"
            ],
            [
             0.7777777777777778,
             "#fb9f3a"
            ],
            [
             0.8888888888888888,
             "#fdca26"
            ],
            [
             1,
             "#f0f921"
            ]
           ],
           "sequentialminus": [
            [
             0,
             "#0d0887"
            ],
            [
             0.1111111111111111,
             "#46039f"
            ],
            [
             0.2222222222222222,
             "#7201a8"
            ],
            [
             0.3333333333333333,
             "#9c179e"
            ],
            [
             0.4444444444444444,
             "#bd3786"
            ],
            [
             0.5555555555555556,
             "#d8576b"
            ],
            [
             0.6666666666666666,
             "#ed7953"
            ],
            [
             0.7777777777777778,
             "#fb9f3a"
            ],
            [
             0.8888888888888888,
             "#fdca26"
            ],
            [
             1,
             "#f0f921"
            ]
           ]
          },
          "colorway": [
           "#636efa",
           "#EF553B",
           "#00cc96",
           "#ab63fa",
           "#FFA15A",
           "#19d3f3",
           "#FF6692",
           "#B6E880",
           "#FF97FF",
           "#FECB52"
          ],
          "font": {
           "color": "#2a3f5f"
          },
          "geo": {
           "bgcolor": "white",
           "lakecolor": "white",
           "landcolor": "#E5ECF6",
           "showlakes": true,
           "showland": true,
           "subunitcolor": "white"
          },
          "hoverlabel": {
           "align": "left"
          },
          "hovermode": "closest",
          "mapbox": {
           "style": "light"
          },
          "paper_bgcolor": "white",
          "plot_bgcolor": "#E5ECF6",
          "polar": {
           "angularaxis": {
            "gridcolor": "white",
            "linecolor": "white",
            "ticks": ""
           },
           "bgcolor": "#E5ECF6",
           "radialaxis": {
            "gridcolor": "white",
            "linecolor": "white",
            "ticks": ""
           }
          },
          "scene": {
           "xaxis": {
            "backgroundcolor": "#E5ECF6",
            "gridcolor": "white",
            "gridwidth": 2,
            "linecolor": "white",
            "showbackground": true,
            "ticks": "",
            "zerolinecolor": "white"
           },
           "yaxis": {
            "backgroundcolor": "#E5ECF6",
            "gridcolor": "white",
            "gridwidth": 2,
            "linecolor": "white",
            "showbackground": true,
            "ticks": "",
            "zerolinecolor": "white"
           },
           "zaxis": {
            "backgroundcolor": "#E5ECF6",
            "gridcolor": "white",
            "gridwidth": 2,
            "linecolor": "white",
            "showbackground": true,
            "ticks": "",
            "zerolinecolor": "white"
           }
          },
          "shapedefaults": {
           "line": {
            "color": "#2a3f5f"
           }
          },
          "ternary": {
           "aaxis": {
            "gridcolor": "white",
            "linecolor": "white",
            "ticks": ""
           },
           "baxis": {
            "gridcolor": "white",
            "linecolor": "white",
            "ticks": ""
           },
           "bgcolor": "#E5ECF6",
           "caxis": {
            "gridcolor": "white",
            "linecolor": "white",
            "ticks": ""
           }
          },
          "title": {
           "x": 0.05
          },
          "xaxis": {
           "automargin": true,
           "gridcolor": "white",
           "linecolor": "white",
           "ticks": "",
           "title": {
            "standoff": 15
           },
           "zerolinecolor": "white",
           "zerolinewidth": 2
          },
          "yaxis": {
           "automargin": true,
           "gridcolor": "white",
           "linecolor": "white",
           "ticks": "",
           "title": {
            "standoff": 15
           },
           "zerolinecolor": "white",
           "zerolinewidth": 2
          }
         }
        },
        "title": {
         "text": "Avg Stress vs Other Metrics with Regression Lines and R²"
        },
        "width": 1000,
        "xaxis": {
         "anchor": "y",
         "domain": [
          0,
          1
         ]
        },
        "xaxis10": {
         "anchor": "y10",
         "domain": [
          0,
          1
         ]
        },
        "xaxis11": {
         "anchor": "y11",
         "domain": [
          0,
          1
         ]
        },
        "xaxis12": {
         "anchor": "y12",
         "domain": [
          0,
          1
         ]
        },
        "xaxis13": {
         "anchor": "y13",
         "domain": [
          0,
          1
         ]
        },
        "xaxis14": {
         "anchor": "y14",
         "domain": [
          0,
          1
         ]
        },
        "xaxis15": {
         "anchor": "y15",
         "domain": [
          0,
          1
         ]
        },
        "xaxis2": {
         "anchor": "y2",
         "domain": [
          0,
          1
         ]
        },
        "xaxis3": {
         "anchor": "y3",
         "domain": [
          0,
          1
         ]
        },
        "xaxis4": {
         "anchor": "y4",
         "domain": [
          0,
          1
         ]
        },
        "xaxis5": {
         "anchor": "y5",
         "domain": [
          0,
          1
         ]
        },
        "xaxis6": {
         "anchor": "y6",
         "domain": [
          0,
          1
         ]
        },
        "xaxis7": {
         "anchor": "y7",
         "domain": [
          0,
          1
         ]
        },
        "xaxis8": {
         "anchor": "y8",
         "domain": [
          0,
          1
         ]
        },
        "xaxis9": {
         "anchor": "y9",
         "domain": [
          0,
          1
         ]
        },
        "yaxis": {
         "anchor": "x",
         "domain": [
          0.9644444444444444,
          1
         ]
        },
        "yaxis10": {
         "anchor": "x10",
         "domain": [
          0.34444444444444444,
          0.38
         ]
        },
        "yaxis11": {
         "anchor": "x11",
         "domain": [
          0.27555555555555555,
          0.3111111111111111
         ]
        },
        "yaxis12": {
         "anchor": "x12",
         "domain": [
          0.20666666666666667,
          0.24222222222222223
         ]
        },
        "yaxis13": {
         "anchor": "x13",
         "domain": [
          0.13777777777777778,
          0.17333333333333334
         ]
        },
        "yaxis14": {
         "anchor": "x14",
         "domain": [
          0.06888888888888889,
          0.10444444444444445
         ]
        },
        "yaxis15": {
         "anchor": "x15",
         "domain": [
          0,
          0.035555555555555556
         ]
        },
        "yaxis2": {
         "anchor": "x2",
         "domain": [
          0.8955555555555555,
          0.9311111111111111
         ]
        },
        "yaxis3": {
         "anchor": "x3",
         "domain": [
          0.8266666666666667,
          0.8622222222222222
         ]
        },
        "yaxis4": {
         "anchor": "x4",
         "domain": [
          0.7577777777777778,
          0.7933333333333333
         ]
        },
        "yaxis5": {
         "anchor": "x5",
         "domain": [
          0.6888888888888889,
          0.7244444444444444
         ]
        },
        "yaxis6": {
         "anchor": "x6",
         "domain": [
          0.62,
          0.6555555555555556
         ]
        },
        "yaxis7": {
         "anchor": "x7",
         "domain": [
          0.5511111111111111,
          0.5866666666666667
         ]
        },
        "yaxis8": {
         "anchor": "x8",
         "domain": [
          0.4822222222222222,
          0.5177777777777778
         ]
        },
        "yaxis9": {
         "anchor": "x9",
         "domain": [
          0.41333333333333333,
          0.4488888888888889
         ]
        }
       }
      }
     },
     "metadata": {},
     "output_type": "display_data"
    }
   ],
   "source": [
    "import pandas as pd\n",
    "import plotly.graph_objects as go\n",
    "import plotly.subplots as sp\n",
    "from sklearn.linear_model import LinearRegression\n",
    "from sklearn.metrics import r2_score\n",
    "\n",
    "# Ensure steps column is numeric\n",
    "df[\"avg_stress\"] = pd.to_numeric(df[\"avg_stress\"], errors=\"coerce\")\n",
    "\n",
    "# Select valid numeric columns to compare with steps\n",
    "columns_to_plot = [\n",
    "    col for col in df.columns\n",
    "    if col not in [\"date\", \"avg_stress\"] and pd.api.types.is_numeric_dtype(df[col])\n",
    "]\n",
    "\n",
    "# Filter out columns with insufficient non-null pairings\n",
    "valid_pairs = []\n",
    "for col in columns_to_plot:\n",
    "    temp_df = df[[\"avg_stress\", col]].dropna()\n",
    "    if len(temp_df) >= 2:\n",
    "        valid_pairs.append(col)\n",
    "\n",
    "# Prepare plot\n",
    "fig = sp.make_subplots(\n",
    "    rows=len(valid_pairs), cols=1, shared_xaxes=False,\n",
    "    subplot_titles=[f\"Avg Stress vs. {col.replace('_', ' ').title()}\" for col in valid_pairs]\n",
    ")\n",
    "\n",
    "# Plot with regression\n",
    "for i, col in enumerate(valid_pairs, start=1):\n",
    "    temp_df = df[[\"avg_stress\", col]].dropna()\n",
    "    X = temp_df[\"avg_stress\"].values.reshape(-1, 1)\n",
    "    y = temp_df[col].values\n",
    "\n",
    "    model = LinearRegression()\n",
    "    model.fit(X, y)\n",
    "    y_pred = model.predict(X)\n",
    "    r2 = r2_score(y, y_pred)\n",
    "\n",
    "    fig.add_trace(\n",
    "        go.Scatter(x=temp_df[\"avg_stress\"], y=temp_df[col], mode='markers', name=col),\n",
    "        row=i, col=1\n",
    "    )\n",
    "\n",
    "    fig.add_trace(\n",
    "        go.Scatter(x=temp_df[\"avg_stress\"], y=y_pred, mode='lines',\n",
    "                   line=dict(dash='dash'), name=f\"{col} Fit\"),\n",
    "        row=i, col=1\n",
    "    )\n",
    "\n",
    "    fig.add_annotation(\n",
    "        xref=\"paper\", yref=\"paper\",\n",
    "        x=0.95, y=1 - (i - 1) / len(valid_pairs),\n",
    "        text=f\"R² = {r2:.2f}\", showarrow=False, font=dict(size=12)\n",
    "    )\n",
    "\n",
    "fig.update_layout(\n",
    "    height=350 * len(valid_pairs),\n",
    "    width=1000,\n",
    "    title_text=\"Avg Stress vs Other Metrics with Regression Lines and R²\",\n",
    "    showlegend=False\n",
    ")\n",
    "\n",
    "fig.show()\n"
   ]
  },
  {
   "cell_type": "code",
   "execution_count": 4,
   "metadata": {},
   "outputs": [
    {
     "data": {
      "text/html": [
       "<div>\n",
       "<style scoped>\n",
       "    .dataframe tbody tr th:only-of-type {\n",
       "        vertical-align: middle;\n",
       "    }\n",
       "\n",
       "    .dataframe tbody tr th {\n",
       "        vertical-align: top;\n",
       "    }\n",
       "\n",
       "    .dataframe thead th {\n",
       "        text-align: right;\n",
       "    }\n",
       "</style>\n",
       "<table border=\"1\" class=\"dataframe\">\n",
       "  <thead>\n",
       "    <tr style=\"text-align: right;\">\n",
       "      <th></th>\n",
       "      <th>date</th>\n",
       "      <th>body_charged</th>\n",
       "      <th>body_drained</th>\n",
       "      <th>resting_hr</th>\n",
       "      <th>sleep_score</th>\n",
       "      <th>total_sleep_s</th>\n",
       "      <th>deep_sleep_s</th>\n",
       "      <th>light_sleep_s</th>\n",
       "      <th>rem_sleep_s</th>\n",
       "      <th>awake_s</th>\n",
       "      <th>restless_moments</th>\n",
       "      <th>steps</th>\n",
       "      <th>avg_stress</th>\n",
       "      <th>max_stress</th>\n",
       "      <th>total_hleep_h</th>\n",
       "      <th>deep_hleep_h</th>\n",
       "      <th>light_hleep_h</th>\n",
       "      <th>rem_hleep_h</th>\n",
       "      <th>awake_h</th>\n",
       "    </tr>\n",
       "  </thead>\n",
       "  <tbody>\n",
       "    <tr>\n",
       "      <th>125</th>\n",
       "      <td>2025-02-24</td>\n",
       "      <td>NaN</td>\n",
       "      <td>NaN</td>\n",
       "      <td>NaN</td>\n",
       "      <td>NaN</td>\n",
       "      <td>NaN</td>\n",
       "      <td>NaN</td>\n",
       "      <td>NaN</td>\n",
       "      <td>NaN</td>\n",
       "      <td>NaN</td>\n",
       "      <td>NaN</td>\n",
       "      <td>525.0</td>\n",
       "      <td>NaN</td>\n",
       "      <td>NaN</td>\n",
       "      <td>NaN</td>\n",
       "      <td>NaN</td>\n",
       "      <td>NaN</td>\n",
       "      <td>NaN</td>\n",
       "      <td>NaN</td>\n",
       "    </tr>\n",
       "    <tr>\n",
       "      <th>0</th>\n",
       "      <td>2025-02-25</td>\n",
       "      <td>0.0</td>\n",
       "      <td>13.0</td>\n",
       "      <td>75.0</td>\n",
       "      <td>NaN</td>\n",
       "      <td>NaN</td>\n",
       "      <td>NaN</td>\n",
       "      <td>NaN</td>\n",
       "      <td>NaN</td>\n",
       "      <td>NaN</td>\n",
       "      <td>NaN</td>\n",
       "      <td>9953.0</td>\n",
       "      <td>54.0</td>\n",
       "      <td>96.0</td>\n",
       "      <td>NaN</td>\n",
       "      <td>NaN</td>\n",
       "      <td>NaN</td>\n",
       "      <td>NaN</td>\n",
       "      <td>NaN</td>\n",
       "    </tr>\n",
       "    <tr>\n",
       "      <th>1</th>\n",
       "      <td>2025-02-26</td>\n",
       "      <td>51.0</td>\n",
       "      <td>51.0</td>\n",
       "      <td>64.0</td>\n",
       "      <td>NaN</td>\n",
       "      <td>23340.0</td>\n",
       "      <td>3300.0</td>\n",
       "      <td>14280.0</td>\n",
       "      <td>5760.0</td>\n",
       "      <td>60.0</td>\n",
       "      <td>NaN</td>\n",
       "      <td>2926.0</td>\n",
       "      <td>46.0</td>\n",
       "      <td>97.0</td>\n",
       "      <td>6.483333</td>\n",
       "      <td>0.916667</td>\n",
       "      <td>3.966667</td>\n",
       "      <td>1.600000</td>\n",
       "      <td>0.016667</td>\n",
       "    </tr>\n",
       "    <tr>\n",
       "      <th>2</th>\n",
       "      <td>2025-02-27</td>\n",
       "      <td>50.0</td>\n",
       "      <td>23.0</td>\n",
       "      <td>68.0</td>\n",
       "      <td>NaN</td>\n",
       "      <td>31440.0</td>\n",
       "      <td>4380.0</td>\n",
       "      <td>23400.0</td>\n",
       "      <td>3660.0</td>\n",
       "      <td>4680.0</td>\n",
       "      <td>NaN</td>\n",
       "      <td>8521.0</td>\n",
       "      <td>43.0</td>\n",
       "      <td>96.0</td>\n",
       "      <td>8.733333</td>\n",
       "      <td>1.216667</td>\n",
       "      <td>6.500000</td>\n",
       "      <td>1.016667</td>\n",
       "      <td>1.300000</td>\n",
       "    </tr>\n",
       "    <tr>\n",
       "      <th>3</th>\n",
       "      <td>2025-02-28</td>\n",
       "      <td>70.0</td>\n",
       "      <td>71.0</td>\n",
       "      <td>59.0</td>\n",
       "      <td>NaN</td>\n",
       "      <td>38985.0</td>\n",
       "      <td>3120.0</td>\n",
       "      <td>23880.0</td>\n",
       "      <td>12000.0</td>\n",
       "      <td>540.0</td>\n",
       "      <td>NaN</td>\n",
       "      <td>17681.0</td>\n",
       "      <td>25.0</td>\n",
       "      <td>99.0</td>\n",
       "      <td>10.829167</td>\n",
       "      <td>0.866667</td>\n",
       "      <td>6.633333</td>\n",
       "      <td>3.333333</td>\n",
       "      <td>0.150000</td>\n",
       "    </tr>\n",
       "    <tr>\n",
       "      <th>...</th>\n",
       "      <td>...</td>\n",
       "      <td>...</td>\n",
       "      <td>...</td>\n",
       "      <td>...</td>\n",
       "      <td>...</td>\n",
       "      <td>...</td>\n",
       "      <td>...</td>\n",
       "      <td>...</td>\n",
       "      <td>...</td>\n",
       "      <td>...</td>\n",
       "      <td>...</td>\n",
       "      <td>...</td>\n",
       "      <td>...</td>\n",
       "      <td>...</td>\n",
       "      <td>...</td>\n",
       "      <td>...</td>\n",
       "      <td>...</td>\n",
       "      <td>...</td>\n",
       "      <td>...</td>\n",
       "    </tr>\n",
       "    <tr>\n",
       "      <th>120</th>\n",
       "      <td>2025-06-25</td>\n",
       "      <td>57.0</td>\n",
       "      <td>44.0</td>\n",
       "      <td>62.0</td>\n",
       "      <td>NaN</td>\n",
       "      <td>26520.0</td>\n",
       "      <td>3300.0</td>\n",
       "      <td>21060.0</td>\n",
       "      <td>2160.0</td>\n",
       "      <td>1020.0</td>\n",
       "      <td>NaN</td>\n",
       "      <td>15445.0</td>\n",
       "      <td>39.0</td>\n",
       "      <td>94.0</td>\n",
       "      <td>7.366667</td>\n",
       "      <td>0.916667</td>\n",
       "      <td>5.850000</td>\n",
       "      <td>0.600000</td>\n",
       "      <td>0.283333</td>\n",
       "    </tr>\n",
       "    <tr>\n",
       "      <th>121</th>\n",
       "      <td>2025-06-26</td>\n",
       "      <td>78.0</td>\n",
       "      <td>88.0</td>\n",
       "      <td>58.0</td>\n",
       "      <td>NaN</td>\n",
       "      <td>31320.0</td>\n",
       "      <td>5400.0</td>\n",
       "      <td>20580.0</td>\n",
       "      <td>5340.0</td>\n",
       "      <td>180.0</td>\n",
       "      <td>NaN</td>\n",
       "      <td>4009.0</td>\n",
       "      <td>42.0</td>\n",
       "      <td>97.0</td>\n",
       "      <td>8.700000</td>\n",
       "      <td>1.500000</td>\n",
       "      <td>5.716667</td>\n",
       "      <td>1.483333</td>\n",
       "      <td>0.050000</td>\n",
       "    </tr>\n",
       "    <tr>\n",
       "      <th>122</th>\n",
       "      <td>2025-06-27</td>\n",
       "      <td>61.0</td>\n",
       "      <td>54.0</td>\n",
       "      <td>61.0</td>\n",
       "      <td>NaN</td>\n",
       "      <td>29580.0</td>\n",
       "      <td>4560.0</td>\n",
       "      <td>19380.0</td>\n",
       "      <td>5640.0</td>\n",
       "      <td>60.0</td>\n",
       "      <td>NaN</td>\n",
       "      <td>14397.0</td>\n",
       "      <td>37.0</td>\n",
       "      <td>96.0</td>\n",
       "      <td>8.216667</td>\n",
       "      <td>1.266667</td>\n",
       "      <td>5.383333</td>\n",
       "      <td>1.566667</td>\n",
       "      <td>0.016667</td>\n",
       "    </tr>\n",
       "    <tr>\n",
       "      <th>123</th>\n",
       "      <td>2025-06-28</td>\n",
       "      <td>62.0</td>\n",
       "      <td>53.0</td>\n",
       "      <td>62.0</td>\n",
       "      <td>NaN</td>\n",
       "      <td>33420.0</td>\n",
       "      <td>3000.0</td>\n",
       "      <td>23700.0</td>\n",
       "      <td>6720.0</td>\n",
       "      <td>1500.0</td>\n",
       "      <td>NaN</td>\n",
       "      <td>NaN</td>\n",
       "      <td>33.0</td>\n",
       "      <td>97.0</td>\n",
       "      <td>9.283333</td>\n",
       "      <td>0.833333</td>\n",
       "      <td>6.583333</td>\n",
       "      <td>1.866667</td>\n",
       "      <td>0.416667</td>\n",
       "    </tr>\n",
       "    <tr>\n",
       "      <th>124</th>\n",
       "      <td>2025-06-29</td>\n",
       "      <td>NaN</td>\n",
       "      <td>NaN</td>\n",
       "      <td>NaN</td>\n",
       "      <td>NaN</td>\n",
       "      <td>33300.0</td>\n",
       "      <td>3660.0</td>\n",
       "      <td>23940.0</td>\n",
       "      <td>5700.0</td>\n",
       "      <td>120.0</td>\n",
       "      <td>NaN</td>\n",
       "      <td>NaN</td>\n",
       "      <td>NaN</td>\n",
       "      <td>NaN</td>\n",
       "      <td>9.250000</td>\n",
       "      <td>1.016667</td>\n",
       "      <td>6.650000</td>\n",
       "      <td>1.583333</td>\n",
       "      <td>0.033333</td>\n",
       "    </tr>\n",
       "  </tbody>\n",
       "</table>\n",
       "<p>126 rows × 19 columns</p>\n",
       "</div>"
      ],
      "text/plain": [
       "          date  body_charged  body_drained  resting_hr  sleep_score  \\\n",
       "125 2025-02-24           NaN           NaN         NaN          NaN   \n",
       "0   2025-02-25           0.0          13.0        75.0          NaN   \n",
       "1   2025-02-26          51.0          51.0        64.0          NaN   \n",
       "2   2025-02-27          50.0          23.0        68.0          NaN   \n",
       "3   2025-02-28          70.0          71.0        59.0          NaN   \n",
       "..         ...           ...           ...         ...          ...   \n",
       "120 2025-06-25          57.0          44.0        62.0          NaN   \n",
       "121 2025-06-26          78.0          88.0        58.0          NaN   \n",
       "122 2025-06-27          61.0          54.0        61.0          NaN   \n",
       "123 2025-06-28          62.0          53.0        62.0          NaN   \n",
       "124 2025-06-29           NaN           NaN         NaN          NaN   \n",
       "\n",
       "     total_sleep_s  deep_sleep_s  light_sleep_s  rem_sleep_s  awake_s  \\\n",
       "125            NaN           NaN            NaN          NaN      NaN   \n",
       "0              NaN           NaN            NaN          NaN      NaN   \n",
       "1          23340.0        3300.0        14280.0       5760.0     60.0   \n",
       "2          31440.0        4380.0        23400.0       3660.0   4680.0   \n",
       "3          38985.0        3120.0        23880.0      12000.0    540.0   \n",
       "..             ...           ...            ...          ...      ...   \n",
       "120        26520.0        3300.0        21060.0       2160.0   1020.0   \n",
       "121        31320.0        5400.0        20580.0       5340.0    180.0   \n",
       "122        29580.0        4560.0        19380.0       5640.0     60.0   \n",
       "123        33420.0        3000.0        23700.0       6720.0   1500.0   \n",
       "124        33300.0        3660.0        23940.0       5700.0    120.0   \n",
       "\n",
       "     restless_moments    steps  avg_stress  max_stress  total_hleep_h  \\\n",
       "125               NaN    525.0         NaN         NaN            NaN   \n",
       "0                 NaN   9953.0        54.0        96.0            NaN   \n",
       "1                 NaN   2926.0        46.0        97.0       6.483333   \n",
       "2                 NaN   8521.0        43.0        96.0       8.733333   \n",
       "3                 NaN  17681.0        25.0        99.0      10.829167   \n",
       "..                ...      ...         ...         ...            ...   \n",
       "120               NaN  15445.0        39.0        94.0       7.366667   \n",
       "121               NaN   4009.0        42.0        97.0       8.700000   \n",
       "122               NaN  14397.0        37.0        96.0       8.216667   \n",
       "123               NaN      NaN        33.0        97.0       9.283333   \n",
       "124               NaN      NaN         NaN         NaN       9.250000   \n",
       "\n",
       "     deep_hleep_h  light_hleep_h  rem_hleep_h   awake_h  \n",
       "125           NaN            NaN          NaN       NaN  \n",
       "0             NaN            NaN          NaN       NaN  \n",
       "1        0.916667       3.966667     1.600000  0.016667  \n",
       "2        1.216667       6.500000     1.016667  1.300000  \n",
       "3        0.866667       6.633333     3.333333  0.150000  \n",
       "..            ...            ...          ...       ...  \n",
       "120      0.916667       5.850000     0.600000  0.283333  \n",
       "121      1.500000       5.716667     1.483333  0.050000  \n",
       "122      1.266667       5.383333     1.566667  0.016667  \n",
       "123      0.833333       6.583333     1.866667  0.416667  \n",
       "124      1.016667       6.650000     1.583333  0.033333  \n",
       "\n",
       "[126 rows x 19 columns]"
      ]
     },
     "execution_count": 4,
     "metadata": {},
     "output_type": "execute_result"
    }
   ],
   "source": [
    "df"
   ]
  },
  {
   "cell_type": "code",
   "execution_count": null,
   "metadata": {},
   "outputs": [],
   "source": []
  }
 ],
 "metadata": {
  "kernelspec": {
   "display_name": "Python 3",
   "language": "python",
   "name": "python3"
  },
  "language_info": {
   "codemirror_mode": {
    "name": "ipython",
    "version": 3
   },
   "file_extension": ".py",
   "mimetype": "text/x-python",
   "name": "python",
   "nbconvert_exporter": "python",
   "pygments_lexer": "ipython3",
   "version": "3.13.2"
  }
 },
 "nbformat": 4,
 "nbformat_minor": 2
}
