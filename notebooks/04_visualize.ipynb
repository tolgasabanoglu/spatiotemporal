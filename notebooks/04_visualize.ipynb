{
 "cells": [
  {
   "cell_type": "code",
   "execution_count": 67,
   "metadata": {},
   "outputs": [
    {
     "name": "stdout",
     "output_type": "stream",
     "text": [
      "🔐 Logging into Garmin Connect...\n",
      "\n",
      "📆 Fetching Garmin data from 2025-02-25 to 2025-06-29\n",
      "\n",
      "\n",
      "📅 2025-02-25\n",
      "📦 Fetching steps...\n",
      "✅ Saved steps → steps_2025-02-25.json\n",
      "📦 Fetching sleep...\n",
      "✅ Saved sleep → sleep_2025-02-25.json\n",
      "📦 Fetching stress...\n",
      "✅ Saved stress → stress_2025-02-25.json\n",
      "📦 Fetching body_battery...\n",
      "✅ Saved body_battery → body_battery_2025-02-25.json\n",
      "📦 Fetching heart_rate...\n",
      "✅ Saved heart_rate → heart_rate_2025-02-25.json\n",
      "\n",
      "📅 2025-02-26\n",
      "📦 Fetching steps...\n",
      "✅ Saved steps → steps_2025-02-26.json\n",
      "📦 Fetching sleep...\n",
      "✅ Saved sleep → sleep_2025-02-26.json\n",
      "📦 Fetching stress...\n",
      "✅ Saved stress → stress_2025-02-26.json\n",
      "📦 Fetching body_battery...\n",
      "✅ Saved body_battery → body_battery_2025-02-26.json\n",
      "📦 Fetching heart_rate...\n",
      "✅ Saved heart_rate → heart_rate_2025-02-26.json\n",
      "\n",
      "📅 2025-02-27\n",
      "📦 Fetching steps...\n",
      "✅ Saved steps → steps_2025-02-27.json\n",
      "📦 Fetching sleep...\n",
      "✅ Saved sleep → sleep_2025-02-27.json\n",
      "📦 Fetching stress...\n",
      "✅ Saved stress → stress_2025-02-27.json\n",
      "📦 Fetching body_battery...\n",
      "✅ Saved body_battery → body_battery_2025-02-27.json\n",
      "📦 Fetching heart_rate...\n",
      "✅ Saved heart_rate → heart_rate_2025-02-27.json\n",
      "\n",
      "📅 2025-02-28\n",
      "📦 Fetching steps...\n",
      "✅ Saved steps → steps_2025-02-28.json\n",
      "📦 Fetching sleep...\n",
      "✅ Saved sleep → sleep_2025-02-28.json\n",
      "📦 Fetching stress...\n",
      "✅ Saved stress → stress_2025-02-28.json\n",
      "📦 Fetching body_battery...\n",
      "✅ Saved body_battery → body_battery_2025-02-28.json\n",
      "📦 Fetching heart_rate...\n",
      "✅ Saved heart_rate → heart_rate_2025-02-28.json\n",
      "\n",
      "📅 2025-03-01\n",
      "📦 Fetching steps...\n",
      "✅ Saved steps → steps_2025-03-01.json\n",
      "📦 Fetching sleep...\n",
      "✅ Saved sleep → sleep_2025-03-01.json\n",
      "📦 Fetching stress...\n",
      "✅ Saved stress → stress_2025-03-01.json\n",
      "📦 Fetching body_battery...\n",
      "✅ Saved body_battery → body_battery_2025-03-01.json\n",
      "📦 Fetching heart_rate...\n",
      "✅ Saved heart_rate → heart_rate_2025-03-01.json\n",
      "\n",
      "📅 2025-03-02\n",
      "📦 Fetching steps...\n",
      "✅ Saved steps → steps_2025-03-02.json\n",
      "📦 Fetching sleep...\n",
      "✅ Saved sleep → sleep_2025-03-02.json\n",
      "📦 Fetching stress...\n",
      "✅ Saved stress → stress_2025-03-02.json\n",
      "📦 Fetching body_battery...\n",
      "✅ Saved body_battery → body_battery_2025-03-02.json\n",
      "📦 Fetching heart_rate...\n",
      "✅ Saved heart_rate → heart_rate_2025-03-02.json\n",
      "\n",
      "📅 2025-03-03\n",
      "📦 Fetching steps...\n",
      "✅ Saved steps → steps_2025-03-03.json\n",
      "📦 Fetching sleep...\n",
      "✅ Saved sleep → sleep_2025-03-03.json\n",
      "📦 Fetching stress...\n",
      "✅ Saved stress → stress_2025-03-03.json\n",
      "📦 Fetching body_battery...\n",
      "✅ Saved body_battery → body_battery_2025-03-03.json\n",
      "📦 Fetching heart_rate...\n",
      "✅ Saved heart_rate → heart_rate_2025-03-03.json\n",
      "\n",
      "📅 2025-03-04\n",
      "📦 Fetching steps...\n",
      "✅ Saved steps → steps_2025-03-04.json\n",
      "📦 Fetching sleep...\n",
      "✅ Saved sleep → sleep_2025-03-04.json\n",
      "📦 Fetching stress...\n",
      "✅ Saved stress → stress_2025-03-04.json\n",
      "📦 Fetching body_battery...\n",
      "✅ Saved body_battery → body_battery_2025-03-04.json\n",
      "📦 Fetching heart_rate...\n",
      "✅ Saved heart_rate → heart_rate_2025-03-04.json\n",
      "\n",
      "📅 2025-03-05\n",
      "📦 Fetching steps...\n",
      "✅ Saved steps → steps_2025-03-05.json\n",
      "📦 Fetching sleep...\n",
      "✅ Saved sleep → sleep_2025-03-05.json\n",
      "📦 Fetching stress...\n",
      "✅ Saved stress → stress_2025-03-05.json\n",
      "📦 Fetching body_battery...\n",
      "✅ Saved body_battery → body_battery_2025-03-05.json\n",
      "📦 Fetching heart_rate...\n",
      "✅ Saved heart_rate → heart_rate_2025-03-05.json\n",
      "\n",
      "📅 2025-03-06\n",
      "📦 Fetching steps...\n",
      "✅ Saved steps → steps_2025-03-06.json\n",
      "📦 Fetching sleep...\n",
      "✅ Saved sleep → sleep_2025-03-06.json\n",
      "📦 Fetching stress...\n",
      "✅ Saved stress → stress_2025-03-06.json\n",
      "📦 Fetching body_battery...\n",
      "✅ Saved body_battery → body_battery_2025-03-06.json\n",
      "📦 Fetching heart_rate...\n",
      "✅ Saved heart_rate → heart_rate_2025-03-06.json\n",
      "\n",
      "📅 2025-03-07\n",
      "📦 Fetching steps...\n",
      "✅ Saved steps → steps_2025-03-07.json\n",
      "📦 Fetching sleep...\n",
      "✅ Saved sleep → sleep_2025-03-07.json\n",
      "📦 Fetching stress...\n",
      "✅ Saved stress → stress_2025-03-07.json\n",
      "📦 Fetching body_battery...\n",
      "✅ Saved body_battery → body_battery_2025-03-07.json\n",
      "📦 Fetching heart_rate...\n",
      "✅ Saved heart_rate → heart_rate_2025-03-07.json\n",
      "\n",
      "📅 2025-03-08\n",
      "📦 Fetching steps...\n",
      "✅ Saved steps → steps_2025-03-08.json\n",
      "📦 Fetching sleep...\n",
      "✅ Saved sleep → sleep_2025-03-08.json\n",
      "📦 Fetching stress...\n",
      "✅ Saved stress → stress_2025-03-08.json\n",
      "📦 Fetching body_battery...\n",
      "✅ Saved body_battery → body_battery_2025-03-08.json\n",
      "📦 Fetching heart_rate...\n",
      "✅ Saved heart_rate → heart_rate_2025-03-08.json\n",
      "\n",
      "📅 2025-03-09\n",
      "📦 Fetching steps...\n",
      "✅ Saved steps → steps_2025-03-09.json\n",
      "📦 Fetching sleep...\n",
      "✅ Saved sleep → sleep_2025-03-09.json\n",
      "📦 Fetching stress...\n",
      "✅ Saved stress → stress_2025-03-09.json\n",
      "📦 Fetching body_battery...\n",
      "✅ Saved body_battery → body_battery_2025-03-09.json\n",
      "📦 Fetching heart_rate...\n",
      "✅ Saved heart_rate → heart_rate_2025-03-09.json\n",
      "\n",
      "📅 2025-03-10\n",
      "📦 Fetching steps...\n",
      "✅ Saved steps → steps_2025-03-10.json\n",
      "📦 Fetching sleep...\n",
      "✅ Saved sleep → sleep_2025-03-10.json\n",
      "📦 Fetching stress...\n",
      "✅ Saved stress → stress_2025-03-10.json\n",
      "📦 Fetching body_battery...\n",
      "✅ Saved body_battery → body_battery_2025-03-10.json\n",
      "📦 Fetching heart_rate...\n",
      "✅ Saved heart_rate → heart_rate_2025-03-10.json\n",
      "\n",
      "📅 2025-03-11\n",
      "📦 Fetching steps...\n",
      "✅ Saved steps → steps_2025-03-11.json\n",
      "📦 Fetching sleep...\n",
      "✅ Saved sleep → sleep_2025-03-11.json\n",
      "📦 Fetching stress...\n",
      "✅ Saved stress → stress_2025-03-11.json\n",
      "📦 Fetching body_battery...\n",
      "✅ Saved body_battery → body_battery_2025-03-11.json\n",
      "📦 Fetching heart_rate...\n",
      "✅ Saved heart_rate → heart_rate_2025-03-11.json\n",
      "\n",
      "📅 2025-03-12\n",
      "📦 Fetching steps...\n",
      "✅ Saved steps → steps_2025-03-12.json\n",
      "📦 Fetching sleep...\n",
      "✅ Saved sleep → sleep_2025-03-12.json\n",
      "📦 Fetching stress...\n",
      "✅ Saved stress → stress_2025-03-12.json\n",
      "📦 Fetching body_battery...\n",
      "✅ Saved body_battery → body_battery_2025-03-12.json\n",
      "📦 Fetching heart_rate...\n",
      "✅ Saved heart_rate → heart_rate_2025-03-12.json\n",
      "\n",
      "📅 2025-03-13\n",
      "📦 Fetching steps...\n",
      "✅ Saved steps → steps_2025-03-13.json\n",
      "📦 Fetching sleep...\n",
      "✅ Saved sleep → sleep_2025-03-13.json\n",
      "📦 Fetching stress...\n",
      "✅ Saved stress → stress_2025-03-13.json\n",
      "📦 Fetching body_battery...\n",
      "✅ Saved body_battery → body_battery_2025-03-13.json\n",
      "📦 Fetching heart_rate...\n",
      "✅ Saved heart_rate → heart_rate_2025-03-13.json\n",
      "\n",
      "📅 2025-03-14\n",
      "📦 Fetching steps...\n",
      "✅ Saved steps → steps_2025-03-14.json\n",
      "📦 Fetching sleep...\n",
      "✅ Saved sleep → sleep_2025-03-14.json\n",
      "📦 Fetching stress...\n",
      "✅ Saved stress → stress_2025-03-14.json\n",
      "📦 Fetching body_battery...\n",
      "✅ Saved body_battery → body_battery_2025-03-14.json\n",
      "📦 Fetching heart_rate...\n",
      "✅ Saved heart_rate → heart_rate_2025-03-14.json\n",
      "\n",
      "📅 2025-03-15\n",
      "📦 Fetching steps...\n",
      "✅ Saved steps → steps_2025-03-15.json\n",
      "📦 Fetching sleep...\n",
      "✅ Saved sleep → sleep_2025-03-15.json\n",
      "📦 Fetching stress...\n",
      "✅ Saved stress → stress_2025-03-15.json\n",
      "📦 Fetching body_battery...\n",
      "✅ Saved body_battery → body_battery_2025-03-15.json\n",
      "📦 Fetching heart_rate...\n",
      "✅ Saved heart_rate → heart_rate_2025-03-15.json\n",
      "\n",
      "📅 2025-03-16\n",
      "📦 Fetching steps...\n",
      "✅ Saved steps → steps_2025-03-16.json\n",
      "📦 Fetching sleep...\n",
      "✅ Saved sleep → sleep_2025-03-16.json\n",
      "📦 Fetching stress...\n",
      "✅ Saved stress → stress_2025-03-16.json\n",
      "📦 Fetching body_battery...\n",
      "✅ Saved body_battery → body_battery_2025-03-16.json\n",
      "📦 Fetching heart_rate...\n",
      "✅ Saved heart_rate → heart_rate_2025-03-16.json\n",
      "\n",
      "📅 2025-03-17\n",
      "📦 Fetching steps...\n",
      "✅ Saved steps → steps_2025-03-17.json\n",
      "📦 Fetching sleep...\n",
      "✅ Saved sleep → sleep_2025-03-17.json\n",
      "📦 Fetching stress...\n",
      "✅ Saved stress → stress_2025-03-17.json\n",
      "📦 Fetching body_battery...\n",
      "✅ Saved body_battery → body_battery_2025-03-17.json\n",
      "📦 Fetching heart_rate...\n",
      "✅ Saved heart_rate → heart_rate_2025-03-17.json\n",
      "\n",
      "📅 2025-03-18\n",
      "📦 Fetching steps...\n",
      "✅ Saved steps → steps_2025-03-18.json\n",
      "📦 Fetching sleep...\n",
      "✅ Saved sleep → sleep_2025-03-18.json\n",
      "📦 Fetching stress...\n",
      "✅ Saved stress → stress_2025-03-18.json\n",
      "📦 Fetching body_battery...\n",
      "✅ Saved body_battery → body_battery_2025-03-18.json\n",
      "📦 Fetching heart_rate...\n",
      "✅ Saved heart_rate → heart_rate_2025-03-18.json\n",
      "\n",
      "📅 2025-03-19\n",
      "📦 Fetching steps...\n",
      "✅ Saved steps → steps_2025-03-19.json\n",
      "📦 Fetching sleep...\n",
      "✅ Saved sleep → sleep_2025-03-19.json\n",
      "📦 Fetching stress...\n",
      "✅ Saved stress → stress_2025-03-19.json\n",
      "📦 Fetching body_battery...\n",
      "✅ Saved body_battery → body_battery_2025-03-19.json\n",
      "📦 Fetching heart_rate...\n",
      "✅ Saved heart_rate → heart_rate_2025-03-19.json\n",
      "\n",
      "📅 2025-03-20\n",
      "📦 Fetching steps...\n",
      "✅ Saved steps → steps_2025-03-20.json\n",
      "📦 Fetching sleep...\n",
      "✅ Saved sleep → sleep_2025-03-20.json\n",
      "📦 Fetching stress...\n",
      "✅ Saved stress → stress_2025-03-20.json\n",
      "📦 Fetching body_battery...\n",
      "✅ Saved body_battery → body_battery_2025-03-20.json\n",
      "📦 Fetching heart_rate...\n",
      "✅ Saved heart_rate → heart_rate_2025-03-20.json\n",
      "\n",
      "📅 2025-03-21\n",
      "📦 Fetching steps...\n",
      "✅ Saved steps → steps_2025-03-21.json\n",
      "📦 Fetching sleep...\n",
      "✅ Saved sleep → sleep_2025-03-21.json\n",
      "📦 Fetching stress...\n",
      "✅ Saved stress → stress_2025-03-21.json\n",
      "📦 Fetching body_battery...\n",
      "✅ Saved body_battery → body_battery_2025-03-21.json\n",
      "📦 Fetching heart_rate...\n",
      "✅ Saved heart_rate → heart_rate_2025-03-21.json\n",
      "\n",
      "📅 2025-03-22\n",
      "📦 Fetching steps...\n",
      "✅ Saved steps → steps_2025-03-22.json\n",
      "📦 Fetching sleep...\n",
      "✅ Saved sleep → sleep_2025-03-22.json\n",
      "📦 Fetching stress...\n",
      "✅ Saved stress → stress_2025-03-22.json\n",
      "📦 Fetching body_battery...\n",
      "✅ Saved body_battery → body_battery_2025-03-22.json\n",
      "📦 Fetching heart_rate...\n",
      "✅ Saved heart_rate → heart_rate_2025-03-22.json\n",
      "\n",
      "📅 2025-03-23\n",
      "📦 Fetching steps...\n",
      "✅ Saved steps → steps_2025-03-23.json\n",
      "📦 Fetching sleep...\n",
      "✅ Saved sleep → sleep_2025-03-23.json\n",
      "📦 Fetching stress...\n",
      "✅ Saved stress → stress_2025-03-23.json\n",
      "📦 Fetching body_battery...\n",
      "✅ Saved body_battery → body_battery_2025-03-23.json\n",
      "📦 Fetching heart_rate...\n",
      "✅ Saved heart_rate → heart_rate_2025-03-23.json\n",
      "\n",
      "📅 2025-03-24\n",
      "📦 Fetching steps...\n",
      "✅ Saved steps → steps_2025-03-24.json\n",
      "📦 Fetching sleep...\n",
      "✅ Saved sleep → sleep_2025-03-24.json\n",
      "📦 Fetching stress...\n",
      "✅ Saved stress → stress_2025-03-24.json\n",
      "📦 Fetching body_battery...\n",
      "✅ Saved body_battery → body_battery_2025-03-24.json\n",
      "📦 Fetching heart_rate...\n",
      "✅ Saved heart_rate → heart_rate_2025-03-24.json\n",
      "\n",
      "📅 2025-03-25\n",
      "📦 Fetching steps...\n",
      "✅ Saved steps → steps_2025-03-25.json\n",
      "📦 Fetching sleep...\n",
      "✅ Saved sleep → sleep_2025-03-25.json\n",
      "📦 Fetching stress...\n",
      "✅ Saved stress → stress_2025-03-25.json\n",
      "📦 Fetching body_battery...\n",
      "✅ Saved body_battery → body_battery_2025-03-25.json\n",
      "📦 Fetching heart_rate...\n",
      "✅ Saved heart_rate → heart_rate_2025-03-25.json\n",
      "\n",
      "📅 2025-03-26\n",
      "📦 Fetching steps...\n",
      "✅ Saved steps → steps_2025-03-26.json\n",
      "📦 Fetching sleep...\n",
      "✅ Saved sleep → sleep_2025-03-26.json\n",
      "📦 Fetching stress...\n",
      "✅ Saved stress → stress_2025-03-26.json\n",
      "📦 Fetching body_battery...\n",
      "✅ Saved body_battery → body_battery_2025-03-26.json\n",
      "📦 Fetching heart_rate...\n",
      "✅ Saved heart_rate → heart_rate_2025-03-26.json\n",
      "\n",
      "📅 2025-03-27\n",
      "📦 Fetching steps...\n",
      "✅ Saved steps → steps_2025-03-27.json\n",
      "📦 Fetching sleep...\n",
      "✅ Saved sleep → sleep_2025-03-27.json\n",
      "📦 Fetching stress...\n",
      "✅ Saved stress → stress_2025-03-27.json\n",
      "📦 Fetching body_battery...\n",
      "✅ Saved body_battery → body_battery_2025-03-27.json\n",
      "📦 Fetching heart_rate...\n",
      "✅ Saved heart_rate → heart_rate_2025-03-27.json\n",
      "\n",
      "📅 2025-03-28\n",
      "📦 Fetching steps...\n",
      "✅ Saved steps → steps_2025-03-28.json\n",
      "📦 Fetching sleep...\n",
      "✅ Saved sleep → sleep_2025-03-28.json\n",
      "📦 Fetching stress...\n",
      "✅ Saved stress → stress_2025-03-28.json\n",
      "📦 Fetching body_battery...\n",
      "✅ Saved body_battery → body_battery_2025-03-28.json\n",
      "📦 Fetching heart_rate...\n",
      "✅ Saved heart_rate → heart_rate_2025-03-28.json\n",
      "\n",
      "📅 2025-03-29\n",
      "📦 Fetching steps...\n",
      "✅ Saved steps → steps_2025-03-29.json\n",
      "📦 Fetching sleep...\n",
      "✅ Saved sleep → sleep_2025-03-29.json\n",
      "📦 Fetching stress...\n",
      "✅ Saved stress → stress_2025-03-29.json\n",
      "📦 Fetching body_battery...\n",
      "✅ Saved body_battery → body_battery_2025-03-29.json\n",
      "📦 Fetching heart_rate...\n",
      "✅ Saved heart_rate → heart_rate_2025-03-29.json\n",
      "\n",
      "📅 2025-03-30\n",
      "📦 Fetching steps...\n",
      "✅ Saved steps → steps_2025-03-30.json\n",
      "📦 Fetching sleep...\n",
      "✅ Saved sleep → sleep_2025-03-30.json\n",
      "📦 Fetching stress...\n",
      "✅ Saved stress → stress_2025-03-30.json\n",
      "📦 Fetching body_battery...\n",
      "✅ Saved body_battery → body_battery_2025-03-30.json\n",
      "📦 Fetching heart_rate...\n",
      "✅ Saved heart_rate → heart_rate_2025-03-30.json\n",
      "\n",
      "📅 2025-03-31\n",
      "📦 Fetching steps...\n",
      "✅ Saved steps → steps_2025-03-31.json\n",
      "📦 Fetching sleep...\n",
      "✅ Saved sleep → sleep_2025-03-31.json\n",
      "📦 Fetching stress...\n",
      "✅ Saved stress → stress_2025-03-31.json\n",
      "📦 Fetching body_battery...\n",
      "✅ Saved body_battery → body_battery_2025-03-31.json\n",
      "📦 Fetching heart_rate...\n",
      "✅ Saved heart_rate → heart_rate_2025-03-31.json\n",
      "\n",
      "📅 2025-04-01\n",
      "📦 Fetching steps...\n",
      "✅ Saved steps → steps_2025-04-01.json\n",
      "📦 Fetching sleep...\n",
      "✅ Saved sleep → sleep_2025-04-01.json\n",
      "📦 Fetching stress...\n",
      "✅ Saved stress → stress_2025-04-01.json\n",
      "📦 Fetching body_battery...\n",
      "✅ Saved body_battery → body_battery_2025-04-01.json\n",
      "📦 Fetching heart_rate...\n",
      "✅ Saved heart_rate → heart_rate_2025-04-01.json\n",
      "\n",
      "📅 2025-04-02\n",
      "📦 Fetching steps...\n",
      "✅ Saved steps → steps_2025-04-02.json\n",
      "📦 Fetching sleep...\n",
      "✅ Saved sleep → sleep_2025-04-02.json\n",
      "📦 Fetching stress...\n",
      "✅ Saved stress → stress_2025-04-02.json\n",
      "📦 Fetching body_battery...\n",
      "✅ Saved body_battery → body_battery_2025-04-02.json\n",
      "📦 Fetching heart_rate...\n",
      "✅ Saved heart_rate → heart_rate_2025-04-02.json\n",
      "\n",
      "📅 2025-04-03\n",
      "📦 Fetching steps...\n",
      "✅ Saved steps → steps_2025-04-03.json\n",
      "📦 Fetching sleep...\n",
      "✅ Saved sleep → sleep_2025-04-03.json\n",
      "📦 Fetching stress...\n",
      "✅ Saved stress → stress_2025-04-03.json\n",
      "📦 Fetching body_battery...\n",
      "✅ Saved body_battery → body_battery_2025-04-03.json\n",
      "📦 Fetching heart_rate...\n",
      "✅ Saved heart_rate → heart_rate_2025-04-03.json\n",
      "\n",
      "📅 2025-04-04\n",
      "📦 Fetching steps...\n",
      "✅ Saved steps → steps_2025-04-04.json\n",
      "📦 Fetching sleep...\n",
      "✅ Saved sleep → sleep_2025-04-04.json\n",
      "📦 Fetching stress...\n",
      "✅ Saved stress → stress_2025-04-04.json\n",
      "📦 Fetching body_battery...\n",
      "✅ Saved body_battery → body_battery_2025-04-04.json\n",
      "📦 Fetching heart_rate...\n",
      "✅ Saved heart_rate → heart_rate_2025-04-04.json\n",
      "\n",
      "📅 2025-04-05\n",
      "📦 Fetching steps...\n",
      "✅ Saved steps → steps_2025-04-05.json\n",
      "📦 Fetching sleep...\n",
      "✅ Saved sleep → sleep_2025-04-05.json\n",
      "📦 Fetching stress...\n",
      "✅ Saved stress → stress_2025-04-05.json\n",
      "📦 Fetching body_battery...\n",
      "✅ Saved body_battery → body_battery_2025-04-05.json\n",
      "📦 Fetching heart_rate...\n",
      "✅ Saved heart_rate → heart_rate_2025-04-05.json\n",
      "\n",
      "📅 2025-04-06\n",
      "📦 Fetching steps...\n",
      "✅ Saved steps → steps_2025-04-06.json\n",
      "📦 Fetching sleep...\n",
      "✅ Saved sleep → sleep_2025-04-06.json\n",
      "📦 Fetching stress...\n",
      "✅ Saved stress → stress_2025-04-06.json\n",
      "📦 Fetching body_battery...\n",
      "✅ Saved body_battery → body_battery_2025-04-06.json\n",
      "📦 Fetching heart_rate...\n",
      "✅ Saved heart_rate → heart_rate_2025-04-06.json\n",
      "\n",
      "📅 2025-04-07\n",
      "📦 Fetching steps...\n",
      "✅ Saved steps → steps_2025-04-07.json\n",
      "📦 Fetching sleep...\n",
      "✅ Saved sleep → sleep_2025-04-07.json\n",
      "📦 Fetching stress...\n",
      "✅ Saved stress → stress_2025-04-07.json\n",
      "📦 Fetching body_battery...\n",
      "✅ Saved body_battery → body_battery_2025-04-07.json\n",
      "📦 Fetching heart_rate...\n",
      "✅ Saved heart_rate → heart_rate_2025-04-07.json\n",
      "\n",
      "📅 2025-04-08\n",
      "📦 Fetching steps...\n",
      "✅ Saved steps → steps_2025-04-08.json\n",
      "📦 Fetching sleep...\n",
      "✅ Saved sleep → sleep_2025-04-08.json\n",
      "📦 Fetching stress...\n",
      "✅ Saved stress → stress_2025-04-08.json\n",
      "📦 Fetching body_battery...\n",
      "✅ Saved body_battery → body_battery_2025-04-08.json\n",
      "📦 Fetching heart_rate...\n",
      "✅ Saved heart_rate → heart_rate_2025-04-08.json\n",
      "\n",
      "📅 2025-04-09\n",
      "📦 Fetching steps...\n",
      "✅ Saved steps → steps_2025-04-09.json\n",
      "📦 Fetching sleep...\n",
      "✅ Saved sleep → sleep_2025-04-09.json\n",
      "📦 Fetching stress...\n",
      "✅ Saved stress → stress_2025-04-09.json\n",
      "📦 Fetching body_battery...\n",
      "✅ Saved body_battery → body_battery_2025-04-09.json\n",
      "📦 Fetching heart_rate...\n",
      "✅ Saved heart_rate → heart_rate_2025-04-09.json\n",
      "\n",
      "📅 2025-04-10\n",
      "📦 Fetching steps...\n",
      "✅ Saved steps → steps_2025-04-10.json\n",
      "📦 Fetching sleep...\n",
      "✅ Saved sleep → sleep_2025-04-10.json\n",
      "📦 Fetching stress...\n",
      "✅ Saved stress → stress_2025-04-10.json\n",
      "📦 Fetching body_battery...\n",
      "✅ Saved body_battery → body_battery_2025-04-10.json\n",
      "📦 Fetching heart_rate...\n",
      "✅ Saved heart_rate → heart_rate_2025-04-10.json\n",
      "\n",
      "📅 2025-04-11\n",
      "📦 Fetching steps...\n",
      "✅ Saved steps → steps_2025-04-11.json\n",
      "📦 Fetching sleep...\n",
      "✅ Saved sleep → sleep_2025-04-11.json\n",
      "📦 Fetching stress...\n",
      "✅ Saved stress → stress_2025-04-11.json\n",
      "📦 Fetching body_battery...\n",
      "✅ Saved body_battery → body_battery_2025-04-11.json\n",
      "📦 Fetching heart_rate...\n",
      "✅ Saved heart_rate → heart_rate_2025-04-11.json\n",
      "\n",
      "📅 2025-04-12\n",
      "📦 Fetching steps...\n",
      "✅ Saved steps → steps_2025-04-12.json\n",
      "📦 Fetching sleep...\n",
      "✅ Saved sleep → sleep_2025-04-12.json\n",
      "📦 Fetching stress...\n",
      "✅ Saved stress → stress_2025-04-12.json\n",
      "📦 Fetching body_battery...\n",
      "✅ Saved body_battery → body_battery_2025-04-12.json\n",
      "📦 Fetching heart_rate...\n",
      "✅ Saved heart_rate → heart_rate_2025-04-12.json\n",
      "\n",
      "📅 2025-04-13\n",
      "📦 Fetching steps...\n",
      "✅ Saved steps → steps_2025-04-13.json\n",
      "📦 Fetching sleep...\n",
      "✅ Saved sleep → sleep_2025-04-13.json\n",
      "📦 Fetching stress...\n",
      "✅ Saved stress → stress_2025-04-13.json\n",
      "📦 Fetching body_battery...\n",
      "✅ Saved body_battery → body_battery_2025-04-13.json\n",
      "📦 Fetching heart_rate...\n",
      "✅ Saved heart_rate → heart_rate_2025-04-13.json\n",
      "\n",
      "📅 2025-04-14\n",
      "📦 Fetching steps...\n",
      "✅ Saved steps → steps_2025-04-14.json\n",
      "📦 Fetching sleep...\n",
      "✅ Saved sleep → sleep_2025-04-14.json\n",
      "📦 Fetching stress...\n",
      "✅ Saved stress → stress_2025-04-14.json\n",
      "📦 Fetching body_battery...\n",
      "✅ Saved body_battery → body_battery_2025-04-14.json\n",
      "📦 Fetching heart_rate...\n",
      "✅ Saved heart_rate → heart_rate_2025-04-14.json\n",
      "\n",
      "📅 2025-04-15\n",
      "📦 Fetching steps...\n",
      "✅ Saved steps → steps_2025-04-15.json\n",
      "📦 Fetching sleep...\n",
      "✅ Saved sleep → sleep_2025-04-15.json\n",
      "📦 Fetching stress...\n",
      "✅ Saved stress → stress_2025-04-15.json\n",
      "📦 Fetching body_battery...\n",
      "✅ Saved body_battery → body_battery_2025-04-15.json\n",
      "📦 Fetching heart_rate...\n",
      "✅ Saved heart_rate → heart_rate_2025-04-15.json\n",
      "\n",
      "📅 2025-04-16\n",
      "📦 Fetching steps...\n",
      "✅ Saved steps → steps_2025-04-16.json\n",
      "📦 Fetching sleep...\n",
      "✅ Saved sleep → sleep_2025-04-16.json\n",
      "📦 Fetching stress...\n",
      "✅ Saved stress → stress_2025-04-16.json\n",
      "📦 Fetching body_battery...\n",
      "✅ Saved body_battery → body_battery_2025-04-16.json\n",
      "📦 Fetching heart_rate...\n",
      "✅ Saved heart_rate → heart_rate_2025-04-16.json\n",
      "\n",
      "📅 2025-04-17\n",
      "📦 Fetching steps...\n",
      "✅ Saved steps → steps_2025-04-17.json\n",
      "📦 Fetching sleep...\n",
      "✅ Saved sleep → sleep_2025-04-17.json\n",
      "📦 Fetching stress...\n",
      "✅ Saved stress → stress_2025-04-17.json\n",
      "📦 Fetching body_battery...\n",
      "✅ Saved body_battery → body_battery_2025-04-17.json\n",
      "📦 Fetching heart_rate...\n",
      "✅ Saved heart_rate → heart_rate_2025-04-17.json\n",
      "\n",
      "📅 2025-04-18\n",
      "📦 Fetching steps...\n",
      "✅ Saved steps → steps_2025-04-18.json\n",
      "📦 Fetching sleep...\n",
      "✅ Saved sleep → sleep_2025-04-18.json\n",
      "📦 Fetching stress...\n",
      "✅ Saved stress → stress_2025-04-18.json\n",
      "📦 Fetching body_battery...\n",
      "✅ Saved body_battery → body_battery_2025-04-18.json\n",
      "📦 Fetching heart_rate...\n",
      "✅ Saved heart_rate → heart_rate_2025-04-18.json\n",
      "\n",
      "📅 2025-04-19\n",
      "📦 Fetching steps...\n",
      "✅ Saved steps → steps_2025-04-19.json\n",
      "📦 Fetching sleep...\n",
      "✅ Saved sleep → sleep_2025-04-19.json\n",
      "📦 Fetching stress...\n",
      "✅ Saved stress → stress_2025-04-19.json\n",
      "📦 Fetching body_battery...\n",
      "✅ Saved body_battery → body_battery_2025-04-19.json\n",
      "📦 Fetching heart_rate...\n",
      "✅ Saved heart_rate → heart_rate_2025-04-19.json\n",
      "\n",
      "📅 2025-04-20\n",
      "📦 Fetching steps...\n",
      "✅ Saved steps → steps_2025-04-20.json\n",
      "📦 Fetching sleep...\n",
      "✅ Saved sleep → sleep_2025-04-20.json\n",
      "📦 Fetching stress...\n",
      "✅ Saved stress → stress_2025-04-20.json\n",
      "📦 Fetching body_battery...\n",
      "✅ Saved body_battery → body_battery_2025-04-20.json\n",
      "📦 Fetching heart_rate...\n",
      "✅ Saved heart_rate → heart_rate_2025-04-20.json\n",
      "\n",
      "📅 2025-04-21\n",
      "📦 Fetching steps...\n",
      "✅ Saved steps → steps_2025-04-21.json\n",
      "📦 Fetching sleep...\n",
      "✅ Saved sleep → sleep_2025-04-21.json\n",
      "📦 Fetching stress...\n",
      "✅ Saved stress → stress_2025-04-21.json\n",
      "📦 Fetching body_battery...\n",
      "✅ Saved body_battery → body_battery_2025-04-21.json\n",
      "📦 Fetching heart_rate...\n",
      "✅ Saved heart_rate → heart_rate_2025-04-21.json\n",
      "\n",
      "📅 2025-04-22\n",
      "📦 Fetching steps...\n",
      "✅ Saved steps → steps_2025-04-22.json\n",
      "📦 Fetching sleep...\n",
      "✅ Saved sleep → sleep_2025-04-22.json\n",
      "📦 Fetching stress...\n",
      "✅ Saved stress → stress_2025-04-22.json\n",
      "📦 Fetching body_battery...\n",
      "✅ Saved body_battery → body_battery_2025-04-22.json\n",
      "📦 Fetching heart_rate...\n",
      "✅ Saved heart_rate → heart_rate_2025-04-22.json\n",
      "\n",
      "📅 2025-04-23\n",
      "📦 Fetching steps...\n",
      "✅ Saved steps → steps_2025-04-23.json\n",
      "📦 Fetching sleep...\n",
      "✅ Saved sleep → sleep_2025-04-23.json\n",
      "📦 Fetching stress...\n",
      "✅ Saved stress → stress_2025-04-23.json\n",
      "📦 Fetching body_battery...\n",
      "✅ Saved body_battery → body_battery_2025-04-23.json\n",
      "📦 Fetching heart_rate...\n",
      "✅ Saved heart_rate → heart_rate_2025-04-23.json\n",
      "\n",
      "📅 2025-04-24\n",
      "📦 Fetching steps...\n",
      "✅ Saved steps → steps_2025-04-24.json\n",
      "📦 Fetching sleep...\n",
      "✅ Saved sleep → sleep_2025-04-24.json\n",
      "📦 Fetching stress...\n",
      "✅ Saved stress → stress_2025-04-24.json\n",
      "📦 Fetching body_battery...\n",
      "✅ Saved body_battery → body_battery_2025-04-24.json\n",
      "📦 Fetching heart_rate...\n",
      "✅ Saved heart_rate → heart_rate_2025-04-24.json\n",
      "\n",
      "📅 2025-04-25\n",
      "📦 Fetching steps...\n",
      "✅ Saved steps → steps_2025-04-25.json\n",
      "📦 Fetching sleep...\n",
      "✅ Saved sleep → sleep_2025-04-25.json\n",
      "📦 Fetching stress...\n",
      "✅ Saved stress → stress_2025-04-25.json\n",
      "📦 Fetching body_battery...\n",
      "✅ Saved body_battery → body_battery_2025-04-25.json\n",
      "📦 Fetching heart_rate...\n",
      "✅ Saved heart_rate → heart_rate_2025-04-25.json\n",
      "\n",
      "📅 2025-04-26\n",
      "📦 Fetching steps...\n",
      "✅ Saved steps → steps_2025-04-26.json\n",
      "📦 Fetching sleep...\n",
      "✅ Saved sleep → sleep_2025-04-26.json\n",
      "📦 Fetching stress...\n",
      "✅ Saved stress → stress_2025-04-26.json\n",
      "📦 Fetching body_battery...\n",
      "✅ Saved body_battery → body_battery_2025-04-26.json\n",
      "📦 Fetching heart_rate...\n",
      "✅ Saved heart_rate → heart_rate_2025-04-26.json\n",
      "\n",
      "📅 2025-04-27\n",
      "📦 Fetching steps...\n",
      "✅ Saved steps → steps_2025-04-27.json\n",
      "📦 Fetching sleep...\n",
      "✅ Saved sleep → sleep_2025-04-27.json\n",
      "📦 Fetching stress...\n",
      "✅ Saved stress → stress_2025-04-27.json\n",
      "📦 Fetching body_battery...\n",
      "✅ Saved body_battery → body_battery_2025-04-27.json\n",
      "📦 Fetching heart_rate...\n",
      "✅ Saved heart_rate → heart_rate_2025-04-27.json\n",
      "\n",
      "📅 2025-04-28\n",
      "📦 Fetching steps...\n",
      "✅ Saved steps → steps_2025-04-28.json\n",
      "📦 Fetching sleep...\n",
      "✅ Saved sleep → sleep_2025-04-28.json\n",
      "📦 Fetching stress...\n",
      "✅ Saved stress → stress_2025-04-28.json\n",
      "📦 Fetching body_battery...\n",
      "✅ Saved body_battery → body_battery_2025-04-28.json\n",
      "📦 Fetching heart_rate...\n",
      "✅ Saved heart_rate → heart_rate_2025-04-28.json\n",
      "\n",
      "📅 2025-04-29\n",
      "📦 Fetching steps...\n",
      "✅ Saved steps → steps_2025-04-29.json\n",
      "📦 Fetching sleep...\n",
      "✅ Saved sleep → sleep_2025-04-29.json\n",
      "📦 Fetching stress...\n",
      "✅ Saved stress → stress_2025-04-29.json\n",
      "📦 Fetching body_battery...\n",
      "✅ Saved body_battery → body_battery_2025-04-29.json\n",
      "📦 Fetching heart_rate...\n",
      "✅ Saved heart_rate → heart_rate_2025-04-29.json\n",
      "\n",
      "📅 2025-04-30\n",
      "📦 Fetching steps...\n",
      "✅ Saved steps → steps_2025-04-30.json\n",
      "📦 Fetching sleep...\n",
      "✅ Saved sleep → sleep_2025-04-30.json\n",
      "📦 Fetching stress...\n",
      "✅ Saved stress → stress_2025-04-30.json\n",
      "📦 Fetching body_battery...\n",
      "✅ Saved body_battery → body_battery_2025-04-30.json\n",
      "📦 Fetching heart_rate...\n",
      "✅ Saved heart_rate → heart_rate_2025-04-30.json\n",
      "\n",
      "📅 2025-05-01\n",
      "📦 Fetching steps...\n",
      "✅ Saved steps → steps_2025-05-01.json\n",
      "📦 Fetching sleep...\n",
      "✅ Saved sleep → sleep_2025-05-01.json\n",
      "📦 Fetching stress...\n",
      "✅ Saved stress → stress_2025-05-01.json\n",
      "📦 Fetching body_battery...\n",
      "✅ Saved body_battery → body_battery_2025-05-01.json\n",
      "📦 Fetching heart_rate...\n",
      "✅ Saved heart_rate → heart_rate_2025-05-01.json\n",
      "\n",
      "📅 2025-05-02\n",
      "📦 Fetching steps...\n",
      "✅ Saved steps → steps_2025-05-02.json\n",
      "📦 Fetching sleep...\n",
      "✅ Saved sleep → sleep_2025-05-02.json\n",
      "📦 Fetching stress...\n",
      "✅ Saved stress → stress_2025-05-02.json\n",
      "📦 Fetching body_battery...\n",
      "✅ Saved body_battery → body_battery_2025-05-02.json\n",
      "📦 Fetching heart_rate...\n",
      "✅ Saved heart_rate → heart_rate_2025-05-02.json\n",
      "\n",
      "📅 2025-05-03\n",
      "📦 Fetching steps...\n",
      "✅ Saved steps → steps_2025-05-03.json\n",
      "📦 Fetching sleep...\n",
      "✅ Saved sleep → sleep_2025-05-03.json\n",
      "📦 Fetching stress...\n",
      "✅ Saved stress → stress_2025-05-03.json\n",
      "📦 Fetching body_battery...\n",
      "✅ Saved body_battery → body_battery_2025-05-03.json\n",
      "📦 Fetching heart_rate...\n",
      "✅ Saved heart_rate → heart_rate_2025-05-03.json\n",
      "\n",
      "📅 2025-05-04\n",
      "📦 Fetching steps...\n",
      "✅ Saved steps → steps_2025-05-04.json\n",
      "📦 Fetching sleep...\n",
      "✅ Saved sleep → sleep_2025-05-04.json\n",
      "📦 Fetching stress...\n",
      "✅ Saved stress → stress_2025-05-04.json\n",
      "📦 Fetching body_battery...\n",
      "✅ Saved body_battery → body_battery_2025-05-04.json\n",
      "📦 Fetching heart_rate...\n",
      "✅ Saved heart_rate → heart_rate_2025-05-04.json\n",
      "\n",
      "📅 2025-05-05\n",
      "📦 Fetching steps...\n",
      "✅ Saved steps → steps_2025-05-05.json\n",
      "📦 Fetching sleep...\n",
      "✅ Saved sleep → sleep_2025-05-05.json\n",
      "📦 Fetching stress...\n",
      "✅ Saved stress → stress_2025-05-05.json\n",
      "📦 Fetching body_battery...\n",
      "✅ Saved body_battery → body_battery_2025-05-05.json\n",
      "📦 Fetching heart_rate...\n",
      "✅ Saved heart_rate → heart_rate_2025-05-05.json\n",
      "\n",
      "📅 2025-05-06\n",
      "📦 Fetching steps...\n",
      "✅ Saved steps → steps_2025-05-06.json\n",
      "📦 Fetching sleep...\n",
      "✅ Saved sleep → sleep_2025-05-06.json\n",
      "📦 Fetching stress...\n",
      "✅ Saved stress → stress_2025-05-06.json\n",
      "📦 Fetching body_battery...\n",
      "✅ Saved body_battery → body_battery_2025-05-06.json\n",
      "📦 Fetching heart_rate...\n",
      "✅ Saved heart_rate → heart_rate_2025-05-06.json\n",
      "\n",
      "📅 2025-05-07\n",
      "📦 Fetching steps...\n",
      "✅ Saved steps → steps_2025-05-07.json\n",
      "📦 Fetching sleep...\n",
      "✅ Saved sleep → sleep_2025-05-07.json\n",
      "📦 Fetching stress...\n",
      "✅ Saved stress → stress_2025-05-07.json\n",
      "📦 Fetching body_battery...\n",
      "✅ Saved body_battery → body_battery_2025-05-07.json\n",
      "📦 Fetching heart_rate...\n",
      "✅ Saved heart_rate → heart_rate_2025-05-07.json\n",
      "\n",
      "📅 2025-05-08\n",
      "📦 Fetching steps...\n",
      "✅ Saved steps → steps_2025-05-08.json\n",
      "📦 Fetching sleep...\n",
      "✅ Saved sleep → sleep_2025-05-08.json\n",
      "📦 Fetching stress...\n",
      "✅ Saved stress → stress_2025-05-08.json\n",
      "📦 Fetching body_battery...\n",
      "✅ Saved body_battery → body_battery_2025-05-08.json\n",
      "📦 Fetching heart_rate...\n",
      "✅ Saved heart_rate → heart_rate_2025-05-08.json\n",
      "\n",
      "📅 2025-05-09\n",
      "📦 Fetching steps...\n",
      "✅ Saved steps → steps_2025-05-09.json\n",
      "📦 Fetching sleep...\n",
      "✅ Saved sleep → sleep_2025-05-09.json\n",
      "📦 Fetching stress...\n",
      "✅ Saved stress → stress_2025-05-09.json\n",
      "📦 Fetching body_battery...\n",
      "✅ Saved body_battery → body_battery_2025-05-09.json\n",
      "📦 Fetching heart_rate...\n",
      "✅ Saved heart_rate → heart_rate_2025-05-09.json\n",
      "\n",
      "📅 2025-05-10\n",
      "📦 Fetching steps...\n",
      "✅ Saved steps → steps_2025-05-10.json\n",
      "📦 Fetching sleep...\n",
      "✅ Saved sleep → sleep_2025-05-10.json\n",
      "📦 Fetching stress...\n",
      "✅ Saved stress → stress_2025-05-10.json\n",
      "📦 Fetching body_battery...\n",
      "✅ Saved body_battery → body_battery_2025-05-10.json\n",
      "📦 Fetching heart_rate...\n",
      "✅ Saved heart_rate → heart_rate_2025-05-10.json\n",
      "\n",
      "📅 2025-05-11\n",
      "📦 Fetching steps...\n",
      "✅ Saved steps → steps_2025-05-11.json\n",
      "📦 Fetching sleep...\n",
      "✅ Saved sleep → sleep_2025-05-11.json\n",
      "📦 Fetching stress...\n",
      "✅ Saved stress → stress_2025-05-11.json\n",
      "📦 Fetching body_battery...\n",
      "✅ Saved body_battery → body_battery_2025-05-11.json\n",
      "📦 Fetching heart_rate...\n",
      "✅ Saved heart_rate → heart_rate_2025-05-11.json\n",
      "\n",
      "📅 2025-05-12\n",
      "📦 Fetching steps...\n",
      "✅ Saved steps → steps_2025-05-12.json\n",
      "📦 Fetching sleep...\n",
      "✅ Saved sleep → sleep_2025-05-12.json\n",
      "📦 Fetching stress...\n",
      "✅ Saved stress → stress_2025-05-12.json\n",
      "📦 Fetching body_battery...\n",
      "✅ Saved body_battery → body_battery_2025-05-12.json\n",
      "📦 Fetching heart_rate...\n",
      "✅ Saved heart_rate → heart_rate_2025-05-12.json\n",
      "\n",
      "📅 2025-05-13\n",
      "📦 Fetching steps...\n",
      "✅ Saved steps → steps_2025-05-13.json\n",
      "📦 Fetching sleep...\n",
      "✅ Saved sleep → sleep_2025-05-13.json\n",
      "📦 Fetching stress...\n",
      "✅ Saved stress → stress_2025-05-13.json\n",
      "📦 Fetching body_battery...\n",
      "✅ Saved body_battery → body_battery_2025-05-13.json\n",
      "📦 Fetching heart_rate...\n",
      "✅ Saved heart_rate → heart_rate_2025-05-13.json\n",
      "\n",
      "📅 2025-05-14\n",
      "📦 Fetching steps...\n",
      "✅ Saved steps → steps_2025-05-14.json\n",
      "📦 Fetching sleep...\n",
      "✅ Saved sleep → sleep_2025-05-14.json\n",
      "📦 Fetching stress...\n",
      "✅ Saved stress → stress_2025-05-14.json\n",
      "📦 Fetching body_battery...\n",
      "✅ Saved body_battery → body_battery_2025-05-14.json\n",
      "📦 Fetching heart_rate...\n",
      "✅ Saved heart_rate → heart_rate_2025-05-14.json\n",
      "\n",
      "📅 2025-05-15\n",
      "📦 Fetching steps...\n",
      "✅ Saved steps → steps_2025-05-15.json\n",
      "📦 Fetching sleep...\n",
      "✅ Saved sleep → sleep_2025-05-15.json\n",
      "📦 Fetching stress...\n",
      "✅ Saved stress → stress_2025-05-15.json\n",
      "📦 Fetching body_battery...\n",
      "✅ Saved body_battery → body_battery_2025-05-15.json\n",
      "📦 Fetching heart_rate...\n",
      "✅ Saved heart_rate → heart_rate_2025-05-15.json\n",
      "\n",
      "📅 2025-05-16\n",
      "📦 Fetching steps...\n",
      "✅ Saved steps → steps_2025-05-16.json\n",
      "📦 Fetching sleep...\n",
      "✅ Saved sleep → sleep_2025-05-16.json\n",
      "📦 Fetching stress...\n",
      "✅ Saved stress → stress_2025-05-16.json\n",
      "📦 Fetching body_battery...\n",
      "✅ Saved body_battery → body_battery_2025-05-16.json\n",
      "📦 Fetching heart_rate...\n",
      "✅ Saved heart_rate → heart_rate_2025-05-16.json\n",
      "\n",
      "📅 2025-05-17\n",
      "📦 Fetching steps...\n",
      "✅ Saved steps → steps_2025-05-17.json\n",
      "📦 Fetching sleep...\n",
      "✅ Saved sleep → sleep_2025-05-17.json\n",
      "📦 Fetching stress...\n",
      "✅ Saved stress → stress_2025-05-17.json\n",
      "📦 Fetching body_battery...\n",
      "✅ Saved body_battery → body_battery_2025-05-17.json\n",
      "📦 Fetching heart_rate...\n",
      "✅ Saved heart_rate → heart_rate_2025-05-17.json\n",
      "\n",
      "📅 2025-05-18\n",
      "📦 Fetching steps...\n",
      "✅ Saved steps → steps_2025-05-18.json\n",
      "📦 Fetching sleep...\n",
      "✅ Saved sleep → sleep_2025-05-18.json\n",
      "📦 Fetching stress...\n",
      "✅ Saved stress → stress_2025-05-18.json\n",
      "📦 Fetching body_battery...\n",
      "✅ Saved body_battery → body_battery_2025-05-18.json\n",
      "📦 Fetching heart_rate...\n",
      "✅ Saved heart_rate → heart_rate_2025-05-18.json\n",
      "\n",
      "📅 2025-05-19\n",
      "📦 Fetching steps...\n",
      "✅ Saved steps → steps_2025-05-19.json\n",
      "📦 Fetching sleep...\n",
      "✅ Saved sleep → sleep_2025-05-19.json\n",
      "📦 Fetching stress...\n",
      "✅ Saved stress → stress_2025-05-19.json\n",
      "📦 Fetching body_battery...\n",
      "✅ Saved body_battery → body_battery_2025-05-19.json\n",
      "📦 Fetching heart_rate...\n",
      "✅ Saved heart_rate → heart_rate_2025-05-19.json\n",
      "\n",
      "📅 2025-05-20\n",
      "📦 Fetching steps...\n",
      "✅ Saved steps → steps_2025-05-20.json\n",
      "📦 Fetching sleep...\n",
      "✅ Saved sleep → sleep_2025-05-20.json\n",
      "📦 Fetching stress...\n",
      "✅ Saved stress → stress_2025-05-20.json\n",
      "📦 Fetching body_battery...\n",
      "✅ Saved body_battery → body_battery_2025-05-20.json\n",
      "📦 Fetching heart_rate...\n",
      "✅ Saved heart_rate → heart_rate_2025-05-20.json\n",
      "\n",
      "📅 2025-05-21\n",
      "📦 Fetching steps...\n",
      "✅ Saved steps → steps_2025-05-21.json\n",
      "📦 Fetching sleep...\n",
      "✅ Saved sleep → sleep_2025-05-21.json\n",
      "📦 Fetching stress...\n",
      "✅ Saved stress → stress_2025-05-21.json\n",
      "📦 Fetching body_battery...\n",
      "✅ Saved body_battery → body_battery_2025-05-21.json\n",
      "📦 Fetching heart_rate...\n",
      "✅ Saved heart_rate → heart_rate_2025-05-21.json\n",
      "\n",
      "📅 2025-05-22\n",
      "📦 Fetching steps...\n",
      "✅ Saved steps → steps_2025-05-22.json\n",
      "📦 Fetching sleep...\n",
      "✅ Saved sleep → sleep_2025-05-22.json\n",
      "📦 Fetching stress...\n",
      "✅ Saved stress → stress_2025-05-22.json\n",
      "📦 Fetching body_battery...\n",
      "✅ Saved body_battery → body_battery_2025-05-22.json\n",
      "📦 Fetching heart_rate...\n",
      "✅ Saved heart_rate → heart_rate_2025-05-22.json\n",
      "\n",
      "📅 2025-05-23\n",
      "📦 Fetching steps...\n",
      "✅ Saved steps → steps_2025-05-23.json\n",
      "📦 Fetching sleep...\n",
      "✅ Saved sleep → sleep_2025-05-23.json\n",
      "📦 Fetching stress...\n",
      "✅ Saved stress → stress_2025-05-23.json\n",
      "📦 Fetching body_battery...\n",
      "✅ Saved body_battery → body_battery_2025-05-23.json\n",
      "📦 Fetching heart_rate...\n",
      "✅ Saved heart_rate → heart_rate_2025-05-23.json\n",
      "\n",
      "📅 2025-05-24\n",
      "📦 Fetching steps...\n",
      "✅ Saved steps → steps_2025-05-24.json\n",
      "📦 Fetching sleep...\n",
      "✅ Saved sleep → sleep_2025-05-24.json\n",
      "📦 Fetching stress...\n",
      "✅ Saved stress → stress_2025-05-24.json\n",
      "📦 Fetching body_battery...\n",
      "✅ Saved body_battery → body_battery_2025-05-24.json\n",
      "📦 Fetching heart_rate...\n",
      "✅ Saved heart_rate → heart_rate_2025-05-24.json\n",
      "\n",
      "📅 2025-05-25\n",
      "📦 Fetching steps...\n",
      "✅ Saved steps → steps_2025-05-25.json\n",
      "📦 Fetching sleep...\n",
      "✅ Saved sleep → sleep_2025-05-25.json\n",
      "📦 Fetching stress...\n",
      "✅ Saved stress → stress_2025-05-25.json\n",
      "📦 Fetching body_battery...\n",
      "✅ Saved body_battery → body_battery_2025-05-25.json\n",
      "📦 Fetching heart_rate...\n",
      "✅ Saved heart_rate → heart_rate_2025-05-25.json\n",
      "\n",
      "📅 2025-05-26\n",
      "📦 Fetching steps...\n",
      "✅ Saved steps → steps_2025-05-26.json\n",
      "📦 Fetching sleep...\n",
      "✅ Saved sleep → sleep_2025-05-26.json\n",
      "📦 Fetching stress...\n",
      "✅ Saved stress → stress_2025-05-26.json\n",
      "📦 Fetching body_battery...\n",
      "✅ Saved body_battery → body_battery_2025-05-26.json\n",
      "📦 Fetching heart_rate...\n",
      "✅ Saved heart_rate → heart_rate_2025-05-26.json\n",
      "\n",
      "📅 2025-05-27\n",
      "📦 Fetching steps...\n",
      "✅ Saved steps → steps_2025-05-27.json\n",
      "📦 Fetching sleep...\n",
      "✅ Saved sleep → sleep_2025-05-27.json\n",
      "📦 Fetching stress...\n",
      "✅ Saved stress → stress_2025-05-27.json\n",
      "📦 Fetching body_battery...\n",
      "✅ Saved body_battery → body_battery_2025-05-27.json\n",
      "📦 Fetching heart_rate...\n",
      "✅ Saved heart_rate → heart_rate_2025-05-27.json\n",
      "\n",
      "📅 2025-05-28\n",
      "📦 Fetching steps...\n",
      "✅ Saved steps → steps_2025-05-28.json\n",
      "📦 Fetching sleep...\n",
      "✅ Saved sleep → sleep_2025-05-28.json\n",
      "📦 Fetching stress...\n",
      "✅ Saved stress → stress_2025-05-28.json\n",
      "📦 Fetching body_battery...\n",
      "✅ Saved body_battery → body_battery_2025-05-28.json\n",
      "📦 Fetching heart_rate...\n",
      "✅ Saved heart_rate → heart_rate_2025-05-28.json\n",
      "\n",
      "📅 2025-05-29\n",
      "📦 Fetching steps...\n",
      "✅ Saved steps → steps_2025-05-29.json\n",
      "📦 Fetching sleep...\n",
      "✅ Saved sleep → sleep_2025-05-29.json\n",
      "📦 Fetching stress...\n",
      "✅ Saved stress → stress_2025-05-29.json\n",
      "📦 Fetching body_battery...\n",
      "✅ Saved body_battery → body_battery_2025-05-29.json\n",
      "📦 Fetching heart_rate...\n",
      "✅ Saved heart_rate → heart_rate_2025-05-29.json\n",
      "\n",
      "📅 2025-05-30\n",
      "📦 Fetching steps...\n",
      "✅ Saved steps → steps_2025-05-30.json\n",
      "📦 Fetching sleep...\n",
      "✅ Saved sleep → sleep_2025-05-30.json\n",
      "📦 Fetching stress...\n",
      "✅ Saved stress → stress_2025-05-30.json\n",
      "📦 Fetching body_battery...\n",
      "✅ Saved body_battery → body_battery_2025-05-30.json\n",
      "📦 Fetching heart_rate...\n",
      "✅ Saved heart_rate → heart_rate_2025-05-30.json\n",
      "\n",
      "📅 2025-05-31\n",
      "📦 Fetching steps...\n",
      "✅ Saved steps → steps_2025-05-31.json\n",
      "📦 Fetching sleep...\n",
      "✅ Saved sleep → sleep_2025-05-31.json\n",
      "📦 Fetching stress...\n",
      "✅ Saved stress → stress_2025-05-31.json\n",
      "📦 Fetching body_battery...\n",
      "✅ Saved body_battery → body_battery_2025-05-31.json\n",
      "📦 Fetching heart_rate...\n",
      "✅ Saved heart_rate → heart_rate_2025-05-31.json\n",
      "\n",
      "📅 2025-06-01\n",
      "📦 Fetching steps...\n",
      "✅ Saved steps → steps_2025-06-01.json\n",
      "📦 Fetching sleep...\n",
      "✅ Saved sleep → sleep_2025-06-01.json\n",
      "📦 Fetching stress...\n",
      "✅ Saved stress → stress_2025-06-01.json\n",
      "📦 Fetching body_battery...\n",
      "✅ Saved body_battery → body_battery_2025-06-01.json\n",
      "📦 Fetching heart_rate...\n",
      "✅ Saved heart_rate → heart_rate_2025-06-01.json\n",
      "\n",
      "📅 2025-06-02\n",
      "📦 Fetching steps...\n",
      "✅ Saved steps → steps_2025-06-02.json\n",
      "📦 Fetching sleep...\n",
      "✅ Saved sleep → sleep_2025-06-02.json\n",
      "📦 Fetching stress...\n",
      "✅ Saved stress → stress_2025-06-02.json\n",
      "📦 Fetching body_battery...\n",
      "✅ Saved body_battery → body_battery_2025-06-02.json\n",
      "📦 Fetching heart_rate...\n",
      "✅ Saved heart_rate → heart_rate_2025-06-02.json\n",
      "\n",
      "📅 2025-06-03\n",
      "📦 Fetching steps...\n",
      "✅ Saved steps → steps_2025-06-03.json\n",
      "📦 Fetching sleep...\n",
      "✅ Saved sleep → sleep_2025-06-03.json\n",
      "📦 Fetching stress...\n",
      "✅ Saved stress → stress_2025-06-03.json\n",
      "📦 Fetching body_battery...\n",
      "✅ Saved body_battery → body_battery_2025-06-03.json\n",
      "📦 Fetching heart_rate...\n",
      "✅ Saved heart_rate → heart_rate_2025-06-03.json\n",
      "\n",
      "📅 2025-06-04\n",
      "📦 Fetching steps...\n",
      "✅ Saved steps → steps_2025-06-04.json\n",
      "📦 Fetching sleep...\n",
      "✅ Saved sleep → sleep_2025-06-04.json\n",
      "📦 Fetching stress...\n",
      "✅ Saved stress → stress_2025-06-04.json\n",
      "📦 Fetching body_battery...\n",
      "✅ Saved body_battery → body_battery_2025-06-04.json\n",
      "📦 Fetching heart_rate...\n",
      "✅ Saved heart_rate → heart_rate_2025-06-04.json\n",
      "\n",
      "📅 2025-06-05\n",
      "📦 Fetching steps...\n",
      "✅ Saved steps → steps_2025-06-05.json\n",
      "📦 Fetching sleep...\n",
      "✅ Saved sleep → sleep_2025-06-05.json\n",
      "📦 Fetching stress...\n",
      "✅ Saved stress → stress_2025-06-05.json\n",
      "📦 Fetching body_battery...\n",
      "✅ Saved body_battery → body_battery_2025-06-05.json\n",
      "📦 Fetching heart_rate...\n",
      "✅ Saved heart_rate → heart_rate_2025-06-05.json\n",
      "\n",
      "📅 2025-06-06\n",
      "📦 Fetching steps...\n",
      "✅ Saved steps → steps_2025-06-06.json\n",
      "📦 Fetching sleep...\n",
      "✅ Saved sleep → sleep_2025-06-06.json\n",
      "📦 Fetching stress...\n",
      "✅ Saved stress → stress_2025-06-06.json\n",
      "📦 Fetching body_battery...\n",
      "✅ Saved body_battery → body_battery_2025-06-06.json\n",
      "📦 Fetching heart_rate...\n",
      "✅ Saved heart_rate → heart_rate_2025-06-06.json\n",
      "\n",
      "📅 2025-06-07\n",
      "📦 Fetching steps...\n",
      "✅ Saved steps → steps_2025-06-07.json\n",
      "📦 Fetching sleep...\n",
      "✅ Saved sleep → sleep_2025-06-07.json\n",
      "📦 Fetching stress...\n",
      "✅ Saved stress → stress_2025-06-07.json\n",
      "📦 Fetching body_battery...\n",
      "✅ Saved body_battery → body_battery_2025-06-07.json\n",
      "📦 Fetching heart_rate...\n",
      "✅ Saved heart_rate → heart_rate_2025-06-07.json\n",
      "\n",
      "📅 2025-06-08\n",
      "📦 Fetching steps...\n",
      "✅ Saved steps → steps_2025-06-08.json\n",
      "📦 Fetching sleep...\n",
      "✅ Saved sleep → sleep_2025-06-08.json\n",
      "📦 Fetching stress...\n",
      "✅ Saved stress → stress_2025-06-08.json\n",
      "📦 Fetching body_battery...\n",
      "✅ Saved body_battery → body_battery_2025-06-08.json\n",
      "📦 Fetching heart_rate...\n",
      "✅ Saved heart_rate → heart_rate_2025-06-08.json\n",
      "\n",
      "📅 2025-06-09\n",
      "📦 Fetching steps...\n",
      "✅ Saved steps → steps_2025-06-09.json\n",
      "📦 Fetching sleep...\n",
      "✅ Saved sleep → sleep_2025-06-09.json\n",
      "📦 Fetching stress...\n",
      "✅ Saved stress → stress_2025-06-09.json\n",
      "📦 Fetching body_battery...\n",
      "✅ Saved body_battery → body_battery_2025-06-09.json\n",
      "📦 Fetching heart_rate...\n",
      "✅ Saved heart_rate → heart_rate_2025-06-09.json\n",
      "\n",
      "📅 2025-06-10\n",
      "📦 Fetching steps...\n",
      "✅ Saved steps → steps_2025-06-10.json\n",
      "📦 Fetching sleep...\n",
      "✅ Saved sleep → sleep_2025-06-10.json\n",
      "📦 Fetching stress...\n",
      "✅ Saved stress → stress_2025-06-10.json\n",
      "📦 Fetching body_battery...\n",
      "✅ Saved body_battery → body_battery_2025-06-10.json\n",
      "📦 Fetching heart_rate...\n",
      "✅ Saved heart_rate → heart_rate_2025-06-10.json\n",
      "\n",
      "📅 2025-06-11\n",
      "📦 Fetching steps...\n",
      "✅ Saved steps → steps_2025-06-11.json\n",
      "📦 Fetching sleep...\n",
      "✅ Saved sleep → sleep_2025-06-11.json\n",
      "📦 Fetching stress...\n",
      "✅ Saved stress → stress_2025-06-11.json\n",
      "📦 Fetching body_battery...\n",
      "✅ Saved body_battery → body_battery_2025-06-11.json\n",
      "📦 Fetching heart_rate...\n",
      "✅ Saved heart_rate → heart_rate_2025-06-11.json\n",
      "\n",
      "📅 2025-06-12\n",
      "📦 Fetching steps...\n",
      "✅ Saved steps → steps_2025-06-12.json\n",
      "📦 Fetching sleep...\n",
      "✅ Saved sleep → sleep_2025-06-12.json\n",
      "📦 Fetching stress...\n",
      "✅ Saved stress → stress_2025-06-12.json\n",
      "📦 Fetching body_battery...\n",
      "✅ Saved body_battery → body_battery_2025-06-12.json\n",
      "📦 Fetching heart_rate...\n",
      "✅ Saved heart_rate → heart_rate_2025-06-12.json\n",
      "\n",
      "📅 2025-06-13\n",
      "📦 Fetching steps...\n",
      "✅ Saved steps → steps_2025-06-13.json\n",
      "📦 Fetching sleep...\n",
      "✅ Saved sleep → sleep_2025-06-13.json\n",
      "📦 Fetching stress...\n",
      "✅ Saved stress → stress_2025-06-13.json\n",
      "📦 Fetching body_battery...\n",
      "✅ Saved body_battery → body_battery_2025-06-13.json\n",
      "📦 Fetching heart_rate...\n",
      "✅ Saved heart_rate → heart_rate_2025-06-13.json\n",
      "\n",
      "📅 2025-06-14\n",
      "📦 Fetching steps...\n",
      "✅ Saved steps → steps_2025-06-14.json\n",
      "📦 Fetching sleep...\n",
      "✅ Saved sleep → sleep_2025-06-14.json\n",
      "📦 Fetching stress...\n",
      "✅ Saved stress → stress_2025-06-14.json\n",
      "📦 Fetching body_battery...\n",
      "✅ Saved body_battery → body_battery_2025-06-14.json\n",
      "📦 Fetching heart_rate...\n",
      "✅ Saved heart_rate → heart_rate_2025-06-14.json\n",
      "\n",
      "📅 2025-06-15\n",
      "📦 Fetching steps...\n",
      "✅ Saved steps → steps_2025-06-15.json\n",
      "📦 Fetching sleep...\n",
      "✅ Saved sleep → sleep_2025-06-15.json\n",
      "📦 Fetching stress...\n",
      "✅ Saved stress → stress_2025-06-15.json\n",
      "📦 Fetching body_battery...\n",
      "✅ Saved body_battery → body_battery_2025-06-15.json\n",
      "📦 Fetching heart_rate...\n",
      "✅ Saved heart_rate → heart_rate_2025-06-15.json\n",
      "\n",
      "📅 2025-06-16\n",
      "📦 Fetching steps...\n",
      "✅ Saved steps → steps_2025-06-16.json\n",
      "📦 Fetching sleep...\n",
      "✅ Saved sleep → sleep_2025-06-16.json\n",
      "📦 Fetching stress...\n",
      "✅ Saved stress → stress_2025-06-16.json\n",
      "📦 Fetching body_battery...\n",
      "✅ Saved body_battery → body_battery_2025-06-16.json\n",
      "📦 Fetching heart_rate...\n",
      "✅ Saved heart_rate → heart_rate_2025-06-16.json\n",
      "\n",
      "📅 2025-06-17\n",
      "📦 Fetching steps...\n",
      "✅ Saved steps → steps_2025-06-17.json\n",
      "📦 Fetching sleep...\n",
      "✅ Saved sleep → sleep_2025-06-17.json\n",
      "📦 Fetching stress...\n",
      "✅ Saved stress → stress_2025-06-17.json\n",
      "📦 Fetching body_battery...\n",
      "✅ Saved body_battery → body_battery_2025-06-17.json\n",
      "📦 Fetching heart_rate...\n",
      "✅ Saved heart_rate → heart_rate_2025-06-17.json\n",
      "\n",
      "📅 2025-06-18\n",
      "📦 Fetching steps...\n",
      "✅ Saved steps → steps_2025-06-18.json\n",
      "📦 Fetching sleep...\n",
      "✅ Saved sleep → sleep_2025-06-18.json\n",
      "📦 Fetching stress...\n",
      "✅ Saved stress → stress_2025-06-18.json\n",
      "📦 Fetching body_battery...\n",
      "✅ Saved body_battery → body_battery_2025-06-18.json\n",
      "📦 Fetching heart_rate...\n",
      "✅ Saved heart_rate → heart_rate_2025-06-18.json\n",
      "\n",
      "📅 2025-06-19\n",
      "📦 Fetching steps...\n",
      "✅ Saved steps → steps_2025-06-19.json\n",
      "📦 Fetching sleep...\n",
      "✅ Saved sleep → sleep_2025-06-19.json\n",
      "📦 Fetching stress...\n",
      "✅ Saved stress → stress_2025-06-19.json\n",
      "📦 Fetching body_battery...\n",
      "✅ Saved body_battery → body_battery_2025-06-19.json\n",
      "📦 Fetching heart_rate...\n",
      "✅ Saved heart_rate → heart_rate_2025-06-19.json\n",
      "\n",
      "📅 2025-06-20\n",
      "📦 Fetching steps...\n",
      "✅ Saved steps → steps_2025-06-20.json\n",
      "📦 Fetching sleep...\n",
      "✅ Saved sleep → sleep_2025-06-20.json\n",
      "📦 Fetching stress...\n",
      "✅ Saved stress → stress_2025-06-20.json\n",
      "📦 Fetching body_battery...\n",
      "✅ Saved body_battery → body_battery_2025-06-20.json\n",
      "📦 Fetching heart_rate...\n",
      "✅ Saved heart_rate → heart_rate_2025-06-20.json\n",
      "\n",
      "📅 2025-06-21\n",
      "📦 Fetching steps...\n",
      "✅ Saved steps → steps_2025-06-21.json\n",
      "📦 Fetching sleep...\n",
      "✅ Saved sleep → sleep_2025-06-21.json\n",
      "📦 Fetching stress...\n",
      "✅ Saved stress → stress_2025-06-21.json\n",
      "📦 Fetching body_battery...\n",
      "✅ Saved body_battery → body_battery_2025-06-21.json\n",
      "📦 Fetching heart_rate...\n",
      "✅ Saved heart_rate → heart_rate_2025-06-21.json\n",
      "\n",
      "📅 2025-06-22\n",
      "📦 Fetching steps...\n",
      "✅ Saved steps → steps_2025-06-22.json\n",
      "📦 Fetching sleep...\n",
      "✅ Saved sleep → sleep_2025-06-22.json\n",
      "📦 Fetching stress...\n",
      "✅ Saved stress → stress_2025-06-22.json\n",
      "📦 Fetching body_battery...\n",
      "✅ Saved body_battery → body_battery_2025-06-22.json\n",
      "📦 Fetching heart_rate...\n",
      "✅ Saved heart_rate → heart_rate_2025-06-22.json\n",
      "\n",
      "📅 2025-06-23\n",
      "📦 Fetching steps...\n",
      "✅ Saved steps → steps_2025-06-23.json\n",
      "📦 Fetching sleep...\n",
      "✅ Saved sleep → sleep_2025-06-23.json\n",
      "📦 Fetching stress...\n",
      "✅ Saved stress → stress_2025-06-23.json\n",
      "📦 Fetching body_battery...\n",
      "✅ Saved body_battery → body_battery_2025-06-23.json\n",
      "📦 Fetching heart_rate...\n",
      "✅ Saved heart_rate → heart_rate_2025-06-23.json\n",
      "\n",
      "📅 2025-06-24\n",
      "📦 Fetching steps...\n",
      "✅ Saved steps → steps_2025-06-24.json\n",
      "📦 Fetching sleep...\n",
      "✅ Saved sleep → sleep_2025-06-24.json\n",
      "📦 Fetching stress...\n",
      "✅ Saved stress → stress_2025-06-24.json\n",
      "📦 Fetching body_battery...\n",
      "✅ Saved body_battery → body_battery_2025-06-24.json\n",
      "📦 Fetching heart_rate...\n",
      "✅ Saved heart_rate → heart_rate_2025-06-24.json\n",
      "\n",
      "📅 2025-06-25\n",
      "📦 Fetching steps...\n",
      "✅ Saved steps → steps_2025-06-25.json\n",
      "📦 Fetching sleep...\n",
      "✅ Saved sleep → sleep_2025-06-25.json\n",
      "📦 Fetching stress...\n",
      "✅ Saved stress → stress_2025-06-25.json\n",
      "📦 Fetching body_battery...\n",
      "✅ Saved body_battery → body_battery_2025-06-25.json\n",
      "📦 Fetching heart_rate...\n",
      "✅ Saved heart_rate → heart_rate_2025-06-25.json\n",
      "\n",
      "📅 2025-06-26\n",
      "📦 Fetching steps...\n",
      "✅ Saved steps → steps_2025-06-26.json\n",
      "📦 Fetching sleep...\n",
      "✅ Saved sleep → sleep_2025-06-26.json\n",
      "📦 Fetching stress...\n",
      "✅ Saved stress → stress_2025-06-26.json\n",
      "📦 Fetching body_battery...\n",
      "✅ Saved body_battery → body_battery_2025-06-26.json\n",
      "📦 Fetching heart_rate...\n",
      "✅ Saved heart_rate → heart_rate_2025-06-26.json\n",
      "\n",
      "📅 2025-06-27\n",
      "📦 Fetching steps...\n",
      "✅ Saved steps → steps_2025-06-27.json\n",
      "📦 Fetching sleep...\n",
      "✅ Saved sleep → sleep_2025-06-27.json\n",
      "📦 Fetching stress...\n",
      "✅ Saved stress → stress_2025-06-27.json\n",
      "📦 Fetching body_battery...\n",
      "✅ Saved body_battery → body_battery_2025-06-27.json\n",
      "📦 Fetching heart_rate...\n",
      "✅ Saved heart_rate → heart_rate_2025-06-27.json\n",
      "\n",
      "📅 2025-06-28\n",
      "📦 Fetching steps...\n",
      "✅ Saved steps → steps_2025-06-28.json\n",
      "📦 Fetching sleep...\n",
      "✅ Saved sleep → sleep_2025-06-28.json\n",
      "📦 Fetching stress...\n",
      "✅ Saved stress → stress_2025-06-28.json\n",
      "📦 Fetching body_battery...\n",
      "✅ Saved body_battery → body_battery_2025-06-28.json\n",
      "📦 Fetching heart_rate...\n",
      "✅ Saved heart_rate → heart_rate_2025-06-28.json\n",
      "\n",
      "📅 2025-06-29\n",
      "📦 Fetching steps...\n",
      "🚫 No valid steps data for 2025-06-29, skipping.\n",
      "📦 Fetching sleep...\n",
      "✅ Saved sleep → sleep_2025-06-29.json\n",
      "📦 Fetching stress...\n",
      "✅ Saved stress → stress_2025-06-29.json\n",
      "📦 Fetching body_battery...\n",
      "🚫 No valid body_battery data for 2025-06-29, skipping.\n",
      "📦 Fetching heart_rate...\n",
      "✅ Saved heart_rate → heart_rate_2025-06-29.json\n"
     ]
    },
    {
     "data": {
      "text/plain": [
       "CompletedProcess(args=['python3', '/Users/tolgasabanoglu/Desktop/github/spatiotemporal/scripts/parse_garmin.py'], returncode=0)"
      ]
     },
     "execution_count": 67,
     "metadata": {},
     "output_type": "execute_result"
    }
   ],
   "source": [
    "import subprocess\n",
    "\n",
    "subprocess.run([\"python3\", \"/Users/tolgasabanoglu/Desktop/github/spatiotemporal/scripts/parse_garmin.py\"])"
   ]
  },
  {
   "cell_type": "code",
   "execution_count": 68,
   "metadata": {},
   "outputs": [
    {
     "name": "stdout",
     "output_type": "stream",
     "text": [
      "\n",
      "📊 Garmin JSON File Audit:\n",
      "\n",
      "        type  file_count format  has_date sample_date                                                                                                                                                                                                                                                                                                top_keys\n",
      "       steps         124   list      True  2025-02-24                                                                                                                                                                                                                          [startGMT, endGMT, steps, pushes, primaryActivityLevel, activityLevelConstant]\n",
      "      stress         125   dict      True  2025-02-25 [userProfilePK, calendarDate, startTimestampGMT, endTimestampGMT, startTimestampLocal, endTimestampLocal, maxStressLevel, avgStressLevel, stressChartValueOffset, stressChartYAxisOrigin, stressValueDescriptorsDTOList, stressValuesArray, bodyBatteryValueDescriptorsDTOList, bodyBatteryValuesArray]\n",
      "       sleep         125   dict     False           —                                                                                                                                                                                                                                               [dailySleepDTO, sleepMovement, remSleepData, sleepLevels]\n",
      "body_battery         124   list      True  2025-02-24                                                                                                                                         [date, charged, drained, startTimestampGMT, endTimestampGMT, startTimestampLocal, endTimestampLocal, bodyBatteryValuesArray, bodyBatteryValueDescriptorDTOList]\n",
      "  heart_rate         125   dict      True  2025-02-25                                                                   [userProfilePK, calendarDate, startTimestampGMT, endTimestampGMT, startTimestampLocal, endTimestampLocal, maxHeartRate, minHeartRate, restingHeartRate, lastSevenDaysAvgRestingHeartRate, heartRateValueDescriptors, heartRateValues]\n"
     ]
    }
   ],
   "source": [
    "import os\n",
    "import json\n",
    "from glob import glob\n",
    "import pandas as pd\n",
    "\n",
    "# Directory with your raw Garmin data\n",
    "raw_dir = \"/Users/tolgasabanoglu/Desktop/github/spatiotemporal/data/raw/\"\n",
    "json_files = sorted(glob(os.path.join(raw_dir, \"*.json\")))\n",
    "\n",
    "# Known Garmin data prefixes\n",
    "file_types = [\"steps\", \"stress\", \"sleep\", \"body_battery\", \"heart_rate\"]\n",
    "\n",
    "audit_rows = []\n",
    "\n",
    "for ftype in file_types:\n",
    "    matching = [f for f in json_files if os.path.basename(f).startswith(ftype)]\n",
    "    entry = {\n",
    "        \"type\": ftype,\n",
    "        \"file_count\": len(matching),\n",
    "        \"format\": \"❓\",\n",
    "        \"has_date\": False,\n",
    "        \"sample_date\": \"—\",\n",
    "        \"top_keys\": []\n",
    "    }\n",
    "    \n",
    "    for file in matching:\n",
    "        try:\n",
    "            with open(file) as f:\n",
    "                data = json.load(f)\n",
    "\n",
    "                if isinstance(data, list) and data:\n",
    "                    entry[\"format\"] = \"list\"\n",
    "                    entry[\"top_keys\"] = list(data[0].keys())\n",
    "                    date = (\n",
    "                        data[0].get(\"calendarDate\") or\n",
    "                        data[0].get(\"startGMT\") or\n",
    "                        data[0].get(\"startTimestampGMT\")\n",
    "                    )\n",
    "                    if date:\n",
    "                        entry[\"has_date\"] = True\n",
    "                        entry[\"sample_date\"] = str(date)[:10]\n",
    "                    break\n",
    "\n",
    "                elif isinstance(data, dict):\n",
    "                    entry[\"format\"] = \"dict\"\n",
    "                    entry[\"top_keys\"] = list(data.keys())\n",
    "                    date = (\n",
    "                        data.get(\"calendarDate\") or\n",
    "                        data.get(\"date\") or\n",
    "                        data.get(\"startTimestampGMT\")\n",
    "                    )\n",
    "                    if date:\n",
    "                        entry[\"has_date\"] = True\n",
    "                        entry[\"sample_date\"] = str(date)[:10]\n",
    "                    break\n",
    "        except Exception as e:\n",
    "            entry[\"top_keys\"] = [f\"⚠️ Error: {e}\"]\n",
    "\n",
    "    audit_rows.append(entry)\n",
    "\n",
    "# Show audit results as table\n",
    "df_audit = pd.DataFrame(audit_rows)\n",
    "df_audit = df_audit[[\"type\", \"file_count\", \"format\", \"has_date\", \"sample_date\", \"top_keys\"]]\n",
    "\n",
    "# Print as plain table\n",
    "print(\"\\n📊 Garmin JSON File Audit:\\n\")\n",
    "print(df_audit.to_string(index=False))\n"
   ]
  },
  {
   "cell_type": "code",
   "execution_count": 69,
   "metadata": {},
   "outputs": [
    {
     "name": "stdout",
     "output_type": "stream",
     "text": [
      "          date  body_charged  body_drained  resting_hr  sleep_score  \\\n",
      "125 2025-02-24           NaN           NaN         NaN          NaN   \n",
      "0   2025-02-25           0.0          13.0        75.0          NaN   \n",
      "1   2025-02-26          51.0          51.0        64.0          NaN   \n",
      "2   2025-02-27          50.0          23.0        68.0          NaN   \n",
      "3   2025-02-28          70.0          71.0        59.0          NaN   \n",
      "4   2025-03-01          53.0          68.0        60.0          NaN   \n",
      "5   2025-03-02          26.0          37.0        65.0          NaN   \n",
      "6   2025-03-03          72.0          48.0        65.0          NaN   \n",
      "7   2025-03-04          42.0          65.0        59.0          NaN   \n",
      "8   2025-03-05          75.0          67.0        57.0          NaN   \n",
      "\n",
      "     total_sleep_s  deep_sleep_s  light_sleep_s  rem_sleep_s  awake_s  \\\n",
      "125            NaN           NaN            NaN          NaN      NaN   \n",
      "0              NaN           NaN            NaN          NaN      NaN   \n",
      "1          23340.0        3300.0        14280.0       5760.0     60.0   \n",
      "2          31440.0        4380.0        23400.0       3660.0   4680.0   \n",
      "3          38985.0        3120.0        23880.0      12000.0    540.0   \n",
      "4          31080.0        3960.0        19920.0       7200.0    600.0   \n",
      "5          22080.0        1980.0        18000.0       2100.0   1020.0   \n",
      "6          26880.0        7860.0        13620.0       5400.0      0.0   \n",
      "7          17400.0        4200.0         9960.0       3240.0    300.0   \n",
      "8          29038.0        4680.0        16140.0       8220.0    240.0   \n",
      "\n",
      "     restless_moments    steps  avg_stress  max_stress  total_hleep_h  \\\n",
      "125               NaN    525.0         NaN         NaN            NaN   \n",
      "0                 NaN   9953.0        54.0        96.0            NaN   \n",
      "1                 NaN   2926.0        46.0        97.0       6.483333   \n",
      "2                 NaN   8521.0        43.0        96.0       8.733333   \n",
      "3                 NaN  17681.0        25.0        99.0      10.829167   \n",
      "4                 NaN   7008.0        37.0        99.0       8.633333   \n",
      "5                 NaN   5103.0        51.0        99.0       6.133333   \n",
      "6                 NaN   5488.0        28.0        95.0       7.466667   \n",
      "7                 NaN   2669.0        41.0        99.0       4.833333   \n",
      "8                 NaN   7114.0        38.0        98.0       8.066111   \n",
      "\n",
      "     deep_hleep_h  light_hleep_h  rem_hleep_h   awake_h  \n",
      "125           NaN            NaN          NaN       NaN  \n",
      "0             NaN            NaN          NaN       NaN  \n",
      "1        0.916667       3.966667     1.600000  0.016667  \n",
      "2        1.216667       6.500000     1.016667  1.300000  \n",
      "3        0.866667       6.633333     3.333333  0.150000  \n",
      "4        1.100000       5.533333     2.000000  0.166667  \n",
      "5        0.550000       5.000000     0.583333  0.283333  \n",
      "6        2.183333       3.783333     1.500000  0.000000  \n",
      "7        1.166667       2.766667     0.900000  0.083333  \n",
      "8        1.300000       4.483333     2.283333  0.066667  \n"
     ]
    }
   ],
   "source": [
    "import os\n",
    "import json\n",
    "import pandas as pd\n",
    "from glob import glob\n",
    "from collections import defaultdict\n",
    "\n",
    "# ---- Setup ----\n",
    "raw_dir = \"/Users/tolgasabanoglu/Desktop/github/spatiotemporal/data/raw/\"\n",
    "json_files = sorted(glob(os.path.join(raw_dir, \"*.json\")))\n",
    "summary = defaultdict(dict)\n",
    "\n",
    "# ---- Parse Files ----\n",
    "for file in json_files:\n",
    "    fname = os.path.basename(file)\n",
    "\n",
    "    try:\n",
    "        with open(file) as f:\n",
    "            data = json.load(f)\n",
    "    except Exception as e:\n",
    "        print(f\"⚠️ Could not load {fname}: {e}\")\n",
    "        continue\n",
    "\n",
    "    # ---- STEPS ----\n",
    "    if fname.startswith(\"steps\") and isinstance(data, list) and data:\n",
    "        date = data[0].get(\"startGMT\", \"\")[:10]\n",
    "        steps = sum(item.get(\"steps\", 0) for item in data if isinstance(item, dict))\n",
    "        summary[date][\"steps\"] = steps\n",
    "\n",
    "    # ---- STRESS ----\n",
    "    elif fname.startswith(\"stress\") and isinstance(data, dict):\n",
    "        date = data.get(\"calendarDate\")\n",
    "        if date:\n",
    "            summary[date][\"avg_stress\"] = data.get(\"avgStressLevel\")\n",
    "            summary[date][\"max_stress\"] = data.get(\"maxStressLevel\")\n",
    "\n",
    "    # ---- BODY BATTERY ----\n",
    "    elif fname.startswith(\"body_battery\"):\n",
    "        if isinstance(data, list):\n",
    "            for entry in data:\n",
    "                if isinstance(entry, dict):\n",
    "                    date = entry.get(\"date\")\n",
    "                    if date:\n",
    "                        summary[date][\"body_charged\"] = entry.get(\"charged\")\n",
    "                        summary[date][\"body_drained\"] = entry.get(\"drained\")\n",
    "        elif isinstance(data, dict):\n",
    "            date = data.get(\"date\")\n",
    "            if date:\n",
    "                summary[date][\"body_charged\"] = data.get(\"charged\")\n",
    "                summary[date][\"body_drained\"] = data.get(\"drained\")\n",
    "\n",
    "    # ---- HEART RATE ----\n",
    "    elif fname.startswith(\"heart_rate\") and isinstance(data, dict):\n",
    "        date = data.get(\"calendarDate\")\n",
    "        if date:\n",
    "            summary[date][\"resting_hr\"] = data.get(\"restingHeartRate\")\n",
    "\n",
    "    # ---- SLEEP ----\n",
    "    elif fname.startswith(\"sleep\") and isinstance(data, dict):\n",
    "        record = {}\n",
    "        date = None\n",
    "\n",
    "        daily = data.get(\"dailySleepDTO\")\n",
    "        if isinstance(daily, dict):\n",
    "            date = daily.get(\"calendarDate\") or daily.get(\"sleepEndTimestampGMT\", \"\")[:10]\n",
    "            record.update({\n",
    "                \"sleep_score\": daily.get(\"overallSleepScore\"),\n",
    "                \"total_sleep_s\": daily.get(\"sleepTimeSeconds\"),\n",
    "                \"deep_sleep_s\": daily.get(\"deepSleepSeconds\"),\n",
    "                \"light_sleep_s\": daily.get(\"lightSleepSeconds\"),\n",
    "                \"rem_sleep_s\": daily.get(\"remSleepSeconds\"),\n",
    "                \"awake_s\": daily.get(\"awakeSleepSeconds\"),\n",
    "                \"restless_moments\": daily.get(\"restlessMomentsCount\")\n",
    "            })\n",
    "\n",
    "        rem = data.get(\"remSleepData\")\n",
    "        if isinstance(rem, dict):\n",
    "            record.update({\n",
    "                \"rem_count\": rem.get(\"remSleepCount\"),\n",
    "                \"avg_rem_duration_s\": rem.get(\"avgRemSleepSeconds\")\n",
    "            })\n",
    "\n",
    "        if date:\n",
    "            summary[date].update(record)\n",
    "\n",
    "# ---- Create DataFrame ----\n",
    "df = pd.DataFrame.from_dict(summary, orient=\"index\").reset_index()\n",
    "df = df.rename(columns={\"index\": \"date\"})\n",
    "df[\"date\"] = pd.to_datetime(df[\"date\"], errors=\"coerce\")\n",
    "df = df.sort_values(\"date\")\n",
    "\n",
    "# ---- Convert seconds → hours ----\n",
    "sleep_cols = [\"total_sleep_s\", \"deep_sleep_s\", \"light_sleep_s\", \"rem_sleep_s\", \"awake_s\", \"avg_rem_duration_s\"]\n",
    "for col in sleep_cols:\n",
    "    if col in df.columns:\n",
    "        df[col.replace(\"_s\", \"_h\")] = df[col] / 3600\n",
    "\n",
    "# ---- Preview ----\n",
    "print(df.head(10))\n"
   ]
  },
  {
   "cell_type": "code",
   "execution_count": 70,
   "metadata": {},
   "outputs": [
    {
     "name": "stdout",
     "output_type": "stream",
     "text": [
      "          date  body_charged  body_drained  resting_hr  total_sleep_s  \\\n",
      "125 2025-02-24           0.0          13.0        75.0        23340.0   \n",
      "0   2025-02-25           0.0          13.0        75.0        23340.0   \n",
      "1   2025-02-26          51.0          51.0        64.0        23340.0   \n",
      "2   2025-02-27          50.0          23.0        68.0        31440.0   \n",
      "3   2025-02-28          70.0          71.0        59.0        38985.0   \n",
      "\n",
      "     deep_sleep_s  light_sleep_s  rem_sleep_s  awake_s    steps  avg_stress  \\\n",
      "125        3300.0        14280.0       5760.0     60.0    525.0        54.0   \n",
      "0          3300.0        14280.0       5760.0     60.0   9953.0        54.0   \n",
      "1          3300.0        14280.0       5760.0     60.0   2926.0        46.0   \n",
      "2          4380.0        23400.0       3660.0   4680.0   8521.0        43.0   \n",
      "3          3120.0        23880.0      12000.0    540.0  17681.0        25.0   \n",
      "\n",
      "     max_stress  total_hleep_h  deep_hleep_h  light_hleep_h  rem_hleep_h  \\\n",
      "125        96.0       6.483333      0.916667       3.966667     1.600000   \n",
      "0          96.0       6.483333      0.916667       3.966667     1.600000   \n",
      "1          97.0       6.483333      0.916667       3.966667     1.600000   \n",
      "2          96.0       8.733333      1.216667       6.500000     1.016667   \n",
      "3          99.0      10.829167      0.866667       6.633333     3.333333   \n",
      "\n",
      "      awake_h  \n",
      "125  0.016667  \n",
      "0    0.016667  \n",
      "1    0.016667  \n",
      "2    1.300000  \n",
      "3    0.150000  \n"
     ]
    },
    {
     "name": "stderr",
     "output_type": "stream",
     "text": [
      "/var/folders/jg/x92gk5yd0t560nh7hmhyvm040000gn/T/ipykernel_1475/3967524136.py:13: FutureWarning:\n",
      "\n",
      "DataFrame.fillna with 'method' is deprecated and will raise in a future version. Use obj.ffill() or obj.bfill() instead.\n",
      "\n"
     ]
    }
   ],
   "source": [
    "\n",
    "\n",
    "# Assume df is already your loaded Garmin summary DataFrame\n",
    "# If not, load it first (e.g., from a CSV or JSON)\n",
    "\n",
    "# ---- 1. Remove unwanted columns ----\n",
    "columns_to_drop = [\"sleep_score\", \"restless_moments\"]\n",
    "df = df.drop(columns=[col for col in columns_to_drop if col in df.columns], errors=\"ignore\")\n",
    "\n",
    "# ---- 2. Ensure date is datetime and sorted ----\n",
    "df[\"date\"] = pd.to_datetime(df[\"date\"], errors=\"coerce\")\n",
    "df = df.sort_values(\"date\")\n",
    "\n",
    "# ---- 3. Forward-fill then backward-fill missing values ----\n",
    "df = df.fillna(method=\"ffill\").fillna(method=\"bfill\")\n",
    "\n",
    "# ---- 4. Preview cleaned data ----\n",
    "print(df.head())\n",
    "\n",
    "# Optional: save to CSV\n",
    "# df_filled.to_csv(\"garmin_cleaned.csv\", index=False)\n"
   ]
  },
  {
   "cell_type": "code",
   "execution_count": 71,
   "metadata": {},
   "outputs": [
    {
     "data": {
      "application/vnd.plotly.v1+json": {
       "config": {
        "plotlyServerURL": "https://plot.ly"
       },
       "data": [
        {
         "mode": "markers",
         "name": "body_charged",
         "type": "scatter",
         "x": {
          "bdata": "AAAAAAAAS0AAAAAAAABLQAAAAAAAAEdAAAAAAACARUAAAAAAAAA5QAAAAAAAgEJAAAAAAACASUAAAAAAAAA8QAAAAAAAgERAAAAAAAAAQ0AAAAAAAABFQAAAAAAAwFBAAAAAAACAQkAAAAAAAIBDQAAAAAAAAD9AAAAAAAAAOEAAAAAAAIBJQAAAAAAAAElAAAAAAAAAQ0AAAAAAAABBQAAAAAAAAD9AAAAAAAAAREAAAAAAAIBAQAAAAAAAAENAAAAAAAAARkAAAAAAAABEQAAAAAAAAEFAAAAAAAAAP0AAAAAAAABFQAAAAAAAgElAAAAAAAAAR0AAAAAAAIBAQAAAAAAAAEZAAAAAAACASUAAAAAAAAA9QAAAAAAAAD5AAAAAAAAAS0AAAAAAAIBJQAAAAAAAgEpAAAAAAAAARUAAAAAAAAA/QAAAAAAAADhAAAAAAACAQUAAAAAAAIBGQAAAAAAAgEFAAAAAAACAQkAAAAAAAABEQAAAAAAAgEhAAAAAAAAAPEAAAAAAAIBHQAAAAAAAgENAAAAAAAAAQ0AAAAAAAIBAQAAAAAAAAElAAAAAAAAARkAAAAAAAAA/QAAAAAAAAD9AAAAAAAAARkAAAAAAAABHQAAAAAAAAEVAAAAAAACAREAAAAAAAAA+QAAAAAAAAERAAAAAAACAS0AAAAAAAIBTQAAAAAAAAE1AAAAAAAAARkAAAAAAAABHQAAAAAAAAEJAAAAAAAAAQUAAAAAAAIBMQAAAAAAAgEBAAAAAAAAASEAAAAAAAIBBQAAAAAAAAEJAAAAAAACAQUAAAAAAAAA/QAAAAAAAAD1AAAAAAAAARkAAAAAAAIBFQAAAAAAAAE5AAAAAAACAR0AAAAAAAABFQAAAAAAAgEpAAAAAAACAQ0AAAAAAAIBDQAAAAAAAAEhAAAAAAAAARUAAAAAAAABJQAAAAAAAgENAAAAAAAAARkAAAAAAAABEQAAAAAAAAERAAAAAAAAARkAAAAAAAABJQAAAAAAAgEJAAAAAAAAAREAAAAAAAIBFQAAAAAAAAEZAAAAAAAAAT0AAAAAAAIBJQAAAAAAAAENAAAAAAAAASEAAAAAAAABFQAAAAAAAAEJAAAAAAAAARUAAAAAAAABGQAAAAAAAAERAAAAAAAAARkAAAAAAAIBFQAAAAAAAAEZAAAAAAAAAQ0AAAAAAAIBHQAAAAAAAAEVAAAAAAAAAREAAAAAAAABKQAAAAAAAAEVAAAAAAAAAQkAAAAAAAABHQAAAAAAAAEZAAAAAAAAAREAAAAAAAIBDQAAAAAAAAEVAAAAAAACAQkAAAAAAAIBAQAAAAAAAgEBA",
          "dtype": "f8"
         },
         "xaxis": "x",
         "y": {
          "bdata": "AAAAAAAAAAAAAAAAAAAAAAAAAAAAgElAAAAAAAAASUAAAAAAAIBRQAAAAAAAgEpAAAAAAAAAOkAAAAAAAABSQAAAAAAAAEVAAAAAAADAUkAAAAAAAABCQAAAAAAAADhAAAAAAACAUkAAAAAAAABUQAAAAAAAgE9AAAAAAACAUUAAAAAAAIBCQAAAAAAAAEFAAAAAAACASUAAAAAAAABRQAAAAAAAAFJAAAAAAACATUAAAAAAAABTQAAAAAAAgExAAAAAAAAAQkAAAAAAAEBTQAAAAAAAgEhAAAAAAACAT0AAAAAAAIBFQAAAAAAAAE1AAAAAAAAAQ0AAAAAAAIBTQAAAAAAAAEpAAAAAAAAAOkAAAAAAAABRQAAAAAAAwFJAAAAAAAAAP0AAAAAAAAA7QAAAAAAAADtAAAAAAAAAUEAAAAAAAABOQAAAAAAAQFNAAAAAAACAQ0AAAAAAAIBLQAAAAAAAAFBAAAAAAABAUEAAAAAAAIBIQAAAAAAAAEBAAAAAAAAAUkAAAAAAAABKQAAAAAAAAE1AAAAAAAAATEAAAAAAAIBIQAAAAAAAAAAAAAAAAAAAQ0AAAAAAAEBRQAAAAAAAgE5AAAAAAAAARkAAAAAAAABJQAAAAAAAAEVAAAAAAACARUAAAAAAAIBSQAAAAAAAAEpAAAAAAACAQEAAAAAAAAAAAAAAAAAAADBAAAAAAAAAQkAAAAAAAAA8QAAAAAAAAEtAAAAAAADAUEAAAAAAAAAsQAAAAAAAwFZAAAAAAAAAQkAAAAAAAIBPQAAAAAAAAFJAAAAAAAAAUUAAAAAAAABNQAAAAAAAQFRAAAAAAAAAQEAAAAAAAEBVQAAAAAAAADpAAAAAAAAASkAAAAAAAIBGQAAAAAAAAD1AAAAAAADAVEAAAAAAAIBMQAAAAAAAAElAAAAAAAAAQkAAAAAAAIBCQAAAAAAAgENAAAAAAAAAQkAAAAAAAIBRQAAAAAAAAFFAAAAAAAAAM0AAAAAAAAA0QAAAAAAAQFBAAAAAAACATEAAAAAAAIBOQAAAAAAAAExAAAAAAAAAMUAAAAAAAAAiQAAAAAAAgFVAAAAAAAAATkAAAAAAAIBKQAAAAAAAAElAAAAAAAAASkAAAAAAAAA0QAAAAAAAAFRAAAAAAAAAQ0AAAAAAAABNQAAAAAAAAD9AAAAAAABAVEAAAAAAAIBKQAAAAAAAgEpAAAAAAAAAUUAAAAAAAABLQAAAAAAAgEFAAAAAAACATkAAAAAAAABLQAAAAAAAQFFAAAAAAACARUAAAAAAAIBMQAAAAAAAgFNAAAAAAACATkAAAAAAAABPQAAAAAAAAE9A",
          "dtype": "f8"
         },
         "yaxis": "y"
        },
        {
         "line": {
          "dash": "dash"
         },
         "mode": "lines",
         "name": "body_charged Fit",
         "type": "scatter",
         "x": {
          "bdata": "AAAAAAAAS0AAAAAAAABLQAAAAAAAAEdAAAAAAACARUAAAAAAAAA5QAAAAAAAgEJAAAAAAACASUAAAAAAAAA8QAAAAAAAgERAAAAAAAAAQ0AAAAAAAABFQAAAAAAAwFBAAAAAAACAQkAAAAAAAIBDQAAAAAAAAD9AAAAAAAAAOEAAAAAAAIBJQAAAAAAAAElAAAAAAAAAQ0AAAAAAAABBQAAAAAAAAD9AAAAAAAAAREAAAAAAAIBAQAAAAAAAAENAAAAAAAAARkAAAAAAAABEQAAAAAAAAEFAAAAAAAAAP0AAAAAAAABFQAAAAAAAgElAAAAAAAAAR0AAAAAAAIBAQAAAAAAAAEZAAAAAAACASUAAAAAAAAA9QAAAAAAAAD5AAAAAAAAAS0AAAAAAAIBJQAAAAAAAgEpAAAAAAAAARUAAAAAAAAA/QAAAAAAAADhAAAAAAACAQUAAAAAAAIBGQAAAAAAAgEFAAAAAAACAQkAAAAAAAABEQAAAAAAAgEhAAAAAAAAAPEAAAAAAAIBHQAAAAAAAgENAAAAAAAAAQ0AAAAAAAIBAQAAAAAAAAElAAAAAAAAARkAAAAAAAAA/QAAAAAAAAD9AAAAAAAAARkAAAAAAAABHQAAAAAAAAEVAAAAAAACAREAAAAAAAAA+QAAAAAAAAERAAAAAAACAS0AAAAAAAIBTQAAAAAAAAE1AAAAAAAAARkAAAAAAAABHQAAAAAAAAEJAAAAAAAAAQUAAAAAAAIBMQAAAAAAAgEBAAAAAAAAASEAAAAAAAIBBQAAAAAAAAEJAAAAAAACAQUAAAAAAAAA/QAAAAAAAAD1AAAAAAAAARkAAAAAAAIBFQAAAAAAAAE5AAAAAAACAR0AAAAAAAABFQAAAAAAAgEpAAAAAAACAQ0AAAAAAAIBDQAAAAAAAAEhAAAAAAAAARUAAAAAAAABJQAAAAAAAgENAAAAAAAAARkAAAAAAAABEQAAAAAAAAERAAAAAAAAARkAAAAAAAABJQAAAAAAAgEJAAAAAAAAAREAAAAAAAIBFQAAAAAAAAEZAAAAAAAAAT0AAAAAAAIBJQAAAAAAAAENAAAAAAAAASEAAAAAAAABFQAAAAAAAAEJAAAAAAAAARUAAAAAAAABGQAAAAAAAAERAAAAAAAAARkAAAAAAAIBFQAAAAAAAAEZAAAAAAAAAQ0AAAAAAAIBHQAAAAAAAAEVAAAAAAAAAREAAAAAAAABKQAAAAAAAAEVAAAAAAAAAQkAAAAAAAABHQAAAAAAAAEZAAAAAAAAAREAAAAAAAIBDQAAAAAAAAEVAAAAAAACAQkAAAAAAAIBAQAAAAAAAgEBA",
          "dtype": "f8"
         },
         "xaxis": "x",
         "y": {
          "bdata": "BFD32fLIPUAEUPfZ8sg9QKR6nNGD00VAoMlYtydtSEDGUeGMfwNUQJpn0YJvoE1A/va3Uh1+QUBIKgOarbZSQEj+gFDqKEpARE09No7CTED04+wDCUtJQOCNsktEAB1AmmfRgm+gTUDwMqnprORLQMkCJafbaVFA8F4rM3ByVED+9rdSHX5BQFIRTJ/+W0JARE09No7CTEBL20a0CR1QQMkCJafbaVFAnBgVncsGS0B16JBa+otQQERNPTaOwkxATK/EakaPR0CcGBWdywZLQEvbRrQJHVBAyQIlp9tpUUD04+wDCUtJQP72t1IdfkFApHqc0YPTRUB16JBa+otQQEyvxGpGj0dA/va3Uh1+QUAeHbnzvEdSQPMPb03M2FFABFD32fLIPUD+9rdSHX5BQKyEH3O1hD9A9OPsAwlLSUDJAiWn22lRQPBeKzNwclRAQZz5GzJcT0D4lDAeZbFGQEGc+RsyXE9AmmfRgm+gTUCcGBWdywZLQKYr4OvfOUNASCoDmq22UkBQYAiFovVEQPAyqems5EtARE09No7CTEB16JBa+otQQFIRTJ/+W0JATK/EakaPR0DJAiWn22lRQMkCJafbaVFATK/EakaPR0CkepzRg9NFQPTj7AMJS0lASP6AUOooSkDzD29NzNhRQJwYFZ3LBktAXBvPQDANPECQP5sDl6InwGR9VnXo2TZATK/EakaPR0CkepzRg9NFQO2BZc9Qfk5AS9tGtAkdUEAMsn4Oq5U4QHXokFr6i1BA/EV0OMEXREBBnPkbMlxPQO2BZc9Qfk5AQZz5GzJcT0DJAiWn22lRQB4dufO8R1JATK/EakaPR0CgyVi3J21IQBAUBkNjYjNAUGAIhaL1RED04+wDCUtJQKyEH3O1hD9A8DKp6azkS0DwMqnprORLQPxFdDjBF0RA9OPsAwlLSUBSEUyf/ltCQPAyqems5EtATK/EakaPR0CcGBWdywZLQJwYFZ3LBktATK/EakaPR0BSEUyf/ltCQJpn0YJvoE1AnBgVncsGS0CgyVi3J21IQEyvxGpGj0dAgFVrIbzVL0D+9rdSHX5BQERNPTaOwkxA/EV0OMEXRED04+wDCUtJQO2BZc9Qfk5A9OPsAwlLSUBMr8RqRo9HQJwYFZ3LBktATK/EakaPR0CgyVi3J21IQEyvxGpGj0dARE09No7CTEBQYAiFovVEQPTj7AMJS0lAnBgVncsGS0Cq3CMGPKBAQPTj7AMJS0lA7YFlz1B+TkCkepzRg9NFQEyvxGpGj0dAnBgVncsGS0DwMqnprORLQPTj7AMJS0lAmmfRgm+gTUB16JBa+otQQHXokFr6i1BA",
          "dtype": "f8"
         },
         "yaxis": "y"
        },
        {
         "mode": "markers",
         "name": "body_drained",
         "type": "scatter",
         "x": {
          "bdata": "AAAAAAAAS0AAAAAAAABLQAAAAAAAAEdAAAAAAACARUAAAAAAAAA5QAAAAAAAgEJAAAAAAACASUAAAAAAAAA8QAAAAAAAgERAAAAAAAAAQ0AAAAAAAABFQAAAAAAAwFBAAAAAAACAQkAAAAAAAIBDQAAAAAAAAD9AAAAAAAAAOEAAAAAAAIBJQAAAAAAAAElAAAAAAAAAQ0AAAAAAAABBQAAAAAAAAD9AAAAAAAAAREAAAAAAAIBAQAAAAAAAAENAAAAAAAAARkAAAAAAAABEQAAAAAAAAEFAAAAAAAAAP0AAAAAAAABFQAAAAAAAgElAAAAAAAAAR0AAAAAAAIBAQAAAAAAAAEZAAAAAAACASUAAAAAAAAA9QAAAAAAAAD5AAAAAAAAAS0AAAAAAAIBJQAAAAAAAgEpAAAAAAAAARUAAAAAAAAA/QAAAAAAAADhAAAAAAACAQUAAAAAAAIBGQAAAAAAAgEFAAAAAAACAQkAAAAAAAABEQAAAAAAAgEhAAAAAAAAAPEAAAAAAAIBHQAAAAAAAgENAAAAAAAAAQ0AAAAAAAIBAQAAAAAAAAElAAAAAAAAARkAAAAAAAAA/QAAAAAAAAD9AAAAAAAAARkAAAAAAAABHQAAAAAAAAEVAAAAAAACAREAAAAAAAAA+QAAAAAAAAERAAAAAAACAS0AAAAAAAIBTQAAAAAAAAE1AAAAAAAAARkAAAAAAAABHQAAAAAAAAEJAAAAAAAAAQUAAAAAAAIBMQAAAAAAAgEBAAAAAAAAASEAAAAAAAIBBQAAAAAAAAEJAAAAAAACAQUAAAAAAAAA/QAAAAAAAAD1AAAAAAAAARkAAAAAAAIBFQAAAAAAAAE5AAAAAAACAR0AAAAAAAABFQAAAAAAAgEpAAAAAAACAQ0AAAAAAAIBDQAAAAAAAAEhAAAAAAAAARUAAAAAAAABJQAAAAAAAgENAAAAAAAAARkAAAAAAAABEQAAAAAAAAERAAAAAAAAARkAAAAAAAABJQAAAAAAAgEJAAAAAAAAAREAAAAAAAIBFQAAAAAAAAEZAAAAAAAAAT0AAAAAAAIBJQAAAAAAAAENAAAAAAAAASEAAAAAAAABFQAAAAAAAAEJAAAAAAAAARUAAAAAAAABGQAAAAAAAAERAAAAAAAAARkAAAAAAAIBFQAAAAAAAAEZAAAAAAAAAQ0AAAAAAAIBHQAAAAAAAAEVAAAAAAAAAREAAAAAAAABKQAAAAAAAAEVAAAAAAAAAQkAAAAAAAABHQAAAAAAAAEZAAAAAAAAAREAAAAAAAIBDQAAAAAAAAEVAAAAAAACAQkAAAAAAAIBAQAAAAAAAgEBA",
          "dtype": "f8"
         },
         "xaxis": "x2",
         "y": {
          "bdata": "AAAAAAAAKkAAAAAAAAAqQAAAAAAAgElAAAAAAAAAN0AAAAAAAMBRQAAAAAAAAFFAAAAAAACAQkAAAAAAAABIQAAAAAAAQFBAAAAAAADAUEAAAAAAAIBGQAAAAAAAADhAAAAAAAAAUUAAAAAAAIBLQAAAAAAAQFBAAAAAAAAATEAAAAAAAMBTQAAAAAAAAEFAAAAAAACARUAAAAAAAIBOQAAAAAAAgE9AAAAAAACATkAAAAAAAIBPQAAAAAAAgFFAAAAAAAAASEAAAAAAAMBQQAAAAAAAgENAAAAAAAAATkAAAAAAAIBOQAAAAAAAQFFAAAAAAAAAM0AAAAAAAABXQAAAAAAAAElAAAAAAACAQkAAAAAAAABHQAAAAAAAAE9AAAAAAACAT0AAAAAAAAA+QAAAAAAAADtAAAAAAACATkAAAAAAAABDQAAAAAAAAEpAAAAAAAAATEAAAAAAAIBSQAAAAAAAAEhAAAAAAAAAUUAAAAAAAABJQAAAAAAAAEdAAAAAAACAREAAAAAAAMBSQAAAAAAAAENAAAAAAADAVEAAAAAAAAA5QAAAAAAAgERAAAAAAACAQEAAAAAAAEBQQAAAAAAAAFFAAAAAAAAAUEAAAAAAAABGQAAAAAAAgEdAAAAAAAAAQ0AAAAAAAABJQAAAAAAAQFJAAAAAAAAARUAAAAAAAAAAAAAAAAAAADBAAAAAAAAAPkAAAAAAAAA9QAAAAAAAAEhAAAAAAAAATUAAAAAAAABAQAAAAAAAgFFAAAAAAACATUAAAAAAAIBJQAAAAAAAAFJAAAAAAACAUUAAAAAAAIBKQAAAAAAAQFNAAAAAAAAAR0AAAAAAAMBUQAAAAAAAAD5AAAAAAAAATEAAAAAAAABFQAAAAAAAADpAAAAAAAAAVEAAAAAAAIBMQAAAAAAAgE1AAAAAAAAAQkAAAAAAAIBCQAAAAAAAgENAAAAAAAAAQkAAAAAAAABPQAAAAAAAgFFAAAAAAAAAOUAAAAAAAAAyQAAAAAAAAE5AAAAAAAAATkAAAAAAAABOQAAAAAAAAE5AAAAAAAAAMkAAAAAAAABLQAAAAAAAwFRAAAAAAAAAU0AAAAAAAIBKQAAAAAAAAElAAAAAAACARUAAAAAAAAA5QAAAAAAAgFJAAAAAAACAQ0AAAAAAAIBPQAAAAAAAAD9AAAAAAAAAU0AAAAAAAABPQAAAAAAAAEdAAAAAAABAUkAAAAAAAIBLQAAAAAAAgEFAAAAAAACASUAAAAAAAIBPQAAAAAAAgFFAAAAAAACAQ0AAAAAAAABGQAAAAAAAAFZAAAAAAAAAS0AAAAAAAIBKQAAAAAAAgEpA",
          "dtype": "f8"
         },
         "yaxis": "y2"
        },
        {
         "line": {
          "dash": "dash"
         },
         "mode": "lines",
         "name": "body_drained Fit",
         "type": "scatter",
         "x": {
          "bdata": "AAAAAAAAS0AAAAAAAABLQAAAAAAAAEdAAAAAAACARUAAAAAAAAA5QAAAAAAAgEJAAAAAAACASUAAAAAAAAA8QAAAAAAAgERAAAAAAAAAQ0AAAAAAAABFQAAAAAAAwFBAAAAAAACAQkAAAAAAAIBDQAAAAAAAAD9AAAAAAAAAOEAAAAAAAIBJQAAAAAAAAElAAAAAAAAAQ0AAAAAAAABBQAAAAAAAAD9AAAAAAAAAREAAAAAAAIBAQAAAAAAAAENAAAAAAAAARkAAAAAAAABEQAAAAAAAAEFAAAAAAAAAP0AAAAAAAABFQAAAAAAAgElAAAAAAAAAR0AAAAAAAIBAQAAAAAAAAEZAAAAAAACASUAAAAAAAAA9QAAAAAAAAD5AAAAAAAAAS0AAAAAAAIBJQAAAAAAAgEpAAAAAAAAARUAAAAAAAAA/QAAAAAAAADhAAAAAAACAQUAAAAAAAIBGQAAAAAAAgEFAAAAAAACAQkAAAAAAAABEQAAAAAAAgEhAAAAAAAAAPEAAAAAAAIBHQAAAAAAAgENAAAAAAAAAQ0AAAAAAAIBAQAAAAAAAAElAAAAAAAAARkAAAAAAAAA/QAAAAAAAAD9AAAAAAAAARkAAAAAAAABHQAAAAAAAAEVAAAAAAACAREAAAAAAAAA+QAAAAAAAAERAAAAAAACAS0AAAAAAAIBTQAAAAAAAAE1AAAAAAAAARkAAAAAAAABHQAAAAAAAAEJAAAAAAAAAQUAAAAAAAIBMQAAAAAAAgEBAAAAAAAAASEAAAAAAAIBBQAAAAAAAAEJAAAAAAACAQUAAAAAAAAA/QAAAAAAAAD1AAAAAAAAARkAAAAAAAIBFQAAAAAAAAE5AAAAAAACAR0AAAAAAAABFQAAAAAAAgEpAAAAAAACAQ0AAAAAAAIBDQAAAAAAAAEhAAAAAAAAARUAAAAAAAABJQAAAAAAAgENAAAAAAAAARkAAAAAAAABEQAAAAAAAAERAAAAAAAAARkAAAAAAAABJQAAAAAAAgEJAAAAAAAAAREAAAAAAAIBFQAAAAAAAAEZAAAAAAAAAT0AAAAAAAIBJQAAAAAAAAENAAAAAAAAASEAAAAAAAABFQAAAAAAAAEJAAAAAAAAARUAAAAAAAABGQAAAAAAAAERAAAAAAAAARkAAAAAAAIBFQAAAAAAAAEZAAAAAAAAAQ0AAAAAAAIBHQAAAAAAAAEVAAAAAAAAAREAAAAAAAABKQAAAAAAAAEVAAAAAAAAAQkAAAAAAAABHQAAAAAAAAEZAAAAAAAAAREAAAAAAAIBDQAAAAAAAAEVAAAAAAACAQkAAAAAAAIBAQAAAAAAAgEBA",
          "dtype": "f8"
         },
         "xaxis": "x2",
         "y": {
          "bdata": "PhkALNW0Q0A+GQAs1bRDQIi0dQQvskdAxM6htTAxSUAWNlVunRVRQDwD+hc0L0xAejMs3dYzRUD4KL+VHFZQQJc1vyuHMEpA0k/r3IivS0AugrDw27BJQMz5gVhGcjpAPAP6FzQvTEBpnNyh3S9LQLM3Uno3LU9Ayo/cC3NVUUB6Myzd1jNFQOTmOhiCs0VA0k/r3IivS0B4HSbJNa5NQLM3Uno3LU9AAOnNZjKwSkDh0DQE4S1OQNJP69yIr0tAWxuTeoWxSEAA6c1mMrBKQHgdJsk1rk1AszdSejctT0AugrDw27BJQHozLN3WM0VAiLR1BC+yR0Dh0DQE4S1OQFsbk3qFsUhAejMs3dYzRUBDzzf4RhZQQBzrYLXirE9APhkALNW0Q0B6Myzd1jNFQKjMDmeANERALoKw8NuwSUCzN1J6Ny1PQMqP3AtzVVFADmoXjoouTUDyZ4Q/2jFIQA5qF46KLk1APAP6FzQvTEAA6c1mMrBKQE2aSVMtM0ZA+Ci/lRxWUEAfAWfJgzJHQGmc3KHdL0tA0k/r3IivS0Dh0DQE4S1OQOTmOhiCs0VAWxuTeoWxSECzN1J6Ny1PQLM3Uno3LU9AWxuTeoWxSECItHUEL7JHQC6CsPDbsElAlzW/K4cwSkAc62C14qxPQADpzWYysEpA1WXx8Ck1Q0CAHX2KHvMuQJpLxT8otkFAWxuTeoWxSECItHUEL7JHQKW2CFPfrkxAeB0myTWuTUAD/9N60zVCQOHQNAThLU5Atk1YjtiyRkAOaheOii5NQKW2CFPfrkxADmoXjoouTUCzN1J6Ny1PQEPPN/hGFlBAWxuTeoWxSEDEzqG1MDFJQMfkp8nRtkBAHwFnyYMyR0AugrDw27BJQKjMDmeANERAaZzcod0vS0BpnNyh3S9LQLZNWI7YskZALoKw8NuwSUDk5joYgrNFQGmc3KHdL0tAWxuTeoWxSEAA6c1mMrBKQADpzWYysEpAWxuTeoWxSEDk5joYgrNFQDwD+hc0L0xAAOnNZjKwSkDEzqG1MDFJQFsbk3qFsUhA6PsUp/ZuP0B6Myzd1jNFQNJP69yIr0tAtk1YjtiyRkAugrDw27BJQKW2CFPfrkxALoKw8NuwSUBbG5N6hbFIQADpzWYysEpAWxuTeoWxSEDEzqG1MDFJQFsbk3qFsUhA0k/r3IivS0AfAWfJgzJHQC6CsPDbsElAAOnNZjKwSkARgB2iK7REQC6CsPDbsElApbYIU9+uTECItHUEL7JHQFsbk3qFsUhAAOnNZjKwSkBpnNyh3S9LQC6CsPDbsElAPAP6FzQvTEDh0DQE4S1OQOHQNAThLU5A",
          "dtype": "f8"
         },
         "yaxis": "y2"
        },
        {
         "mode": "markers",
         "name": "resting_hr",
         "type": "scatter",
         "x": {
          "bdata": "AAAAAAAAS0AAAAAAAABLQAAAAAAAAEdAAAAAAACARUAAAAAAAAA5QAAAAAAAgEJAAAAAAACASUAAAAAAAAA8QAAAAAAAgERAAAAAAAAAQ0AAAAAAAABFQAAAAAAAwFBAAAAAAACAQkAAAAAAAIBDQAAAAAAAAD9AAAAAAAAAOEAAAAAAAIBJQAAAAAAAAElAAAAAAAAAQ0AAAAAAAABBQAAAAAAAAD9AAAAAAAAAREAAAAAAAIBAQAAAAAAAAENAAAAAAAAARkAAAAAAAABEQAAAAAAAAEFAAAAAAAAAP0AAAAAAAABFQAAAAAAAgElAAAAAAAAAR0AAAAAAAIBAQAAAAAAAAEZAAAAAAACASUAAAAAAAAA9QAAAAAAAAD5AAAAAAAAAS0AAAAAAAIBJQAAAAAAAgEpAAAAAAAAARUAAAAAAAAA/QAAAAAAAADhAAAAAAACAQUAAAAAAAIBGQAAAAAAAgEFAAAAAAACAQkAAAAAAAABEQAAAAAAAgEhAAAAAAAAAPEAAAAAAAIBHQAAAAAAAgENAAAAAAAAAQ0AAAAAAAIBAQAAAAAAAAElAAAAAAAAARkAAAAAAAAA/QAAAAAAAAD9AAAAAAAAARkAAAAAAAABHQAAAAAAAAEVAAAAAAACAREAAAAAAAAA+QAAAAAAAAERAAAAAAACAS0AAAAAAAIBTQAAAAAAAAE1AAAAAAAAARkAAAAAAAABHQAAAAAAAAEJAAAAAAAAAQUAAAAAAAIBMQAAAAAAAgEBAAAAAAAAASEAAAAAAAIBBQAAAAAAAAEJAAAAAAACAQUAAAAAAAAA/QAAAAAAAAD1AAAAAAAAARkAAAAAAAIBFQAAAAAAAAE5AAAAAAACAR0AAAAAAAABFQAAAAAAAgEpAAAAAAACAQ0AAAAAAAIBDQAAAAAAAAEhAAAAAAAAARUAAAAAAAABJQAAAAAAAgENAAAAAAAAARkAAAAAAAABEQAAAAAAAAERAAAAAAAAARkAAAAAAAABJQAAAAAAAgEJAAAAAAAAAREAAAAAAAIBFQAAAAAAAAEZAAAAAAAAAT0AAAAAAAIBJQAAAAAAAAENAAAAAAAAASEAAAAAAAABFQAAAAAAAAEJAAAAAAAAARUAAAAAAAABGQAAAAAAAAERAAAAAAAAARkAAAAAAAIBFQAAAAAAAAEZAAAAAAAAAQ0AAAAAAAIBHQAAAAAAAAEVAAAAAAAAAREAAAAAAAABKQAAAAAAAAEVAAAAAAAAAQkAAAAAAAABHQAAAAAAAAEZAAAAAAAAAREAAAAAAAIBDQAAAAAAAAEVAAAAAAACAQkAAAAAAAIBAQAAAAAAAgEBA",
          "dtype": "f8"
         },
         "xaxis": "x3",
         "y": {
          "bdata": "AAAAAADAUkAAAAAAAMBSQAAAAAAAAFBAAAAAAAAAUUAAAAAAAIBNQAAAAAAAAE5AAAAAAABAUEAAAAAAAEBQQAAAAAAAgE1AAAAAAACATEAAAAAAAEBQQAAAAAAAQFJAAAAAAACATUAAAAAAAIBOQAAAAAAAgE1AAAAAAAAATkAAAAAAAIBNQAAAAAAAAE9AAAAAAAAAUEAAAAAAAABPQAAAAAAAgE1AAAAAAACATUAAAAAAAABNQAAAAAAAgExAAAAAAAAAT0AAAAAAAIBMQAAAAAAAgE1AAAAAAACATUAAAAAAAIBPQAAAAAAAAE1AAAAAAACATUAAAAAAAIBNQAAAAAAAgE5AAAAAAACAT0AAAAAAAIBNQAAAAAAAAExAAAAAAACAT0AAAAAAAEBQQAAAAAAAAFBAAAAAAAAAT0AAAAAAAIBPQAAAAAAAgExAAAAAAAAATkAAAAAAAABMQAAAAAAAgExAAAAAAACATUAAAAAAAIBOQAAAAAAAQFBAAAAAAACATkAAAAAAAIBNQAAAAAAAgE5AAAAAAACATkAAAAAAAABOQAAAAAAAQFBAAAAAAABAUEAAAAAAAABOQAAAAAAAAE5AAAAAAACATkAAAAAAAIBNQAAAAAAAAE9AAAAAAADAUEAAAAAAAIBOQAAAAAAAgE1AAAAAAAAAT0AAAAAAAIBQQAAAAAAAQFJAAAAAAAAAUUAAAAAAAABSQAAAAAAAAE5AAAAAAACATkAAAAAAAMBRQAAAAAAAgEtAAAAAAACAT0AAAAAAAABNQAAAAAAAgExAAAAAAAAATUAAAAAAAABOQAAAAAAAAExAAAAAAAAAUEAAAAAAAIBLQAAAAAAAAE9AAAAAAACATUAAAAAAAEBQQAAAAAAAAFBAAAAAAACATEAAAAAAAIBNQAAAAAAAAE5AAAAAAAAAT0AAAAAAAEBQQAAAAAAAAFBAAAAAAADAUEAAAAAAAIBOQAAAAAAAgE5AAAAAAAAAUkAAAAAAAEBRQAAAAAAAgE5AAAAAAAAAT0AAAAAAAIBNQAAAAAAAgExAAAAAAADAUEAAAAAAAMBQQAAAAAAAAE1AAAAAAACATkAAAAAAAABOQAAAAAAAgE5AAAAAAACAT0AAAAAAAABRQAAAAAAAAE5AAAAAAACAT0AAAAAAAABOQAAAAAAAgE9AAAAAAAAATUAAAAAAAABNQAAAAAAAAE9AAAAAAAAATUAAAAAAAABNQAAAAAAAgFBAAAAAAABAUEAAAAAAAABPQAAAAAAAAE1AAAAAAACATkAAAAAAAABPQAAAAAAAAE1AAAAAAACATkAAAAAAAABPQAAAAAAAAE9A",
          "dtype": "f8"
         },
         "yaxis": "y3"
        },
        {
         "line": {
          "dash": "dash"
         },
         "mode": "lines",
         "name": "resting_hr Fit",
         "type": "scatter",
         "x": {
          "bdata": "AAAAAAAAS0AAAAAAAABLQAAAAAAAAEdAAAAAAACARUAAAAAAAAA5QAAAAAAAgEJAAAAAAACASUAAAAAAAAA8QAAAAAAAgERAAAAAAAAAQ0AAAAAAAABFQAAAAAAAwFBAAAAAAACAQkAAAAAAAIBDQAAAAAAAAD9AAAAAAAAAOEAAAAAAAIBJQAAAAAAAAElAAAAAAAAAQ0AAAAAAAABBQAAAAAAAAD9AAAAAAAAAREAAAAAAAIBAQAAAAAAAAENAAAAAAAAARkAAAAAAAABEQAAAAAAAAEFAAAAAAAAAP0AAAAAAAABFQAAAAAAAgElAAAAAAAAAR0AAAAAAAIBAQAAAAAAAAEZAAAAAAACASUAAAAAAAAA9QAAAAAAAAD5AAAAAAAAAS0AAAAAAAIBJQAAAAAAAgEpAAAAAAAAARUAAAAAAAAA/QAAAAAAAADhAAAAAAACAQUAAAAAAAIBGQAAAAAAAgEFAAAAAAACAQkAAAAAAAABEQAAAAAAAgEhAAAAAAAAAPEAAAAAAAIBHQAAAAAAAgENAAAAAAAAAQ0AAAAAAAIBAQAAAAAAAAElAAAAAAAAARkAAAAAAAAA/QAAAAAAAAD9AAAAAAAAARkAAAAAAAABHQAAAAAAAAEVAAAAAAACAREAAAAAAAAA+QAAAAAAAAERAAAAAAACAS0AAAAAAAIBTQAAAAAAAAE1AAAAAAAAARkAAAAAAAABHQAAAAAAAAEJAAAAAAAAAQUAAAAAAAIBMQAAAAAAAgEBAAAAAAAAASEAAAAAAAIBBQAAAAAAAAEJAAAAAAACAQUAAAAAAAAA/QAAAAAAAAD1AAAAAAAAARkAAAAAAAIBFQAAAAAAAAE5AAAAAAACAR0AAAAAAAABFQAAAAAAAgEpAAAAAAACAQ0AAAAAAAIBDQAAAAAAAAEhAAAAAAAAARUAAAAAAAABJQAAAAAAAgENAAAAAAAAARkAAAAAAAABEQAAAAAAAAERAAAAAAAAARkAAAAAAAABJQAAAAAAAgEJAAAAAAAAAREAAAAAAAIBFQAAAAAAAAEZAAAAAAAAAT0AAAAAAAIBJQAAAAAAAAENAAAAAAAAASEAAAAAAAABFQAAAAAAAAEJAAAAAAAAARUAAAAAAAABGQAAAAAAAAERAAAAAAAAARkAAAAAAAIBFQAAAAAAAAEZAAAAAAAAAQ0AAAAAAAIBHQAAAAAAAAEVAAAAAAAAAREAAAAAAAABKQAAAAAAAAEVAAAAAAAAAQkAAAAAAAABHQAAAAAAAAEZAAAAAAAAAREAAAAAAAIBDQAAAAAAAAEVAAAAAAACAQkAAAAAAAIBAQAAAAAAAgEBA",
          "dtype": "f8"
         },
         "xaxis": "x3",
         "y": {
          "bdata": "YA74xHcxUEBgDvjEdzFQQFZx+wsmZk9ADrG/fFoHT0BfL1khlc5MQH4wSF7DSU5APC5a/RECUECm75SwYC1NQDSGQh0oyE5A7MUGjlxpTkChGwFNwedOQKfZTnvb/lBAfjBIXsNJTkBZW8W99YhOQO6v0D8sjE1A8Zma8fuuTEA8Llr9EQJQQAvH9cqK5E9A7MUGjlxpTkA2cAzP9+pNQO6v0D8sjE1AxvCD7Y6oTkDJ2k2fXstNQOzFBo5caU5AfEZ+rPMmT0DG8IPtjqhOQDZwDM/36k1A7q/QPyyMTUChGwFNwedOQDwuWv0RAlBAVnH7CyZmT0DJ2k2fXstNQHxGfqzzJk9APC5a/RECUEAUhVPg+UxNQIEaEhCTbE1AYA74xHcxUEA8Llr9EQJQQKrDGC2rIVBAoRsBTcHnTkDur9A/LIxNQPGZmvH7rkxApAXL/pAKTkDp2zzcjEZPQKQFy/6QCk5AfjBIXsNJTkDG8IPtjqhOQJ4xN5vxxE9Apu+UsGAtTUDDBro7v4VPQFlbxb31iE5A7MUGjlxpTkDJ2k2fXstNQAvH9cqK5E9AfEZ+rPMmT0Dur9A/LIxNQO6v0D8sjE1AfEZ+rPMmT0BWcfsLJmZPQKEbAU3B505ANIZCHSjITkCBGhIQk2xNQMbwg+2OqE5AF1nXXERBUECAD+cBpqxRQDs5dSSqcFBAfEZ+rPMmT0BWcfsLJmZPQBGbiS4qKk5ANnAMz/fqTUCE7pWM3WBQQMnaTZ9ey01AMJx4a1ilT0CkBcv+kApOQBGbiS4qKk5ApAXL/pAKTkDur9A/LIxNQBSFU+D5TE1AfEZ+rPMmT0AOsb98WgdPQKjOM1RDkFBAwwa6O7+FT0ChGwFNwedOQKrDGC2rIVBAWVvFvfWITkBZW8W99YhOQDCceGtYpU9AoRsBTcHnTkALx/XKiuRPQFlbxb31iE5AfEZ+rPMmT0DG8IPtjqhOQMbwg+2OqE5AfEZ+rPMmT0ALx/XKiuRPQH4wSF7DSU5AxvCD7Y6oTkAOsb98WgdPQHxGfqzzJk9AFmTyg9yvUEA8Llr9EQJQQOzFBo5caU5AMJx4a1ilT0ChGwFNwedOQBGbiS4qKk5AoRsBTcHnTkB8Rn6s8yZPQMbwg+2OqE5AfEZ+rPMmT0AOsb98WgdPQHxGfqzzJk9A7MUGjlxpTkDDBro7v4VPQKEbAU3B505AxvCD7Y6oTkDzeDmV3hFQQKEbAU3B505AEZuJLioqTkBWcfsLJmZPQHxGfqzzJk9AxvCD7Y6oTkBZW8W99YhOQKEbAU3B505AfjBIXsNJTkDJ2k2fXstNQMnaTZ9ey01A",
          "dtype": "f8"
         },
         "yaxis": "y3"
        },
        {
         "mode": "markers",
         "name": "total_sleep_s",
         "type": "scatter",
         "x": {
          "bdata": "AAAAAAAAS0AAAAAAAABLQAAAAAAAAEdAAAAAAACARUAAAAAAAAA5QAAAAAAAgEJAAAAAAACASUAAAAAAAAA8QAAAAAAAgERAAAAAAAAAQ0AAAAAAAABFQAAAAAAAwFBAAAAAAACAQkAAAAAAAIBDQAAAAAAAAD9AAAAAAAAAOEAAAAAAAIBJQAAAAAAAAElAAAAAAAAAQ0AAAAAAAABBQAAAAAAAAD9AAAAAAAAAREAAAAAAAIBAQAAAAAAAAENAAAAAAAAARkAAAAAAAABEQAAAAAAAAEFAAAAAAAAAP0AAAAAAAABFQAAAAAAAgElAAAAAAAAAR0AAAAAAAIBAQAAAAAAAAEZAAAAAAACASUAAAAAAAAA9QAAAAAAAAD5AAAAAAAAAS0AAAAAAAIBJQAAAAAAAgEpAAAAAAAAARUAAAAAAAAA/QAAAAAAAADhAAAAAAACAQUAAAAAAAIBGQAAAAAAAgEFAAAAAAACAQkAAAAAAAABEQAAAAAAAgEhAAAAAAAAAPEAAAAAAAIBHQAAAAAAAgENAAAAAAAAAQ0AAAAAAAIBAQAAAAAAAAElAAAAAAAAARkAAAAAAAAA/QAAAAAAAAD9AAAAAAAAARkAAAAAAAABHQAAAAAAAAEVAAAAAAACAREAAAAAAAAA+QAAAAAAAAERAAAAAAACAS0AAAAAAAIBTQAAAAAAAAE1AAAAAAAAARkAAAAAAAABHQAAAAAAAAEJAAAAAAAAAQUAAAAAAAIBMQAAAAAAAgEBAAAAAAAAASEAAAAAAAIBBQAAAAAAAAEJAAAAAAACAQUAAAAAAAAA/QAAAAAAAAD1AAAAAAAAARkAAAAAAAIBFQAAAAAAAAE5AAAAAAACAR0AAAAAAAABFQAAAAAAAgEpAAAAAAACAQ0AAAAAAAIBDQAAAAAAAAEhAAAAAAAAARUAAAAAAAABJQAAAAAAAgENAAAAAAAAARkAAAAAAAABEQAAAAAAAAERAAAAAAAAARkAAAAAAAABJQAAAAAAAgEJAAAAAAAAAREAAAAAAAIBFQAAAAAAAAEZAAAAAAAAAT0AAAAAAAIBJQAAAAAAAAENAAAAAAAAASEAAAAAAAABFQAAAAAAAAEJAAAAAAAAARUAAAAAAAABGQAAAAAAAAERAAAAAAAAARkAAAAAAAIBFQAAAAAAAAEZAAAAAAAAAQ0AAAAAAAIBHQAAAAAAAAEVAAAAAAAAAREAAAAAAAABKQAAAAAAAAEVAAAAAAAAAQkAAAAAAAABHQAAAAAAAAEZAAAAAAAAAREAAAAAAAIBDQAAAAAAAAEVAAAAAAACAQkAAAAAAAIBAQAAAAAAAgEBA",
          "dtype": "f8"
         },
         "xaxis": "x4",
         "y": {
          "bdata": "AAAAAADL1kAAAAAAAMvWQAAAAAAAy9ZAAAAAAAC03kAAAAAAIAnjQAAAAAAAWt5AAAAAAACQ1UAAAAAAAEDaQAAAAAAA/tBAAAAAAIBb3EAAAAAAAMLQQAAAAAAAed1AAAAAAIDY4EAAAAAAANfZQAAAAACAb+BAAAAAAGAi4EAAAAAAABLbQAAAAAAAA9tAAAAAAABA2kAAAAAAgGDgQAAAAAAA1NxAAAAAAABL3kAAAAAAAO/fQAAAAAAAaOBAAAAAAAAh20AAAAAAACDcQAAAAAAA4d5AAAAAAADV20AAAAAAALPfQAAAAAAAt9tAAAAAAADt0kAAAAAAgOfgQAAAAAAAht9AAAAAAABc3EAAAAAAABLbQAAAAADAVdxAAAAAAADU3EAAAAAAwK/aQAAAAACAuuBAAAAAAAAf3UAAAAAAAMPeQAAAAABgiOFAAAAAAACn3EAAAAAAAMjZQAAAAAAAfdlAAAAAAAAu3UAAAAAAAOHeQAAAAACAYOBAAAAAAACX3UAAAAAAABvcQAAAAAAAu9dAAAAAAIDI4UAAAAAAAPHdQAAAAAAA8d1AAAAAAACX3UAAAAAAQMDeQAAAAACAi91AAAAAAMBy2UAAAAAAADHaQAAAAACAYOBAAAAAAABN3EAAAAAAAKTgQAAAAAAAa9xAAAAAAEA63UAAAAAAAECqQAAAAAAA5NtAAAAAAMCF3UAAAAAAYDDiQAAAAACAJOBAAAAAAAAs4EAAAAAAAEDaQAAAAAAgWeJAAAAAAADH2kAAAAAAALPgQAAAAABADt5AAAAAAAA83kAAAAAAADvfQAAAAAAALt1AAAAAAAB82kAAAAAAAJfdQAAAAAAAINxAAAAAAEDb3kAAAAAAABDdQAAAAABA2tBAAAAAAAAQ3UAAAAAAABTZQAAAAACAM+BAAAAAAADX2UAAAAAAAMjZQAAAAAAAm9lAAAAAAADK10AAAAAAgI3gQAAAAACA1+FAAAAAAAAsz0AAAAAAAAbYQAAAAAAAKuJAAAAAAACp2kAAAAAAAB3gQAAAAAAA2NhAAAAAAAAuzUAAAAAAAC7NQAAAAACAmuJAAAAAAAB43kAAAAAAAM3UQAAAAAAAstFAAAAAAEAo4UAAAAAAAErfQAAAAAAAQNpAAAAAAAD+4EAAAAAAALfbQAAAAAAAJMhAAAAAAADT3UAAAAAAAHfQQAAAAAAAt9tAAAAAAABQ2UAAAAAAAL7UQAAAAAAA2NhAAAAAAAAS20AAAAAAAOnWQAAAAAAAuNpAAAAAAADz20AAAAAAAObZQAAAAAAAlt5AAAAAAADj3EAAAAAAgFHgQAAAAACAQuBA",
          "dtype": "f8"
         },
         "yaxis": "y4"
        },
        {
         "line": {
          "dash": "dash"
         },
         "mode": "lines",
         "name": "total_sleep_s Fit",
         "type": "scatter",
         "x": {
          "bdata": "AAAAAAAAS0AAAAAAAABLQAAAAAAAAEdAAAAAAACARUAAAAAAAAA5QAAAAAAAgEJAAAAAAACASUAAAAAAAAA8QAAAAAAAgERAAAAAAAAAQ0AAAAAAAABFQAAAAAAAwFBAAAAAAACAQkAAAAAAAIBDQAAAAAAAAD9AAAAAAAAAOEAAAAAAAIBJQAAAAAAAAElAAAAAAAAAQ0AAAAAAAABBQAAAAAAAAD9AAAAAAAAAREAAAAAAAIBAQAAAAAAAAENAAAAAAAAARkAAAAAAAABEQAAAAAAAAEFAAAAAAAAAP0AAAAAAAABFQAAAAAAAgElAAAAAAAAAR0AAAAAAAIBAQAAAAAAAAEZAAAAAAACASUAAAAAAAAA9QAAAAAAAAD5AAAAAAAAAS0AAAAAAAIBJQAAAAAAAgEpAAAAAAAAARUAAAAAAAAA/QAAAAAAAADhAAAAAAACAQUAAAAAAAIBGQAAAAAAAgEFAAAAAAACAQkAAAAAAAABEQAAAAAAAgEhAAAAAAAAAPEAAAAAAAIBHQAAAAAAAgENAAAAAAAAAQ0AAAAAAAIBAQAAAAAAAAElAAAAAAAAARkAAAAAAAAA/QAAAAAAAAD9AAAAAAAAARkAAAAAAAABHQAAAAAAAAEVAAAAAAACAREAAAAAAAAA+QAAAAAAAAERAAAAAAACAS0AAAAAAAIBTQAAAAAAAAE1AAAAAAAAARkAAAAAAAABHQAAAAAAAAEJAAAAAAAAAQUAAAAAAAIBMQAAAAAAAgEBAAAAAAAAASEAAAAAAAIBBQAAAAAAAAEJAAAAAAACAQUAAAAAAAAA/QAAAAAAAAD1AAAAAAAAARkAAAAAAAIBFQAAAAAAAAE5AAAAAAACAR0AAAAAAAABFQAAAAAAAgEpAAAAAAACAQ0AAAAAAAIBDQAAAAAAAAEhAAAAAAAAARUAAAAAAAABJQAAAAAAAgENAAAAAAAAARkAAAAAAAABEQAAAAAAAAERAAAAAAAAARkAAAAAAAABJQAAAAAAAgEJAAAAAAAAAREAAAAAAAIBFQAAAAAAAAEZAAAAAAAAAT0AAAAAAAIBJQAAAAAAAAENAAAAAAAAASEAAAAAAAABFQAAAAAAAAEJAAAAAAAAARUAAAAAAAABGQAAAAAAAAERAAAAAAAAARkAAAAAAAIBFQAAAAAAAAEZAAAAAAAAAQ0AAAAAAAIBHQAAAAAAAAEVAAAAAAAAAREAAAAAAAABKQAAAAAAAAEVAAAAAAAAAQkAAAAAAAABHQAAAAAAAAEZAAAAAAAAAREAAAAAAAIBDQAAAAAAAAEVAAAAAAACAQkAAAAAAAIBAQAAAAAAAgEBA",
          "dtype": "f8"
         },
         "xaxis": "x4",
         "y": {
          "bdata": "pu2ubI8u2ECm7a5sjy7YQBLo8Oy7oNpA+6UJnYyL20C4DM9eOIbgQMwhO/0tYd1AjqvHHGAZ2UDDrcIG0BDgQJYkGr0XKNxAfuIybegS3UBI5REt0tnbQLW2QxwHNdRAzCE7/S1h3UAxoyrdosTcQJ6dbF3PNt9AXizTJlut4ECOq8ccYBnZQNzqz6ylZ9lAfuIybegS3UC131Ot/kveQJ6dbF3PNt9A5GMiTV123EACH1w9RJreQH7iMm3oEt1ArWYBDUc920DkYyJNXXbcQLXfU63+S95Anp1sXc8230BI5REt0tnbQI6rxxxgGdlAEujw7Lug2kACH1w9RJreQK1mAQ1HPdtAjqvHHGAZ2UA4HH19WtPfQOvcdO0Uhd9Apu2ubI8u2ECOq8ccYBnZQPMst/zUfNhASOURLdLZ20CenWxdzzbfQF4s0yZbreBAaKBLHbn93UBgJ/l8Ae/aQGigSx25/d1AzCE7/S1h3UDkYyJNXXbcQCoq2DzrtdlAw63CBtAQ4EDEqOhcdlLaQDGjKt2ixNxAfuIybegS3UACH1w9RJreQNzqz6ylZ9lArWYBDUc920CenWxdzzbfQJ6dbF3PNt9ArWYBDUc920AS6PDsu6DaQEjlES3S2dtAliQavRco3EDr3HTtFIXfQORjIk1ddtxAWK6m3Eng10Bg/ujrCdjQQG/wjSx59dZArWYBDUc920AS6PDsu6DaQBphQ41zr91Atd9Trf5L3kC9L5a8vkPXQAIfXD1Emt5Ad2ngzDAE2kBooEsduf3dQBphQ41zr91AaKBLHbn93UCenWxdzzbfQDgcfX1a099ArWYBDUc920D7pQmdjIvbQNRxfQzuWNZAxKjoXHZS2kBI5REt0tnbQPMst/zUfNhAMaMq3aLE3EAxoyrdosTcQHdp4MwwBNpASOURLdLZ20Dc6s+spWfZQDGjKt2ixNxArWYBDUc920DkYyJNXXbcQORjIk1ddtxArWYBDUc920Dc6s+spWfZQMwhO/0tYd1A5GMiTV123ED7pQmdjIvbQK1mAQ1HPdtAOfNs7GK81UCOq8ccYBnZQH7iMm3oEt1Ad2ngzDAE2kBI5REt0tnbQBphQ41zr91ASOURLdLZ20CtZgENRz3bQORjIk1ddtxArWYBDUc920D7pQmdjIvbQK1mAQ1HPdtAfuIybegS3UDEqOhcdlLaQEjlES3S2dtA5GMiTV123EBBbL+MGsvYQEjlES3S2dtAGmFDjXOv3UAS6PDsu6DaQK1mAQ1HPdtA5GMiTV123EAxoyrdosTcQEjlES3S2dtAzCE7/S1h3UACH1w9RJreQAIfXD1Emt5A",
          "dtype": "f8"
         },
         "yaxis": "y4"
        },
        {
         "mode": "markers",
         "name": "deep_sleep_s",
         "type": "scatter",
         "x": {
          "bdata": "AAAAAAAAS0AAAAAAAABLQAAAAAAAAEdAAAAAAACARUAAAAAAAAA5QAAAAAAAgEJAAAAAAACASUAAAAAAAAA8QAAAAAAAgERAAAAAAAAAQ0AAAAAAAABFQAAAAAAAwFBAAAAAAACAQkAAAAAAAIBDQAAAAAAAAD9AAAAAAAAAOEAAAAAAAIBJQAAAAAAAAElAAAAAAAAAQ0AAAAAAAABBQAAAAAAAAD9AAAAAAAAAREAAAAAAAIBAQAAAAAAAAENAAAAAAAAARkAAAAAAAABEQAAAAAAAAEFAAAAAAAAAP0AAAAAAAABFQAAAAAAAgElAAAAAAAAAR0AAAAAAAIBAQAAAAAAAAEZAAAAAAACASUAAAAAAAAA9QAAAAAAAAD5AAAAAAAAAS0AAAAAAAIBJQAAAAAAAgEpAAAAAAAAARUAAAAAAAAA/QAAAAAAAADhAAAAAAACAQUAAAAAAAIBGQAAAAAAAgEFAAAAAAACAQkAAAAAAAABEQAAAAAAAgEhAAAAAAAAAPEAAAAAAAIBHQAAAAAAAgENAAAAAAAAAQ0AAAAAAAIBAQAAAAAAAAElAAAAAAAAARkAAAAAAAAA/QAAAAAAAAD9AAAAAAAAARkAAAAAAAABHQAAAAAAAAEVAAAAAAACAREAAAAAAAAA+QAAAAAAAAERAAAAAAACAS0AAAAAAAIBTQAAAAAAAAE1AAAAAAAAARkAAAAAAAABHQAAAAAAAAEJAAAAAAAAAQUAAAAAAAIBMQAAAAAAAgEBAAAAAAAAASEAAAAAAAIBBQAAAAAAAAEJAAAAAAACAQUAAAAAAAAA/QAAAAAAAAD1AAAAAAAAARkAAAAAAAIBFQAAAAAAAAE5AAAAAAACAR0AAAAAAAABFQAAAAAAAgEpAAAAAAACAQ0AAAAAAAIBDQAAAAAAAAEhAAAAAAAAARUAAAAAAAABJQAAAAAAAgENAAAAAAAAARkAAAAAAAABEQAAAAAAAAERAAAAAAAAARkAAAAAAAABJQAAAAAAAgEJAAAAAAAAAREAAAAAAAIBFQAAAAAAAAEZAAAAAAAAAT0AAAAAAAIBJQAAAAAAAAENAAAAAAAAASEAAAAAAAABFQAAAAAAAAEJAAAAAAAAARUAAAAAAAABGQAAAAAAAAERAAAAAAAAARkAAAAAAAIBFQAAAAAAAAEZAAAAAAAAAQ0AAAAAAAIBHQAAAAAAAAEVAAAAAAAAAREAAAAAAAABKQAAAAAAAAEVAAAAAAAAAQkAAAAAAAABHQAAAAAAAAEZAAAAAAAAAREAAAAAAAIBDQAAAAAAAAEVAAAAAAACAQkAAAAAAAIBAQAAAAAAAgEBA",
          "dtype": "f8"
         },
         "xaxis": "x5",
         "y": {
          "bdata": "AAAAAADIqUAAAAAAAMipQAAAAAAAyKlAAAAAAAAcsUAAAAAAAGCoQAAAAAAA8K5AAAAAAADwnkAAAAAAALS+QAAAAAAAaLBAAAAAAABIskAAAAAAAECqQAAAAAAALLBAAAAAAAA4s0AAAAAAAFC5QAAAAAAAmKxAAAAAAACQtUAAAAAAAOS7QAAAAAAAsKNAAAAAAAAMskAAAAAAABi1QAAAAAAA8K5AAAAAAABor0AAAAAAAHSzQAAAAAAAzLVAAAAAAABwp0AAAAAAAFixQAAAAAAAfLpAAAAAAACws0AAAAAAAHCnQAAAAAAA7LNAAAAAAAAArkAAAAAAAByxQAAAAAAAMLtAAAAAAACQpUAAAAAAADCrQAAAAAAAAK5AAAAAAABUtUAAAAAAAAyyQAAAAAAAaLBAAAAAAADgr0AAAAAAAFixQAAAAAAAZLRAAAAAAACApkAAAAAAAPyyQAAAAAAAsLNAAAAAAAAssEAAAAAAADCrQAAAAAAA4K9AAAAAAAAMskAAAAAAAOCwQAAAAAAAEK1AAAAAAACIrUAAAAAAAJisQAAAAAAAmKxAAAAAAABooEAAAAAAAFy8QAAAAAAA+KZAAAAAAABYsUAAAAAAAGivQAAAAAAAMKtAAAAAAADQsUAAAAAAAFixQAAAAAAA0KFAAAAAAACws0AAAAAAAAAAAAAAAAAAYJhAAAAAAACksEAAAAAAAPCuQAAAAAAAqKtAAAAAAADwrkAAAAAAAICGQAAAAAAACLZAAAAAAABIskAAAAAAAHSzQAAAAAAACLZAAAAAAAAIpkAAAAAAAHiuQAAAAAAAJLhAAAAAAAAAjkAAAAAAALi6QAAAAAAApLBAAAAAAACIrUAAAAAAAByxQAAAAAAAAAAAAAAAAABIskAAAAAAADCrQAAAAAAAIJxAAAAAAABEtkAAAAAAAGS0QAAAAAAAGKVAAAAAAABQmUAAAAAAALy2QAAAAAAA/LJAAAAAAABYoUAAAAAAALCzQAAAAAAAzLVAAAAAAAAkuEAAAAAAADS3QAAAAAAA+LZAAAAAAABooEAAAAAAAGigQAAAAAAAcKdAAAAAAADIuUAAAAAAANChQAAAAAAAEK1AAAAAAAAwq0AAAAAAAACeQAAAAAAAEL1AAAAAAAC4qkAAAAAAAMCyQAAAAAAAGLVAAAAAAAAcsUAAAAAAAJSxQAAAAAAAUKlAAAAAAACMuUAAAAAAABCtQAAAAAAAYKhAAAAAAAAQrUAAAAAAACCMQAAAAAAApLBAAAAAAAAArkAAAAAAAMipQAAAAAAAGLVAAAAAAADQsUAAAAAAAHCnQAAAAAAAmKxA",
          "dtype": "f8"
         },
         "yaxis": "y5"
        },
        {
         "line": {
          "dash": "dash"
         },
         "mode": "lines",
         "name": "deep_sleep_s Fit",
         "type": "scatter",
         "x": {
          "bdata": "AAAAAAAAS0AAAAAAAABLQAAAAAAAAEdAAAAAAACARUAAAAAAAAA5QAAAAAAAgEJAAAAAAACASUAAAAAAAAA8QAAAAAAAgERAAAAAAAAAQ0AAAAAAAABFQAAAAAAAwFBAAAAAAACAQkAAAAAAAIBDQAAAAAAAAD9AAAAAAAAAOEAAAAAAAIBJQAAAAAAAAElAAAAAAAAAQ0AAAAAAAABBQAAAAAAAAD9AAAAAAAAAREAAAAAAAIBAQAAAAAAAAENAAAAAAAAARkAAAAAAAABEQAAAAAAAAEFAAAAAAAAAP0AAAAAAAABFQAAAAAAAgElAAAAAAAAAR0AAAAAAAIBAQAAAAAAAAEZAAAAAAACASUAAAAAAAAA9QAAAAAAAAD5AAAAAAAAAS0AAAAAAAIBJQAAAAAAAgEpAAAAAAAAARUAAAAAAAAA/QAAAAAAAADhAAAAAAACAQUAAAAAAAIBGQAAAAAAAgEFAAAAAAACAQkAAAAAAAABEQAAAAAAAgEhAAAAAAAAAPEAAAAAAAIBHQAAAAAAAgENAAAAAAAAAQ0AAAAAAAIBAQAAAAAAAAElAAAAAAAAARkAAAAAAAAA/QAAAAAAAAD9AAAAAAAAARkAAAAAAAABHQAAAAAAAAEVAAAAAAACAREAAAAAAAAA+QAAAAAAAAERAAAAAAACAS0AAAAAAAIBTQAAAAAAAAE1AAAAAAAAARkAAAAAAAABHQAAAAAAAAEJAAAAAAAAAQUAAAAAAAIBMQAAAAAAAgEBAAAAAAAAASEAAAAAAAIBBQAAAAAAAAEJAAAAAAACAQUAAAAAAAAA/QAAAAAAAAD1AAAAAAAAARkAAAAAAAIBFQAAAAAAAAE5AAAAAAACAR0AAAAAAAABFQAAAAAAAgEpAAAAAAACAQ0AAAAAAAIBDQAAAAAAAAEhAAAAAAAAARUAAAAAAAABJQAAAAAAAgENAAAAAAAAARkAAAAAAAABEQAAAAAAAAERAAAAAAAAARkAAAAAAAABJQAAAAAAAgEJAAAAAAAAAREAAAAAAAIBFQAAAAAAAAEZAAAAAAAAAT0AAAAAAAIBJQAAAAAAAAENAAAAAAAAASEAAAAAAAABFQAAAAAAAAEJAAAAAAAAARUAAAAAAAABGQAAAAAAAAERAAAAAAAAARkAAAAAAAIBFQAAAAAAAAEZAAAAAAAAAQ0AAAAAAAIBHQAAAAAAAAEVAAAAAAAAAREAAAAAAAABKQAAAAAAAAEVAAAAAAAAAQkAAAAAAAABHQAAAAAAAAEZAAAAAAAAAREAAAAAAAIBDQAAAAAAAAEVAAAAAAACAQkAAAAAAAIBAQAAAAAAAgEBA",
          "dtype": "f8"
         },
         "xaxis": "x5",
         "y": {
          "bdata": "+86AWxKUqkD7zoBbEpSqQOKfpmtAOa5AOM60sTGXr0Ag8gSrbOWzQHKV6B6KKbFAUv2OoQPyq0D02v0HdDazQDkh35o+QLBAZDjmPTfvsEAqxNy56wWwQIVbQ4Gnp6RAcpXoHoopsUBW2+Nc5LSwQMnD9mR7h7JALk8HjL8ftEBS/Y6hA/KrQG+3k2OpZqxAZDjmPTfvsECerO/BgtixQMnD9mR7h7JASH7he5F6sECsCfKi1RKyQGQ45j0377BAHBSw74sir0BIfuF7kXqwQJ6s78GC2LFAycP2ZHuHskAqxNy56wWwQFL9jqED8qtA4p+ma0A5rkCsCfKi1RKyQBwUsO+LIq9AUv2OoQPyq0DmffsmIfyyQNgg+UXOwbJA+86AWxKUqkBS/Y6hA/KrQBiJhR24CKtAKsTcuesFsEDJw/Zke4eyQC5PB4y/H7RAkE/t4C+esUD/Wast5q2uQJBP7eAvnrFAcpXoHoopsUBIfuF7kXqwQItxmCVP26xA9Nr9B3Q2s0DF5aGpmsStQFbb41zktLBAZDjmPTfvsECsCfKi1RKyQG+3k2OpZqxAHBSw74sir0DJw/Zke4eyQMnD9mR7h7JAHBSw74sir0Din6ZrQDmuQCrE3LnrBbBAOSHfmj5AsEDYIPlFzsGyQEh+4XuRerBA3hR8mWwfqkCQuB5WEEmfQIjmbVN7wahAHBSw74sir0Din6ZrQDmuQIHy6v/cY7FAnqzvwYLYsUCloHIVITapQKwJ8qLVErJAqCud5/RPrUCQT+3gL56xQIHy6v/cY7FAkE/t4C+esUDJw/Zke4eyQOZ9+yYh/LJAHBSw74sir0A4zrSxMZevQE5yZM8v2KdAxeWhqZrErUAqxNy56wWwQBiJhR24CKtAVtvjXOS0sEBW2+Nc5LSwQKgrnef0T61AKsTcuesFsEBvt5NjqWasQFbb41zktLBAHBSw74sir0BIfuF7kXqwQEh+4XuRerBAHBSw74sir0Bvt5NjqWasQHKV6B6KKbFASH7he5F6sEA4zrSxMZevQBwUsO+LIq9AFf5aS+TupkBS/Y6hA/KrQGQ45j0377BAqCud5/RPrUAqxNy56wWwQIHy6v/cY7FAKsTcuesFsEAcFLDviyKvQEh+4XuRerBAHBSw74sir0A4zrSxMZevQBwUsO+LIq9AZDjmPTfvsEDF5aGpmsStQCrE3LnrBbBASH7he5F6sEA1Q4rfXX2rQCrE3LnrBbBAgfLq/9xjsUDin6ZrQDmuQBwUsO+LIq9ASH7he5F6sEBW2+Nc5LSwQCrE3LnrBbBAcpXoHoopsUCsCfKi1RKyQKwJ8qLVErJA",
          "dtype": "f8"
         },
         "yaxis": "y5"
        },
        {
         "mode": "markers",
         "name": "light_sleep_s",
         "type": "scatter",
         "x": {
          "bdata": "AAAAAAAAS0AAAAAAAABLQAAAAAAAAEdAAAAAAACARUAAAAAAAAA5QAAAAAAAgEJAAAAAAACASUAAAAAAAAA8QAAAAAAAgERAAAAAAAAAQ0AAAAAAAABFQAAAAAAAwFBAAAAAAACAQkAAAAAAAIBDQAAAAAAAAD9AAAAAAAAAOEAAAAAAAIBJQAAAAAAAAElAAAAAAAAAQ0AAAAAAAABBQAAAAAAAAD9AAAAAAAAAREAAAAAAAIBAQAAAAAAAAENAAAAAAAAARkAAAAAAAABEQAAAAAAAAEFAAAAAAAAAP0AAAAAAAABFQAAAAAAAgElAAAAAAAAAR0AAAAAAAIBAQAAAAAAAAEZAAAAAAACASUAAAAAAAAA9QAAAAAAAAD5AAAAAAAAAS0AAAAAAAIBJQAAAAAAAgEpAAAAAAAAARUAAAAAAAAA/QAAAAAAAADhAAAAAAACAQUAAAAAAAIBGQAAAAAAAgEFAAAAAAACAQkAAAAAAAABEQAAAAAAAgEhAAAAAAAAAPEAAAAAAAIBHQAAAAAAAgENAAAAAAAAAQ0AAAAAAAIBAQAAAAAAAAElAAAAAAAAARkAAAAAAAAA/QAAAAAAAAD9AAAAAAAAARkAAAAAAAABHQAAAAAAAAEVAAAAAAACAREAAAAAAAAA+QAAAAAAAAERAAAAAAACAS0AAAAAAAIBTQAAAAAAAAE1AAAAAAAAARkAAAAAAAABHQAAAAAAAAEJAAAAAAAAAQUAAAAAAAIBMQAAAAAAAgEBAAAAAAAAASEAAAAAAAIBBQAAAAAAAAEJAAAAAAACAQUAAAAAAAAA/QAAAAAAAAD1AAAAAAAAARkAAAAAAAIBFQAAAAAAAAE5AAAAAAACAR0AAAAAAAABFQAAAAAAAgEpAAAAAAACAQ0AAAAAAAIBDQAAAAAAAAEhAAAAAAAAARUAAAAAAAABJQAAAAAAAgENAAAAAAAAARkAAAAAAAABEQAAAAAAAAERAAAAAAAAARkAAAAAAAABJQAAAAAAAgEJAAAAAAAAAREAAAAAAAIBFQAAAAAAAAEZAAAAAAAAAT0AAAAAAAIBJQAAAAAAAAENAAAAAAAAASEAAAAAAAABFQAAAAAAAAEJAAAAAAAAARUAAAAAAAABGQAAAAAAAAERAAAAAAAAARkAAAAAAAIBFQAAAAAAAAEZAAAAAAAAAQ0AAAAAAAIBHQAAAAAAAAEVAAAAAAAAAREAAAAAAAABKQAAAAAAAAEVAAAAAAAAAQkAAAAAAAABHQAAAAAAAAEZAAAAAAAAAREAAAAAAAIBDQAAAAAAAAEVAAAAAAACAQkAAAAAAAIBAQAAAAAAAgEBA",
          "dtype": "f8"
         },
         "xaxis": "x6",
         "y": {
          "bdata": "AAAAAADky0AAAAAAAOTLQAAAAAAA5MtAAAAAAADa1kAAAAAAAFLXQAAAAAAAdNNAAAAAAACU0UAAAAAAAJrKQAAAAAAAdMNAAAAAAACGz0AAAAAAACTIQAAAAAAAjdhAAAAAAAC91UAAAAAAAIbPQAAAAAAAvdVAAAAAAABV1EAAAAAAAMjJQAAAAAAAhNJAAAAAAAA60UAAAAAAAFbTQAAAAAAAk9JAAAAAAADd00AAAAAAAOzTQAAAAAAAkdRAAAAAAAD51UAAAAAAAMDSQAAAAAAAG9JAAAAAAACi0kAAAAAAADPYQAAAAAAAK9FAAAAAAACYzEAAAAAAACXXQAAAAAAAC9NAAAAAAAC62EAAAAAAAGXTQAAAAAAAZdNAAAAAAACC1EAAAAAAAIHVQAAAAAAArtVAAAAAAAAo1EAAAAAAAOvUQAAAAAAAJddAAAAAAACg1EAAAAAAALTOQAAAAAAAeM5AAAAAAACU0UAAAAAAAHHWQAAAAAAAjtdAAAAAAABW00AAAAAAAODQQAAAAAAASdFAAAAAAAB/10AAAAAAAKLSQAAAAAAAotJAAAAAAABg2EAAAAAAAA7PQAAAAAAAVdRAAAAAAABm0kAAAAAAAITSQAAAAAAACNZAAAAAAACD00AAAAAAAIHVQAAAAAAAONNAAAAAAADR0EAAAAAAAECqQAAAAAAAXtpAAAAAAAA21UAAAAAAAKvYQAAAAAAAgNZAAAAAAADq1UAAAAAAAIzZQAAAAAAA29VAAAAAAACWzkAAAAAAAL3VQAAAAAAAd9BAAAAAAABz1EAAAAAAAL3VQAAAAAAAhdFAAAAAAAA11kAAAAAAAIrLQAAAAAAARtRAAAAAAAAG2EAAAAAAANzUQAAAAAAA0s5AAAAAAADP0kAAAAAAALLRQAAAAAAAuthAAAAAAAB30EAAAAAAADjTQAAAAAAAONNAAAAAAAD700AAAAAAAA3RQAAAAAAABthAAAAAAADWykAAAAAAACvRQAAAAAAActVAAAAAAAD+0EAAAAAAALDTQAAAAAAAPM5AAAAAAACAxkAAAAAAAIDGQAAAAAAA9thAAAAAAADv0EAAAAAAALbMQAAAAAAABMpAAAAAAACr2EAAAAAAAF7aQAAAAAAAmspAAAAAAADY2EAAAAAAAMHRQAAAAAAAkLVAAAAAAADp1kAAAAAAACrCQAAAAAAAsNNAAAAAAAA+zEAAAAAAAGTEQAAAAAAAaM9AAAAAAACS00AAAAAAAB3QQAAAAAAAHs5AAAAAAABG1EAAAAAAAJHUQAAAAAAAGdRAAAAAAADt0kAAAAAAACXXQAAAAAAAYddA",
          "dtype": "f8"
         },
         "yaxis": "y6"
        },
        {
         "line": {
          "dash": "dash"
         },
         "mode": "lines",
         "name": "light_sleep_s Fit",
         "type": "scatter",
         "x": {
          "bdata": "AAAAAAAAS0AAAAAAAABLQAAAAAAAAEdAAAAAAACARUAAAAAAAAA5QAAAAAAAgEJAAAAAAACASUAAAAAAAAA8QAAAAAAAgERAAAAAAAAAQ0AAAAAAAABFQAAAAAAAwFBAAAAAAACAQkAAAAAAAIBDQAAAAAAAAD9AAAAAAAAAOEAAAAAAAIBJQAAAAAAAAElAAAAAAAAAQ0AAAAAAAABBQAAAAAAAAD9AAAAAAAAAREAAAAAAAIBAQAAAAAAAAENAAAAAAAAARkAAAAAAAABEQAAAAAAAAEFAAAAAAAAAP0AAAAAAAABFQAAAAAAAgElAAAAAAAAAR0AAAAAAAIBAQAAAAAAAAEZAAAAAAACASUAAAAAAAAA9QAAAAAAAAD5AAAAAAAAAS0AAAAAAAIBJQAAAAAAAgEpAAAAAAAAARUAAAAAAAAA/QAAAAAAAADhAAAAAAACAQUAAAAAAAIBGQAAAAAAAgEFAAAAAAACAQkAAAAAAAABEQAAAAAAAgEhAAAAAAAAAPEAAAAAAAIBHQAAAAAAAgENAAAAAAAAAQ0AAAAAAAIBAQAAAAAAAAElAAAAAAAAARkAAAAAAAAA/QAAAAAAAAD9AAAAAAAAARkAAAAAAAABHQAAAAAAAAEVAAAAAAACAREAAAAAAAAA+QAAAAAAAAERAAAAAAACAS0AAAAAAAIBTQAAAAAAAAE1AAAAAAAAARkAAAAAAAABHQAAAAAAAAEJAAAAAAAAAQUAAAAAAAIBMQAAAAAAAgEBAAAAAAAAASEAAAAAAAIBBQAAAAAAAAEJAAAAAAACAQUAAAAAAAAA/QAAAAAAAAD1AAAAAAAAARkAAAAAAAIBFQAAAAAAAAE5AAAAAAACAR0AAAAAAAABFQAAAAAAAgEpAAAAAAACAQ0AAAAAAAIBDQAAAAAAAAEhAAAAAAAAARUAAAAAAAABJQAAAAAAAgENAAAAAAAAARkAAAAAAAABEQAAAAAAAAERAAAAAAAAARkAAAAAAAABJQAAAAAAAgEJAAAAAAAAAREAAAAAAAIBFQAAAAAAAAEZAAAAAAAAAT0AAAAAAAIBJQAAAAAAAAENAAAAAAAAASEAAAAAAAABFQAAAAAAAAEJAAAAAAAAARUAAAAAAAABGQAAAAAAAAERAAAAAAAAARkAAAAAAAIBFQAAAAAAAAEZAAAAAAAAAQ0AAAAAAAIBHQAAAAAAAAEVAAAAAAAAAREAAAAAAAABKQAAAAAAAAEVAAAAAAAAAQkAAAAAAAABHQAAAAAAAAEZAAAAAAAAAREAAAAAAAIBDQAAAAAAAAEVAAAAAAACAQkAAAAAAAIBAQAAAAAAAgEBA",
          "dtype": "f8"
         },
         "xaxis": "x6",
         "y": {
          "bdata": "Pl+/mWNj0UA+X7+ZY2PRQJlISWYVUNJAGwD9Etio0kAoTTMfaL3UQCBvZGxdWtNAwBZzRia80UCmlX9ypWTUQHJ6H4YE5NJA9DHTMsc800BGPY5MbsbSQBWIvlqFxc9AIG9kbF1a00DJ9EH5MB/TQCTey8XiC9RAU4rEWP7a1EDAFnNGJrzRQOxTBIC82dFA9DHTMsc800CiJhgZILPTQCTey8XiC9RAnbewv5oB00DNY6lSttDTQPQx0zLHPNNA8MJr2UGL0kCdt7C/mgHTQKImGBkgs9NAJN7LxeIL1EBGPY5MbsbSQMAWc0YmvNFAmUhJZhVQ0kDNY6lSttDTQPDCa9lBi9JAwBZzRia80UB6WO44D0fUQE8bXf94KdRAPl+/mWNj0UDAFnNGJrzRQGqcUNP5gNFARj2OTG7G0kAk3svF4gvUQFOKxFj+2tRAdumG34mV00DEhdqfq23SQHbpht+JldNAIG9kbF1a00Cdt7C/mgHTQBeRlblS99FAppV/cqVk1EBuC7gsfzLSQMn0QfkwH9NA9DHTMsc800DNY6lSttDTQOxTBIC82dFA8MJr2UGL0kAk3svF4gvUQCTey8XiC9RA8MJr2UGL0kCZSElmFVDSQEY9jkxuxtJAcnofhgTk0kBPG13/eCnUQJ23sL+aAdNAEyIuYM1F0UBbRkNonDrNQJFqerMK7dBA8MJr2UGL0kCZSElmFVDSQEus9aXzd9NAoiYYGSCz00C8pwvtoArRQM1jqVK20NNAQs4m8+gU0kB26YbfiZXTQEus9aXzd9NAdumG34mV00Ak3svF4gvUQHpY7jgPR9RA8MJr2UGL0kAbAP0S2KjSQDrwV0DesdBAbgu4LH8y0kBGPY5MbsbSQGqcUNP5gNFAyfRB+TAf00DJ9EH5MB/TQELOJvPoFNJARj2OTG7G0kDsUwSAvNnRQMn0QfkwH9NA8MJr2UGL0kCdt7C/mgHTQJ23sL+aAdNA8MJr2UGL0kDsUwSAvNnRQCBvZGxdWtNAnbewv5oB00AbAP0S2KjSQPDCa9lBi9JA43U1zbF20EDAFnNGJrzRQPQx0zLHPNNAQs4m8+gU0kBGPY5MbsbSQEus9aXzd9NARj2OTG7G0kDwwmvZQYvSQJ23sL+aAdNA8MJr2UGL0kAbAP0S2KjSQPDCa9lBi9JA9DHTMsc800BuC7gsfzLSQEY9jkxuxtJAnbewv5oB00CV2eEMkJ7RQEY9jkxuxtJAS6z1pfN300CZSElmFVDSQPDCa9lBi9JAnbewv5oB00DJ9EH5MB/TQEY9jkxuxtJAIG9kbF1a00DNY6lSttDTQM1jqVK20NNA",
          "dtype": "f8"
         },
         "yaxis": "y6"
        },
        {
         "mode": "markers",
         "name": "rem_sleep_s",
         "type": "scatter",
         "x": {
          "bdata": "AAAAAAAAS0AAAAAAAABLQAAAAAAAAEdAAAAAAACARUAAAAAAAAA5QAAAAAAAgEJAAAAAAACASUAAAAAAAAA8QAAAAAAAgERAAAAAAAAAQ0AAAAAAAABFQAAAAAAAwFBAAAAAAACAQkAAAAAAAIBDQAAAAAAAAD9AAAAAAAAAOEAAAAAAAIBJQAAAAAAAAElAAAAAAAAAQ0AAAAAAAABBQAAAAAAAAD9AAAAAAAAAREAAAAAAAIBAQAAAAAAAAENAAAAAAAAARkAAAAAAAABEQAAAAAAAAEFAAAAAAAAAP0AAAAAAAABFQAAAAAAAgElAAAAAAAAAR0AAAAAAAIBAQAAAAAAAAEZAAAAAAACASUAAAAAAAAA9QAAAAAAAAD5AAAAAAAAAS0AAAAAAAIBJQAAAAAAAgEpAAAAAAAAARUAAAAAAAAA/QAAAAAAAADhAAAAAAACAQUAAAAAAAIBGQAAAAAAAgEFAAAAAAACAQkAAAAAAAABEQAAAAAAAgEhAAAAAAAAAPEAAAAAAAIBHQAAAAAAAgENAAAAAAAAAQ0AAAAAAAIBAQAAAAAAAAElAAAAAAAAARkAAAAAAAAA/QAAAAAAAAD9AAAAAAAAARkAAAAAAAABHQAAAAAAAAEVAAAAAAACAREAAAAAAAAA+QAAAAAAAAERAAAAAAACAS0AAAAAAAIBTQAAAAAAAAE1AAAAAAAAARkAAAAAAAABHQAAAAAAAAEJAAAAAAAAAQUAAAAAAAIBMQAAAAAAAgEBAAAAAAAAASEAAAAAAAIBBQAAAAAAAAEJAAAAAAACAQUAAAAAAAAA/QAAAAAAAAD1AAAAAAAAARkAAAAAAAIBFQAAAAAAAAE5AAAAAAACAR0AAAAAAAABFQAAAAAAAgEpAAAAAAACAQ0AAAAAAAIBDQAAAAAAAAEhAAAAAAAAARUAAAAAAAABJQAAAAAAAgENAAAAAAAAARkAAAAAAAABEQAAAAAAAAERAAAAAAAAARkAAAAAAAABJQAAAAAAAgEJAAAAAAAAAREAAAAAAAIBFQAAAAAAAAEZAAAAAAAAAT0AAAAAAAIBJQAAAAAAAAENAAAAAAAAASEAAAAAAAABFQAAAAAAAAEJAAAAAAAAARUAAAAAAAABGQAAAAAAAAERAAAAAAAAARkAAAAAAAIBFQAAAAAAAAEZAAAAAAAAAQ0AAAAAAAIBHQAAAAAAAAEVAAAAAAAAAREAAAAAAAABKQAAAAAAAAEVAAAAAAAAAQkAAAAAAAABHQAAAAAAAAEZAAAAAAAAAREAAAAAAAIBDQAAAAAAAAEVAAAAAAACAQkAAAAAAAIBAQAAAAAAAgEBA",
          "dtype": "f8"
         },
         "xaxis": "x7",
         "y": {
          "bdata": "AAAAAACAtkAAAAAAAIC2QAAAAAAAgLZAAAAAAACYrEAAAAAAAHDHQAAAAAAAILxAAAAAAABooEAAAAAAABi1QAAAAAAAUKlAAAAAAAAOwEAAAAAAAICWQAAAAAAAIIxAAAAAAACYvEAAAAAAAACuQAAAAAAAPL5AAAAAAABAukAAAAAAANS8QAAAAAAAJLhAAAAAAAAMskAAAAAAAErAQAAAAAAAjLlAAAAAAAAEukAAAAAAAJi8QAAAAAAAMLtAAAAAAADQoUAAAAAAACi0QAAAAAAAnLhAAAAAAAAcsUAAAAAAAEiyQAAAAAAARLZAAAAAAAAgjEAAAAAAAIy5QAAAAAAAvLZAAAAAAAAAjkAAAAAAAByxQAAAAAAA3LRAAAAAAADop0AAAAAAAICGQAAAAAAAtL5AAAAAAADss0AAAAAAAAi2QAAAAAAAbLtAAAAAAADctEAAAAAAALy2QAAAAAAAVLVAAAAAAAA8vkAAAAAAACi0QAAAAAAA3LRAAAAAAAD4tkAAAAAAACC8QAAAAAAAgKZAAAAAAADCwEAAAAAAAPC+QAAAAAAA8L5AAAAAAABQqUAAAAAAAErAQAAAAAAAjLlAAAAAAAAIpkAAAAAAAACuQAAAAAAATL1AAAAAAABYsUAAAAAAAMS9QAAAAAAA5LtAAAAAAAAAvkAAAAAAAAAAAAAAAAAAAAAAAAAAAACksEAAAAAAAGi/QAAAAAAAULlAAAAAAABAukAAAAAAAAAAAAAAAAAAwMJAAAAAAACou0AAAAAAADC7QAAAAAAALMBAAAAAAAAgvEAAAAAAALy2QAAAAAAAgLZAAAAAAAC4qkAAAAAAAEjCQAAAAAAAiK1AAAAAAABQqUAAAAAAAGivQAAAAAAAcJdAAAAAAAC8tkAAAAAAAOCvQAAAAAAArLdAAAAAAAB4rkAAAAAAAHCXQAAAAAAAAK5AAAAAAADQoUAAAAAAAL7EQAAAAAAAqLtAAAAAAAAAAAAAAAAAAPCeQAAAAAAA3sJAAAAAAAAQrUAAAAAAAPS6QAAAAAAA4K9AAAAAAACglEAAAAAAAKCUQAAAAAAAosJAAAAAAABcvEAAAAAAAOCwQAAAAAAA4JBAAAAAAAAUuUAAAAAAAGCoQAAAAAAAvLZAAAAAAAA0t0AAAAAAABi1QAAAAAAAgJZAAAAAAAAYpUAAAAAAAOinQAAAAAAAdLNAAAAAAAA4s0AAAAAAAKi7QAAAAAAAYLhAAAAAAADwrkAAAAAAAKy3QAAAAAAAAL5AAAAAAABor0AAAAAAAOCgQAAAAAAA3LRAAAAAAAAItkAAAAAAAEC6QAAAAAAARLZA",
          "dtype": "f8"
         },
         "yaxis": "y7"
        },
        {
         "line": {
          "dash": "dash"
         },
         "mode": "lines",
         "name": "rem_sleep_s Fit",
         "type": "scatter",
         "x": {
          "bdata": "AAAAAAAAS0AAAAAAAABLQAAAAAAAAEdAAAAAAACARUAAAAAAAAA5QAAAAAAAgEJAAAAAAACASUAAAAAAAAA8QAAAAAAAgERAAAAAAAAAQ0AAAAAAAABFQAAAAAAAwFBAAAAAAACAQkAAAAAAAIBDQAAAAAAAAD9AAAAAAAAAOEAAAAAAAIBJQAAAAAAAAElAAAAAAAAAQ0AAAAAAAABBQAAAAAAAAD9AAAAAAAAAREAAAAAAAIBAQAAAAAAAAENAAAAAAAAARkAAAAAAAABEQAAAAAAAAEFAAAAAAAAAP0AAAAAAAABFQAAAAAAAgElAAAAAAAAAR0AAAAAAAIBAQAAAAAAAAEZAAAAAAACASUAAAAAAAAA9QAAAAAAAAD5AAAAAAAAAS0AAAAAAAIBJQAAAAAAAgEpAAAAAAAAARUAAAAAAAAA/QAAAAAAAADhAAAAAAACAQUAAAAAAAIBGQAAAAAAAgEFAAAAAAACAQkAAAAAAAABEQAAAAAAAgEhAAAAAAAAAPEAAAAAAAIBHQAAAAAAAgENAAAAAAAAAQ0AAAAAAAIBAQAAAAAAAAElAAAAAAAAARkAAAAAAAAA/QAAAAAAAAD9AAAAAAAAARkAAAAAAAABHQAAAAAAAAEVAAAAAAACAREAAAAAAAAA+QAAAAAAAAERAAAAAAACAS0AAAAAAAIBTQAAAAAAAAE1AAAAAAAAARkAAAAAAAABHQAAAAAAAAEJAAAAAAAAAQUAAAAAAAIBMQAAAAAAAgEBAAAAAAAAASEAAAAAAAIBBQAAAAAAAAEJAAAAAAACAQUAAAAAAAAA/QAAAAAAAAD1AAAAAAAAARkAAAAAAAIBFQAAAAAAAAE5AAAAAAACAR0AAAAAAAABFQAAAAAAAgEpAAAAAAACAQ0AAAAAAAIBDQAAAAAAAAEhAAAAAAAAARUAAAAAAAABJQAAAAAAAgENAAAAAAAAARkAAAAAAAABEQAAAAAAAAERAAAAAAAAARkAAAAAAAABJQAAAAAAAgEJAAAAAAAAAREAAAAAAAIBFQAAAAAAAAEZAAAAAAAAAT0AAAAAAAIBJQAAAAAAAAENAAAAAAAAASEAAAAAAAABFQAAAAAAAAEJAAAAAAAAARUAAAAAAAABGQAAAAAAAAERAAAAAAAAARkAAAAAAAIBFQAAAAAAAAEZAAAAAAAAAQ0AAAAAAAIBHQAAAAAAAAEVAAAAAAAAAREAAAAAAAABKQAAAAAAAAEVAAAAAAAAAQkAAAAAAAABHQAAAAAAAAEZAAAAAAAAAREAAAAAAAIBDQAAAAAAAAEVAAAAAAACAQkAAAAAAAIBAQAAAAAAAgEBA",
          "dtype": "f8"
         },
         "xaxis": "x7",
         "y": {
          "bdata": "ykBFx+THq0DKQEXH5MerQIrTIUpsKLJAt4aRABrCs0DIuS9HLFy9QBLtcG119bZAJqckNED7rkCbBsCQfsK7QIBTMXo407RArgahMOZstkAcbWE9qUq0QCi1TzSx0ptAEu1wbXX1tkBJINHzVuS1QG5TUNrQKLpALaD/g7vkvUAmpyQ0QPuuQPc54lYvBrBArgahMOZstkBAoOAjI4+4QG5TUNrQKLpA5TkBt8dbtUCkhrBgshe5QK4GoTDmbLZAU6DBw4o5s0DlOQG3x1u1QECg4CMjj7hAblNQ2tAoukAcbWE9qUq0QCanJDRA+65AitMhSmwoskCkhrBgshe5QFOgwcOKObNAJqckNED7rkA2IPBT7zm7QNI5IBdgsbpAykBFx+THq0AmpyQ0QPuuQJQN5UAD2axAHG1hPalKtEBuU1Da0Ci6QC2g/4O75L1A27kQ55MGuEDuufGG+7CyQNu5EOeTBrhAEu1wbXX1tkDlOQG3x1u1QFwgspO+jrBAmwbAkH7Cu0Al7VEN3Z+xQEkg0fNW5LVArgahMOZstkCkhrBgshe5QPc54lYvBrBAU6DBw4o5s0BuU1Da0Ci6QG5TUNrQKLpAU6DBw4o5s0CK0yFKbCiyQBxtYT2pSrRAgFMxejjTtEDSOSAXYLG6QOU5AbfHW7VAAnSlTca2qkCAb1ACS2hxQKYNxuBqg6dAU6DBw4o5s0CK0yFKbCiyQHfTQKoEfrdAQKDgIyOPuEBw2mVaiZSoQKSGsGCyF7lAwAaC0E0XsUDbuRDnkwa4QHfTQKoEfrdA27kQ55MGuEBuU1Da0Ci6QDYg8FPvObtAU6DBw4o5s0C3hpEAGsKzQBR0hu0tYaVAJe1RDd2fsUAcbWE9qUq0QJQN5UAD2axASSDR81bktUBJINHzVuS1QMAGgtBNF7FAHG1hPalKtED3OeJWLwawQEkg0fNW5LVAU6DBw4o5s0DlOQG3x1u1QOU5AbfHW7VAU6DBw4o5s0D3OeJWLwawQBLtcG119bZA5TkBt8dbtUC3hpEAGsKzQFOgwcOKObNAhNpG+vA+o0AmpyQ0QPuuQK4GoTDmbLZAwAaC0E0XsUAcbWE9qUq0QHfTQKoEfrdAHG1hPalKtEBToMHDijmzQOU5AbfHW7VAU6DBw4o5s0C3hpEAGsKzQFOgwcOKObNArgahMOZstkAl7VEN3Z+xQBxtYT2pSrRA5TkBt8dbtUBc2oS6IeqtQBxtYT2pSrRAd9NAqgR+t0CK0yFKbCiyQFOgwcOKObNA5TkBt8dbtUBJINHzVuS1QBxtYT2pSrRAEu1wbXX1tkCkhrBgshe5QKSGsGCyF7lA",
          "dtype": "f8"
         },
         "yaxis": "y7"
        },
        {
         "mode": "markers",
         "name": "awake_s",
         "type": "scatter",
         "x": {
          "bdata": "AAAAAAAAS0AAAAAAAABLQAAAAAAAAEdAAAAAAACARUAAAAAAAAA5QAAAAAAAgEJAAAAAAACASUAAAAAAAAA8QAAAAAAAgERAAAAAAAAAQ0AAAAAAAABFQAAAAAAAwFBAAAAAAACAQkAAAAAAAIBDQAAAAAAAAD9AAAAAAAAAOEAAAAAAAIBJQAAAAAAAAElAAAAAAAAAQ0AAAAAAAABBQAAAAAAAAD9AAAAAAAAAREAAAAAAAIBAQAAAAAAAAENAAAAAAAAARkAAAAAAAABEQAAAAAAAAEFAAAAAAAAAP0AAAAAAAABFQAAAAAAAgElAAAAAAAAAR0AAAAAAAIBAQAAAAAAAAEZAAAAAAACASUAAAAAAAAA9QAAAAAAAAD5AAAAAAAAAS0AAAAAAAIBJQAAAAAAAgEpAAAAAAAAARUAAAAAAAAA/QAAAAAAAADhAAAAAAACAQUAAAAAAAIBGQAAAAAAAgEFAAAAAAACAQkAAAAAAAABEQAAAAAAAgEhAAAAAAAAAPEAAAAAAAIBHQAAAAAAAgENAAAAAAAAAQ0AAAAAAAIBAQAAAAAAAAElAAAAAAAAARkAAAAAAAAA/QAAAAAAAAD9AAAAAAAAARkAAAAAAAABHQAAAAAAAAEVAAAAAAACAREAAAAAAAAA+QAAAAAAAAERAAAAAAACAS0AAAAAAAIBTQAAAAAAAAE1AAAAAAAAARkAAAAAAAABHQAAAAAAAAEJAAAAAAAAAQUAAAAAAAIBMQAAAAAAAgEBAAAAAAAAASEAAAAAAAIBBQAAAAAAAAEJAAAAAAACAQUAAAAAAAAA/QAAAAAAAAD1AAAAAAAAARkAAAAAAAIBFQAAAAAAAAE5AAAAAAACAR0AAAAAAAABFQAAAAAAAgEpAAAAAAACAQ0AAAAAAAIBDQAAAAAAAAEhAAAAAAAAARUAAAAAAAABJQAAAAAAAgENAAAAAAAAARkAAAAAAAABEQAAAAAAAAERAAAAAAAAARkAAAAAAAABJQAAAAAAAgEJAAAAAAAAAREAAAAAAAIBFQAAAAAAAAEZAAAAAAAAAT0AAAAAAAIBJQAAAAAAAAENAAAAAAAAASEAAAAAAAABFQAAAAAAAAEJAAAAAAAAARUAAAAAAAABGQAAAAAAAAERAAAAAAAAARkAAAAAAAIBFQAAAAAAAAEZAAAAAAAAAQ0AAAAAAAIBHQAAAAAAAAEVAAAAAAAAAREAAAAAAAABKQAAAAAAAAEVAAAAAAAAAQkAAAAAAAABHQAAAAAAAAEZAAAAAAAAAREAAAAAAAIBDQAAAAAAAAEVAAAAAAACAQkAAAAAAAIBAQAAAAAAAgEBA",
          "dtype": "f8"
         },
         "xaxis": "x8",
         "y": {
          "bdata": "AAAAAAAATkAAAAAAAABOQAAAAAAAAE5AAAAAAABIskAAAAAAAOCAQAAAAAAAwIJAAAAAAADgj0AAAAAAAAAAAAAAAAAAwHJAAAAAAAAAbkAAAAAAAEB6QAAAAAAAHLFAAAAAAAAATkAAAAAAAAAAAAAAAAAAAAAAAAAAAAAAfkAAAAAAAMByQAAAAAAAgGZAAAAAAAAATkAAAAAAAABuQAAAAAAAgHZAAAAAAAAATkAAAAAAAEB6QAAAAAAAgHZAAAAAAACYrEAAAAAAAABeQAAAAAAA0KFAAAAAAAAATkAAAAAAAECaQAAAAAAAAF5AAAAAAABAykAAAAAAAAAAAAAAAAAAAH5AAAAAAAAYpUAAAAAAAAAAAAAAAAAAgGZAAAAAAAAswEAAAAAAADijQAAAAAAAAE5AAAAAAAAATkAAAAAAAEB6QAAAAAAAAE5AAAAAAAAATkAAAAAAAAAAAAAAAAAAgHZAAAAAAAAAfkAAAAAAAACeQAAAAAAAoKRAAAAAAAAATkAAAAAAAAAAAAAAAAAAgGZAAAAAAAAAAAAAAAAAAABOQAAAAAAAAE5AAAAAAADQkUAAAAAAAAAAAAAAAAAAAAAAAAAAAACAZkAAAAAAAAB+QAAAAAAAAAAAAAAAAAAAAAAAAAAAAAAAAAAAAAAAAAAAAAAAAACAZkAAAAAAAIitQAAAAAAA4KBAAAAAAAAAAAAAAAAAAAAAAAAAAAAAAAAAAAAAAACAZkAAAAAAAKy3QAAAAAAAAAAAAAAAAAAAbkAAAAAAANCRQAAAAAAAgGZAAAAAAAAATkAAAAAAAOCAQAAAAAAAAAAAAAAAAACIrUAAAAAAAAAAAAAAAAAAZsJAAAAAAABgiEAAAAAAAKCEQAAAAAAAcJdAAAAAAAAAXkAAAAAAAAAAAAAAAAAAIIxAAAAAAACAZkAAAAAAAIBmQAAAAAAAgGZAAAAAAAAAXkAAAAAAAAAAAAAAAAAAgGZAAAAAAAAgjEAAAAAAAOCvQAAAAAAAAF5AAAAAAADgj0AAAAAAAAAAAAAAAAAAQHpAAAAAAACwk0AAAAAAALCTQAAAAAAAAAAAAAAAAAAAAAAAAAAAAAAAAAAAAAAAAAAAAAAAAADgoEAAAAAAAFCZQAAAAAAAYIhAAAAAAAAgrEAAAAAAAABeQAAAAAAAwHJAAAAAAABowEAAAAAAAABeQAAAAAAACLZAAAAAAAAAXkAAAAAAAMByQAAAAAAAgIZAAAAAAAAgjEAAAAAAAEB6QAAAAAAAAF5AAAAAAABQmUAAAAAAAOCPQAAAAAAAgGZAAAAAAAAATkAAAAAAAHCXQAAAAAAAAF5A",
          "dtype": "f8"
         },
         "yaxis": "y8"
        },
        {
         "line": {
          "dash": "dash"
         },
         "mode": "lines",
         "name": "awake_s Fit",
         "type": "scatter",
         "x": {
          "bdata": "AAAAAAAAS0AAAAAAAABLQAAAAAAAAEdAAAAAAACARUAAAAAAAAA5QAAAAAAAgEJAAAAAAACASUAAAAAAAAA8QAAAAAAAgERAAAAAAAAAQ0AAAAAAAABFQAAAAAAAwFBAAAAAAACAQkAAAAAAAIBDQAAAAAAAAD9AAAAAAAAAOEAAAAAAAIBJQAAAAAAAAElAAAAAAAAAQ0AAAAAAAABBQAAAAAAAAD9AAAAAAAAAREAAAAAAAIBAQAAAAAAAAENAAAAAAAAARkAAAAAAAABEQAAAAAAAAEFAAAAAAAAAP0AAAAAAAABFQAAAAAAAgElAAAAAAAAAR0AAAAAAAIBAQAAAAAAAAEZAAAAAAACASUAAAAAAAAA9QAAAAAAAAD5AAAAAAAAAS0AAAAAAAIBJQAAAAAAAgEpAAAAAAAAARUAAAAAAAAA/QAAAAAAAADhAAAAAAACAQUAAAAAAAIBGQAAAAAAAgEFAAAAAAACAQkAAAAAAAABEQAAAAAAAgEhAAAAAAAAAPEAAAAAAAIBHQAAAAAAAgENAAAAAAAAAQ0AAAAAAAIBAQAAAAAAAAElAAAAAAAAARkAAAAAAAAA/QAAAAAAAAD9AAAAAAAAARkAAAAAAAABHQAAAAAAAAEVAAAAAAACAREAAAAAAAAA+QAAAAAAAAERAAAAAAACAS0AAAAAAAIBTQAAAAAAAAE1AAAAAAAAARkAAAAAAAABHQAAAAAAAAEJAAAAAAAAAQUAAAAAAAIBMQAAAAAAAgEBAAAAAAAAASEAAAAAAAIBBQAAAAAAAAEJAAAAAAACAQUAAAAAAAAA/QAAAAAAAAD1AAAAAAAAARkAAAAAAAIBFQAAAAAAAAE5AAAAAAACAR0AAAAAAAABFQAAAAAAAgEpAAAAAAACAQ0AAAAAAAIBDQAAAAAAAAEhAAAAAAAAARUAAAAAAAABJQAAAAAAAgENAAAAAAAAARkAAAAAAAABEQAAAAAAAAERAAAAAAAAARkAAAAAAAABJQAAAAAAAgEJAAAAAAAAAREAAAAAAAIBFQAAAAAAAAEZAAAAAAAAAT0AAAAAAAIBJQAAAAAAAAENAAAAAAAAASEAAAAAAAABFQAAAAAAAAEJAAAAAAAAARUAAAAAAAABGQAAAAAAAAERAAAAAAAAARkAAAAAAAIBFQAAAAAAAAEZAAAAAAAAAQ0AAAAAAAIBHQAAAAAAAAEVAAAAAAAAAREAAAAAAAABKQAAAAAAAAEVAAAAAAAAAQkAAAAAAAABHQAAAAAAAAEZAAAAAAAAAREAAAAAAAIBDQAAAAAAAAEVAAAAAAACAQkAAAAAAAIBAQAAAAAAAgEBA",
          "dtype": "f8"
         },
         "xaxis": "x8",
         "y": {
          "bdata": "qF2E17lZoECoXYTXuVmgQMY9dgKS6JVAtE6/YX3ckUAILymK+a95wBjhokCoiINAPMxRDl+nnEBw5ZoOTv9iwKBeNe2JU45AfIDHq2A7hkAC/ywsIYOQQKhjuzORHqlAGOGiQKiIg0DcH+wWGe6IQEAmOe6twlpA0G1yYGoVf8A8zFEOX6ecQIx8v9gCTptAfIDHq2A7hkDgBWr+/eB2QEAmOe6twlpAQL8QgtGgi0AgxyAojXtxQHyAx6tgO4ZAZJ5Rl9k1k0BAvxCC0aCLQOAFav794HZAQCY57q3CWkAC/ywsIYOQQDzMUQ5fp5xAxj12ApLolUAgxyAojXtxQGSeUZfZNZNAPMxRDl+nnEDgzxDE2GhQwACtUFSqszRAqF2E17lZoEA8zFEOX6ecQKBrdnkXWp9AAv8sLCGDkEBAJjnurcJaQNBtcmBqFX/AqESz1G5GfEAW7uPMNY+UQKhEs9RuRnxAGOGiQKiIg0BAvxCC0aCLQNwsLaOm9JlAcOWaDk7/YsB4jQg47kGXQNwf7BYZ7ohAfIDHq2A7hkAgxyAojXtxQIx8v9gCTptAZJ5Rl9k1k0BAJjnurcJaQEAmOe6twlpAZJ5Rl9k1k0DGPXYCkuiVQAL/LCwhg5BAoF417YlTjkAArVBUqrM0QEC/EILRoItAgIVN8mcGoUD7DDAtBkWwQAr9qEJyDKNAZJ5Rl9k1k0DGPXYCkuiVQLRBftXv1YBA4AVq/v3gdkAy1d8nxF+iQCDHICiNe3FAKN2abUqbmECoRLPUbkZ8QLRBftXv1YBAqESz1G5GfEBAJjnurcJaQODPEMTYaFDAZJ5Rl9k1k0C0Tr9hfdyRQLxMO3jOZaRAeI0IOO5Bl0AC/ywsIYOQQKBrdnkXWp9A3B/sFhnuiEDcH+wWGe6IQCjdmm1Km5hAAv8sLCGDkECMfL/YAk6bQNwf7BYZ7ohAZJ5Rl9k1k0BAvxCC0aCLQEC/EILRoItAZJ5Rl9k1k0CMfL/YAk6bQBjhokCoiINAQL8QgtGgi0C0Tr9hfdyRQGSeUZfZNZNAbJzNrSq/pUA8zFEOX6ecQHyAx6tgO4ZAKN2abUqbmEAC/ywsIYOQQLRBftXv1YBAAv8sLCGDkEBknlGX2TWTQEC/EILRoItAZJ5Rl9k1k0C0Tr9hfdyRQGSeUZfZNZNAfIDHq2A7hkB4jQg47kGXQAL/LCwhg5BAQL8QgtGgi0DsG+RDuwCeQAL/LCwhg5BAtEF+1e/VgEDGPXYCkuiVQGSeUZfZNZNAQL8QgtGgi0DcH+wWGe6IQAL/LCwhg5BAGOGiQKiIg0AgxyAojXtxQCDHICiNe3FA",
          "dtype": "f8"
         },
         "yaxis": "y8"
        },
        {
         "mode": "markers",
         "name": "steps",
         "type": "scatter",
         "x": {
          "bdata": "AAAAAAAAS0AAAAAAAABLQAAAAAAAAEdAAAAAAACARUAAAAAAAAA5QAAAAAAAgEJAAAAAAACASUAAAAAAAAA8QAAAAAAAgERAAAAAAAAAQ0AAAAAAAABFQAAAAAAAwFBAAAAAAACAQkAAAAAAAIBDQAAAAAAAAD9AAAAAAAAAOEAAAAAAAIBJQAAAAAAAAElAAAAAAAAAQ0AAAAAAAABBQAAAAAAAAD9AAAAAAAAAREAAAAAAAIBAQAAAAAAAAENAAAAAAAAARkAAAAAAAABEQAAAAAAAAEFAAAAAAAAAP0AAAAAAAABFQAAAAAAAgElAAAAAAAAAR0AAAAAAAIBAQAAAAAAAAEZAAAAAAACASUAAAAAAAAA9QAAAAAAAAD5AAAAAAAAAS0AAAAAAAIBJQAAAAAAAgEpAAAAAAAAARUAAAAAAAAA/QAAAAAAAADhAAAAAAACAQUAAAAAAAIBGQAAAAAAAgEFAAAAAAACAQkAAAAAAAABEQAAAAAAAgEhAAAAAAAAAPEAAAAAAAIBHQAAAAAAAgENAAAAAAAAAQ0AAAAAAAIBAQAAAAAAAAElAAAAAAAAARkAAAAAAAAA/QAAAAAAAAD9AAAAAAAAARkAAAAAAAABHQAAAAAAAAEVAAAAAAACAREAAAAAAAAA+QAAAAAAAAERAAAAAAACAS0AAAAAAAIBTQAAAAAAAAE1AAAAAAAAARkAAAAAAAABHQAAAAAAAAEJAAAAAAAAAQUAAAAAAAIBMQAAAAAAAgEBAAAAAAAAASEAAAAAAAIBBQAAAAAAAAEJAAAAAAACAQUAAAAAAAAA/QAAAAAAAAD1AAAAAAAAARkAAAAAAAIBFQAAAAAAAAE5AAAAAAACAR0AAAAAAAABFQAAAAAAAgEpAAAAAAACAQ0AAAAAAAIBDQAAAAAAAAEhAAAAAAAAARUAAAAAAAABJQAAAAAAAgENAAAAAAAAARkAAAAAAAABEQAAAAAAAAERAAAAAAAAARkAAAAAAAABJQAAAAAAAgEJAAAAAAAAAREAAAAAAAIBFQAAAAAAAAEZAAAAAAAAAT0AAAAAAAIBJQAAAAAAAAENAAAAAAAAASEAAAAAAAABFQAAAAAAAAEJAAAAAAAAARUAAAAAAAABGQAAAAAAAAERAAAAAAAAARkAAAAAAAIBFQAAAAAAAAEZAAAAAAAAAQ0AAAAAAAIBHQAAAAAAAAEVAAAAAAAAAREAAAAAAAABKQAAAAAAAAEVAAAAAAAAAQkAAAAAAAABHQAAAAAAAAEZAAAAAAAAAREAAAAAAAIBDQAAAAAAAAEVAAAAAAACAQkAAAAAAAIBAQAAAAAAAgEBA",
          "dtype": "f8"
         },
         "xaxis": "x9",
         "y": {
          "bdata": "AAAAAABogEAAAAAAgHDDQAAAAAAA3KZAAAAAAICkwEAAAAAAQETRQAAAAAAAYLtAAAAAAADvs0AAAAAAAHC1QAAAAAAA2qRAAAAAAADKu0AAAAAAAFvJQAAAAAAA1sFAAAAAAAD+wkAAAAAAABO8QAAAAAAAM7JAAAAAAICwwEAAAAAAAPrGQAAAAAAA1btAAAAAAIAWykAAAAAAACKsQAAAAAAAortAAAAAAAAOuUAAAAAAADG1QAAAAAAAVMlAAAAAAIDywEAAAAAAAKXCQAAAAAAAqqFAAAAAAADrukAAAAAAgGzHQAAAAAAAVr9AAAAAAICnyUAAAAAAAL+1QAAAAADAD9FAAAAAAABKwEAAAAAAAKShQAAAAACAhcFAAAAAAAAEqEAAAAAAAI2wQAAAAAAAXq5AAAAAAABHyEAAAAAAAEmwQAAAAACAF8RAAAAAAIAzyUAAAAAAAPPMQAAAAAAAcc5AAAAAAIB0yEAAAAAAgIHNQAAAAACAIMZAAAAAAIDzw0AAAAAAAOimQAAAAAAAOKhAAAAAAADIlUAAAAAAAFakQAAAAAAAQLpAAAAAAIAdwUAAAAAAAIqyQAAAAACAncBAAAAAAADipEAAAAAAAGjGQAAAAAAAG8NAAAAAAADJtUAAAAAAAEqvQAAAAAAAMLFAAAAAAADCpEAAAAAAAHSiQAAAAAAApq9AAAAAAACGvEAAAAAAALHAQAAAAAAAvJRAAAAAAIAdwkAAAAAAAPyxQAAAAAAApMVAAAAAAABQw0AAAAAAAFe1QAAAAADAsdRAAAAAAADYyUAAAAAAAAbHQAAAAACA+MZAAAAAAIBWxEAAAAAAAGi1QAAAAAAAY89AAAAAAAB0xEAAAAAAgOnFQAAAAAAAisxAAAAAAADwoEAAAAAAgF3KQAAAAADAvdBAAAAAAMAB0UAAAAAAADHOQAAAAAAAO8pAAAAAAAB3ykAAAAAAQMDTQAAAAAAAbsBAAAAAAAAMsEAAAAAAAK68QAAAAAAAaKpAAAAAAIA70EAAAAAAAJ+/QAAAAAAAP8RAAAAAAAAwnEAAAAAAAImwQAAAAAAAUKZAAAAAAIDX0EAAAAAAAEC8QAAAAAAAoKFAAAAAAABWqkAAAAAAAEicQAAAAAAAt7RAAAAAAABooUAAAAAAACPKQAAAAAAACLVAAAAAAADgsEAAAAAAAKy4QAAAAAAAebtAAAAAAADQsEAAAAAAAA7KQAAAAAAARrRAAAAAAADipkAAAAAAANLKQAAAAAAAvLxAAAAAAACuokAAAAAAgCrOQAAAAAAAUq9AAAAAAIAezEAAAAAAgB7MQAAAAACAHsxA",
          "dtype": "f8"
         },
         "yaxis": "y9"
        },
        {
         "line": {
          "dash": "dash"
         },
         "mode": "lines",
         "name": "steps Fit",
         "type": "scatter",
         "x": {
          "bdata": "AAAAAAAAS0AAAAAAAABLQAAAAAAAAEdAAAAAAACARUAAAAAAAAA5QAAAAAAAgEJAAAAAAACASUAAAAAAAAA8QAAAAAAAgERAAAAAAAAAQ0AAAAAAAABFQAAAAAAAwFBAAAAAAACAQkAAAAAAAIBDQAAAAAAAAD9AAAAAAAAAOEAAAAAAAIBJQAAAAAAAAElAAAAAAAAAQ0AAAAAAAABBQAAAAAAAAD9AAAAAAAAAREAAAAAAAIBAQAAAAAAAAENAAAAAAAAARkAAAAAAAABEQAAAAAAAAEFAAAAAAAAAP0AAAAAAAABFQAAAAAAAgElAAAAAAAAAR0AAAAAAAIBAQAAAAAAAAEZAAAAAAACASUAAAAAAAAA9QAAAAAAAAD5AAAAAAAAAS0AAAAAAAIBJQAAAAAAAgEpAAAAAAAAARUAAAAAAAAA/QAAAAAAAADhAAAAAAACAQUAAAAAAAIBGQAAAAAAAgEFAAAAAAACAQkAAAAAAAABEQAAAAAAAgEhAAAAAAAAAPEAAAAAAAIBHQAAAAAAAgENAAAAAAAAAQ0AAAAAAAIBAQAAAAAAAAElAAAAAAAAARkAAAAAAAAA/QAAAAAAAAD9AAAAAAAAARkAAAAAAAABHQAAAAAAAAEVAAAAAAACAREAAAAAAAAA+QAAAAAAAAERAAAAAAACAS0AAAAAAAIBTQAAAAAAAAE1AAAAAAAAARkAAAAAAAABHQAAAAAAAAEJAAAAAAAAAQUAAAAAAAIBMQAAAAAAAgEBAAAAAAAAASEAAAAAAAIBBQAAAAAAAAEJAAAAAAACAQUAAAAAAAAA/QAAAAAAAAD1AAAAAAAAARkAAAAAAAIBFQAAAAAAAAE5AAAAAAACAR0AAAAAAAABFQAAAAAAAgEpAAAAAAACAQ0AAAAAAAIBDQAAAAAAAAEhAAAAAAAAARUAAAAAAAABJQAAAAAAAgENAAAAAAAAARkAAAAAAAABEQAAAAAAAAERAAAAAAAAARkAAAAAAAABJQAAAAAAAgEJAAAAAAAAAREAAAAAAAIBFQAAAAAAAAEZAAAAAAAAAT0AAAAAAAIBJQAAAAAAAAENAAAAAAAAASEAAAAAAAABFQAAAAAAAAEJAAAAAAAAARUAAAAAAAABGQAAAAAAAAERAAAAAAAAARkAAAAAAAIBFQAAAAAAAAEZAAAAAAAAAQ0AAAAAAAIBHQAAAAAAAAEVAAAAAAAAAREAAAAAAAABKQAAAAAAAAEVAAAAAAAAAQkAAAAAAAABHQAAAAAAAAEZAAAAAAAAAREAAAAAAAIBDQAAAAAAAAEVAAAAAAACAQkAAAAAAAIBAQAAAAAAAgEBA",
          "dtype": "f8"
         },
         "xaxis": "x9",
         "y": {
          "bdata": "lGXLcLTdvkCUZctwtN2+QNqrh2LpD8BAQGlUEk9MwECl2SAxsbbBQA3k7XEaxcBAYeBk0H9Wv0A/HFSBS3rBQITn3NySdMBA6qSpjPiwwEBiqJj3cGDAQCD83CdD0rxADeTtcRrFwEDIZWWn1pzAQNleh9HlPcFAxxhlFtPKwUBh4GTQf1a/QKVe7ZrDfr9A6qSpjPiwwEBzobohgAHBQNleh9HlPcFApiYhwrSIwECV4P4GohXBQOqkqYz4sMBAHioQLS04wECmJiHCtIjAQHOhuiGAAcFA2V6H0eU9wUBiqJj3cGDAQGHgZNB/Vr9A2quHYukPwECV4P4GohXBQB4qEC0tOMBAYeBk0H9Wv0Ad3Q+cKWbBQPudy7YHUsFAlGXLcLTdvkBh4GTQf1a/QNnjUzv4Bb9AYqiY93BgwEDZXofR5T3BQMcYZRbTysFAUWJ2PF7twED86stHCyTAQFFidjxe7cBADeTtcRrFwECmJiHCtIjAQOncdWUHp79APxxUgUt6wUBx2Yb6jve/QMhlZafWnMBA6qSpjPiwwECV4P4GohXBQKVe7ZrDfr9AHioQLS04wEDZXofR5T3BQNleh9HlPcFAHioQLS04wEDaq4di6Q/AQGKomPdwYMBAhOfc3JJ0wED7ncu2B1LBQKYmIcK0iMBAUOdCpnC1vkA0j/9zWRe7QIRsqUalPL5AHioQLS04wEDaq4di6Q/AQC8jMlc82cBAc6G6IYABwUDI6jER6WS+QJXg/gaiFcFALVv+L0vPv0BRYnY8Xu3AQC8jMlc82cBAUWJ2PF7twEDZXofR5T3BQB3dD5wpZsFAHioQLS04wEBAaVQST0zAQPxvmLEd7L1AcdmG+o73v0BiqJj3cGDAQNnjUzv4Bb9AyGVlp9acwEDIZWWn1pzAQC1b/i9Lz79AYqiY93BgwEClXu2aw36/QMhlZafWnMBAHioQLS04wECmJiHCtIjAQKYmIcK0iMBAHioQLS04wEClXu2aw36/QA3k7XEaxcBApiYhwrSIwEBAaVQST0zAQB4qEC0tOMBAdHOHHJabvUBh4GTQf1a/QOqkqYz4sMBALVv+L0vPv0BiqJj3cGDAQC8jMlc82cBAYqiY93BgwEAeKhAtLTjAQKYmIcK0iMBAHioQLS04wEBAaVQST0zAQB4qEC0tOMBA6qSpjPiwwEBx2Yb6jve/QGKomPdwYMBApiYhwrSIwEAdYtwFPC6/QGKomPdwYMBALyMyVzzZwEDaq4di6Q/AQB4qEC0tOMBApiYhwrSIwEDIZWWn1pzAQGKomPdwYMBADeTtcRrFwECV4P4GohXBQJXg/gaiFcFA",
          "dtype": "f8"
         },
         "yaxis": "y9"
        },
        {
         "mode": "markers",
         "name": "max_stress",
         "type": "scatter",
         "x": {
          "bdata": "AAAAAAAAS0AAAAAAAABLQAAAAAAAAEdAAAAAAACARUAAAAAAAAA5QAAAAAAAgEJAAAAAAACASUAAAAAAAAA8QAAAAAAAgERAAAAAAAAAQ0AAAAAAAABFQAAAAAAAwFBAAAAAAACAQkAAAAAAAIBDQAAAAAAAAD9AAAAAAAAAOEAAAAAAAIBJQAAAAAAAAElAAAAAAAAAQ0AAAAAAAABBQAAAAAAAAD9AAAAAAAAAREAAAAAAAIBAQAAAAAAAAENAAAAAAAAARkAAAAAAAABEQAAAAAAAAEFAAAAAAAAAP0AAAAAAAABFQAAAAAAAgElAAAAAAAAAR0AAAAAAAIBAQAAAAAAAAEZAAAAAAACASUAAAAAAAAA9QAAAAAAAAD5AAAAAAAAAS0AAAAAAAIBJQAAAAAAAgEpAAAAAAAAARUAAAAAAAAA/QAAAAAAAADhAAAAAAACAQUAAAAAAAIBGQAAAAAAAgEFAAAAAAACAQkAAAAAAAABEQAAAAAAAgEhAAAAAAAAAPEAAAAAAAIBHQAAAAAAAgENAAAAAAAAAQ0AAAAAAAIBAQAAAAAAAAElAAAAAAAAARkAAAAAAAAA/QAAAAAAAAD9AAAAAAAAARkAAAAAAAABHQAAAAAAAAEVAAAAAAACAREAAAAAAAAA+QAAAAAAAAERAAAAAAACAS0AAAAAAAIBTQAAAAAAAAE1AAAAAAAAARkAAAAAAAABHQAAAAAAAAEJAAAAAAAAAQUAAAAAAAIBMQAAAAAAAgEBAAAAAAAAASEAAAAAAAIBBQAAAAAAAAEJAAAAAAACAQUAAAAAAAAA/QAAAAAAAAD1AAAAAAAAARkAAAAAAAIBFQAAAAAAAAE5AAAAAAACAR0AAAAAAAABFQAAAAAAAgEpAAAAAAACAQ0AAAAAAAIBDQAAAAAAAAEhAAAAAAAAARUAAAAAAAABJQAAAAAAAgENAAAAAAAAARkAAAAAAAABEQAAAAAAAAERAAAAAAAAARkAAAAAAAABJQAAAAAAAgEJAAAAAAAAAREAAAAAAAIBFQAAAAAAAAEZAAAAAAAAAT0AAAAAAAIBJQAAAAAAAAENAAAAAAAAASEAAAAAAAABFQAAAAAAAAEJAAAAAAAAARUAAAAAAAABGQAAAAAAAAERAAAAAAAAARkAAAAAAAIBFQAAAAAAAAEZAAAAAAAAAQ0AAAAAAAIBHQAAAAAAAAEVAAAAAAAAAREAAAAAAAABKQAAAAAAAAEVAAAAAAAAAQkAAAAAAAABHQAAAAAAAAEZAAAAAAAAAREAAAAAAAIBDQAAAAAAAAEVAAAAAAACAQkAAAAAAAIBAQAAAAAAAgEBA",
          "dtype": "f8"
         },
         "xaxis": "x10",
         "y": {
          "bdata": "AAAAAAAAWEAAAAAAAABYQAAAAAAAQFhAAAAAAAAAWEAAAAAAAMBYQAAAAAAAwFhAAAAAAADAWEAAAAAAAMBXQAAAAAAAwFhAAAAAAACAWEAAAAAAAABYQAAAAAAAAFlAAAAAAAAAWEAAAAAAAMBYQAAAAAAAwFhAAAAAAABAV0AAAAAAAIBYQAAAAAAAgFhAAAAAAAAAWEAAAAAAAIBYQAAAAAAAgFhAAAAAAADAWEAAAAAAAMBYQAAAAAAAwFhAAAAAAAAAWUAAAAAAAMBYQAAAAAAAQFhAAAAAAACAVUAAAAAAAMBYQAAAAAAAwFhAAAAAAABAWEAAAAAAAMBYQAAAAAAAQFhAAAAAAABAWEAAAAAAAIBYQAAAAAAAgFdAAAAAAADAWEAAAAAAAMBYQAAAAAAAwFhAAAAAAADAWEAAAAAAAIBYQAAAAAAAAFdAAAAAAAAAWUAAAAAAAIBYQAAAAAAAQFhAAAAAAADAWEAAAAAAAABYQAAAAAAAwFhAAAAAAADAWEAAAAAAAIBYQAAAAAAAgFZAAAAAAACAWEAAAAAAAABVQAAAAAAAAFhAAAAAAADAWEAAAAAAAMBYQAAAAAAAgFhAAAAAAAAAWEAAAAAAAABYQAAAAAAAQFhAAAAAAACAWEAAAAAAAABYQAAAAAAAwFhAAAAAAADAWEAAAAAAAMBYQAAAAAAAQFhAAAAAAAAAWEAAAAAAAIBYQAAAAAAAwFdAAAAAAADAV0AAAAAAAMBYQAAAAAAAAFhAAAAAAADAWEAAAAAAAEBYQAAAAAAAAFhAAAAAAADAWEAAAAAAAEBXQAAAAAAAwFhAAAAAAAAAWEAAAAAAAEBYQAAAAAAAwFhAAAAAAADAWEAAAAAAAMBYQAAAAAAAwFhAAAAAAADAWEAAAAAAAABYQAAAAAAAwFhAAAAAAADAWEAAAAAAAIBYQAAAAAAAwFhAAAAAAADAWEAAAAAAAMBYQAAAAAAAwFhAAAAAAAAAV0AAAAAAAEBYQAAAAAAAQFhAAAAAAADAWEAAAAAAAMBYQAAAAAAAwFhAAAAAAADAWEAAAAAAAEBXQAAAAAAAAFhAAAAAAADAWEAAAAAAAMBYQAAAAAAAgFhAAAAAAABAV0AAAAAAAEBYQAAAAAAAgFhAAAAAAACAV0AAAAAAAMBYQAAAAAAAwFhAAAAAAADAWEAAAAAAAEBYQAAAAAAAwFdAAAAAAACAV0AAAAAAAMBXQAAAAAAAwFdAAAAAAABAV0AAAAAAAIBYQAAAAAAAwFhAAAAAAAAAWEAAAAAAAIBXQAAAAAAAQFhAAAAAAAAAWEAAAAAAAEBYQAAAAAAAQFhA",
          "dtype": "f8"
         },
         "yaxis": "y10"
        },
        {
         "line": {
          "dash": "dash"
         },
         "mode": "lines",
         "name": "max_stress Fit",
         "type": "scatter",
         "x": {
          "bdata": "AAAAAAAAS0AAAAAAAABLQAAAAAAAAEdAAAAAAACARUAAAAAAAAA5QAAAAAAAgEJAAAAAAACASUAAAAAAAAA8QAAAAAAAgERAAAAAAAAAQ0AAAAAAAABFQAAAAAAAwFBAAAAAAACAQkAAAAAAAIBDQAAAAAAAAD9AAAAAAAAAOEAAAAAAAIBJQAAAAAAAAElAAAAAAAAAQ0AAAAAAAABBQAAAAAAAAD9AAAAAAAAAREAAAAAAAIBAQAAAAAAAAENAAAAAAAAARkAAAAAAAABEQAAAAAAAAEFAAAAAAAAAP0AAAAAAAABFQAAAAAAAgElAAAAAAAAAR0AAAAAAAIBAQAAAAAAAAEZAAAAAAACASUAAAAAAAAA9QAAAAAAAAD5AAAAAAAAAS0AAAAAAAIBJQAAAAAAAgEpAAAAAAAAARUAAAAAAAAA/QAAAAAAAADhAAAAAAACAQUAAAAAAAIBGQAAAAAAAgEFAAAAAAACAQkAAAAAAAABEQAAAAAAAgEhAAAAAAAAAPEAAAAAAAIBHQAAAAAAAgENAAAAAAAAAQ0AAAAAAAIBAQAAAAAAAAElAAAAAAAAARkAAAAAAAAA/QAAAAAAAAD9AAAAAAAAARkAAAAAAAABHQAAAAAAAAEVAAAAAAACAREAAAAAAAAA+QAAAAAAAAERAAAAAAACAS0AAAAAAAIBTQAAAAAAAAE1AAAAAAAAARkAAAAAAAABHQAAAAAAAAEJAAAAAAAAAQUAAAAAAAIBMQAAAAAAAgEBAAAAAAAAASEAAAAAAAIBBQAAAAAAAAEJAAAAAAACAQUAAAAAAAAA/QAAAAAAAAD1AAAAAAAAARkAAAAAAAIBFQAAAAAAAAE5AAAAAAACAR0AAAAAAAABFQAAAAAAAgEpAAAAAAACAQ0AAAAAAAIBDQAAAAAAAAEhAAAAAAAAARUAAAAAAAABJQAAAAAAAgENAAAAAAAAARkAAAAAAAABEQAAAAAAAAERAAAAAAAAARkAAAAAAAABJQAAAAAAAgEJAAAAAAAAAREAAAAAAAIBFQAAAAAAAAEZAAAAAAAAAT0AAAAAAAIBJQAAAAAAAAENAAAAAAAAASEAAAAAAAABFQAAAAAAAAEJAAAAAAAAARUAAAAAAAABGQAAAAAAAAERAAAAAAAAARkAAAAAAAIBFQAAAAAAAAEZAAAAAAAAAQ0AAAAAAAIBHQAAAAAAAAEVAAAAAAAAAREAAAAAAAABKQAAAAAAAAEVAAAAAAAAAQkAAAAAAAABHQAAAAAAAAEZAAAAAAAAAREAAAAAAAIBDQAAAAAAAAEVAAAAAAACAQkAAAAAAAIBAQAAAAAAAgEBA",
          "dtype": "f8"
         },
         "xaxis": "x10",
         "y": {
          "bdata": "x6/32seHWEDHr/fax4dYQCG/EnxXYFhA4uR8WI1RWEBsx/mC0PhXQGYwURH5M1hAidVht/14WECqoY+mmgdYQLmow0CxR1hAes4tHec4WEDORqBMn0xYQNa2K3Xex1hAZjBREfkzWECPbAop1T1YQOl7JcpkFlhAVykdd+LzV0CJ1WG3/XhYQHQ3hasPdFhAes4tHec4WEAnVrvtLiVYQOl7JcpkFlhApArnNMNCWEASuN7hQCBYQHrOLR3nOFhA94JZZHtWWECkCuc0w0JYQCdWu+0uJVhA6XslymQWWEDORqBMn0xYQInVYbf9eFhAIb8SfFdgWEASuN7hQCBYQPeCWWR7VlhAidVht/14WEC/P2yyiAxYQNTdSL52EVhAx6/32seHWECJ1WG3/XhYQLIRG8/ZglhAzkagTJ9MWEDpeyXKZBZYQFcpHXfi81dAPPSX+RwqWEAMITZwaVtYQDz0l/kcKlhAZjBREfkzWECkCuc0w0JYQF+ZqJ8hb1hAqqGPppoHWEA2Xe+HRWVYQI9sCinVPVhAes4tHec4WEASuN7hQCBYQHQ3hasPdFhA94JZZHtWWEDpeyXKZBZYQOl7JcpkFlhA94JZZHtWWEAhvxJ8V2BYQM5GoEyfTFhAuajDQLFHWEDU3Ui+dhFYQKQK5zTDQlhA3E3U5rWMWEC6gab3GP5YQBooagqAm1hA94JZZHtWWEAhvxJ8V2BYQFGSdAULL1hAJ1a77S4lWEAGio3+kZZYQBK43uFAIFhASvvLkzNqWEA89Jf5HCpYQFGSdAULL1hAPPSX+RwqWEDpeyXKZBZYQL8/bLKIDFhA94JZZHtWWEDi5HxYjVFYQERkIyJcpVhANl3vh0VlWEDORqBMn0xYQLIRG8/ZglhAj2wKKdU9WECPbAop1T1YQEr7y5MzalhAzkagTJ9MWEB0N4WrD3RYQI9sCinVPVhA94JZZHtWWECkCuc0w0JYQKQK5zTDQlhA94JZZHtWWEB0N4WrD3RYQGYwURH5M1hApArnNMNCWEDi5HxYjVFYQPeCWWR7VlhAbqDcOTivWECJ1WG3/XhYQHrOLR3nOFhASvvLkzNqWEDORqBMn0xYQFGSdAULL1hAzkagTJ9MWED3gllke1ZYQKQK5zTDQlhA94JZZHtWWEDi5HxYjVFYQPeCWWR7VlhAes4tHec4WEA2Xe+HRWVYQM5GoEyfTFhApArnNMNCWECecz7D631YQM5GoEyfTFhAUZJ0BQsvWEAhvxJ8V2BYQPeCWWR7VlhApArnNMNCWECPbAop1T1YQM5GoEyfTFhAZjBREfkzWEASuN7hQCBYQBK43uFAIFhA",
          "dtype": "f8"
         },
         "yaxis": "y10"
        },
        {
         "mode": "markers",
         "name": "total_hleep_h",
         "type": "scatter",
         "x": {
          "bdata": "AAAAAAAAS0AAAAAAAABLQAAAAAAAAEdAAAAAAACARUAAAAAAAAA5QAAAAAAAgEJAAAAAAACASUAAAAAAAAA8QAAAAAAAgERAAAAAAAAAQ0AAAAAAAABFQAAAAAAAwFBAAAAAAACAQkAAAAAAAIBDQAAAAAAAAD9AAAAAAAAAOEAAAAAAAIBJQAAAAAAAAElAAAAAAAAAQ0AAAAAAAABBQAAAAAAAAD9AAAAAAAAAREAAAAAAAIBAQAAAAAAAAENAAAAAAAAARkAAAAAAAABEQAAAAAAAAEFAAAAAAAAAP0AAAAAAAABFQAAAAAAAgElAAAAAAAAAR0AAAAAAAIBAQAAAAAAAAEZAAAAAAACASUAAAAAAAAA9QAAAAAAAAD5AAAAAAAAAS0AAAAAAAIBJQAAAAAAAgEpAAAAAAAAARUAAAAAAAAA/QAAAAAAAADhAAAAAAACAQUAAAAAAAIBGQAAAAAAAgEFAAAAAAACAQkAAAAAAAABEQAAAAAAAgEhAAAAAAAAAPEAAAAAAAIBHQAAAAAAAgENAAAAAAAAAQ0AAAAAAAIBAQAAAAAAAAElAAAAAAAAARkAAAAAAAAA/QAAAAAAAAD9AAAAAAAAARkAAAAAAAABHQAAAAAAAAEVAAAAAAACAREAAAAAAAAA+QAAAAAAAAERAAAAAAACAS0AAAAAAAIBTQAAAAAAAAE1AAAAAAAAARkAAAAAAAABHQAAAAAAAAEJAAAAAAAAAQUAAAAAAAIBMQAAAAAAAgEBAAAAAAAAASEAAAAAAAIBBQAAAAAAAAEJAAAAAAACAQUAAAAAAAAA/QAAAAAAAAD1AAAAAAAAARkAAAAAAAIBFQAAAAAAAAE5AAAAAAACAR0AAAAAAAABFQAAAAAAAgEpAAAAAAACAQ0AAAAAAAIBDQAAAAAAAAEhAAAAAAAAARUAAAAAAAABJQAAAAAAAgENAAAAAAAAARkAAAAAAAABEQAAAAAAAAERAAAAAAAAARkAAAAAAAABJQAAAAAAAgEJAAAAAAAAAREAAAAAAAIBFQAAAAAAAAEZAAAAAAAAAT0AAAAAAAIBJQAAAAAAAAENAAAAAAAAASEAAAAAAAABFQAAAAAAAAEJAAAAAAAAARUAAAAAAAABGQAAAAAAAAERAAAAAAAAARkAAAAAAAIBFQAAAAAAAAEZAAAAAAAAAQ0AAAAAAAIBHQAAAAAAAAEVAAAAAAAAAREAAAAAAAABKQAAAAAAAAEVAAAAAAAAAQkAAAAAAAABHQAAAAAAAAEZAAAAAAAAAREAAAAAAAIBDQAAAAAAAAEVAAAAAAACAQkAAAAAAAIBAQAAAAAAAgEBA",
          "dtype": "f8"
         },
         "xaxis": "x11",
         "y": {
          "bdata": "7+7u7u7uGUDv7u7u7u4ZQO/u7u7u7hlAd3d3d3d3IUCJiIiIiKglQERERERERCFAiYiIiIiIGEDe3d3d3d0dQFVVVVVVVRNAtz/IUNkhIEARERERERETQERERERExCBAq6qqqqoqI0BmZmZmZmYdQDMzMzMzsyJAUdlh6nJbIkDNzMzMzMweQLy7u7u7ux5A3t3d3d3dHUAiIiIiIqIiQGZmZmZmZiBAvLu7u7s7IUCrqqqqqioiQKuqqqqqqiJA3t3d3d3dHkAAAAAAAAAgQBERERERkSFAq6qqqqqqH0CJiIiIiAgiQImIiIiIiB9AiYiIiIiIFUC8u7u7uzsjQO/u7u7u7iFAIiIiIiIiIEDNzMzMzMweQOmTPumTHiBAZmZmZmZmIECdNtBpA10eQImIiIiICCNAERERERGRIEAAAAAAAIAhQJNfLPnF8iNAzczMzMxMIEBVVVVVVVUdQAAAAAAAAB1AmpmZmZmZIEAREREREZEhQCIiIiIioiJAVVVVVVXVIEClT/qkT/ofQAAAAAAAABtAvLu7u7s7JECJiIiIiAghQImIiIiICCFAVVVVVVXVIEC0opGAb34hQLn9QYbKziBA37yaeFb0HEDNzMzMzMwdQCIiIiIioiJAmpmZmZkZIEDv7u7u7u4iQKuqqqqqKiBA1sSzopGgIEDe3d3d3d3tP7y7u7u7ux9A7FG4HoXLIEBSuB6F67EkQN7d3d3dXSJAZmZmZmZmIkDe3d3d3d0dQGviWdFI4CRAd3d3d3d3HkAAAAAAAAAjQPnFkl8sGSFAMzMzMzMzIUBERERERMQhQJqZmZmZmSBAIiIiIiIiHkBVVVVVVdUgQAAAAAAAACBAQ2WHqcuNIUCJiIiIiIggQJfbH2SoLBNAiYiIiIiIIECJiIiIiIgcQO/u7u7ubiJAZmZmZmZmHUBVVVVVVVUdQCIiIiIiIh1AERERERERG0BVVVVVVdUiQM3MzMzMTCRAvLu7u7u7EUBVVVVVVVUbQKuqqqqqqiRAVVVVVVVVHkBVVVVVVVUiQERERERERBxAmpmZmZmZEECamZmZmZkQQKuqqqqqKiVAVVVVVVVVIUCrqqqqqqoXQCIiIiIiIhRA8M2riWeFI0DNzMzMzMwhQN7d3d3d3R1AVVVVVVVVI0CJiIiIiIgfQHd3d3d3dwtAd3d3d3f3IEC8u7u7u7sSQImIiIiIiB9AzczMzMzMHECamZmZmZkXQERERERERBxAzczMzMzMHkAREREREREaQGZmZmZmZh5AzczMzMzMH0B3d3d3d3cdQGZmZmZmZiFA7+7u7u5uIEAREREREZEiQAAAAAAAgCJA",
          "dtype": "f8"
         },
         "yaxis": "y11"
        },
        {
         "line": {
          "dash": "dash"
         },
         "mode": "lines",
         "name": "total_hleep_h Fit",
         "type": "scatter",
         "x": {
          "bdata": "AAAAAAAAS0AAAAAAAABLQAAAAAAAAEdAAAAAAACARUAAAAAAAAA5QAAAAAAAgEJAAAAAAACASUAAAAAAAAA8QAAAAAAAgERAAAAAAAAAQ0AAAAAAAABFQAAAAAAAwFBAAAAAAACAQkAAAAAAAIBDQAAAAAAAAD9AAAAAAAAAOEAAAAAAAIBJQAAAAAAAAElAAAAAAAAAQ0AAAAAAAABBQAAAAAAAAD9AAAAAAAAAREAAAAAAAIBAQAAAAAAAAENAAAAAAAAARkAAAAAAAABEQAAAAAAAAEFAAAAAAAAAP0AAAAAAAABFQAAAAAAAgElAAAAAAAAAR0AAAAAAAIBAQAAAAAAAAEZAAAAAAACASUAAAAAAAAA9QAAAAAAAAD5AAAAAAAAAS0AAAAAAAIBJQAAAAAAAgEpAAAAAAAAARUAAAAAAAAA/QAAAAAAAADhAAAAAAACAQUAAAAAAAIBGQAAAAAAAgEFAAAAAAACAQkAAAAAAAABEQAAAAAAAgEhAAAAAAAAAPEAAAAAAAIBHQAAAAAAAgENAAAAAAAAAQ0AAAAAAAIBAQAAAAAAAAElAAAAAAAAARkAAAAAAAAA/QAAAAAAAAD9AAAAAAAAARkAAAAAAAABHQAAAAAAAAEVAAAAAAACAREAAAAAAAAA+QAAAAAAAAERAAAAAAACAS0AAAAAAAIBTQAAAAAAAAE1AAAAAAAAARkAAAAAAAABHQAAAAAAAAEJAAAAAAAAAQUAAAAAAAIBMQAAAAAAAgEBAAAAAAAAASEAAAAAAAIBBQAAAAAAAAEJAAAAAAACAQUAAAAAAAAA/QAAAAAAAAD1AAAAAAAAARkAAAAAAAIBFQAAAAAAAAE5AAAAAAACAR0AAAAAAAABFQAAAAAAAgEpAAAAAAACAQ0AAAAAAAIBDQAAAAAAAAEhAAAAAAAAARUAAAAAAAABJQAAAAAAAgENAAAAAAAAARkAAAAAAAABEQAAAAAAAAERAAAAAAAAARkAAAAAAAABJQAAAAAAAgEJAAAAAAAAAREAAAAAAAIBFQAAAAAAAAEZAAAAAAAAAT0AAAAAAAIBJQAAAAAAAAENAAAAAAAAASEAAAAAAAABFQAAAAAAAAEJAAAAAAAAARUAAAAAAAABGQAAAAAAAAERAAAAAAAAARkAAAAAAAIBFQAAAAAAAAEZAAAAAAAAAQ0AAAAAAAIBHQAAAAAAAAEVAAAAAAAAAREAAAAAAAABKQAAAAAAAAEVAAAAAAAAAQkAAAAAAAABHQAAAAAAAAEZAAAAAAAAAREAAAAAAAIBDQAAAAAAAAEVAAAAAAACAQkAAAAAAAIBAQAAAAAAAgEBA",
          "dtype": "f8"
         },
         "xaxis": "x11",
         "y": {
          "bdata": "U/3vXHuDG0BT/e9ce4MbQGw0+rXtSx5AFQlelxhXH0CGgtrvDM0iQDTZEi23tiBA/dFTPqaOHEAxmCh/d0ciQG5L0JaaBCBAwjWCBzCKIED4T3/iJrAfQMxjP4zB/RZANNkSLbe2IEBQkvHhqF0gQN2tdg7iwSFA+CVrFZT5IkD90VM+po4cQOAYdYm05xxAwjWCBzCKIECIw8SdTDwhQN2tdg7iwSFA3+5gvCExIED6ZlXD02ghQMI1ggcwiiBAMsI8TAr+HkDf7mC8ITEgQIjDxJ1MPCFA3a12DuLBIUD4T3/iJrAfQP3RUz6mjhxAbDT6te1LHkD6ZlXD02ghQDLCPEwK/h5A/dFTPqaOHEDA9JdZ8BoiQE5RBzRp7iFAU/3vXHuDG0D90VM+po4cQDdEEaiJ3BtA+E9/4iawH0DdrXYO4sEhQPglaxWU+SJAFyA0eMUPIUBPexsB/KQeQBcgNHjFDyFANNkSLbe2IEDf7mC8ITEgQMNfltTCQB1AMZgof3dHIkCJ7dhq3/IdQFCS8eGoXSBAwjWCBzCKIED6ZlXD02ghQOAYdYm05xxAMsI8TAr+HkDdrXYO4sEhQN2tdg7iwSFAMsI8TAr+HkBsNPq17UseQPhPf+ImsB9AbkvQlpoEIEBOUQc0ae4hQN/uYLwhMSBAcLbOEW0qG0AKWNFRJCoTQMfhajBCHxpAMsI8TAr+HkBsNPq17UseQKV8o1I+4yBAiMPEnUw8IUCqKIx7UHgaQPpmVcPTaCFApqa3H9GZHUAXIDR4xQ8hQKV8o1I+4yBAFyA0eMUPIUDdrXYO4sEhQMD0l1nwGiJAMsI8TAr+HkAVCV6XGFcfQAFUKJolbRlAie3Yat/yHUD4T3/iJrAfQDdEEaiJ3BtAUJLx4ahdIEBQkvHhqF0gQKamtx/RmR1A+E9/4iawH0DgGHWJtOccQFCS8eGoXSBAMsI8TAr+HkDf7mC8ITEgQN/uYLwhMSBAMsI8TAr+HkDgGHWJtOccQDTZEi23tiBA3+5gvCExIEAVCV6XGFcfQDLCPEwK/h5AO8blAwm7GED90VM+po4cQMI1ggcwiiBApqa3H9GZHUD4T3/iJrAfQKV8o1I+4yBA+E9/4iawH0AywjxMCv4eQN/uYLwhMSBAMsI8TAr+HkAVCV6XGFcfQDLCPEwK/h5AwjWCBzCKIECJ7dhq3/IdQPhPf+ImsB9A3+5gvCExIEAaizLzlzUcQPhPf+ImsB9ApXyjUj7jIEBsNPq17UseQDLCPEwK/h5A3+5gvCExIEBQkvHhqF0gQPhPf+ImsB9ANNkSLbe2IED6ZlXD02ghQPpmVcPTaCFA",
          "dtype": "f8"
         },
         "yaxis": "y11"
        },
        {
         "mode": "markers",
         "name": "deep_hleep_h",
         "type": "scatter",
         "x": {
          "bdata": "AAAAAAAAS0AAAAAAAABLQAAAAAAAAEdAAAAAAACARUAAAAAAAAA5QAAAAAAAgEJAAAAAAACASUAAAAAAAAA8QAAAAAAAgERAAAAAAAAAQ0AAAAAAAABFQAAAAAAAwFBAAAAAAACAQkAAAAAAAIBDQAAAAAAAAD9AAAAAAAAAOEAAAAAAAIBJQAAAAAAAAElAAAAAAAAAQ0AAAAAAAABBQAAAAAAAAD9AAAAAAAAAREAAAAAAAIBAQAAAAAAAAENAAAAAAAAARkAAAAAAAABEQAAAAAAAAEFAAAAAAAAAP0AAAAAAAABFQAAAAAAAgElAAAAAAAAAR0AAAAAAAIBAQAAAAAAAAEZAAAAAAACASUAAAAAAAAA9QAAAAAAAAD5AAAAAAAAAS0AAAAAAAIBJQAAAAAAAgEpAAAAAAAAARUAAAAAAAAA/QAAAAAAAADhAAAAAAACAQUAAAAAAAIBGQAAAAAAAgEFAAAAAAACAQkAAAAAAAABEQAAAAAAAgEhAAAAAAAAAPEAAAAAAAIBHQAAAAAAAgENAAAAAAAAAQ0AAAAAAAIBAQAAAAAAAAElAAAAAAAAARkAAAAAAAAA/QAAAAAAAAD9AAAAAAAAARkAAAAAAAABHQAAAAAAAAEVAAAAAAACAREAAAAAAAAA+QAAAAAAAAERAAAAAAACAS0AAAAAAAIBTQAAAAAAAAE1AAAAAAAAARkAAAAAAAABHQAAAAAAAAEJAAAAAAAAAQUAAAAAAAIBMQAAAAAAAgEBAAAAAAAAASEAAAAAAAIBBQAAAAAAAAEJAAAAAAACAQUAAAAAAAAA/QAAAAAAAAD1AAAAAAAAARkAAAAAAAIBFQAAAAAAAAE5AAAAAAACAR0AAAAAAAABFQAAAAAAAgEpAAAAAAACAQ0AAAAAAAIBDQAAAAAAAAEhAAAAAAAAARUAAAAAAAABJQAAAAAAAgENAAAAAAAAARkAAAAAAAABEQAAAAAAAAERAAAAAAAAARkAAAAAAAABJQAAAAAAAgEJAAAAAAAAAREAAAAAAAIBFQAAAAAAAAEZAAAAAAAAAT0AAAAAAAIBJQAAAAAAAAENAAAAAAAAASEAAAAAAAABFQAAAAAAAAEJAAAAAAAAARUAAAAAAAABGQAAAAAAAAERAAAAAAAAARkAAAAAAAIBFQAAAAAAAAEZAAAAAAAAAQ0AAAAAAAIBHQAAAAAAAAEVAAAAAAAAAREAAAAAAAABKQAAAAAAAAEVAAAAAAAAAQkAAAAAAAABHQAAAAAAAAEZAAAAAAAAAREAAAAAAAIBDQAAAAAAAAEVAAAAAAACAQkAAAAAAAIBAQAAAAAAAgEBA",
          "dtype": "f8"
         },
         "xaxis": "x12",
         "y": {
          "bdata": "VVVVVVVV7T9VVVVVVVXtP1VVVVVVVe0/d3d3d3d38z+8u7u7u7vrP5qZmZmZmfE/mpmZmZmZ4T93d3d3d3cBQKuqqqqqqvI/zczMzMzM9D/e3d3d3d3tP2ZmZmZmZvI/3t3d3d3d9T/NzMzMzMz8P0RERERERPA/iYiIiIiI+D+8u7u7u7v/P2ZmZmZmZuY/iYiIiIiI9D8AAAAAAAD4P5qZmZmZmfE/3t3d3d3d8T8iIiIiIiL2P83MzMzMzPg/q6qqqqqq6j+8u7u7u7vzPyIiIiIiIv4/ZmZmZmZm9j+rqqqqqqrqP6uqqqqqqvY/ERERERER8T93d3d3d3fzP+/u7u7u7v4/iYiIiIiI6D/v7u7u7u7uPxEREREREfE/RERERERE+D+JiIiIiIj0P6uqqqqqqvI/IiIiIiIi8j+8u7u7u7vzPzMzMzMzM/c/mpmZmZmZ6T+amZmZmZn1P2ZmZmZmZvY/ZmZmZmZm8j/v7u7u7u7uPyIiIiIiIvI/iYiIiIiI9D8zMzMzMzPzP4mIiIiIiPA/zczMzMzM8D9ERERERETwP0RERERERPA/q6qqqqqq4j8iIiIiIiIAQCIiIiIiIuo/vLu7u7u78z/e3d3d3d3xP+/u7u7u7u4/RERERERE9D+8u7u7u7vzP0REREREROQ/ZmZmZmZm9j8AAAAAAAAAALy7u7u7u9s/7+7u7u7u8j+amZmZmZnxP3d3d3d3d+8/mpmZmZmZ8T+amZmZmZnJPxEREREREfk/zczMzMzM9D8iIiIiIiL2PxEREREREfk/ERERERER6T9VVVVVVVXxP3d3d3d3d/s/ERERERER0T9mZmZmZmb+P+/u7u7u7vI/zczMzMzM8D93d3d3d3fzPwAAAAAAAAAAzczMzMzM9D/v7u7u7u7uPwAAAAAAAOA/VVVVVVVV+T8zMzMzMzP3PwAAAAAAAOg/zczMzMzM3D/e3d3d3d35P5qZmZmZmfU/vLu7u7u74z9mZmZmZmb2P83MzMzMzPg/d3d3d3d3+z9mZmZmZmb6PyIiIiIiIvo/q6qqqqqq4j+rqqqqqqriP6uqqqqqquo/VVVVVVVV/T9ERERERETkP4mIiIiIiPA/7+7u7u7u7j8RERERERHhP4mIiIiIiABAZmZmZmZm7j9VVVVVVVX1PwAAAAAAAPg/d3d3d3d38z8AAAAAAAD0P83MzMzMzOw/ERERERER/T+JiIiIiIjwP7y7u7u7u+s/iYiIiIiI8D8AAAAAAADQP+/u7u7u7vI/ERERERER8T9VVVVVVVXtPwAAAAAAAPg/RERERERE9D+rqqqqqqrqP0RERERERPA/",
          "dtype": "f8"
         },
         "yaxis": "y12"
        },
        {
         "line": {
          "dash": "dash"
         },
         "mode": "lines",
         "name": "deep_hleep_h Fit",
         "type": "scatter",
         "x": {
          "bdata": "AAAAAAAAS0AAAAAAAABLQAAAAAAAAEdAAAAAAACARUAAAAAAAAA5QAAAAAAAgEJAAAAAAACASUAAAAAAAAA8QAAAAAAAgERAAAAAAAAAQ0AAAAAAAABFQAAAAAAAwFBAAAAAAACAQkAAAAAAAIBDQAAAAAAAAD9AAAAAAAAAOEAAAAAAAIBJQAAAAAAAAElAAAAAAAAAQ0AAAAAAAABBQAAAAAAAAD9AAAAAAAAAREAAAAAAAIBAQAAAAAAAAENAAAAAAAAARkAAAAAAAABEQAAAAAAAAEFAAAAAAAAAP0AAAAAAAABFQAAAAAAAgElAAAAAAAAAR0AAAAAAAIBAQAAAAAAAAEZAAAAAAACASUAAAAAAAAA9QAAAAAAAAD5AAAAAAAAAS0AAAAAAAIBJQAAAAAAAgEpAAAAAAAAARUAAAAAAAAA/QAAAAAAAADhAAAAAAACAQUAAAAAAAIBGQAAAAAAAgEFAAAAAAACAQkAAAAAAAABEQAAAAAAAgEhAAAAAAAAAPEAAAAAAAIBHQAAAAAAAgENAAAAAAAAAQ0AAAAAAAIBAQAAAAAAAAElAAAAAAAAARkAAAAAAAAA/QAAAAAAAAD9AAAAAAAAARkAAAAAAAABHQAAAAAAAAEVAAAAAAACAREAAAAAAAAA+QAAAAAAAAERAAAAAAACAS0AAAAAAAIBTQAAAAAAAAE1AAAAAAAAARkAAAAAAAABHQAAAAAAAAEJAAAAAAAAAQUAAAAAAAIBMQAAAAAAAgEBAAAAAAAAASEAAAAAAAIBBQAAAAAAAAEJAAAAAAACAQUAAAAAAAAA/QAAAAAAAAD1AAAAAAAAARkAAAAAAAIBFQAAAAAAAAE5AAAAAAACAR0AAAAAAAABFQAAAAAAAgEpAAAAAAACAQ0AAAAAAAIBDQAAAAAAAAEhAAAAAAAAARUAAAAAAAABJQAAAAAAAgENAAAAAAAAARkAAAAAAAABEQAAAAAAAAERAAAAAAAAARkAAAAAAAABJQAAAAAAAgEJAAAAAAAAAREAAAAAAAIBFQAAAAAAAAEZAAAAAAAAAT0AAAAAAAIBJQAAAAAAAAENAAAAAAAAASEAAAAAAAABFQAAAAAAAAEJAAAAAAAAARUAAAAAAAABGQAAAAAAAAERAAAAAAAAARkAAAAAAAIBFQAAAAAAAAEZAAAAAAAAAQ0AAAAAAAIBHQAAAAAAAAEVAAAAAAAAAREAAAAAAAABKQAAAAAAAAEVAAAAAAAAAQkAAAAAAAABHQAAAAAAAAEZAAAAAAAAAREAAAAAAAIBDQAAAAAAAAEVAAAAAAACAQkAAAAAAAIBAQAAAAAAAgEBA",
          "dtype": "f8"
         },
         "xaxis": "x12",
         "y": {
          "bdata": "8IvUhoU97j/wi9SGhT3uP4GhAvGiMfE/1MMbArf48T/IkbJoL6P2P3sITiTfhvM/l9AGqa3L7z91b5lXG9z1P7bagQ1vffI/Cv2aHoNE8z9Gz84HEzvyP3RipfIsgOc/ewhOJN+G8z+Y8ecYJwLzPyJNgEYHFfU/Op1lbovl9j+X0AaprcvvP7xzNtoyKPA/Cv2aHoNE8z/OKmc18030PyJNgEYHFfU/KOY0E8u/8j9ANho7T5D0Pwr9mh6DRPM/Y7ho/Fq28T8o5jQTy7/yP84qZzXzTfQ/Ik2ARgcV9T9Gz84HEzvyP5fQBqmty+8/gaEC8aIx8T9ANho7T5D0P2O4aPxatvE/l9AGqa3L7z8EZOZRv5n1P5NYM0xjV/U/8IvUhoU97j+X0AaprcvvP9KiOpI9wu4/Rs/OBxM78j8iTYBGBxX1PzqdZW6L5fY/XR+0L5cL9D/yrLX2/nPxP10ftC+XC/Q/ewhOJN+G8z8o5jQTy7/yPy5/6d+OavA/dW+ZVxvc9T8Qlk/rRu/wP5jx5xgnAvM/Cv2aHoNE8z9ANho7T5D0P7xzNtoyKPA/Y7ho/Fq28T8iTYBGBxX1PyJNgEYHFfU/Y7ho/Fq28T+BoQLxojHxP0bPzgcTO/I/ttqBDW998j+TWDNMY1f1PyjmNBPLv/I/DnVue8247T+6ZkJ1RMzhP2cwPFmlKuw/Y7ho/Fq28T+BoQLxojHxP+wTASo7yfM/zipnNfNN9D9KR6JkXa/sP0A2GjtPkPQ/n4qc5eqs8D9dH7Qvlwv0P+wTASo7yfM/XR+0L5cL9D8iTYBGBxX1PwRk5lG/mfU/Y7ho/Fq28T/UwxsCt/jxP6MCcEI1Ies/EJZP60bv8D9Gz84HEzvyP9KiOpI9wu4/mPHnGCcC8z+Y8ecYJwLzP5+KnOXqrPA/Rs/OBxM78j+8czbaMijwP5jx5xgnAvM/Y7ho/Fq28T8o5jQTy7/yPyjmNBPLv/I/Y7ho/Fq28T+8czbaMijwP3sITiTfhvM/KOY0E8u/8j/UwxsCt/jxP2O4aPxatvE/3tSjK8UX6j+X0AaprcvvPwr9mh6DRPM/n4qc5eqs8D9Gz84HEzvyP+wTASo7yfM/Rs/OBxM78j9juGj8WrbxPyjmNBPLv/I/Y7ho/Fq28T/UwxsCt/jxP2O4aPxatvE/Cv2aHoNE8z8Qlk/rRu/wP0bPzgcTO/I/KOY0E8u/8j+1uaCd9UbvP0bPzgcTO/I/7BMBKjvJ8z+BoQLxojHxP2O4aPxatvE/KOY0E8u/8j+Y8ecYJwLzP0bPzgcTO/I/ewhOJN+G8z9ANho7T5D0P0A2GjtPkPQ/",
          "dtype": "f8"
         },
         "yaxis": "y12"
        },
        {
         "mode": "markers",
         "name": "light_hleep_h",
         "type": "scatter",
         "x": {
          "bdata": "AAAAAAAAS0AAAAAAAABLQAAAAAAAAEdAAAAAAACARUAAAAAAAAA5QAAAAAAAgEJAAAAAAACASUAAAAAAAAA8QAAAAAAAgERAAAAAAAAAQ0AAAAAAAABFQAAAAAAAwFBAAAAAAACAQkAAAAAAAIBDQAAAAAAAAD9AAAAAAAAAOEAAAAAAAIBJQAAAAAAAAElAAAAAAAAAQ0AAAAAAAABBQAAAAAAAAD9AAAAAAAAAREAAAAAAAIBAQAAAAAAAAENAAAAAAAAARkAAAAAAAABEQAAAAAAAAEFAAAAAAAAAP0AAAAAAAABFQAAAAAAAgElAAAAAAAAAR0AAAAAAAIBAQAAAAAAAAEZAAAAAAACASUAAAAAAAAA9QAAAAAAAAD5AAAAAAAAAS0AAAAAAAIBJQAAAAAAAgEpAAAAAAAAARUAAAAAAAAA/QAAAAAAAADhAAAAAAACAQUAAAAAAAIBGQAAAAAAAgEFAAAAAAACAQkAAAAAAAABEQAAAAAAAgEhAAAAAAAAAPEAAAAAAAIBHQAAAAAAAgENAAAAAAAAAQ0AAAAAAAIBAQAAAAAAAAElAAAAAAAAARkAAAAAAAAA/QAAAAAAAAD9AAAAAAAAARkAAAAAAAABHQAAAAAAAAEVAAAAAAACAREAAAAAAAAA+QAAAAAAAAERAAAAAAACAS0AAAAAAAIBTQAAAAAAAAE1AAAAAAAAARkAAAAAAAABHQAAAAAAAAEJAAAAAAAAAQUAAAAAAAIBMQAAAAAAAgEBAAAAAAAAASEAAAAAAAIBBQAAAAAAAAEJAAAAAAACAQUAAAAAAAAA/QAAAAAAAAD1AAAAAAAAARkAAAAAAAIBFQAAAAAAAAE5AAAAAAACAR0AAAAAAAABFQAAAAAAAgEpAAAAAAACAQ0AAAAAAAIBDQAAAAAAAAEhAAAAAAAAARUAAAAAAAABJQAAAAAAAgENAAAAAAAAARkAAAAAAAABEQAAAAAAAAERAAAAAAAAARkAAAAAAAABJQAAAAAAAgEJAAAAAAAAAREAAAAAAAIBFQAAAAAAAAEZAAAAAAAAAT0AAAAAAAIBJQAAAAAAAAENAAAAAAAAASEAAAAAAAABFQAAAAAAAAEJAAAAAAAAARUAAAAAAAABGQAAAAAAAAERAAAAAAAAARkAAAAAAAIBFQAAAAAAAAEZAAAAAAAAAQ0AAAAAAAIBHQAAAAAAAAEVAAAAAAAAAREAAAAAAAABKQAAAAAAAAEVAAAAAAAAAQkAAAAAAAABHQAAAAAAAAEZAAAAAAAAAREAAAAAAAIBDQAAAAAAAAEVAAAAAAACAQkAAAAAAAIBAQAAAAAAAgEBA",
          "dtype": "f8"
         },
         "xaxis": "x13",
         "y": {
          "bdata": "vLu7u7u7D0C8u7u7u7sPQLy7u7u7uw9AAAAAAAAAGkCJiIiIiIgaQCIiIiIiIhZAAAAAAAAAFEBEREREREQOQCIiIiIiIgZA7+7u7u7uEUB3d3d3d3cLQO/u7u7u7htAvLu7u7u7GEDv7u7u7u4RQLy7u7u7uxhAIiIiIiIiF0BVVVVVVVUNQBERERERERVAmpmZmZmZE0AAAAAAAAAWQCIiIiIiIhVAmpmZmZmZFkCrqqqqqqoWQGZmZmZmZhdAAAAAAAAAGUBVVVVVVVUVQJqZmZmZmRRAMzMzMzMzFUCJiIiIiIgbQImIiIiIiBNAREREREREEEBVVVVVVVUaQKuqqqqqqhVAIiIiIiIiHEAREREREREWQBERERERERZAVVVVVVVVF0B3d3d3d3cYQKuqqqqqqhhA7+7u7u7uFkDNzMzMzMwXQFVVVVVVVRpAd3d3d3d3F0B3d3d3d3cRQFVVVVVVVRFAAAAAAAAAFECJiIiIiIgZQM3MzMzMzBpAAAAAAAAAFkAzMzMzMzMTQKuqqqqqqhNAvLu7u7u7GkAzMzMzMzMVQDMzMzMzMxVAvLu7u7u7G0CrqqqqqqoRQCIiIiIiIhdA7+7u7u7uFEAREREREREVQBERERERERlAMzMzMzMzFkB3d3d3d3cYQN7d3d3d3RVAIiIiIiIiE0De3d3d3d3tPwAAAAAAAB5AIiIiIiIiGEAREREREREcQJqZmZmZmRlA7+7u7u7uGEAREREREREdQN7d3d3d3RhAZmZmZmZmEUC8u7u7u7sYQLy7u7u7uxJAREREREREF0C8u7u7u7sYQO/u7u7u7hNAREREREREGUBVVVVVVVUPQBERERERERdAVVVVVVVVG0C8u7u7u7sXQImIiIiIiBFAZmZmZmZmFUAiIiIiIiIUQCIiIiIiIhxAvLu7u7u7EkDe3d3d3d0VQN7d3d3d3RVAvLu7u7u7FkBmZmZmZmYTQFVVVVVVVRtAiYiIiIiIDkCJiIiIiIgTQGZmZmZmZhhAVVVVVVVVE0BmZmZmZmYWQDMzMzMzMxFAmpmZmZmZCUCamZmZmZkJQGZmZmZmZhxAREREREREE0BVVVVVVVUQQJqZmZmZmQ1AERERERERHEAAAAAAAAAeQERERERERA5AREREREREHEAzMzMzMzMUQImIiIiIiPg/ERERERERGkCrqqqqqqoEQGZmZmZmZhZAEREREREREEAzMzMzMzMHQN7d3d3d3RFAREREREREFkBVVVVVVVUSQCIiIiIiIhFAERERERERF0BmZmZmZmYXQN7d3d3d3RZAiYiIiIiIFUBVVVVVVVUaQJqZmZmZmRpA",
          "dtype": "f8"
         },
         "yaxis": "y13"
        },
        {
         "line": {
          "dash": "dash"
         },
         "mode": "lines",
         "name": "light_hleep_h Fit",
         "type": "scatter",
         "x": {
          "bdata": "AAAAAAAAS0AAAAAAAABLQAAAAAAAAEdAAAAAAACARUAAAAAAAAA5QAAAAAAAgEJAAAAAAACASUAAAAAAAAA8QAAAAAAAgERAAAAAAAAAQ0AAAAAAAABFQAAAAAAAwFBAAAAAAACAQkAAAAAAAIBDQAAAAAAAAD9AAAAAAAAAOEAAAAAAAIBJQAAAAAAAAElAAAAAAAAAQ0AAAAAAAABBQAAAAAAAAD9AAAAAAAAAREAAAAAAAIBAQAAAAAAAAENAAAAAAAAARkAAAAAAAABEQAAAAAAAAEFAAAAAAAAAP0AAAAAAAABFQAAAAAAAgElAAAAAAAAAR0AAAAAAAIBAQAAAAAAAAEZAAAAAAACASUAAAAAAAAA9QAAAAAAAAD5AAAAAAAAAS0AAAAAAAIBJQAAAAAAAgEpAAAAAAAAARUAAAAAAAAA/QAAAAAAAADhAAAAAAACAQUAAAAAAAIBGQAAAAAAAgEFAAAAAAACAQkAAAAAAAABEQAAAAAAAgEhAAAAAAAAAPEAAAAAAAIBHQAAAAAAAgENAAAAAAAAAQ0AAAAAAAIBAQAAAAAAAAElAAAAAAAAARkAAAAAAAAA/QAAAAAAAAD9AAAAAAAAARkAAAAAAAABHQAAAAAAAAEVAAAAAAACAREAAAAAAAAA+QAAAAAAAAERAAAAAAACAS0AAAAAAAIBTQAAAAAAAAE1AAAAAAAAARkAAAAAAAABHQAAAAAAAAEJAAAAAAAAAQUAAAAAAAIBMQAAAAAAAgEBAAAAAAAAASEAAAAAAAIBBQAAAAAAAAEJAAAAAAACAQUAAAAAAAAA/QAAAAAAAAD1AAAAAAAAARkAAAAAAAIBFQAAAAAAAAE5AAAAAAACAR0AAAAAAAABFQAAAAAAAgEpAAAAAAACAQ0AAAAAAAIBDQAAAAAAAAEhAAAAAAAAARUAAAAAAAABJQAAAAAAAgENAAAAAAAAARkAAAAAAAABEQAAAAAAAAERAAAAAAAAARkAAAAAAAABJQAAAAAAAgEJAAAAAAAAAREAAAAAAAIBFQAAAAAAAAEZAAAAAAAAAT0AAAAAAAIBJQAAAAAAAAENAAAAAAAAASEAAAAAAAABFQAAAAAAAAEJAAAAAAAAARUAAAAAAAABGQAAAAAAAAERAAAAAAAAARkAAAAAAAIBFQAAAAAAAAEZAAAAAAAAAQ0AAAAAAAIBHQAAAAAAAAEVAAAAAAAAAREAAAAAAAABKQAAAAAAAAEVAAAAAAAAAQkAAAAAAAABHQAAAAAAAAEZAAAAAAAAAREAAAAAAAIBDQAAAAAAAAEVAAAAAAACAQkAAAAAAAIBAQAAAAAAAgEBA",
          "dtype": "f8"
         },
         "xaxis": "x13",
         "y": {
          "bdata": "ZOjzCbHIE0Bk6PMJscgTQB6hG1H/1RRAY4bKq/w6FUAE5uPL7JgXQO5QKGH3BBZAqs2iZK4tFEC/ADVx7zMXQJF0lD1QfhVA11lDmE3jFUB6fa90plwVQDZcU9YRExJA7lAoYfcEFkDAYl7Po8EVQHkbhhbyzhZAHN3IlJa6F0CqzaJkri0UQMDEhy1YTxRA11lDmE3jFUA0Nte79GkWQHkbhhbyzhZAqGt5BvqfFUBLLbyEnosWQNdZQ5hN4xVATI/l4lIZFUCoa3kG+p8VQDQ217v0aRZAeRuGFvLOFkB6fa90plwVQKrNomSuLRRAHqEbUf/VFEBLLbyEnosWQEyP5eJSGRVAqs2iZK4tFECoCVCoRRIXQJASa9+b8BZAZOjzCbHIE0CqzaJkri0UQHvf2NJa6hNAen2vdKZcFUB5G4YW8s4WQBzdyJSWuhdAHD/y8kpIFkA0mAAaqfcUQBw/8vJKSBZA7lAoYfcEFkCoa3kG+p8VQNi7bPYBcRRAvwA1ce8zF0AGqjaIVbQUQMBiXs+jwRVA11lDmE3jFUBLLbyEnosWQMDEhy1YTxRATI/l4lIZFUB5G4YW8s4WQHkbhhbyzhZATI/l4lIZFUAeoRtR/9UUQHp9r3SmXBVAkXSUPVB+FUCQEmvfm/AWQKhreQb6nxVATfEOQQenE0A4vnw0xqAQQAcMYOYJQhNATI/l4lIZFUAeoRtR/9UUQAVIDSqhJhZANDbXu/RpFkAeA0Wvs2MTQEstvISeixZA77JRv6uSFEAcP/LySkgWQAVIDSqhJhZAHD/y8kpIFkB5G4YW8s4WQKgJUKhFEhdATI/l4lIZFUBjhsqr/DoVQNkdllS2/hJABqo2iFW0FEB6fa90plwVQHvf2NJa6hNAwGJez6PBFUDAYl7Po8EVQO+yUb+rkhRAen2vdKZcFUDAxIctWE8UQMBiXs+jwRVATI/l4lIZFUCoa3kG+p8VQKhreQb6nxVATI/l4lIZFUDAxIctWE8UQO5QKGH3BBZAqGt5BvqfFUBjhsqr/DoVQEyP5eJSGRVAqi/MwmK7EkCqzaJkri0UQNdZQ5hN4xVA77JRv6uSFEB6fa90plwVQAVIDSqhJhZAen2vdKZcFUBMj+XiUhkVQKhreQb6nxVATI/l4lIZFUBjhsqr/DoVQEyP5eJSGRVA11lDmE3jFUAGqjaIVbQUQHp9r3SmXBVAqGt5BvqfFUCS1r2bBAwUQHp9r3SmXBVABUgNKqEmFkAeoRtR/9UUQEyP5eJSGRVAqGt5BvqfFUDAYl7Po8EVQHp9r3SmXBVA7lAoYfcEFkBLLbyEnosWQEstvISeixZA",
          "dtype": "f8"
         },
         "yaxis": "y13"
        },
        {
         "mode": "markers",
         "name": "rem_hleep_h",
         "type": "scatter",
         "x": {
          "bdata": "AAAAAAAAS0AAAAAAAABLQAAAAAAAAEdAAAAAAACARUAAAAAAAAA5QAAAAAAAgEJAAAAAAACASUAAAAAAAAA8QAAAAAAAgERAAAAAAAAAQ0AAAAAAAABFQAAAAAAAwFBAAAAAAACAQkAAAAAAAIBDQAAAAAAAAD9AAAAAAAAAOEAAAAAAAIBJQAAAAAAAAElAAAAAAAAAQ0AAAAAAAABBQAAAAAAAAD9AAAAAAAAAREAAAAAAAIBAQAAAAAAAAENAAAAAAAAARkAAAAAAAABEQAAAAAAAAEFAAAAAAAAAP0AAAAAAAABFQAAAAAAAgElAAAAAAAAAR0AAAAAAAIBAQAAAAAAAAEZAAAAAAACASUAAAAAAAAA9QAAAAAAAAD5AAAAAAAAAS0AAAAAAAIBJQAAAAAAAgEpAAAAAAAAARUAAAAAAAAA/QAAAAAAAADhAAAAAAACAQUAAAAAAAIBGQAAAAAAAgEFAAAAAAACAQkAAAAAAAABEQAAAAAAAgEhAAAAAAAAAPEAAAAAAAIBHQAAAAAAAgENAAAAAAAAAQ0AAAAAAAIBAQAAAAAAAAElAAAAAAAAARkAAAAAAAAA/QAAAAAAAAD9AAAAAAAAARkAAAAAAAABHQAAAAAAAAEVAAAAAAACAREAAAAAAAAA+QAAAAAAAAERAAAAAAACAS0AAAAAAAIBTQAAAAAAAAE1AAAAAAAAARkAAAAAAAABHQAAAAAAAAEJAAAAAAAAAQUAAAAAAAIBMQAAAAAAAgEBAAAAAAAAASEAAAAAAAIBBQAAAAAAAAEJAAAAAAACAQUAAAAAAAAA/QAAAAAAAAD1AAAAAAAAARkAAAAAAAIBFQAAAAAAAAE5AAAAAAACAR0AAAAAAAABFQAAAAAAAgEpAAAAAAACAQ0AAAAAAAIBDQAAAAAAAAEhAAAAAAAAARUAAAAAAAABJQAAAAAAAgENAAAAAAAAARkAAAAAAAABEQAAAAAAAAERAAAAAAAAARkAAAAAAAABJQAAAAAAAgEJAAAAAAAAAREAAAAAAAIBFQAAAAAAAAEZAAAAAAAAAT0AAAAAAAIBJQAAAAAAAAENAAAAAAAAASEAAAAAAAABFQAAAAAAAAEJAAAAAAAAARUAAAAAAAABGQAAAAAAAAERAAAAAAAAARkAAAAAAAIBFQAAAAAAAAEZAAAAAAAAAQ0AAAAAAAIBHQAAAAAAAAEVAAAAAAAAAREAAAAAAAABKQAAAAAAAAEVAAAAAAAAAQkAAAAAAAABHQAAAAAAAAEZAAAAAAAAAREAAAAAAAIBDQAAAAAAAAEVAAAAAAACAQkAAAAAAAIBAQAAAAAAAgEBA",
          "dtype": "f8"
         },
         "xaxis": "x14",
         "y": {
          "bdata": "mpmZmZmZ+T+amZmZmZn5P5qZmZmZmfk/RERERERE8D+rqqqqqqoKQAAAAAAAAABAq6qqqqqq4j8AAAAAAAD4P83MzMzMzOw/REREREREAkCamZmZmZnZPwAAAAAAANA/REREREREAEARERERERHxPzMzMzMzMwFA3t3d3d3d/T9mZmZmZmYAQHd3d3d3d/s/iYiIiIiI9D+JiIiIiIgCQBEREREREf0/mpmZmZmZ/T9EREREREQAQO/u7u7u7v4/RERERERE5D/v7u7u7u72PwAAAAAAAPw/d3d3d3d38z/NzMzMzMz0P1VVVVVVVfk/AAAAAAAA0D8RERERERH9P97d3d3d3fk/ERERERER0T93d3d3d3fzP7y7u7u7u/c/MzMzMzMz6z+amZmZmZnJP3d3d3d3dwFAq6qqqqqq9j8RERERERH5PzMzMzMzM/8/vLu7u7u79z/e3d3d3d35P0RERERERPg/MzMzMzMzAUDv7u7u7u72P7y7u7u7u/c/IiIiIiIi+j8AAAAAAAAAQJqZmZmZmek/ERERERERA0CamZmZmZkBQJqZmZmZmQFAzczMzMzM7D+JiIiIiIgCQBEREREREf0/ERERERER6T8RERERERHxP6uqqqqqqgBAvLu7u7u78z/v7u7u7u4AQLy7u7u7u/8/ERERERERAUAAAAAAAAAAAAAAAAAAAAAA7+7u7u7u8j/e3d3d3d0BQM3MzMzMzPw/3t3d3d3d/T8AAAAAAAAAAFVVVVVVVQVAd3d3d3d3/z/v7u7u7u7+P2ZmZmZmZgJAAAAAAAAAAEDe3d3d3d35P5qZmZmZmfk/ZmZmZmZm7j/NzMzMzMwEQM3MzMzMzPA/zczMzMzM7D/e3d3d3d3xP6uqqqqqqto/3t3d3d3d+T8iIiIiIiLyP+/u7u7u7vo/VVVVVVVV8T+rqqqqqqraPxEREREREfE/RERERERE5D+amZmZmZkHQHd3d3d3d/8/AAAAAAAAAACamZmZmZnhP3d3d3d3dwVAiYiIiIiI8D+rqqqqqqr+PyIiIiIiIvI/d3d3d3d31z93d3d3d3fXPzMzMzMzMwVAIiIiIiIiAEAzMzMzMzPzPzMzMzMzM9M/iYiIiIiI/D+8u7u7u7vrP97d3d3d3fk/ZmZmZmZm+j8AAAAAAAD4P5qZmZmZmdk/AAAAAAAA6D8zMzMzMzPrPyIiIiIiIvY/3t3d3d3d9T93d3d3d3f/P7y7u7u7u/s/mpmZmZmZ8T/v7u7u7u76PxEREREREQFA3t3d3d3d8T8zMzMzMzPjP7y7u7u7u/c/ERERERER+T/e3d3d3d39P1VVVVVVVfk/",
          "dtype": "f8"
         },
         "yaxis": "y14"
        },
        {
         "line": {
          "dash": "dash"
         },
         "mode": "lines",
         "name": "rem_hleep_h Fit",
         "type": "scatter",
         "x": {
          "bdata": "AAAAAAAAS0AAAAAAAABLQAAAAAAAAEdAAAAAAACARUAAAAAAAAA5QAAAAAAAgEJAAAAAAACASUAAAAAAAAA8QAAAAAAAgERAAAAAAAAAQ0AAAAAAAABFQAAAAAAAwFBAAAAAAACAQkAAAAAAAIBDQAAAAAAAAD9AAAAAAAAAOEAAAAAAAIBJQAAAAAAAAElAAAAAAAAAQ0AAAAAAAABBQAAAAAAAAD9AAAAAAAAAREAAAAAAAIBAQAAAAAAAAENAAAAAAAAARkAAAAAAAABEQAAAAAAAAEFAAAAAAAAAP0AAAAAAAABFQAAAAAAAgElAAAAAAAAAR0AAAAAAAIBAQAAAAAAAAEZAAAAAAACASUAAAAAAAAA9QAAAAAAAAD5AAAAAAAAAS0AAAAAAAIBJQAAAAAAAgEpAAAAAAAAARUAAAAAAAAA/QAAAAAAAADhAAAAAAACAQUAAAAAAAIBGQAAAAAAAgEFAAAAAAACAQkAAAAAAAABEQAAAAAAAgEhAAAAAAAAAPEAAAAAAAIBHQAAAAAAAgENAAAAAAAAAQ0AAAAAAAIBAQAAAAAAAAElAAAAAAAAARkAAAAAAAAA/QAAAAAAAAD9AAAAAAAAARkAAAAAAAABHQAAAAAAAAEVAAAAAAACAREAAAAAAAAA+QAAAAAAAAERAAAAAAACAS0AAAAAAAIBTQAAAAAAAAE1AAAAAAAAARkAAAAAAAABHQAAAAAAAAEJAAAAAAAAAQUAAAAAAAIBMQAAAAAAAgEBAAAAAAAAASEAAAAAAAIBBQAAAAAAAAEJAAAAAAACAQUAAAAAAAAA/QAAAAAAAAD1AAAAAAAAARkAAAAAAAIBFQAAAAAAAAE5AAAAAAACAR0AAAAAAAABFQAAAAAAAgEpAAAAAAACAQ0AAAAAAAIBDQAAAAAAAAEhAAAAAAAAARUAAAAAAAABJQAAAAAAAgENAAAAAAAAARkAAAAAAAABEQAAAAAAAAERAAAAAAAAARkAAAAAAAABJQAAAAAAAgEJAAAAAAAAAREAAAAAAAIBFQAAAAAAAAEZAAAAAAAAAT0AAAAAAAIBJQAAAAAAAAENAAAAAAAAASEAAAAAAAABFQAAAAAAAAEJAAAAAAAAARUAAAAAAAABGQAAAAAAAAERAAAAAAAAARkAAAAAAAIBFQAAAAAAAAEZAAAAAAAAAQ0AAAAAAAIBHQAAAAAAAAEVAAAAAAAAAREAAAAAAAABKQAAAAAAAAEVAAAAAAAAAQkAAAAAAAABHQAAAAAAAAEZAAAAAAAAAREAAAAAAAIBDQAAAAAAAAEVAAAAAAACAQkAAAAAAAIBAQAAAAAAAgEBA",
          "dtype": "f8"
         },
         "xaxis": "x14",
         "y": {
          "bdata": "zBiLK8Gb7z/MGIsrwZvvP/jRe1XfqPQ/Dixg3f569j9KJF0G3rMAQDvgKO09H/o/feapHQCg8T997tWEnJX/P3K9TY2+sfc/iBcyFd6D+T/A9Fa1Xhb3P3Bt9XgKqN8/O+Ao7T0f+j/WTjs9fuj4P2eU8fx8w/0/o4hY8o0BAUB95qkdAKDxPy+voPVfO/I/iBcyFd6D+T9ROg11XfH7P2eU8fx8w/0/JIZEZR5N+D8DAwRNvYz8P4gXMhXeg/k/XGNpBZ/f9T8khkRlHk34P1E6DXVd8fs/Z5Tx/HzD/T/A9Fa1Xhb3P33mqR0AoPE/+NF7Vd+o9D8DAwRNvYz8P1xjaQWf3/U/feapHQCg8T/LJd+sPPr+Pxld6NTcXv4/zBiLK8Gb7z995qkdAKDxPxpVvG1AafA/wPRWtV4W9z9nlPH8fMP9P6OIWPKNAQFAn3EWnf1V+z+qmnItP0T1P59xFp39Vfs/O+Ao7T0f+j8khkRlHk34P+F3l82/1vI/fe7VhJyV/z9GCYV9fw30P9ZOOz1+6Pg/iBcyFd6D+T8DAwRNvYz8Py+voPVfO/I/XGNpBZ/f9T9nlPH8fMP9P2eU8fx8w/0/XGNpBZ/f9T/40XtV36j0P8D0VrVeFvc/cr1Njb6x9z8ZXejU3F7+PySGRGUeTfg/aIedewFl7j9AuytqRc6zPzzT1GvCwOo/XGNpBZ/f9T/40XtV36j0P+2oH8Wduvo/UToNdV3x+z+gZMIbgvfrPwMDBE29jPw/lECOpR9y8z+fcRad/VX7P+2oH8Wduvo/n3EWnf1V+z9nlPH8fMP9P8sl36w8+v4/XGNpBZ/f9T8OLGDd/nr2P3Sw+QtDU+g/RgmFfX8N9D/A9Fa1Xhb3PxpVvG1AafA/1k47PX7o+D/WTjs9fuj4P5RAjqUfcvM/wPRWtV4W9z8vr6D1XzvyP9ZOOz1+6Pg/XGNpBZ/f9T8khkRlHk34PySGRGUeTfg/XGNpBZ/f9T8vr6D1XzvyPzvgKO09H/o/JIZEZR5N+D8OLGDd/nr2P1xjaQWf3/U/rI0erMPl5T995qkdAKDxP4gXMhXeg/k/lECOpR9y8z/A9Fa1Xhb3P+2oH8Wduvo/wPRWtV4W9z9cY2kFn9/1PySGRGUeTfg/XGNpBZ/f9T8OLGDd/nr2P1xjaQWf3/U/iBcyFd6D+T9GCYV9fw30P8D0VrVeFvc/JIZEZR5N+D/LHbNFoATxP8D0VrVeFvc/7agfxZ26+j/40XtV36j0P1xjaQWf3/U/JIZEZR5N+D/WTjs9fuj4P8D0VrVeFvc/O+Ao7T0f+j8DAwRNvYz8PwMDBE29jPw/",
          "dtype": "f8"
         },
         "yaxis": "y14"
        },
        {
         "mode": "markers",
         "name": "awake_h",
         "type": "scatter",
         "x": {
          "bdata": "AAAAAAAAS0AAAAAAAABLQAAAAAAAAEdAAAAAAACARUAAAAAAAAA5QAAAAAAAgEJAAAAAAACASUAAAAAAAAA8QAAAAAAAgERAAAAAAAAAQ0AAAAAAAABFQAAAAAAAwFBAAAAAAACAQkAAAAAAAIBDQAAAAAAAAD9AAAAAAAAAOEAAAAAAAIBJQAAAAAAAAElAAAAAAAAAQ0AAAAAAAABBQAAAAAAAAD9AAAAAAAAAREAAAAAAAIBAQAAAAAAAAENAAAAAAAAARkAAAAAAAABEQAAAAAAAAEFAAAAAAAAAP0AAAAAAAABFQAAAAAAAgElAAAAAAAAAR0AAAAAAAIBAQAAAAAAAAEZAAAAAAACASUAAAAAAAAA9QAAAAAAAAD5AAAAAAAAAS0AAAAAAAIBJQAAAAAAAgEpAAAAAAAAARUAAAAAAAAA/QAAAAAAAADhAAAAAAACAQUAAAAAAAIBGQAAAAAAAgEFAAAAAAACAQkAAAAAAAABEQAAAAAAAgEhAAAAAAAAAPEAAAAAAAIBHQAAAAAAAgENAAAAAAAAAQ0AAAAAAAIBAQAAAAAAAAElAAAAAAAAARkAAAAAAAAA/QAAAAAAAAD9AAAAAAAAARkAAAAAAAABHQAAAAAAAAEVAAAAAAACAREAAAAAAAAA+QAAAAAAAAERAAAAAAACAS0AAAAAAAIBTQAAAAAAAAE1AAAAAAAAARkAAAAAAAABHQAAAAAAAAEJAAAAAAAAAQUAAAAAAAIBMQAAAAAAAgEBAAAAAAAAASEAAAAAAAIBBQAAAAAAAAEJAAAAAAACAQUAAAAAAAAA/QAAAAAAAAD1AAAAAAAAARkAAAAAAAIBFQAAAAAAAAE5AAAAAAACAR0AAAAAAAABFQAAAAAAAgEpAAAAAAACAQ0AAAAAAAIBDQAAAAAAAAEhAAAAAAAAARUAAAAAAAABJQAAAAAAAgENAAAAAAAAARkAAAAAAAABEQAAAAAAAAERAAAAAAAAARkAAAAAAAABJQAAAAAAAgEJAAAAAAAAAREAAAAAAAIBFQAAAAAAAAEZAAAAAAAAAT0AAAAAAAIBJQAAAAAAAAENAAAAAAAAASEAAAAAAAABFQAAAAAAAAEJAAAAAAAAARUAAAAAAAABGQAAAAAAAAERAAAAAAAAARkAAAAAAAIBFQAAAAAAAAEZAAAAAAAAAQ0AAAAAAAIBHQAAAAAAAAEVAAAAAAAAAREAAAAAAAABKQAAAAAAAAEVAAAAAAAAAQkAAAAAAAABHQAAAAAAAAEZAAAAAAAAAREAAAAAAAIBDQAAAAAAAAEVAAAAAAACAQkAAAAAAAIBAQAAAAAAAgEBA",
          "dtype": "f8"
         },
         "xaxis": "x15",
         "y": {
          "bdata": "ERERERERkT8RERERERGRPxEREREREZE/zczMzMzM9D8zMzMzMzPDP1VVVVVVVcU/IiIiIiIi0j8AAAAAAAAAAFVVVVVVVbU/ERERERERsT/e3d3d3d29P3d3d3d3d/M/ERERERERkT8AAAAAAAAAAAAAAAAAAAAAERERERERwT9VVVVVVVW1P5qZmZmZmak/ERERERERkT8RERERERGxP5qZmZmZmbk/ERERERERkT/e3d3d3d29P5qZmZmZmbk/RERERERE8D8RERERERGhP0REREREROQ/ERERERERkT/e3d3d3d3dPxEREREREaE/3t3d3d3dDUAAAAAAAAAAABEREREREcE/AAAAAAAA6D8AAAAAAAAAAJqZmZmZmak/ZmZmZmZmAkDe3d3d3d3lPxEREREREZE/ERERERERkT/e3d3d3d29PxEREREREZE/ERERERERkT8AAAAAAAAAAJqZmZmZmbk/ERERERERwT8RERERERHhP3d3d3d3d+c/ERERERERkT8AAAAAAAAAAJqZmZmZmak/AAAAAAAAAAARERERERGRPxEREREREZE/RERERERE1D8AAAAAAAAAAAAAAAAAAAAAmpmZmZmZqT8RERERERHBPwAAAAAAAAAAAAAAAAAAAAAAAAAAAAAAAAAAAAAAAAAAmpmZmZmZqT/NzMzMzMzwPzMzMzMzM+M/AAAAAAAAAAAAAAAAAAAAAAAAAAAAAAAAmpmZmZmZqT/v7u7u7u76PwAAAAAAAAAAERERERERsT9ERERERETUP5qZmZmZmak/ERERERERkT8zMzMzMzPDPwAAAAAAAAAAzczMzMzM8D8AAAAAAAAAAO/u7u7u7gRAvLu7u7u7yz93d3d3d3fHP6uqqqqqqto/ERERERERoT8AAAAAAAAAAAAAAAAAANA/mpmZmZmZqT+amZmZmZmpP5qZmZmZmak/ERERERERoT8AAAAAAAAAAJqZmZmZmak/AAAAAAAA0D8iIiIiIiLyPxEREREREaE/IiIiIiIi0j8AAAAAAAAAAN7d3d3d3b0/ZmZmZmZm1j9mZmZmZmbWPwAAAAAAAAAAAAAAAAAAAAAAAAAAAAAAAAAAAAAAAAAAMzMzMzMz4z/NzMzMzMzcP7y7u7u7u8s/AAAAAAAA8D8RERERERGhP1VVVVVVVbU/q6qqqqqqAkARERERERGhPxEREREREfk/ERERERERoT9VVVVVVVW1P5qZmZmZmck/AAAAAAAA0D/e3d3d3d29PxEREREREaE/zczMzMzM3D8iIiIiIiLSP5qZmZmZmak/ERERERERkT+rqqqqqqraPxEREREREaE/",
          "dtype": "f8"
         },
         "yaxis": "y15"
        },
        {
         "line": {
          "dash": "dash"
         },
         "mode": "lines",
         "name": "awake_h Fit",
         "type": "scatter",
         "x": {
          "bdata": "AAAAAAAAS0AAAAAAAABLQAAAAAAAAEdAAAAAAACARUAAAAAAAAA5QAAAAAAAgEJAAAAAAACASUAAAAAAAAA8QAAAAAAAgERAAAAAAAAAQ0AAAAAAAABFQAAAAAAAwFBAAAAAAACAQkAAAAAAAIBDQAAAAAAAAD9AAAAAAAAAOEAAAAAAAIBJQAAAAAAAAElAAAAAAAAAQ0AAAAAAAABBQAAAAAAAAD9AAAAAAAAAREAAAAAAAIBAQAAAAAAAAENAAAAAAAAARkAAAAAAAABEQAAAAAAAAEFAAAAAAAAAP0AAAAAAAABFQAAAAAAAgElAAAAAAAAAR0AAAAAAAIBAQAAAAAAAAEZAAAAAAACASUAAAAAAAAA9QAAAAAAAAD5AAAAAAAAAS0AAAAAAAIBJQAAAAAAAgEpAAAAAAAAARUAAAAAAAAA/QAAAAAAAADhAAAAAAACAQUAAAAAAAIBGQAAAAAAAgEFAAAAAAACAQkAAAAAAAABEQAAAAAAAgEhAAAAAAAAAPEAAAAAAAIBHQAAAAAAAgENAAAAAAAAAQ0AAAAAAAIBAQAAAAAAAAElAAAAAAAAARkAAAAAAAAA/QAAAAAAAAD9AAAAAAAAARkAAAAAAAABHQAAAAAAAAEVAAAAAAACAREAAAAAAAAA+QAAAAAAAAERAAAAAAACAS0AAAAAAAIBTQAAAAAAAAE1AAAAAAAAARkAAAAAAAABHQAAAAAAAAEJAAAAAAAAAQUAAAAAAAIBMQAAAAAAAgEBAAAAAAAAASEAAAAAAAIBBQAAAAAAAAEJAAAAAAACAQUAAAAAAAAA/QAAAAAAAAD1AAAAAAAAARkAAAAAAAIBFQAAAAAAAAE5AAAAAAACAR0AAAAAAAABFQAAAAAAAgEpAAAAAAACAQ0AAAAAAAIBDQAAAAAAAAEhAAAAAAAAARUAAAAAAAABJQAAAAAAAgENAAAAAAAAARkAAAAAAAABEQAAAAAAAAERAAAAAAAAARkAAAAAAAABJQAAAAAAAgEJAAAAAAAAAREAAAAAAAIBFQAAAAAAAAEZAAAAAAAAAT0AAAAAAAIBJQAAAAAAAAENAAAAAAAAASEAAAAAAAABFQAAAAAAAAEJAAAAAAAAARUAAAAAAAABGQAAAAAAAAERAAAAAAAAARkAAAAAAAIBFQAAAAAAAAEZAAAAAAAAAQ0AAAAAAAIBHQAAAAAAAAEVAAAAAAAAAREAAAAAAAABKQAAAAAAAAEVAAAAAAAAAQkAAAAAAAABHQAAAAAAAAEZAAAAAAAAAREAAAAAAAIBDQAAAAAAAAEVAAAAAAACAQkAAAAAAAIBAQAAAAAAAgEBA",
          "dtype": "f8"
         },
         "xaxis": "x15",
         "y": {
          "bdata": "ZVD3C22a4j9lUPcLbZriPzL7gYRO7dg/Gj05LXpS1D/o3ex5/zm9v9CBT/2iOcY/WfFS4AJN4D8Qy5M5XJ2lv7QTXkiXQNE/OKsq4oVLyT9mqMu6iMnSP++Wv3OOlOw/0IFP/aI5xj+c1AXHaF3MP4BLZAGNcp4/XJjRoeKuwb9Z8VLgAk3gP/5NOE4UEd8/OKsq4oVLyT9AC3yd9Ae6P4BLZAGNcp4/BP7gq0tvzz9wuMXTLuSzPzirKuKFS8k/ztGmn2vb1T8E/uCrS2/PP0ALfJ30B7o/gEtkAY1ynj9mqMu6iMnSP1nxUuACTeA/MvuBhE7t2D9wuMXTLuSzP87Rpp9r29U/WfFS4AJN4D/gSk5MoauSvwABLGrXjXc/ZVD3C22a4j9Z8VLgAk3gPwuGwFL01eE/ZqjLuojJ0j+AS2QBjXKeP1yY0aHirsG/BC+ZM90VwD9+ZhQSXWTXPwQvmTPdFcA/0IFP/aI5xj8E/uCrS2/PP0q5ytsiiN0/EMuTOVydpb/mj+/2P3baP5zUBcdoXcw/OKsq4oVLyT9wuMXTLuSzP/5NOE4UEd8/ztGmn2vb1T+AS2QBjXKeP4BLZAGNcp4/ztGmn2vb1T8y+4GETu3YP2aoy7qIydI/tBNeSJdA0T8AASxq1413PwT+4KtLb88/vxouxeVe4z9kJI0034LyP8t50vBPrOU/ztGmn2vb1T8y+4GETu3YP2xYdBjAJ8M/QAt8nfQHuj9xr5s31+fkP3C4xdMu5LM/liRdaTH/2z8EL5kz3RXAP2xYdBjAJ8M/BC+ZM90VwD+AS2QBjXKeP+BKTkyhq5K/ztGmn2vb1T8aPTktelLUP30OQGNBNec/5o/v9j922j9mqMu6iMnSPwuGwFL01eE/nNQFx2hdzD+c1AXHaF3MP5YkXWkx/9s/ZqjLuojJ0j/+TThOFBHfP5zUBcdoXcw/ztGmn2vb1T8E/uCrS2/PPwT+4KtLb88/ztGmn2vb1T/+TThOFBHfP9CBT/2iOcY/BP7gq0tvzz8aPTktelLUP87Rpp9r29U/MaOt1TK+6D9Z8VLgAk3gPzirKuKFS8k/liRdaTH/2z9mqMu6iMnSP2xYdBjAJ8M/ZqjLuojJ0j/O0aafa9vVPwT+4KtLb88/ztGmn2vb1T8aPTktelLUP87Rpp9r29U/OKsq4oVLyT/mj+/2P3baP2aoy7qIydI/BP7gq0tvzz+xu4mZexHhP2aoy7qIydI/bFh0GMAnwz8y+4GETu3YP87Rpp9r29U/BP7gq0tvzz+c1AXHaF3MP2aoy7qIydI/0IFP/aI5xj9wuMXTLuSzP3C4xdMu5LM/",
          "dtype": "f8"
         },
         "yaxis": "y15"
        }
       ],
       "layout": {
        "annotations": [
         {
          "font": {
           "size": 16
          },
          "showarrow": false,
          "text": "Avg Stress vs. Body Charged",
          "x": 0.5,
          "xanchor": "center",
          "xref": "paper",
          "y": 1,
          "yanchor": "bottom",
          "yref": "paper"
         },
         {
          "font": {
           "size": 16
          },
          "showarrow": false,
          "text": "Avg Stress vs. Body Drained",
          "x": 0.5,
          "xanchor": "center",
          "xref": "paper",
          "y": 0.9311111111111111,
          "yanchor": "bottom",
          "yref": "paper"
         },
         {
          "font": {
           "size": 16
          },
          "showarrow": false,
          "text": "Avg Stress vs. Resting Hr",
          "x": 0.5,
          "xanchor": "center",
          "xref": "paper",
          "y": 0.8622222222222222,
          "yanchor": "bottom",
          "yref": "paper"
         },
         {
          "font": {
           "size": 16
          },
          "showarrow": false,
          "text": "Avg Stress vs. Total Sleep S",
          "x": 0.5,
          "xanchor": "center",
          "xref": "paper",
          "y": 0.7933333333333333,
          "yanchor": "bottom",
          "yref": "paper"
         },
         {
          "font": {
           "size": 16
          },
          "showarrow": false,
          "text": "Avg Stress vs. Deep Sleep S",
          "x": 0.5,
          "xanchor": "center",
          "xref": "paper",
          "y": 0.7244444444444444,
          "yanchor": "bottom",
          "yref": "paper"
         },
         {
          "font": {
           "size": 16
          },
          "showarrow": false,
          "text": "Avg Stress vs. Light Sleep S",
          "x": 0.5,
          "xanchor": "center",
          "xref": "paper",
          "y": 0.6555555555555556,
          "yanchor": "bottom",
          "yref": "paper"
         },
         {
          "font": {
           "size": 16
          },
          "showarrow": false,
          "text": "Avg Stress vs. Rem Sleep S",
          "x": 0.5,
          "xanchor": "center",
          "xref": "paper",
          "y": 0.5866666666666667,
          "yanchor": "bottom",
          "yref": "paper"
         },
         {
          "font": {
           "size": 16
          },
          "showarrow": false,
          "text": "Avg Stress vs. Awake S",
          "x": 0.5,
          "xanchor": "center",
          "xref": "paper",
          "y": 0.5177777777777778,
          "yanchor": "bottom",
          "yref": "paper"
         },
         {
          "font": {
           "size": 16
          },
          "showarrow": false,
          "text": "Avg Stress vs. Steps",
          "x": 0.5,
          "xanchor": "center",
          "xref": "paper",
          "y": 0.4488888888888889,
          "yanchor": "bottom",
          "yref": "paper"
         },
         {
          "font": {
           "size": 16
          },
          "showarrow": false,
          "text": "Avg Stress vs. Max Stress",
          "x": 0.5,
          "xanchor": "center",
          "xref": "paper",
          "y": 0.38,
          "yanchor": "bottom",
          "yref": "paper"
         },
         {
          "font": {
           "size": 16
          },
          "showarrow": false,
          "text": "Avg Stress vs. Total Hleep H",
          "x": 0.5,
          "xanchor": "center",
          "xref": "paper",
          "y": 0.3111111111111111,
          "yanchor": "bottom",
          "yref": "paper"
         },
         {
          "font": {
           "size": 16
          },
          "showarrow": false,
          "text": "Avg Stress vs. Deep Hleep H",
          "x": 0.5,
          "xanchor": "center",
          "xref": "paper",
          "y": 0.24222222222222223,
          "yanchor": "bottom",
          "yref": "paper"
         },
         {
          "font": {
           "size": 16
          },
          "showarrow": false,
          "text": "Avg Stress vs. Light Hleep H",
          "x": 0.5,
          "xanchor": "center",
          "xref": "paper",
          "y": 0.17333333333333334,
          "yanchor": "bottom",
          "yref": "paper"
         },
         {
          "font": {
           "size": 16
          },
          "showarrow": false,
          "text": "Avg Stress vs. Rem Hleep H",
          "x": 0.5,
          "xanchor": "center",
          "xref": "paper",
          "y": 0.10444444444444445,
          "yanchor": "bottom",
          "yref": "paper"
         },
         {
          "font": {
           "size": 16
          },
          "showarrow": false,
          "text": "Avg Stress vs. Awake H",
          "x": 0.5,
          "xanchor": "center",
          "xref": "paper",
          "y": 0.035555555555555556,
          "yanchor": "bottom",
          "yref": "paper"
         },
         {
          "font": {
           "size": 12
          },
          "showarrow": false,
          "text": "R² = 0.55",
          "x": 0.95,
          "xref": "paper",
          "y": 1,
          "yref": "paper"
         },
         {
          "font": {
           "size": 12
          },
          "showarrow": false,
          "text": "R² = 0.23",
          "x": 0.95,
          "xref": "paper",
          "y": 0.9333333333333333,
          "yref": "paper"
         },
         {
          "font": {
           "size": 12
          },
          "showarrow": false,
          "text": "R² = 0.27",
          "x": 0.95,
          "xref": "paper",
          "y": 0.8666666666666667,
          "yref": "paper"
         },
         {
          "font": {
           "size": 12
          },
          "showarrow": false,
          "text": "R² = 0.23",
          "x": 0.95,
          "xref": "paper",
          "y": 0.8,
          "yref": "paper"
         },
         {
          "font": {
           "size": 12
          },
          "showarrow": false,
          "text": "R² = 0.11",
          "x": 0.95,
          "xref": "paper",
          "y": 0.7333333333333334,
          "yref": "paper"
         },
         {
          "font": {
           "size": 12
          },
          "showarrow": false,
          "text": "R² = 0.06",
          "x": 0.95,
          "xref": "paper",
          "y": 0.6666666666666667,
          "yref": "paper"
         },
         {
          "font": {
           "size": 12
          },
          "showarrow": false,
          "text": "R² = 0.23",
          "x": 0.95,
          "xref": "paper",
          "y": 0.6,
          "yref": "paper"
         },
         {
          "font": {
           "size": 12
          },
          "showarrow": false,
          "text": "R² = 0.13",
          "x": 0.95,
          "xref": "paper",
          "y": 0.5333333333333333,
          "yref": "paper"
         },
         {
          "font": {
           "size": 12
          },
          "showarrow": false,
          "text": "R² = 0.01",
          "x": 0.95,
          "xref": "paper",
          "y": 0.4666666666666667,
          "yref": "paper"
         },
         {
          "font": {
           "size": 12
          },
          "showarrow": false,
          "text": "R² = 0.07",
          "x": 0.95,
          "xref": "paper",
          "y": 0.4,
          "yref": "paper"
         },
         {
          "font": {
           "size": 12
          },
          "showarrow": false,
          "text": "R² = 0.23",
          "x": 0.95,
          "xref": "paper",
          "y": 0.33333333333333337,
          "yref": "paper"
         },
         {
          "font": {
           "size": 12
          },
          "showarrow": false,
          "text": "R² = 0.11",
          "x": 0.95,
          "xref": "paper",
          "y": 0.2666666666666667,
          "yref": "paper"
         },
         {
          "font": {
           "size": 12
          },
          "showarrow": false,
          "text": "R² = 0.06",
          "x": 0.95,
          "xref": "paper",
          "y": 0.19999999999999996,
          "yref": "paper"
         },
         {
          "font": {
           "size": 12
          },
          "showarrow": false,
          "text": "R² = 0.23",
          "x": 0.95,
          "xref": "paper",
          "y": 0.1333333333333333,
          "yref": "paper"
         },
         {
          "font": {
           "size": 12
          },
          "showarrow": false,
          "text": "R² = 0.13",
          "x": 0.95,
          "xref": "paper",
          "y": 0.06666666666666665,
          "yref": "paper"
         }
        ],
        "height": 5250,
        "showlegend": false,
        "template": {
         "data": {
          "bar": [
           {
            "error_x": {
             "color": "#2a3f5f"
            },
            "error_y": {
             "color": "#2a3f5f"
            },
            "marker": {
             "line": {
              "color": "#E5ECF6",
              "width": 0.5
             },
             "pattern": {
              "fillmode": "overlay",
              "size": 10,
              "solidity": 0.2
             }
            },
            "type": "bar"
           }
          ],
          "barpolar": [
           {
            "marker": {
             "line": {
              "color": "#E5ECF6",
              "width": 0.5
             },
             "pattern": {
              "fillmode": "overlay",
              "size": 10,
              "solidity": 0.2
             }
            },
            "type": "barpolar"
           }
          ],
          "carpet": [
           {
            "aaxis": {
             "endlinecolor": "#2a3f5f",
             "gridcolor": "white",
             "linecolor": "white",
             "minorgridcolor": "white",
             "startlinecolor": "#2a3f5f"
            },
            "baxis": {
             "endlinecolor": "#2a3f5f",
             "gridcolor": "white",
             "linecolor": "white",
             "minorgridcolor": "white",
             "startlinecolor": "#2a3f5f"
            },
            "type": "carpet"
           }
          ],
          "choropleth": [
           {
            "colorbar": {
             "outlinewidth": 0,
             "ticks": ""
            },
            "type": "choropleth"
           }
          ],
          "contour": [
           {
            "colorbar": {
             "outlinewidth": 0,
             "ticks": ""
            },
            "colorscale": [
             [
              0,
              "#0d0887"
             ],
             [
              0.1111111111111111,
              "#46039f"
             ],
             [
              0.2222222222222222,
              "#7201a8"
             ],
             [
              0.3333333333333333,
              "#9c179e"
             ],
             [
              0.4444444444444444,
              "#bd3786"
             ],
             [
              0.5555555555555556,
              "#d8576b"
             ],
             [
              0.6666666666666666,
              "#ed7953"
             ],
             [
              0.7777777777777778,
              "#fb9f3a"
             ],
             [
              0.8888888888888888,
              "#fdca26"
             ],
             [
              1,
              "#f0f921"
             ]
            ],
            "type": "contour"
           }
          ],
          "contourcarpet": [
           {
            "colorbar": {
             "outlinewidth": 0,
             "ticks": ""
            },
            "type": "contourcarpet"
           }
          ],
          "heatmap": [
           {
            "colorbar": {
             "outlinewidth": 0,
             "ticks": ""
            },
            "colorscale": [
             [
              0,
              "#0d0887"
             ],
             [
              0.1111111111111111,
              "#46039f"
             ],
             [
              0.2222222222222222,
              "#7201a8"
             ],
             [
              0.3333333333333333,
              "#9c179e"
             ],
             [
              0.4444444444444444,
              "#bd3786"
             ],
             [
              0.5555555555555556,
              "#d8576b"
             ],
             [
              0.6666666666666666,
              "#ed7953"
             ],
             [
              0.7777777777777778,
              "#fb9f3a"
             ],
             [
              0.8888888888888888,
              "#fdca26"
             ],
             [
              1,
              "#f0f921"
             ]
            ],
            "type": "heatmap"
           }
          ],
          "histogram": [
           {
            "marker": {
             "pattern": {
              "fillmode": "overlay",
              "size": 10,
              "solidity": 0.2
             }
            },
            "type": "histogram"
           }
          ],
          "histogram2d": [
           {
            "colorbar": {
             "outlinewidth": 0,
             "ticks": ""
            },
            "colorscale": [
             [
              0,
              "#0d0887"
             ],
             [
              0.1111111111111111,
              "#46039f"
             ],
             [
              0.2222222222222222,
              "#7201a8"
             ],
             [
              0.3333333333333333,
              "#9c179e"
             ],
             [
              0.4444444444444444,
              "#bd3786"
             ],
             [
              0.5555555555555556,
              "#d8576b"
             ],
             [
              0.6666666666666666,
              "#ed7953"
             ],
             [
              0.7777777777777778,
              "#fb9f3a"
             ],
             [
              0.8888888888888888,
              "#fdca26"
             ],
             [
              1,
              "#f0f921"
             ]
            ],
            "type": "histogram2d"
           }
          ],
          "histogram2dcontour": [
           {
            "colorbar": {
             "outlinewidth": 0,
             "ticks": ""
            },
            "colorscale": [
             [
              0,
              "#0d0887"
             ],
             [
              0.1111111111111111,
              "#46039f"
             ],
             [
              0.2222222222222222,
              "#7201a8"
             ],
             [
              0.3333333333333333,
              "#9c179e"
             ],
             [
              0.4444444444444444,
              "#bd3786"
             ],
             [
              0.5555555555555556,
              "#d8576b"
             ],
             [
              0.6666666666666666,
              "#ed7953"
             ],
             [
              0.7777777777777778,
              "#fb9f3a"
             ],
             [
              0.8888888888888888,
              "#fdca26"
             ],
             [
              1,
              "#f0f921"
             ]
            ],
            "type": "histogram2dcontour"
           }
          ],
          "mesh3d": [
           {
            "colorbar": {
             "outlinewidth": 0,
             "ticks": ""
            },
            "type": "mesh3d"
           }
          ],
          "parcoords": [
           {
            "line": {
             "colorbar": {
              "outlinewidth": 0,
              "ticks": ""
             }
            },
            "type": "parcoords"
           }
          ],
          "pie": [
           {
            "automargin": true,
            "type": "pie"
           }
          ],
          "scatter": [
           {
            "fillpattern": {
             "fillmode": "overlay",
             "size": 10,
             "solidity": 0.2
            },
            "type": "scatter"
           }
          ],
          "scatter3d": [
           {
            "line": {
             "colorbar": {
              "outlinewidth": 0,
              "ticks": ""
             }
            },
            "marker": {
             "colorbar": {
              "outlinewidth": 0,
              "ticks": ""
             }
            },
            "type": "scatter3d"
           }
          ],
          "scattercarpet": [
           {
            "marker": {
             "colorbar": {
              "outlinewidth": 0,
              "ticks": ""
             }
            },
            "type": "scattercarpet"
           }
          ],
          "scattergeo": [
           {
            "marker": {
             "colorbar": {
              "outlinewidth": 0,
              "ticks": ""
             }
            },
            "type": "scattergeo"
           }
          ],
          "scattergl": [
           {
            "marker": {
             "colorbar": {
              "outlinewidth": 0,
              "ticks": ""
             }
            },
            "type": "scattergl"
           }
          ],
          "scattermap": [
           {
            "marker": {
             "colorbar": {
              "outlinewidth": 0,
              "ticks": ""
             }
            },
            "type": "scattermap"
           }
          ],
          "scattermapbox": [
           {
            "marker": {
             "colorbar": {
              "outlinewidth": 0,
              "ticks": ""
             }
            },
            "type": "scattermapbox"
           }
          ],
          "scatterpolar": [
           {
            "marker": {
             "colorbar": {
              "outlinewidth": 0,
              "ticks": ""
             }
            },
            "type": "scatterpolar"
           }
          ],
          "scatterpolargl": [
           {
            "marker": {
             "colorbar": {
              "outlinewidth": 0,
              "ticks": ""
             }
            },
            "type": "scatterpolargl"
           }
          ],
          "scatterternary": [
           {
            "marker": {
             "colorbar": {
              "outlinewidth": 0,
              "ticks": ""
             }
            },
            "type": "scatterternary"
           }
          ],
          "surface": [
           {
            "colorbar": {
             "outlinewidth": 0,
             "ticks": ""
            },
            "colorscale": [
             [
              0,
              "#0d0887"
             ],
             [
              0.1111111111111111,
              "#46039f"
             ],
             [
              0.2222222222222222,
              "#7201a8"
             ],
             [
              0.3333333333333333,
              "#9c179e"
             ],
             [
              0.4444444444444444,
              "#bd3786"
             ],
             [
              0.5555555555555556,
              "#d8576b"
             ],
             [
              0.6666666666666666,
              "#ed7953"
             ],
             [
              0.7777777777777778,
              "#fb9f3a"
             ],
             [
              0.8888888888888888,
              "#fdca26"
             ],
             [
              1,
              "#f0f921"
             ]
            ],
            "type": "surface"
           }
          ],
          "table": [
           {
            "cells": {
             "fill": {
              "color": "#EBF0F8"
             },
             "line": {
              "color": "white"
             }
            },
            "header": {
             "fill": {
              "color": "#C8D4E3"
             },
             "line": {
              "color": "white"
             }
            },
            "type": "table"
           }
          ]
         },
         "layout": {
          "annotationdefaults": {
           "arrowcolor": "#2a3f5f",
           "arrowhead": 0,
           "arrowwidth": 1
          },
          "autotypenumbers": "strict",
          "coloraxis": {
           "colorbar": {
            "outlinewidth": 0,
            "ticks": ""
           }
          },
          "colorscale": {
           "diverging": [
            [
             0,
             "#8e0152"
            ],
            [
             0.1,
             "#c51b7d"
            ],
            [
             0.2,
             "#de77ae"
            ],
            [
             0.3,
             "#f1b6da"
            ],
            [
             0.4,
             "#fde0ef"
            ],
            [
             0.5,
             "#f7f7f7"
            ],
            [
             0.6,
             "#e6f5d0"
            ],
            [
             0.7,
             "#b8e186"
            ],
            [
             0.8,
             "#7fbc41"
            ],
            [
             0.9,
             "#4d9221"
            ],
            [
             1,
             "#276419"
            ]
           ],
           "sequential": [
            [
             0,
             "#0d0887"
            ],
            [
             0.1111111111111111,
             "#46039f"
            ],
            [
             0.2222222222222222,
             "#7201a8"
            ],
            [
             0.3333333333333333,
             "#9c179e"
            ],
            [
             0.4444444444444444,
             "#bd3786"
            ],
            [
             0.5555555555555556,
             "#d8576b"
            ],
            [
             0.6666666666666666,
             "#ed7953"
            ],
            [
             0.7777777777777778,
             "#fb9f3a"
            ],
            [
             0.8888888888888888,
             "#fdca26"
            ],
            [
             1,
             "#f0f921"
            ]
           ],
           "sequentialminus": [
            [
             0,
             "#0d0887"
            ],
            [
             0.1111111111111111,
             "#46039f"
            ],
            [
             0.2222222222222222,
             "#7201a8"
            ],
            [
             0.3333333333333333,
             "#9c179e"
            ],
            [
             0.4444444444444444,
             "#bd3786"
            ],
            [
             0.5555555555555556,
             "#d8576b"
            ],
            [
             0.6666666666666666,
             "#ed7953"
            ],
            [
             0.7777777777777778,
             "#fb9f3a"
            ],
            [
             0.8888888888888888,
             "#fdca26"
            ],
            [
             1,
             "#f0f921"
            ]
           ]
          },
          "colorway": [
           "#636efa",
           "#EF553B",
           "#00cc96",
           "#ab63fa",
           "#FFA15A",
           "#19d3f3",
           "#FF6692",
           "#B6E880",
           "#FF97FF",
           "#FECB52"
          ],
          "font": {
           "color": "#2a3f5f"
          },
          "geo": {
           "bgcolor": "white",
           "lakecolor": "white",
           "landcolor": "#E5ECF6",
           "showlakes": true,
           "showland": true,
           "subunitcolor": "white"
          },
          "hoverlabel": {
           "align": "left"
          },
          "hovermode": "closest",
          "mapbox": {
           "style": "light"
          },
          "paper_bgcolor": "white",
          "plot_bgcolor": "#E5ECF6",
          "polar": {
           "angularaxis": {
            "gridcolor": "white",
            "linecolor": "white",
            "ticks": ""
           },
           "bgcolor": "#E5ECF6",
           "radialaxis": {
            "gridcolor": "white",
            "linecolor": "white",
            "ticks": ""
           }
          },
          "scene": {
           "xaxis": {
            "backgroundcolor": "#E5ECF6",
            "gridcolor": "white",
            "gridwidth": 2,
            "linecolor": "white",
            "showbackground": true,
            "ticks": "",
            "zerolinecolor": "white"
           },
           "yaxis": {
            "backgroundcolor": "#E5ECF6",
            "gridcolor": "white",
            "gridwidth": 2,
            "linecolor": "white",
            "showbackground": true,
            "ticks": "",
            "zerolinecolor": "white"
           },
           "zaxis": {
            "backgroundcolor": "#E5ECF6",
            "gridcolor": "white",
            "gridwidth": 2,
            "linecolor": "white",
            "showbackground": true,
            "ticks": "",
            "zerolinecolor": "white"
           }
          },
          "shapedefaults": {
           "line": {
            "color": "#2a3f5f"
           }
          },
          "ternary": {
           "aaxis": {
            "gridcolor": "white",
            "linecolor": "white",
            "ticks": ""
           },
           "baxis": {
            "gridcolor": "white",
            "linecolor": "white",
            "ticks": ""
           },
           "bgcolor": "#E5ECF6",
           "caxis": {
            "gridcolor": "white",
            "linecolor": "white",
            "ticks": ""
           }
          },
          "title": {
           "x": 0.05
          },
          "xaxis": {
           "automargin": true,
           "gridcolor": "white",
           "linecolor": "white",
           "ticks": "",
           "title": {
            "standoff": 15
           },
           "zerolinecolor": "white",
           "zerolinewidth": 2
          },
          "yaxis": {
           "automargin": true,
           "gridcolor": "white",
           "linecolor": "white",
           "ticks": "",
           "title": {
            "standoff": 15
           },
           "zerolinecolor": "white",
           "zerolinewidth": 2
          }
         }
        },
        "title": {
         "text": "Avg Stress vs Other Metrics with Regression Lines and R²"
        },
        "width": 1000,
        "xaxis": {
         "anchor": "y",
         "domain": [
          0,
          1
         ]
        },
        "xaxis10": {
         "anchor": "y10",
         "domain": [
          0,
          1
         ]
        },
        "xaxis11": {
         "anchor": "y11",
         "domain": [
          0,
          1
         ]
        },
        "xaxis12": {
         "anchor": "y12",
         "domain": [
          0,
          1
         ]
        },
        "xaxis13": {
         "anchor": "y13",
         "domain": [
          0,
          1
         ]
        },
        "xaxis14": {
         "anchor": "y14",
         "domain": [
          0,
          1
         ]
        },
        "xaxis15": {
         "anchor": "y15",
         "domain": [
          0,
          1
         ]
        },
        "xaxis2": {
         "anchor": "y2",
         "domain": [
          0,
          1
         ]
        },
        "xaxis3": {
         "anchor": "y3",
         "domain": [
          0,
          1
         ]
        },
        "xaxis4": {
         "anchor": "y4",
         "domain": [
          0,
          1
         ]
        },
        "xaxis5": {
         "anchor": "y5",
         "domain": [
          0,
          1
         ]
        },
        "xaxis6": {
         "anchor": "y6",
         "domain": [
          0,
          1
         ]
        },
        "xaxis7": {
         "anchor": "y7",
         "domain": [
          0,
          1
         ]
        },
        "xaxis8": {
         "anchor": "y8",
         "domain": [
          0,
          1
         ]
        },
        "xaxis9": {
         "anchor": "y9",
         "domain": [
          0,
          1
         ]
        },
        "yaxis": {
         "anchor": "x",
         "domain": [
          0.9644444444444444,
          1
         ]
        },
        "yaxis10": {
         "anchor": "x10",
         "domain": [
          0.34444444444444444,
          0.38
         ]
        },
        "yaxis11": {
         "anchor": "x11",
         "domain": [
          0.27555555555555555,
          0.3111111111111111
         ]
        },
        "yaxis12": {
         "anchor": "x12",
         "domain": [
          0.20666666666666667,
          0.24222222222222223
         ]
        },
        "yaxis13": {
         "anchor": "x13",
         "domain": [
          0.13777777777777778,
          0.17333333333333334
         ]
        },
        "yaxis14": {
         "anchor": "x14",
         "domain": [
          0.06888888888888889,
          0.10444444444444445
         ]
        },
        "yaxis15": {
         "anchor": "x15",
         "domain": [
          0,
          0.035555555555555556
         ]
        },
        "yaxis2": {
         "anchor": "x2",
         "domain": [
          0.8955555555555555,
          0.9311111111111111
         ]
        },
        "yaxis3": {
         "anchor": "x3",
         "domain": [
          0.8266666666666667,
          0.8622222222222222
         ]
        },
        "yaxis4": {
         "anchor": "x4",
         "domain": [
          0.7577777777777778,
          0.7933333333333333
         ]
        },
        "yaxis5": {
         "anchor": "x5",
         "domain": [
          0.6888888888888889,
          0.7244444444444444
         ]
        },
        "yaxis6": {
         "anchor": "x6",
         "domain": [
          0.62,
          0.6555555555555556
         ]
        },
        "yaxis7": {
         "anchor": "x7",
         "domain": [
          0.5511111111111111,
          0.5866666666666667
         ]
        },
        "yaxis8": {
         "anchor": "x8",
         "domain": [
          0.4822222222222222,
          0.5177777777777778
         ]
        },
        "yaxis9": {
         "anchor": "x9",
         "domain": [
          0.41333333333333333,
          0.4488888888888889
         ]
        }
       }
      }
     },
     "metadata": {},
     "output_type": "display_data"
    }
   ],
   "source": [
    "import pandas as pd\n",
    "import plotly.graph_objects as go\n",
    "import plotly.subplots as sp\n",
    "from sklearn.linear_model import LinearRegression\n",
    "from sklearn.metrics import r2_score\n",
    "\n",
    "# Ensure steps column is numeric\n",
    "df[\"avg_stress\"] = pd.to_numeric(df[\"avg_stress\"], errors=\"coerce\")\n",
    "\n",
    "# Select valid numeric columns to compare with steps\n",
    "columns_to_plot = [\n",
    "    col for col in df.columns\n",
    "    if col not in [\"date\", \"avg_stress\"] and pd.api.types.is_numeric_dtype(df[col])\n",
    "]\n",
    "\n",
    "# Filter out columns with insufficient non-null pairings\n",
    "valid_pairs = []\n",
    "for col in columns_to_plot:\n",
    "    temp_df = df[[\"avg_stress\", col]].dropna()\n",
    "    if len(temp_df) >= 2:\n",
    "        valid_pairs.append(col)\n",
    "\n",
    "# Prepare plot\n",
    "fig = sp.make_subplots(\n",
    "    rows=len(valid_pairs), cols=1, shared_xaxes=False,\n",
    "    subplot_titles=[f\"Avg Stress vs. {col.replace('_', ' ').title()}\" for col in valid_pairs]\n",
    ")\n",
    "\n",
    "# Plot with regression\n",
    "for i, col in enumerate(valid_pairs, start=1):\n",
    "    temp_df = df[[\"avg_stress\", col]].dropna()\n",
    "    X = temp_df[\"avg_stress\"].values.reshape(-1, 1)\n",
    "    y = temp_df[col].values\n",
    "\n",
    "    model = LinearRegression()\n",
    "    model.fit(X, y)\n",
    "    y_pred = model.predict(X)\n",
    "    r2 = r2_score(y, y_pred)\n",
    "\n",
    "    fig.add_trace(\n",
    "        go.Scatter(x=temp_df[\"avg_stress\"], y=temp_df[col], mode='markers', name=col),\n",
    "        row=i, col=1\n",
    "    )\n",
    "\n",
    "    fig.add_trace(\n",
    "        go.Scatter(x=temp_df[\"avg_stress\"], y=y_pred, mode='lines',\n",
    "                   line=dict(dash='dash'), name=f\"{col} Fit\"),\n",
    "        row=i, col=1\n",
    "    )\n",
    "\n",
    "    fig.add_annotation(\n",
    "        xref=\"paper\", yref=\"paper\",\n",
    "        x=0.95, y=1 - (i - 1) / len(valid_pairs),\n",
    "        text=f\"R² = {r2:.2f}\", showarrow=False, font=dict(size=12)\n",
    "    )\n",
    "\n",
    "fig.update_layout(\n",
    "    height=350 * len(valid_pairs),\n",
    "    width=1000,\n",
    "    title_text=\"Avg Stress vs Other Metrics with Regression Lines and R²\",\n",
    "    showlegend=False\n",
    ")\n",
    "\n",
    "fig.show()\n"
   ]
  },
  {
   "cell_type": "code",
   "execution_count": null,
   "metadata": {},
   "outputs": [],
   "source": []
  }
 ],
 "metadata": {
  "kernelspec": {
   "display_name": "Python 3",
   "language": "python",
   "name": "python3"
  },
  "language_info": {
   "codemirror_mode": {
    "name": "ipython",
    "version": 3
   },
   "file_extension": ".py",
   "mimetype": "text/x-python",
   "name": "python",
   "nbconvert_exporter": "python",
   "pygments_lexer": "ipython3",
   "version": "3.13.2"
  }
 },
 "nbformat": 4,
 "nbformat_minor": 2
}
